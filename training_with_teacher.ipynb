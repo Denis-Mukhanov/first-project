{
 "cells": [
  {
   "cell_type": "markdown",
   "metadata": {
    "toc": true
   },
   "source": [
    "<h1>Содержание<span class=\"tocSkip\"></span></h1>\n",
    "<div class=\"toc\"><ul class=\"toc-item\"><li><span><a href=\"#Подготовка-данных\" data-toc-modified-id=\"Подготовка-данных-1\"><span class=\"toc-item-num\">1&nbsp;&nbsp;</span>Подготовка данных</a></span><ul class=\"toc-item\"><li><span><a href=\"#Дубликаты-и-пропуски-в-данных\" data-toc-modified-id=\"Дубликаты-и-пропуски-в-данных-1.1\"><span class=\"toc-item-num\">1.1&nbsp;&nbsp;</span>Дубликаты и пропуски в данных</a></span></li><li><span><a href=\"#Числовые-и-категориальные-признаки\" data-toc-modified-id=\"Числовые-и-категориальные-признаки-1.2\"><span class=\"toc-item-num\">1.2&nbsp;&nbsp;</span>Числовые и категориальные признаки</a></span></li><li><span><a href=\"#Взаимосвязь-признаков,-мультиколлинеарность,-баланс\" data-toc-modified-id=\"Взаимосвязь-признаков,-мультиколлинеарность,-баланс-1.3\"><span class=\"toc-item-num\">1.3&nbsp;&nbsp;</span>Взаимосвязь признаков, мультиколлинеарность, баланс</a></span></li></ul></li><li><span><a href=\"#Исследование\" data-toc-modified-id=\"Исследование-2\"><span class=\"toc-item-num\">2&nbsp;&nbsp;</span>Исследование</a></span><ul class=\"toc-item\"><li><span><a href=\"#Формирование-выборок\" data-toc-modified-id=\"Формирование-выборок-2.1\"><span class=\"toc-item-num\">2.1&nbsp;&nbsp;</span>Формирование выборок</a></span></li><li><span><a href=\"#Масштабирование-признаков\" data-toc-modified-id=\"Масштабирование-признаков-2.2\"><span class=\"toc-item-num\">2.2&nbsp;&nbsp;</span>Масштабирование признаков</a></span></li></ul></li><li><span><a href=\"#Обучение-моделей\" data-toc-modified-id=\"Обучение-моделей-3\"><span class=\"toc-item-num\">3&nbsp;&nbsp;</span>Обучение моделей</a></span><ul class=\"toc-item\"><li><ul class=\"toc-item\"><li><span><a href=\"#Логическая-регрессия\" data-toc-modified-id=\"Логическая-регрессия-3.0.1\"><span class=\"toc-item-num\">3.0.1&nbsp;&nbsp;</span>Логическая регрессия</a></span></li><li><span><a href=\"#Дерево-решений\" data-toc-modified-id=\"Дерево-решений-3.0.2\"><span class=\"toc-item-num\">3.0.2&nbsp;&nbsp;</span>Дерево решений</a></span></li><li><span><a href=\"#Случайный-лес\" data-toc-modified-id=\"Случайный-лес-3.0.3\"><span class=\"toc-item-num\">3.0.3&nbsp;&nbsp;</span>Случайный лес</a></span></li><li><span><a href=\"#Общий-вывод\" data-toc-modified-id=\"Общий-вывод-3.0.4\"><span class=\"toc-item-num\">3.0.4&nbsp;&nbsp;</span>Общий вывод</a></span></li></ul></li></ul></li><li><span><a href=\"#Борьба-с-дисбалансом\" data-toc-modified-id=\"Борьба-с-дисбалансом-4\"><span class=\"toc-item-num\">4&nbsp;&nbsp;</span>Борьба с дисбалансом</a></span><ul class=\"toc-item\"><li><span><a href=\"#Взвешивание-классов\" data-toc-modified-id=\"Взвешивание-классов-4.1\"><span class=\"toc-item-num\">4.1&nbsp;&nbsp;</span>Взвешивание классов</a></span><ul class=\"toc-item\"><li><span><a href=\"#Взвешивание-классов-в-алгоритме-Логическая-регрессия\" data-toc-modified-id=\"Взвешивание-классов-в-алгоритме-Логическая-регрессия-4.1.1\"><span class=\"toc-item-num\">4.1.1&nbsp;&nbsp;</span>Взвешивание классов в алгоритме Логическая регрессия</a></span></li><li><span><a href=\"#Взвешивание-классов-в-алгоритме-Дерево-решений\" data-toc-modified-id=\"Взвешивание-классов-в-алгоритме-Дерево-решений-4.1.2\"><span class=\"toc-item-num\">4.1.2&nbsp;&nbsp;</span>Взвешивание классов в алгоритме Дерево решений</a></span></li><li><span><a href=\"#Взвешивание-классов-в-алгоритме-Случайный-лес\" data-toc-modified-id=\"Взвешивание-классов-в-алгоритме-Случайный-лес-4.1.3\"><span class=\"toc-item-num\">4.1.3&nbsp;&nbsp;</span>Взвешивание классов в алгоритме Случайный лес</a></span></li></ul></li><li><span><a href=\"#Увеличение-выборки\" data-toc-modified-id=\"Увеличение-выборки-4.2\"><span class=\"toc-item-num\">4.2&nbsp;&nbsp;</span>Уменьшение выборки</a></span><ul class=\"toc-item\"><li><span><a href=\"#Уменьшение-выборки-в-алгоритме-Логическая-регрессия\" data-toc-modified-id=\"Уменьшение-выборки-в-алгоритме-Логическая-регрессия-4.3.1\"><span class=\"toc-item-num\">4.3.1&nbsp;&nbsp;</span>Уменьшение выборки в алгоритме Логическая регрессия</a></span></li><li><span><a href=\"#Уменьшение-выборки-в-алгоритме-Дерево-решений\" data-toc-modified-id=\"Уменьшение-выборки-в-алгоритме-Дерево-решений-4.3.2\"><span class=\"toc-item-num\">4.3.2&nbsp;&nbsp;</span>Уменьшение выборки в алгоритме Дерево решений</a></span></li><li><span><a href=\"#Уменьшение-выборки-в-алгоритме-Случайный-лес\" data-toc-modified-id=\"Уменьшение-выборки-в-алгоритме-Случайный-лес-4.3.3\"><span class=\"toc-item-num\">4.3.3&nbsp;&nbsp;</span>Уменьшение выборки в алгоритме Случайный лес</a></span></li></ul></li><li><span><a href=\"#Общий-вывод\" data-toc-modified-id=\"Общий-вывод-4.4\"><span class=\"toc-item-num\">4.4&nbsp;&nbsp;</span>Общий вывод</a></span></li></ul></li><li><span><a href=\"#Тестирование-модели\" data-toc-modified-id=\"Тестирование-модели-5\"><span class=\"toc-item-num\">5&nbsp;&nbsp;</span>Тестирование модели</a></span><ul class=\"toc-item\"><li><span><a href=\"#Общий-вывод\" data-toc-modified-id=\"Общий-вывод-5.1\"><span class=\"toc-item-num\">5.1&nbsp;&nbsp;</span>Общий вывод</a></span></li></ul></li><li><span><a href=\"#Чек-лист-готовности-проекта\" data-toc-modified-id=\"Чек-лист-готовности-проекта-6\"><span class=\"toc-item-num\">6&nbsp;&nbsp;</span>Чек-лист готовности проекта</a></span></li></ul></div>"
   ]
  },
  {
   "cell_type": "markdown",
   "metadata": {},
   "source": [
    "# Отток клиентов"
   ]
  },
  {
   "cell_type": "markdown",
   "metadata": {},
   "source": [
    "__Заказчик:__ банк «Бета-Банка».\n",
    "\n",
    "__Цель:__ спрогнозировать, уйдёт клиент из банка в ближайшее время или нет.\n",
    "\n",
    "__Оценка результата:__ модель с предельно большим значением *F1*-меры, минимальное значение - 0.59.\n"
   ]
  },
  {
   "cell_type": "code",
   "execution_count": 395,
   "metadata": {
    "scrolled": true
   },
   "outputs": [],
   "source": [
    "# библиотери используемые в анализе\n",
    "import pandas as pd\n",
    "import numpy as np\n",
    "import seaborn as sns\n",
    "import matplotlib.pyplot as plt\n",
    "from sklearn.preprocessing import StandardScaler \n",
    "from sklearn.model_selection import RandomizedSearchCV\n",
    "from sklearn.linear_model import LogisticRegression\n",
    "from sklearn.tree import DecisionTreeClassifier\n",
    "from sklearn.ensemble import RandomForestClassifier\n",
    "from sklearn.utils import shuffle\n",
    "from sklearn.metrics import average_precision_score\n",
    "from sklearn.metrics import f1_score\n",
    "from sklearn.metrics import roc_curve, roc_auc_score, auc\n",
    "from matplotlib import pyplot as plt\n",
    "from sklearn.model_selection import cross_val_score, GridSearchCV, train_test_split, KFold\n",
    "from sklearn.pipeline import Pipeline, make_pipeline\n",
    "import warnings\n",
    "# константы\n",
    "# ответ на главный вопрос жизни, вселенной и всего такого (random_state)\n",
    "RS = 42"
   ]
  },
  {
   "cell_type": "markdown",
   "metadata": {},
   "source": [
    "## Подготовка данных\n",
    "\n",
    "__Источник:__ [исторические данные о поведении клиентов и расторжении договоров с банком.](https://www.kaggle.com/barelydedicated/bank-customer-churn-modeling)\n",
    "\n",
    "__Описание данных:__\n",
    "- Признаки\n",
    "  - RowNumber — индекс строки в данных\n",
    "  - CustomerId — уникальный идентификатор клиента\n",
    "  - Surname — фамилия\n",
    "  - CreditScore — кредитный рейтинг\n",
    "  - Geography — страна проживания\n",
    "  - Gender — пол\n",
    "  - Age — возраст\n",
    "  - Tenure — сколько лет человек является клиентом банка\n",
    "  - Balance — баланс на счёте\n",
    "  - NumOfProducts — количество продуктов банка, используемых клиентом\n",
    "  - HasCrCard — наличие кредитной карты\n",
    "  - IsActiveMember — активность клиента\n",
    "  - EstimatedSalary — предполагаемая зарплата\n",
    "- Целевой признак\n",
    "  - Exited — факт ухода клиента\n",
    "\n"
   ]
  },
  {
   "cell_type": "code",
   "execution_count": 396,
   "metadata": {},
   "outputs": [
    {
     "data": {
      "text/html": [
       "<div>\n",
       "<style scoped>\n",
       "    .dataframe tbody tr th:only-of-type {\n",
       "        vertical-align: middle;\n",
       "    }\n",
       "\n",
       "    .dataframe tbody tr th {\n",
       "        vertical-align: top;\n",
       "    }\n",
       "\n",
       "    .dataframe thead th {\n",
       "        text-align: right;\n",
       "    }\n",
       "</style>\n",
       "<table border=\"1\" class=\"dataframe\">\n",
       "  <thead>\n",
       "    <tr style=\"text-align: right;\">\n",
       "      <th></th>\n",
       "      <th>RowNumber</th>\n",
       "      <th>CustomerId</th>\n",
       "      <th>Surname</th>\n",
       "      <th>CreditScore</th>\n",
       "      <th>Geography</th>\n",
       "      <th>Gender</th>\n",
       "      <th>Age</th>\n",
       "      <th>Tenure</th>\n",
       "      <th>Balance</th>\n",
       "      <th>NumOfProducts</th>\n",
       "      <th>HasCrCard</th>\n",
       "      <th>IsActiveMember</th>\n",
       "      <th>EstimatedSalary</th>\n",
       "      <th>Exited</th>\n",
       "    </tr>\n",
       "  </thead>\n",
       "  <tbody>\n",
       "    <tr>\n",
       "      <th>0</th>\n",
       "      <td>1</td>\n",
       "      <td>15634602</td>\n",
       "      <td>Hargrave</td>\n",
       "      <td>619</td>\n",
       "      <td>France</td>\n",
       "      <td>Female</td>\n",
       "      <td>42</td>\n",
       "      <td>2.0</td>\n",
       "      <td>0.00</td>\n",
       "      <td>1</td>\n",
       "      <td>1</td>\n",
       "      <td>1</td>\n",
       "      <td>101348.88</td>\n",
       "      <td>1</td>\n",
       "    </tr>\n",
       "    <tr>\n",
       "      <th>1</th>\n",
       "      <td>2</td>\n",
       "      <td>15647311</td>\n",
       "      <td>Hill</td>\n",
       "      <td>608</td>\n",
       "      <td>Spain</td>\n",
       "      <td>Female</td>\n",
       "      <td>41</td>\n",
       "      <td>1.0</td>\n",
       "      <td>83807.86</td>\n",
       "      <td>1</td>\n",
       "      <td>0</td>\n",
       "      <td>1</td>\n",
       "      <td>112542.58</td>\n",
       "      <td>0</td>\n",
       "    </tr>\n",
       "    <tr>\n",
       "      <th>2</th>\n",
       "      <td>3</td>\n",
       "      <td>15619304</td>\n",
       "      <td>Onio</td>\n",
       "      <td>502</td>\n",
       "      <td>France</td>\n",
       "      <td>Female</td>\n",
       "      <td>42</td>\n",
       "      <td>8.0</td>\n",
       "      <td>159660.80</td>\n",
       "      <td>3</td>\n",
       "      <td>1</td>\n",
       "      <td>0</td>\n",
       "      <td>113931.57</td>\n",
       "      <td>1</td>\n",
       "    </tr>\n",
       "    <tr>\n",
       "      <th>3</th>\n",
       "      <td>4</td>\n",
       "      <td>15701354</td>\n",
       "      <td>Boni</td>\n",
       "      <td>699</td>\n",
       "      <td>France</td>\n",
       "      <td>Female</td>\n",
       "      <td>39</td>\n",
       "      <td>1.0</td>\n",
       "      <td>0.00</td>\n",
       "      <td>2</td>\n",
       "      <td>0</td>\n",
       "      <td>0</td>\n",
       "      <td>93826.63</td>\n",
       "      <td>0</td>\n",
       "    </tr>\n",
       "    <tr>\n",
       "      <th>4</th>\n",
       "      <td>5</td>\n",
       "      <td>15737888</td>\n",
       "      <td>Mitchell</td>\n",
       "      <td>850</td>\n",
       "      <td>Spain</td>\n",
       "      <td>Female</td>\n",
       "      <td>43</td>\n",
       "      <td>2.0</td>\n",
       "      <td>125510.82</td>\n",
       "      <td>1</td>\n",
       "      <td>1</td>\n",
       "      <td>1</td>\n",
       "      <td>79084.10</td>\n",
       "      <td>0</td>\n",
       "    </tr>\n",
       "  </tbody>\n",
       "</table>\n",
       "</div>"
      ],
      "text/plain": [
       "   RowNumber  CustomerId   Surname  CreditScore Geography  Gender  Age  \\\n",
       "0          1    15634602  Hargrave          619    France  Female   42   \n",
       "1          2    15647311      Hill          608     Spain  Female   41   \n",
       "2          3    15619304      Onio          502    France  Female   42   \n",
       "3          4    15701354      Boni          699    France  Female   39   \n",
       "4          5    15737888  Mitchell          850     Spain  Female   43   \n",
       "\n",
       "   Tenure    Balance  NumOfProducts  HasCrCard  IsActiveMember  \\\n",
       "0     2.0       0.00              1          1               1   \n",
       "1     1.0   83807.86              1          0               1   \n",
       "2     8.0  159660.80              3          1               0   \n",
       "3     1.0       0.00              2          0               0   \n",
       "4     2.0  125510.82              1          1               1   \n",
       "\n",
       "   EstimatedSalary  Exited  \n",
       "0        101348.88       1  \n",
       "1        112542.58       0  \n",
       "2        113931.57       1  \n",
       "3         93826.63       0  \n",
       "4         79084.10       0  "
      ]
     },
     "execution_count": 396,
     "metadata": {},
     "output_type": "execute_result"
    }
   ],
   "source": [
    "# загружаем данные:\n",
    "try:\n",
    "    df = pd.read_csv('/datasets/Churn.csv')\n",
    "except:\n",
    "    df = pd.read_csv('https://code.s3.yandex.net/datasets/Churn.csv')\n",
    "   \n",
    "df.head()"
   ]
  },
  {
   "cell_type": "code",
   "execution_count": 397,
   "metadata": {},
   "outputs": [
    {
     "name": "stdout",
     "output_type": "stream",
     "text": [
      "<class 'pandas.core.frame.DataFrame'>\n",
      "RangeIndex: 10000 entries, 0 to 9999\n",
      "Data columns (total 14 columns):\n",
      " #   Column           Non-Null Count  Dtype  \n",
      "---  ------           --------------  -----  \n",
      " 0   RowNumber        10000 non-null  int64  \n",
      " 1   CustomerId       10000 non-null  int64  \n",
      " 2   Surname          10000 non-null  object \n",
      " 3   CreditScore      10000 non-null  int64  \n",
      " 4   Geography        10000 non-null  object \n",
      " 5   Gender           10000 non-null  object \n",
      " 6   Age              10000 non-null  int64  \n",
      " 7   Tenure           9091 non-null   float64\n",
      " 8   Balance          10000 non-null  float64\n",
      " 9   NumOfProducts    10000 non-null  int64  \n",
      " 10  HasCrCard        10000 non-null  int64  \n",
      " 11  IsActiveMember   10000 non-null  int64  \n",
      " 12  EstimatedSalary  10000 non-null  float64\n",
      " 13  Exited           10000 non-null  int64  \n",
      "dtypes: float64(3), int64(8), object(3)\n",
      "memory usage: 1.1+ MB\n"
     ]
    }
   ],
   "source": [
    "# общая информация для выявления недостатков в данных:\n",
    "df.info()"
   ]
  },
  {
   "cell_type": "markdown",
   "metadata": {},
   "source": [
    "__Вывод:__\n",
    "\n",
    "В данных присупствуют пропущенные значения в столбце \"Tenure\"\n",
    "\n",
    "Все столбцы записаны в некоректном регистре, следует их переименовать "
   ]
  },
  {
   "cell_type": "markdown",
   "metadata": {},
   "source": [
    "### Дубликаты и пропуски в данных"
   ]
  },
  {
   "cell_type": "code",
   "execution_count": 398,
   "metadata": {},
   "outputs": [
    {
     "data": {
      "text/plain": [
       "0"
      ]
     },
     "execution_count": 398,
     "metadata": {},
     "output_type": "execute_result"
    }
   ],
   "source": [
    "# проверим на дубликаты\n"
   ]
  },
  {
   "cell_type": "code",
   "execution_count": 399,
   "metadata": {},
   "outputs": [
    {
     "data": {
      "text/plain": [
       "0.0909"
      ]
     },
     "execution_count": 399,
     "metadata": {},
     "output_type": "execute_result"
    }
   ],
   "source": [
    "# проверим долю пропусков\n",
    "df['Tenure'].isna().mean()"
   ]
  },
  {
   "cell_type": "code",
   "execution_count": 400,
   "metadata": {},
   "outputs": [
    {
     "data": {
      "text/plain": [
       "array([ 2.,  1.,  8.,  7.,  4.,  6.,  3., 10.,  5.,  9.,  0., nan])"
      ]
     },
     "execution_count": 400,
     "metadata": {},
     "output_type": "execute_result"
    }
   ],
   "source": [
    "# проверим значения в столбце с пропусками\n",
    "df['Tenure'].unique()"
   ]
  },
  {
   "cell_type": "markdown",
   "metadata": {},
   "source": [
    "- В данных отсутствуют дубликаты.\n",
    "- Пропуски в столбце \"Tenure\" составляет 9.09%, нет возможности восстановить данные, следует их удалить.\n",
    "- Столбцы:\n",
    "  - RowNumber — индекс строки в данных\n",
    "  - CustomerId — уникальный идентификатор клиента\n",
    "  - Surname — фамилия\n",
    "  \n",
    "  не могут влиять на решение ухода из банка или являются техническими, следует их удалить."
   ]
  },
  {
   "cell_type": "code",
   "execution_count": 401,
   "metadata": {},
   "outputs": [
    {
     "name": "stdout",
     "output_type": "stream",
     "text": [
      "<class 'pandas.core.frame.DataFrame'>\n",
      "Int64Index: 9091 entries, 0 to 9998\n",
      "Data columns (total 11 columns):\n",
      " #   Column         Non-Null Count  Dtype  \n",
      "---  ------         --------------  -----  \n",
      " 0   credit_score   9091 non-null   int64  \n",
      " 1   geography      9091 non-null   object \n",
      " 2   gender         9091 non-null   object \n",
      " 3   age            9091 non-null   int64  \n",
      " 4   tenure         9091 non-null   float64\n",
      " 5   balance        9091 non-null   float64\n",
      " 6   num_products   9091 non-null   int64  \n",
      " 7   has_card       9091 non-null   int64  \n",
      " 8   active_member  9091 non-null   int64  \n",
      " 9   salary         9091 non-null   float64\n",
      " 10  exited         9091 non-null   int64  \n",
      "dtypes: float64(3), int64(6), object(2)\n",
      "memory usage: 852.3+ KB\n"
     ]
    }
   ],
   "source": [
    "# удаляем не интересующие нас столбцы\n",
    "ва1 = \n",
    "# удалием строки с пропусками\n",
    "df = df.dropna(subset=['Tenure'])\n",
    "# переименовываем столбцы\n",
    "df = df.rename(columns = {'CreditScore':'credit_score',\n",
    "                          'Geography':'geography',\n",
    "                          'Gender':'gender',\n",
    "                          'Age':'age',\n",
    "                          'Tenure':'tenure',\n",
    "                          'Balance':'balance',\n",
    "                          'NumOfProducts':'num_products',\n",
    "                          'HasCrCard':'has_card',\n",
    "                          'IsActiveMember':'active_member',\n",
    "                          'EstimatedSalary':'salary',\n",
    "                          'Exited':'exited'\n",
    "                          })\n",
    "df.info()"
   ]
  },
  {
   "cell_type": "markdown",
   "metadata": {},
   "source": [
    "__Проверены дубликаты, удалены стодбцы не требующиеся для построения моделей, название столбцов приведены к стандартной форме.__"
   ]
  },
  {
   "cell_type": "markdown",
   "metadata": {},
   "source": [
    "### Числовые и категориальные признаки"
   ]
  },
  {
   "cell_type": "code",
   "execution_count": 402,
   "metadata": {},
   "outputs": [
    {
     "data": {
      "text/html": [
       "<div>\n",
       "<style scoped>\n",
       "    .dataframe tbody tr th:only-of-type {\n",
       "        vertical-align: middle;\n",
       "    }\n",
       "\n",
       "    .dataframe tbody tr th {\n",
       "        vertical-align: top;\n",
       "    }\n",
       "\n",
       "    .dataframe thead th {\n",
       "        text-align: right;\n",
       "    }\n",
       "</style>\n",
       "<table border=\"1\" class=\"dataframe\">\n",
       "  <thead>\n",
       "    <tr style=\"text-align: right;\">\n",
       "      <th></th>\n",
       "      <th>credit_score</th>\n",
       "      <th>age</th>\n",
       "      <th>tenure</th>\n",
       "      <th>balance</th>\n",
       "      <th>num_products</th>\n",
       "      <th>has_card</th>\n",
       "      <th>active_member</th>\n",
       "      <th>salary</th>\n",
       "      <th>exited</th>\n",
       "    </tr>\n",
       "  </thead>\n",
       "  <tbody>\n",
       "    <tr>\n",
       "      <th>count</th>\n",
       "      <td>9091.000000</td>\n",
       "      <td>9091.000000</td>\n",
       "      <td>9091.000000</td>\n",
       "      <td>9091.000000</td>\n",
       "      <td>9091.000000</td>\n",
       "      <td>9091.000000</td>\n",
       "      <td>9091.000000</td>\n",
       "      <td>9091.000000</td>\n",
       "      <td>9091.000000</td>\n",
       "    </tr>\n",
       "    <tr>\n",
       "      <th>mean</th>\n",
       "      <td>650.736553</td>\n",
       "      <td>38.949181</td>\n",
       "      <td>4.997690</td>\n",
       "      <td>76522.740015</td>\n",
       "      <td>1.530195</td>\n",
       "      <td>0.704983</td>\n",
       "      <td>0.515565</td>\n",
       "      <td>100181.214924</td>\n",
       "      <td>0.203938</td>\n",
       "    </tr>\n",
       "    <tr>\n",
       "      <th>std</th>\n",
       "      <td>96.410471</td>\n",
       "      <td>10.555581</td>\n",
       "      <td>2.894723</td>\n",
       "      <td>62329.528576</td>\n",
       "      <td>0.581003</td>\n",
       "      <td>0.456076</td>\n",
       "      <td>0.499785</td>\n",
       "      <td>57624.755647</td>\n",
       "      <td>0.402946</td>\n",
       "    </tr>\n",
       "    <tr>\n",
       "      <th>min</th>\n",
       "      <td>350.000000</td>\n",
       "      <td>18.000000</td>\n",
       "      <td>0.000000</td>\n",
       "      <td>0.000000</td>\n",
       "      <td>1.000000</td>\n",
       "      <td>0.000000</td>\n",
       "      <td>0.000000</td>\n",
       "      <td>11.580000</td>\n",
       "      <td>0.000000</td>\n",
       "    </tr>\n",
       "    <tr>\n",
       "      <th>25%</th>\n",
       "      <td>584.000000</td>\n",
       "      <td>32.000000</td>\n",
       "      <td>2.000000</td>\n",
       "      <td>0.000000</td>\n",
       "      <td>1.000000</td>\n",
       "      <td>0.000000</td>\n",
       "      <td>0.000000</td>\n",
       "      <td>51227.745000</td>\n",
       "      <td>0.000000</td>\n",
       "    </tr>\n",
       "    <tr>\n",
       "      <th>50%</th>\n",
       "      <td>652.000000</td>\n",
       "      <td>37.000000</td>\n",
       "      <td>5.000000</td>\n",
       "      <td>97318.250000</td>\n",
       "      <td>1.000000</td>\n",
       "      <td>1.000000</td>\n",
       "      <td>1.000000</td>\n",
       "      <td>100240.200000</td>\n",
       "      <td>0.000000</td>\n",
       "    </tr>\n",
       "    <tr>\n",
       "      <th>75%</th>\n",
       "      <td>717.000000</td>\n",
       "      <td>44.000000</td>\n",
       "      <td>7.000000</td>\n",
       "      <td>127561.890000</td>\n",
       "      <td>2.000000</td>\n",
       "      <td>1.000000</td>\n",
       "      <td>1.000000</td>\n",
       "      <td>149567.210000</td>\n",
       "      <td>0.000000</td>\n",
       "    </tr>\n",
       "    <tr>\n",
       "      <th>max</th>\n",
       "      <td>850.000000</td>\n",
       "      <td>92.000000</td>\n",
       "      <td>10.000000</td>\n",
       "      <td>250898.090000</td>\n",
       "      <td>4.000000</td>\n",
       "      <td>1.000000</td>\n",
       "      <td>1.000000</td>\n",
       "      <td>199992.480000</td>\n",
       "      <td>1.000000</td>\n",
       "    </tr>\n",
       "  </tbody>\n",
       "</table>\n",
       "</div>"
      ],
      "text/plain": [
       "       credit_score          age       tenure        balance  num_products  \\\n",
       "count   9091.000000  9091.000000  9091.000000    9091.000000   9091.000000   \n",
       "mean     650.736553    38.949181     4.997690   76522.740015      1.530195   \n",
       "std       96.410471    10.555581     2.894723   62329.528576      0.581003   \n",
       "min      350.000000    18.000000     0.000000       0.000000      1.000000   \n",
       "25%      584.000000    32.000000     2.000000       0.000000      1.000000   \n",
       "50%      652.000000    37.000000     5.000000   97318.250000      1.000000   \n",
       "75%      717.000000    44.000000     7.000000  127561.890000      2.000000   \n",
       "max      850.000000    92.000000    10.000000  250898.090000      4.000000   \n",
       "\n",
       "          has_card  active_member         salary       exited  \n",
       "count  9091.000000    9091.000000    9091.000000  9091.000000  \n",
       "mean      0.704983       0.515565  100181.214924     0.203938  \n",
       "std       0.456076       0.499785   57624.755647     0.402946  \n",
       "min       0.000000       0.000000      11.580000     0.000000  \n",
       "25%       0.000000       0.000000   51227.745000     0.000000  \n",
       "50%       1.000000       1.000000  100240.200000     0.000000  \n",
       "75%       1.000000       1.000000  149567.210000     0.000000  \n",
       "max       1.000000       1.000000  199992.480000     1.000000  "
      ]
     },
     "execution_count": 402,
     "metadata": {},
     "output_type": "execute_result"
    }
   ],
   "source": [
    "# общая информация по числовым признакам\n",
    "df.describe()"
   ]
  },
  {
   "cell_type": "code",
   "execution_count": 403,
   "metadata": {},
   "outputs": [
    {
     "data": {
      "text/plain": [
       "array(['Female', 'Male'], dtype=object)"
      ]
     },
     "execution_count": 403,
     "metadata": {},
     "output_type": "execute_result"
    }
   ],
   "source": [
    "# проверим уникальные записи в столбце 'gender'\n",
    "df['gender'].unique()"
   ]
  },
  {
   "cell_type": "code",
   "execution_count": 404,
   "metadata": {},
   "outputs": [
    {
     "data": {
      "text/plain": [
       "array(['France', 'Spain', 'Germany'], dtype=object)"
      ]
     },
     "execution_count": 404,
     "metadata": {},
     "output_type": "execute_result"
    }
   ],
   "source": [
    "# проверим уникальные записи в столбце 'gender'\n",
    "df['geography'].unique()"
   ]
  },
  {
   "cell_type": "markdown",
   "metadata": {},
   "source": [
    "- В числовых признаках отсутствуют явные выбросы.\n",
    "- Категориальные:\n",
    "   - 'gender' содержит значения ['Female', 'Male'], заменим их на 0 и 1\n",
    "   - 'geography' содержит три значения, поэтому применим технику прямого кодирования (One-Hot Encoding)"
   ]
  },
  {
   "cell_type": "code",
   "execution_count": 405,
   "metadata": {},
   "outputs": [
    {
     "data": {
      "text/html": [
       "<div>\n",
       "<style scoped>\n",
       "    .dataframe tbody tr th:only-of-type {\n",
       "        vertical-align: middle;\n",
       "    }\n",
       "\n",
       "    .dataframe tbody tr th {\n",
       "        vertical-align: top;\n",
       "    }\n",
       "\n",
       "    .dataframe thead th {\n",
       "        text-align: right;\n",
       "    }\n",
       "</style>\n",
       "<table border=\"1\" class=\"dataframe\">\n",
       "  <thead>\n",
       "    <tr style=\"text-align: right;\">\n",
       "      <th></th>\n",
       "      <th>credit_score</th>\n",
       "      <th>gender</th>\n",
       "      <th>age</th>\n",
       "      <th>tenure</th>\n",
       "      <th>balance</th>\n",
       "      <th>num_products</th>\n",
       "      <th>has_card</th>\n",
       "      <th>active_member</th>\n",
       "      <th>salary</th>\n",
       "      <th>exited</th>\n",
       "      <th>geography_Germany</th>\n",
       "      <th>geography_Spain</th>\n",
       "    </tr>\n",
       "  </thead>\n",
       "  <tbody>\n",
       "    <tr>\n",
       "      <th>0</th>\n",
       "      <td>619</td>\n",
       "      <td>1</td>\n",
       "      <td>42</td>\n",
       "      <td>2.0</td>\n",
       "      <td>0.00</td>\n",
       "      <td>1</td>\n",
       "      <td>1</td>\n",
       "      <td>1</td>\n",
       "      <td>101348.88</td>\n",
       "      <td>1</td>\n",
       "      <td>0</td>\n",
       "      <td>0</td>\n",
       "    </tr>\n",
       "    <tr>\n",
       "      <th>1</th>\n",
       "      <td>608</td>\n",
       "      <td>1</td>\n",
       "      <td>41</td>\n",
       "      <td>1.0</td>\n",
       "      <td>83807.86</td>\n",
       "      <td>1</td>\n",
       "      <td>0</td>\n",
       "      <td>1</td>\n",
       "      <td>112542.58</td>\n",
       "      <td>0</td>\n",
       "      <td>0</td>\n",
       "      <td>1</td>\n",
       "    </tr>\n",
       "    <tr>\n",
       "      <th>2</th>\n",
       "      <td>502</td>\n",
       "      <td>1</td>\n",
       "      <td>42</td>\n",
       "      <td>8.0</td>\n",
       "      <td>159660.80</td>\n",
       "      <td>3</td>\n",
       "      <td>1</td>\n",
       "      <td>0</td>\n",
       "      <td>113931.57</td>\n",
       "      <td>1</td>\n",
       "      <td>0</td>\n",
       "      <td>0</td>\n",
       "    </tr>\n",
       "    <tr>\n",
       "      <th>3</th>\n",
       "      <td>699</td>\n",
       "      <td>1</td>\n",
       "      <td>39</td>\n",
       "      <td>1.0</td>\n",
       "      <td>0.00</td>\n",
       "      <td>2</td>\n",
       "      <td>0</td>\n",
       "      <td>0</td>\n",
       "      <td>93826.63</td>\n",
       "      <td>0</td>\n",
       "      <td>0</td>\n",
       "      <td>0</td>\n",
       "    </tr>\n",
       "    <tr>\n",
       "      <th>4</th>\n",
       "      <td>850</td>\n",
       "      <td>1</td>\n",
       "      <td>43</td>\n",
       "      <td>2.0</td>\n",
       "      <td>125510.82</td>\n",
       "      <td>1</td>\n",
       "      <td>1</td>\n",
       "      <td>1</td>\n",
       "      <td>79084.10</td>\n",
       "      <td>0</td>\n",
       "      <td>0</td>\n",
       "      <td>1</td>\n",
       "    </tr>\n",
       "  </tbody>\n",
       "</table>\n",
       "</div>"
      ],
      "text/plain": [
       "   credit_score  gender  age  tenure    balance  num_products  has_card  \\\n",
       "0           619       1   42     2.0       0.00             1         1   \n",
       "1           608       1   41     1.0   83807.86             1         0   \n",
       "2           502       1   42     8.0  159660.80             3         1   \n",
       "3           699       1   39     1.0       0.00             2         0   \n",
       "4           850       1   43     2.0  125510.82             1         1   \n",
       "\n",
       "   active_member     salary  exited  geography_Germany  geography_Spain  \n",
       "0              1  101348.88       1                  0                0  \n",
       "1              1  112542.58       0                  0                1  \n",
       "2              0  113931.57       1                  0                0  \n",
       "3              0   93826.63       0                  0                0  \n",
       "4              1   79084.10       0                  0                1  "
      ]
     },
     "execution_count": 405,
     "metadata": {},
     "output_type": "execute_result"
    }
   ],
   "source": [
    "# Заменим 'Female' на 1, 'Male' на 0\n",
    "df['gender'] = df['gender'].apply(lambda x: (x=='Female')*1)\n",
    "# One-Hot Encoding\n",
    "df = pd.get_dummies(df, drop_first=True)\n",
    "\n",
    "df.head()"
   ]
  },
  {
   "cell_type": "markdown",
   "metadata": {},
   "source": [
    "Переведем категориальные столбцы : ['gender', 'has_card', 'active_member', 'geography_Germany', 'geography_Spain'] в тип данных category"
   ]
  },
  {
   "cell_type": "code",
   "execution_count": 406,
   "metadata": {},
   "outputs": [
    {
     "name": "stdout",
     "output_type": "stream",
     "text": [
      "<class 'pandas.core.frame.DataFrame'>\n",
      "Int64Index: 9091 entries, 0 to 9998\n",
      "Data columns (total 12 columns):\n",
      " #   Column             Non-Null Count  Dtype   \n",
      "---  ------             --------------  -----   \n",
      " 0   credit_score       9091 non-null   int64   \n",
      " 1   gender             9091 non-null   category\n",
      " 2   age                9091 non-null   int64   \n",
      " 3   tenure             9091 non-null   float64 \n",
      " 4   balance            9091 non-null   float64 \n",
      " 5   num_products       9091 non-null   int64   \n",
      " 6   has_card           9091 non-null   category\n",
      " 7   active_member      9091 non-null   category\n",
      " 8   salary             9091 non-null   float64 \n",
      " 9   exited             9091 non-null   int64   \n",
      " 10  geography_Germany  9091 non-null   category\n",
      " 11  geography_Spain    9091 non-null   category\n",
      "dtypes: category(5), float64(3), int64(4)\n",
      "memory usage: 613.2 KB\n"
     ]
    }
   ],
   "source": [
    "# изменим типы данных столбцов\n",
    "df = df.astype({\n",
    "    \"gender\":'category',\n",
    "    \"has_card\":'category',\n",
    "    \"active_member\":'category',\n",
    "    \"geography_Germany\":'category',\n",
    "    \"geography_Spain\":'category'\n",
    "})\n",
    "\n",
    "df.info()"
   ]
  },
  {
   "cell_type": "markdown",
   "metadata": {},
   "source": [
    "__Проверены числовые признаки на наличие явных выбросов, категориальные признки переведены в тип данных 'category'.__"
   ]
  },
  {
   "cell_type": "markdown",
   "metadata": {},
   "source": [
    "### Взаимосвязь признаков, мультиколлинеарность, баланс\n",
    "\n",
    "Наличие мультиколлинеарности в данных снизит качество линейных моделей. Так как нас интересуют именно линейные связи, исполизуем коэффициент корреляции Пирсона и посмотрим есть ли в данных зависимости."
   ]
  },
  {
   "cell_type": "code",
   "execution_count": 407,
   "metadata": {},
   "outputs": [
    {
     "data": {
      "text/html": [
       "<div>\n",
       "<style scoped>\n",
       "    .dataframe tbody tr th:only-of-type {\n",
       "        vertical-align: middle;\n",
       "    }\n",
       "\n",
       "    .dataframe tbody tr th {\n",
       "        vertical-align: top;\n",
       "    }\n",
       "\n",
       "    .dataframe thead th {\n",
       "        text-align: right;\n",
       "    }\n",
       "</style>\n",
       "<table border=\"1\" class=\"dataframe\">\n",
       "  <thead>\n",
       "    <tr style=\"text-align: right;\">\n",
       "      <th></th>\n",
       "      <th>credit_score</th>\n",
       "      <th>age</th>\n",
       "      <th>tenure</th>\n",
       "      <th>balance</th>\n",
       "      <th>num_products</th>\n",
       "      <th>salary</th>\n",
       "      <th>exited</th>\n",
       "    </tr>\n",
       "  </thead>\n",
       "  <tbody>\n",
       "    <tr>\n",
       "      <th>credit_score</th>\n",
       "      <td>1.000000</td>\n",
       "      <td>-0.004504</td>\n",
       "      <td>-0.000062</td>\n",
       "      <td>0.002804</td>\n",
       "      <td>0.011090</td>\n",
       "      <td>0.005182</td>\n",
       "      <td>-0.023950</td>\n",
       "    </tr>\n",
       "    <tr>\n",
       "      <th>age</th>\n",
       "      <td>-0.004504</td>\n",
       "      <td>1.000000</td>\n",
       "      <td>-0.013134</td>\n",
       "      <td>0.031481</td>\n",
       "      <td>-0.031877</td>\n",
       "      <td>-0.007037</td>\n",
       "      <td>0.283017</td>\n",
       "    </tr>\n",
       "    <tr>\n",
       "      <th>tenure</th>\n",
       "      <td>-0.000062</td>\n",
       "      <td>-0.013134</td>\n",
       "      <td>1.000000</td>\n",
       "      <td>-0.007911</td>\n",
       "      <td>0.011979</td>\n",
       "      <td>0.010520</td>\n",
       "      <td>-0.016761</td>\n",
       "    </tr>\n",
       "    <tr>\n",
       "      <th>balance</th>\n",
       "      <td>0.002804</td>\n",
       "      <td>0.031481</td>\n",
       "      <td>-0.007911</td>\n",
       "      <td>1.000000</td>\n",
       "      <td>-0.301858</td>\n",
       "      <td>0.014351</td>\n",
       "      <td>0.117218</td>\n",
       "    </tr>\n",
       "    <tr>\n",
       "      <th>num_products</th>\n",
       "      <td>0.011090</td>\n",
       "      <td>-0.031877</td>\n",
       "      <td>0.011979</td>\n",
       "      <td>-0.301858</td>\n",
       "      <td>1.000000</td>\n",
       "      <td>0.013990</td>\n",
       "      <td>-0.050271</td>\n",
       "    </tr>\n",
       "    <tr>\n",
       "      <th>salary</th>\n",
       "      <td>0.005182</td>\n",
       "      <td>-0.007037</td>\n",
       "      <td>0.010520</td>\n",
       "      <td>0.014351</td>\n",
       "      <td>0.013990</td>\n",
       "      <td>1.000000</td>\n",
       "      <td>0.016029</td>\n",
       "    </tr>\n",
       "    <tr>\n",
       "      <th>exited</th>\n",
       "      <td>-0.023950</td>\n",
       "      <td>0.283017</td>\n",
       "      <td>-0.016761</td>\n",
       "      <td>0.117218</td>\n",
       "      <td>-0.050271</td>\n",
       "      <td>0.016029</td>\n",
       "      <td>1.000000</td>\n",
       "    </tr>\n",
       "  </tbody>\n",
       "</table>\n",
       "</div>"
      ],
      "text/plain": [
       "              credit_score       age    tenure   balance  num_products  \\\n",
       "credit_score      1.000000 -0.004504 -0.000062  0.002804      0.011090   \n",
       "age              -0.004504  1.000000 -0.013134  0.031481     -0.031877   \n",
       "tenure           -0.000062 -0.013134  1.000000 -0.007911      0.011979   \n",
       "balance           0.002804  0.031481 -0.007911  1.000000     -0.301858   \n",
       "num_products      0.011090 -0.031877  0.011979 -0.301858      1.000000   \n",
       "salary            0.005182 -0.007037  0.010520  0.014351      0.013990   \n",
       "exited           -0.023950  0.283017 -0.016761  0.117218     -0.050271   \n",
       "\n",
       "                salary    exited  \n",
       "credit_score  0.005182 -0.023950  \n",
       "age          -0.007037  0.283017  \n",
       "tenure        0.010520 -0.016761  \n",
       "balance       0.014351  0.117218  \n",
       "num_products  0.013990 -0.050271  \n",
       "salary        1.000000  0.016029  \n",
       "exited        0.016029  1.000000  "
      ]
     },
     "execution_count": 407,
     "metadata": {},
     "output_type": "execute_result"
    }
   ],
   "source": [
    "# матрица корреляции Пирсона\n",
    "df.corr()"
   ]
  },
  {
   "cell_type": "markdown",
   "metadata": {},
   "source": [
    "Баланс целевого признака"
   ]
  },
  {
   "cell_type": "code",
   "execution_count": 408,
   "metadata": {},
   "outputs": [
    {
     "data": {
      "image/png": "[encoded data removed]",
      "text/plain": [
       "<Figure size 432x288 with 1 Axes>"
      ]
     },
     "metadata": {},
     "output_type": "display_data"
    }
   ],
   "source": [
    "data = [df['exited'].value_counts()[0], df['exited'].value_counts()[1]]\n",
    "labels = ['0', '1']\n",
    "\n",
    "colors = sns.color_palette('pastel')[ 0:5 ]\n",
    "\n",
    "plt.pie(data, labels = labels, colors = colors, autopct='%.0f%%')\n",
    "plt.show()"
   ]
  },
  {
   "cell_type": "markdown",
   "metadata": {},
   "source": [
    "__Вывод:__\n",
    "\n",
    "Данные подготовлены для последующей работы. Датафрейм сокращен на 9.09% после обработки пропусков.\n",
    "\n",
    "Линейной связи можду признаками не наблюдается, мульколлинеарность данных отсутсвует. \n",
    "\n",
    "Присутствует дисбаланс классов в целевом признаке: записей с фактоми ухода клиентов из банка, составляет лишь 20% от датафрейма, это необходимо учесть при обучении моделей и в последующем исправить путем балансировки."
   ]
  },
  {
   "cell_type": "markdown",
   "metadata": {},
   "source": [
    "## Исследование\n",
    "\n",
    "В данном анализе целевым признаком являемся выбор между фактом ухода клиента из банка и его удержанием в нем, что является задачей классификации.\n",
    "\n",
    "Проведем сравнительный анализ нескольких алгоритмов машинного обучения:\n",
    "- Логическая регрессия\n",
    "- Дерево решений\n",
    "- Случайный лес\n",
    "\n",
    "Метрикой качества будет выступать F1-меры, чем выше качество модели, тем этот параметр больше, минимальное значение для данного иследавания (значение F1-меры, которого нужно добиться)- 0.59.\n",
    "\n",
    "### Формирование выборок\n",
    "\n",
    "Будем использовать обучающая и тестовая 75%/25%, т.к. при использовании алгоритмов будут использованы Greed Search и Random Search с кросс валидацией, которые не требуют валидационных данных для проверки."
   ]
  },
  {
   "cell_type": "code",
   "execution_count": 409,
   "metadata": {},
   "outputs": [
    {
     "name": "stdout",
     "output_type": "stream",
     "text": [
      "train: features=6818 target=6818 75%\n",
      "test:  features=2273 target=2273 25%\n"
     ]
    }
   ],
   "source": [
    "# выборки набор 75%/25%\n",
    "x = df.drop(['exited'], axis=1)\n",
    "y = df['exited']\n",
    "features_train, features_test, target_train, target_test = \\\n",
    "        train_test_split(x, y, test_size=.25, random_state=RS, stratify=y)\n",
    "# проверим размер выборок\n",
    "print(f'train: features={len(features_train)} target={len(target_train)} {len(target_train)/len(df):.0%}\\\n",
    "\\ntest:  features={len(features_test)} target={len(target_test)} {len(target_test)/len(df):.0%}')"
   ]
  },
  {
   "cell_type": "markdown",
   "metadata": {},
   "source": [
    "### Масштабирование признаков\n",
    "\n",
    "В числовых столбцах границы значений различны, что бы избежать перееценки признаков в процессе обучения моделей, необходима их стандартизация"
   ]
  },
  {
   "cell_type": "code",
   "execution_count": 410,
   "metadata": {},
   "outputs": [
    {
     "data": {
      "text/html": [
       "<div>\n",
       "<style scoped>\n",
       "    .dataframe tbody tr th:only-of-type {\n",
       "        vertical-align: middle;\n",
       "    }\n",
       "\n",
       "    .dataframe tbody tr th {\n",
       "        vertical-align: top;\n",
       "    }\n",
       "\n",
       "    .dataframe thead th {\n",
       "        text-align: right;\n",
       "    }\n",
       "</style>\n",
       "<table border=\"1\" class=\"dataframe\">\n",
       "  <thead>\n",
       "    <tr style=\"text-align: right;\">\n",
       "      <th></th>\n",
       "      <th>credit_score</th>\n",
       "      <th>gender</th>\n",
       "      <th>age</th>\n",
       "      <th>tenure</th>\n",
       "      <th>balance</th>\n",
       "      <th>num_products</th>\n",
       "      <th>has_card</th>\n",
       "      <th>active_member</th>\n",
       "      <th>salary</th>\n",
       "      <th>geography_Germany</th>\n",
       "      <th>geography_Spain</th>\n",
       "    </tr>\n",
       "  </thead>\n",
       "  <tbody>\n",
       "    <tr>\n",
       "      <th>1748</th>\n",
       "      <td>0.245413</td>\n",
       "      <td>0</td>\n",
       "      <td>-0.468049</td>\n",
       "      <td>-1.031145</td>\n",
       "      <td>1.219743</td>\n",
       "      <td>-0.914621</td>\n",
       "      <td>1</td>\n",
       "      <td>0</td>\n",
       "      <td>1.320052</td>\n",
       "      <td>1</td>\n",
       "      <td>0</td>\n",
       "    </tr>\n",
       "    <tr>\n",
       "      <th>585</th>\n",
       "      <td>1.137341</td>\n",
       "      <td>1</td>\n",
       "      <td>1.141066</td>\n",
       "      <td>-1.031145</td>\n",
       "      <td>0.388347</td>\n",
       "      <td>-0.914621</td>\n",
       "      <td>0</td>\n",
       "      <td>0</td>\n",
       "      <td>1.387993</td>\n",
       "      <td>0</td>\n",
       "      <td>0</td>\n",
       "    </tr>\n",
       "    <tr>\n",
       "      <th>661</th>\n",
       "      <td>0.452838</td>\n",
       "      <td>0</td>\n",
       "      <td>1.708989</td>\n",
       "      <td>1.037821</td>\n",
       "      <td>0.634943</td>\n",
       "      <td>-0.914621</td>\n",
       "      <td>1</td>\n",
       "      <td>1</td>\n",
       "      <td>0.310952</td>\n",
       "      <td>0</td>\n",
       "      <td>1</td>\n",
       "    </tr>\n",
       "    <tr>\n",
       "      <th>3272</th>\n",
       "      <td>0.805461</td>\n",
       "      <td>1</td>\n",
       "      <td>1.898296</td>\n",
       "      <td>-0.341490</td>\n",
       "      <td>-1.230261</td>\n",
       "      <td>-0.914621</td>\n",
       "      <td>1</td>\n",
       "      <td>1</td>\n",
       "      <td>1.105313</td>\n",
       "      <td>0</td>\n",
       "      <td>0</td>\n",
       "    </tr>\n",
       "    <tr>\n",
       "      <th>9069</th>\n",
       "      <td>-0.325006</td>\n",
       "      <td>1</td>\n",
       "      <td>-0.657357</td>\n",
       "      <td>-0.341490</td>\n",
       "      <td>1.582249</td>\n",
       "      <td>0.822394</td>\n",
       "      <td>1</td>\n",
       "      <td>1</td>\n",
       "      <td>1.269306</td>\n",
       "      <td>0</td>\n",
       "      <td>1</td>\n",
       "    </tr>\n",
       "  </tbody>\n",
       "</table>\n",
       "</div>"
      ],
      "text/plain": [
       "      credit_score gender       age    tenure   balance  num_products  \\\n",
       "1748      0.245413      0 -0.468049 -1.031145  1.219743     -0.914621   \n",
       "585       1.137341      1  1.141066 -1.031145  0.388347     -0.914621   \n",
       "661       0.452838      0  1.708989  1.037821  0.634943     -0.914621   \n",
       "3272      0.805461      1  1.898296 -0.341490 -1.230261     -0.914621   \n",
       "9069     -0.325006      1 -0.657357 -0.341490  1.582249      0.822394   \n",
       "\n",
       "     has_card active_member    salary geography_Germany geography_Spain  \n",
       "1748        1             0  1.320052                 1               0  \n",
       "585         0             0  1.387993                 0               0  \n",
       "661         1             1  0.310952                 0               1  \n",
       "3272        1             1  1.105313                 0               0  \n",
       "9069        1             1  1.269306                 0               1  "
      ]
     },
     "execution_count": 410,
     "metadata": {},
     "output_type": "execute_result"
    }
   ],
   "source": [
    "# числовые столбцы\n",
    "numeric = ['credit_score', 'age', 'tenure', 'balance', 'num_products', 'salary']\n",
    "# обучаем и маштабируем числовые признаки\n",
    "scaler = StandardScaler()\n",
    "scaler.fit(features_train[numeric]) \n",
    "features_train[numeric] = scaler.transform(features_train[numeric])\n",
    "features_test[numeric] = scaler.transform(features_test[numeric])\n",
    "pd.options.mode.chained_assignment = None\n",
    "\n",
    "features_train.head()"
   ]
  },
  {
   "cell_type": "markdown",
   "metadata": {},
   "source": [
    "Видим еще не родившихся людей, но зато можно приступать к обучению моделей"
   ]
  },
  {
   "cell_type": "markdown",
   "metadata": {},
   "source": [
    "## Обучение моделей\n",
    "\n",
    "#### Логическая регрессия\n",
    "Для поиска лучших гиперпарметров, будет использован алгоритм \"поиска по сетке\" (GridSearchCV) который сильно упрощает этот процесс.\n",
    "\n",
    "Для логистической регрессии сделаем перебор по двум основным гиперпараметрам:\n",
    "- **solver**: 'newton-cg', 'lbfgs', 'liblinear', 'sag', 'saga'\n",
    "- **max_iter**, от значения по умолчанию (100) до 1000, с шагом 100\n"
   ]
  },
  {
   "cell_type": "code",
   "execution_count": 411,
   "metadata": {},
   "outputs": [
    {
     "name": "stdout",
     "output_type": "stream",
     "text": [
      "Оптимальные гиперпараметры:\n",
      "{'max_iter': 100, 'solver': 'liblinear'}\n",
      "mean_test_f1         0.317321\n",
      "mean_test_roc_auc    0.765535\n",
      "Name: 2, dtype: float64\n"
     ]
    }
   ],
   "source": [
    "# !!! уменьшаю в коде число переборов, с сохранением оптимальных гиперпараментов в их границе, что бы съэкономить вам время,\n",
    "# при необходимости проверки: раскоментировать 3, 4 строки; закометнировать 5,6.\n",
    "#param_LR = {'solver': ['newton-cg', 'lbfgs', 'liblinear', 'sag', 'saga'],\n",
    "#          'max_iter': range (100, 1000, 100)}\n",
    "param_LR = {'solver': ['newton-cg', 'lbfgs', 'liblinear', 'sag', 'saga'],\n",
    "            'max_iter': range (100, 200, 100)}\n",
    "\n",
    "scoring = ['f1', 'roc_auc']\n",
    "\n",
    "model_LR = LogisticRegression(random_state=RS)\n",
    "\n",
    "grid_LR = GridSearchCV(estimator=model_LR,\n",
    "                       param_grid=param_LR,\n",
    "                       scoring=scoring,\n",
    "                       refit='f1',\n",
    "                       cv=4,\n",
    "                       n_jobs=-1)\n",
    "\n",
    "grid_LR.fit(features_train, target_train)\n",
    "# сохраяняем модель с наибольшим показателем F1-меры\n",
    "best_model_LR = grid_LR.best_estimator_\n",
    "\n",
    "metrics_columns = [f'mean_test_{x}' for x in scoring]\n",
    "final_metrics = pd.DataFrame(grid_LR.cv_results_)[metrics_columns].iloc[grid_LR.best_index_]\n",
    "# выводим гиперпараметры, F1-меру, ROC AUC\n",
    "print(f'Оптимальные гиперпараметры:\\n{grid_LR.best_params_}\\n{final_metrics}')"
   ]
  },
  {
   "cell_type": "markdown",
   "metadata": {},
   "source": [
    "__Вывод:__\n",
    "\n",
    "Модели построенные на алгориме логическая регрессия, не подходят для решения текущей задачи, максимальное значение F1-меры составляет 0.32, что ниже поставленной задачи в  0.59."
   ]
  },
  {
   "cell_type": "markdown",
   "metadata": {},
   "source": [
    "#### Дерево решений\n",
    "\n",
    "Для случайного леса сделаем перебор по следующим гиперпараметрам :\n",
    "- **max_depth**: от 2 до 50, с шагом 2\n",
    "- **min_samples_leaf**: 1, 3, 5, 7\n",
    "- **min_samples_split**: от 2 до 10, с шагом 2\n",
    "\n",
    "Автоматизируем перебор при помощи GridSearchCV, с кросс-валидацией."
   ]
  },
  {
   "cell_type": "code",
   "execution_count": 412,
   "metadata": {},
   "outputs": [
    {
     "name": "stdout",
     "output_type": "stream",
     "text": [
      "Оптимальные гиперпараметры:\n",
      "{'max_depth': 8, 'min_samples_leaf': 5, 'min_samples_split': 2}\n",
      "mean_test_f1         0.582071\n",
      "mean_test_roc_auc    0.828113\n",
      "Name: 56, dtype: float64\n"
     ]
    }
   ],
   "source": [
    "param_DT = {'max_depth': range (2, 50, 2),\n",
    "            'min_samples_leaf': [1, 3, 5, 7],\n",
    "            'min_samples_split': range(2, 10, 2)}\n",
    "\n",
    "scoring = ['f1', 'roc_auc']\n",
    "\n",
    "model_DT = DecisionTreeClassifier(random_state=RS)\n",
    "\n",
    "grid_DT = GridSearchCV(estimator=model_DT,\n",
    "                       param_grid=param_DT,\n",
    "                       scoring=scoring,\n",
    "                       refit='f1',\n",
    "                       cv=4,\n",
    "                       n_jobs=-1)\n",
    "\n",
    "grid_DT.fit(features_train, target_train)\n",
    "\n",
    "best_model_DT = grid_DT.best_estimator_\n",
    "\n",
    "metrics_columns = [f'mean_test_{x}' for x in scoring]\n",
    "final_metrics = pd.DataFrame(grid_DT.cv_results_)[metrics_columns].iloc[grid_DT.best_index_]\n",
    "# выводим гиперпараметры, F1-меру, ROC AUC\n",
    "print(f'Оптимальные гиперпараметры:\\n{grid_DT.best_params_}\\n{final_metrics}')"
   ]
  },
  {
   "cell_type": "markdown",
   "metadata": {},
   "source": [
    "__Вывод:__\n",
    "\n",
    "Модель построенная на алгориме Дерево решений с гиперпараметрами: \n",
    "- 'min_samples_split': 2, \n",
    "- 'min_samples_leaf': 5, \n",
    "- 'max_depth': 8\n",
    "\n",
    "значение F1-меры составляет 0.58, что ниже поставленной задачи."
   ]
  },
  {
   "cell_type": "markdown",
   "metadata": {},
   "source": [
    "#### Случайный лес\n",
    "\n",
    "Алгоритм случайного леса является ресурсозатратным, для поиска оптимальных гиперпараметров используем \"случайный поиск по сетке\" (RandomizedSearchCV)\n",
    "Для случайного леса сделаем перебор по следующим гиперпараметрам:\n",
    "- **n_estimators**: от 30 до 70, с шагом 10\n",
    "- **max_depth**: от 10 до 90, с шагом 10\n",
    "- **min_samples_leaf**: 1, 3, 5, 7\n",
    "- **min_samples_split**: от 2 до 10, с шагом 2\n",
    "- **max_features**: 'auto', 'sqrt'\n"
   ]
  },
  {
   "cell_type": "code",
   "execution_count": 413,
   "metadata": {},
   "outputs": [
    {
     "name": "stdout",
     "output_type": "stream",
     "text": [
      "Fitting 4 folds for each of 100 candidates, totalling 400 fits\n",
      "[CV] END max_depth=40, max_features=sqrt, min_samples_leaf=1, min_samples_split=2, n_estimators=60; total time=   0.4s\n",
      "[CV] END max_depth=40, max_features=sqrt, min_samples_leaf=1, min_samples_split=2, n_estimators=60; total time=   0.4s\n",
      "[CV] END max_depth=40, max_features=sqrt, min_samples_leaf=1, min_samples_split=2, n_estimators=60; total time=   0.4s\n",
      "[CV] END max_depth=40, max_features=sqrt, min_samples_leaf=1, min_samples_split=2, n_estimators=60; total time=   0.4s\n",
      "[CV] END max_depth=30, max_features=sqrt, min_samples_leaf=3, min_samples_split=2, n_estimators=40; total time=   0.3s\n",
      "[CV] END max_depth=30, max_features=sqrt, min_samples_leaf=3, min_samples_split=2, n_estimators=40; total time=   0.3s\n",
      "[CV] END max_depth=30, max_features=sqrt, min_samples_leaf=3, min_samples_split=2, n_estimators=40; total time=   0.3s\n",
      "[CV] END max_depth=30, max_features=sqrt, min_samples_leaf=3, min_samples_split=2, n_estimators=40; total time=   0.3s\n",
      "[CV] END max_depth=90, max_features=auto, min_samples_leaf=1, min_samples_split=2, n_estimators=60; total time=   0.4s\n",
      "[CV] END max_depth=90, max_features=auto, min_samples_leaf=1, min_samples_split=2, n_estimators=60; total time=   0.4s\n",
      "[CV] END max_depth=90, max_features=auto, min_samples_leaf=1, min_samples_split=2, n_estimators=60; total time=   0.4s\n",
      "[CV] END max_depth=90, max_features=auto, min_samples_leaf=1, min_samples_split=2, n_estimators=60; total time=   0.4s\n",
      "[CV] END max_depth=90, max_features=sqrt, min_samples_leaf=3, min_samples_split=2, n_estimators=40; total time=   0.3s\n",
      "[CV] END max_depth=90, max_features=sqrt, min_samples_leaf=3, min_samples_split=2, n_estimators=40; total time=   0.3s\n",
      "[CV] END max_depth=90, max_features=sqrt, min_samples_leaf=3, min_samples_split=2, n_estimators=40; total time=   0.3s\n",
      "[CV] END max_depth=90, max_features=sqrt, min_samples_leaf=3, min_samples_split=2, n_estimators=40; total time=   0.3s\n",
      "[CV] END max_depth=60, max_features=auto, min_samples_leaf=5, min_samples_split=2, n_estimators=50; total time=   0.3s\n",
      "[CV] END max_depth=60, max_features=auto, min_samples_leaf=5, min_samples_split=2, n_estimators=50; total time=   0.3s\n",
      "[CV] END max_depth=60, max_features=auto, min_samples_leaf=5, min_samples_split=2, n_estimators=50; total time=   0.3s\n",
      "[CV] END max_depth=60, max_features=auto, min_samples_leaf=5, min_samples_split=2, n_estimators=50; total time=   0.3s\n",
      "[CV] END max_depth=80, max_features=sqrt, min_samples_leaf=5, min_samples_split=8, n_estimators=40; total time=   0.2s\n",
      "[CV] END max_depth=80, max_features=sqrt, min_samples_leaf=5, min_samples_split=8, n_estimators=40; total time=   0.2s\n",
      "[CV] END max_depth=80, max_features=sqrt, min_samples_leaf=5, min_samples_split=8, n_estimators=40; total time=   0.2s\n",
      "[CV] END max_depth=80, max_features=sqrt, min_samples_leaf=5, min_samples_split=8, n_estimators=40; total time=   0.2s\n",
      "[CV] END max_depth=70, max_features=auto, min_samples_leaf=3, min_samples_split=2, n_estimators=30; total time=   0.2s\n",
      "[CV] END max_depth=70, max_features=auto, min_samples_leaf=3, min_samples_split=2, n_estimators=30; total time=   0.2s\n",
      "[CV] END max_depth=70, max_features=auto, min_samples_leaf=3, min_samples_split=2, n_estimators=30; total time=   0.2s\n",
      "[CV] END max_depth=70, max_features=auto, min_samples_leaf=3, min_samples_split=2, n_estimators=30; total time=   0.2s\n",
      "[CV] END max_depth=40, max_features=sqrt, min_samples_leaf=3, min_samples_split=4, n_estimators=30; total time=   0.2s\n",
      "[CV] END max_depth=40, max_features=sqrt, min_samples_leaf=3, min_samples_split=4, n_estimators=30; total time=   0.2s\n",
      "[CV] END max_depth=40, max_features=sqrt, min_samples_leaf=3, min_samples_split=4, n_estimators=30; total time=   0.2s\n",
      "[CV] END max_depth=40, max_features=sqrt, min_samples_leaf=3, min_samples_split=4, n_estimators=30; total time=   0.2s\n",
      "[CV] END max_depth=30, max_features=sqrt, min_samples_leaf=5, min_samples_split=4, n_estimators=60; total time=   0.4s\n",
      "[CV] END max_depth=30, max_features=sqrt, min_samples_leaf=5, min_samples_split=4, n_estimators=60; total time=   0.4s\n",
      "[CV] END max_depth=30, max_features=sqrt, min_samples_leaf=5, min_samples_split=4, n_estimators=60; total time=   0.4s\n",
      "[CV] END max_depth=30, max_features=sqrt, min_samples_leaf=5, min_samples_split=4, n_estimators=60; total time=   0.3s\n",
      "[CV] END max_depth=40, max_features=sqrt, min_samples_leaf=5, min_samples_split=8, n_estimators=40; total time=   0.2s\n",
      "[CV] END max_depth=40, max_features=sqrt, min_samples_leaf=5, min_samples_split=8, n_estimators=40; total time=   0.3s\n",
      "[CV] END max_depth=40, max_features=sqrt, min_samples_leaf=5, min_samples_split=8, n_estimators=40; total time=   0.3s\n",
      "[CV] END max_depth=40, max_features=sqrt, min_samples_leaf=5, min_samples_split=8, n_estimators=40; total time=   0.2s\n",
      "[CV] END max_depth=70, max_features=sqrt, min_samples_leaf=3, min_samples_split=2, n_estimators=30; total time=   0.2s\n",
      "[CV] END max_depth=70, max_features=sqrt, min_samples_leaf=3, min_samples_split=2, n_estimators=30; total time=   0.2s\n",
      "[CV] END max_depth=70, max_features=sqrt, min_samples_leaf=3, min_samples_split=2, n_estimators=30; total time=   0.2s\n",
      "[CV] END max_depth=70, max_features=sqrt, min_samples_leaf=3, min_samples_split=2, n_estimators=30; total time=   0.2s\n",
      "[CV] END max_depth=30, max_features=sqrt, min_samples_leaf=1, min_samples_split=4, n_estimators=60; total time=   0.4s\n",
      "[CV] END max_depth=30, max_features=sqrt, min_samples_leaf=1, min_samples_split=4, n_estimators=60; total time=   0.4s\n",
      "[CV] END max_depth=30, max_features=sqrt, min_samples_leaf=1, min_samples_split=4, n_estimators=60; total time=   0.4s\n",
      "[CV] END max_depth=30, max_features=sqrt, min_samples_leaf=1, min_samples_split=4, n_estimators=60; total time=   0.4s\n",
      "[CV] END max_depth=50, max_features=auto, min_samples_leaf=7, min_samples_split=2, n_estimators=30; total time=   0.2s\n",
      "[CV] END max_depth=50, max_features=auto, min_samples_leaf=7, min_samples_split=2, n_estimators=30; total time=   0.2s\n",
      "[CV] END max_depth=50, max_features=auto, min_samples_leaf=7, min_samples_split=2, n_estimators=30; total time=   0.2s\n",
      "[CV] END max_depth=50, max_features=auto, min_samples_leaf=7, min_samples_split=2, n_estimators=30; total time=   0.2s\n",
      "[CV] END max_depth=60, max_features=auto, min_samples_leaf=1, min_samples_split=2, n_estimators=40; total time=   0.3s\n",
      "[CV] END max_depth=60, max_features=auto, min_samples_leaf=1, min_samples_split=2, n_estimators=40; total time=   0.3s\n",
      "[CV] END max_depth=60, max_features=auto, min_samples_leaf=1, min_samples_split=2, n_estimators=40; total time=   0.3s\n",
      "[CV] END max_depth=60, max_features=auto, min_samples_leaf=1, min_samples_split=2, n_estimators=40; total time=   0.3s\n",
      "[CV] END max_depth=90, max_features=sqrt, min_samples_leaf=7, min_samples_split=4, n_estimators=70; total time=   0.4s\n",
      "[CV] END max_depth=90, max_features=sqrt, min_samples_leaf=7, min_samples_split=4, n_estimators=70; total time=   0.4s\n",
      "[CV] END max_depth=90, max_features=sqrt, min_samples_leaf=7, min_samples_split=4, n_estimators=70; total time=   0.4s\n",
      "[CV] END max_depth=90, max_features=sqrt, min_samples_leaf=7, min_samples_split=4, n_estimators=70; total time=   0.4s\n",
      "[CV] END max_depth=60, max_features=sqrt, min_samples_leaf=7, min_samples_split=2, n_estimators=30; total time=   0.2s\n",
      "[CV] END max_depth=60, max_features=sqrt, min_samples_leaf=7, min_samples_split=2, n_estimators=30; total time=   0.2s\n",
      "[CV] END max_depth=60, max_features=sqrt, min_samples_leaf=7, min_samples_split=2, n_estimators=30; total time=   0.2s\n",
      "[CV] END max_depth=60, max_features=sqrt, min_samples_leaf=7, min_samples_split=2, n_estimators=30; total time=   0.2s\n",
      "[CV] END max_depth=50, max_features=sqrt, min_samples_leaf=3, min_samples_split=6, n_estimators=50; total time=   0.3s\n",
      "[CV] END max_depth=50, max_features=sqrt, min_samples_leaf=3, min_samples_split=6, n_estimators=50; total time=   0.3s\n",
      "[CV] END max_depth=50, max_features=sqrt, min_samples_leaf=3, min_samples_split=6, n_estimators=50; total time=   0.3s\n",
      "[CV] END max_depth=50, max_features=sqrt, min_samples_leaf=3, min_samples_split=6, n_estimators=50; total time=   0.3s\n",
      "[CV] END max_depth=30, max_features=auto, min_samples_leaf=5, min_samples_split=2, n_estimators=70; total time=   0.4s\n",
      "[CV] END max_depth=30, max_features=auto, min_samples_leaf=5, min_samples_split=2, n_estimators=70; total time=   0.4s\n",
      "[CV] END max_depth=30, max_features=auto, min_samples_leaf=5, min_samples_split=2, n_estimators=70; total time=   0.4s\n",
      "[CV] END max_depth=30, max_features=auto, min_samples_leaf=5, min_samples_split=2, n_estimators=70; total time=   0.4s\n",
      "[CV] END max_depth=70, max_features=auto, min_samples_leaf=3, min_samples_split=8, n_estimators=70; total time=   0.5s\n",
      "[CV] END max_depth=70, max_features=auto, min_samples_leaf=3, min_samples_split=8, n_estimators=70; total time=   0.5s\n",
      "[CV] END max_depth=70, max_features=auto, min_samples_leaf=3, min_samples_split=8, n_estimators=70; total time=   0.5s\n",
      "[CV] END max_depth=70, max_features=auto, min_samples_leaf=3, min_samples_split=8, n_estimators=70; total time=   0.5s\n",
      "[CV] END max_depth=70, max_features=sqrt, min_samples_leaf=5, min_samples_split=2, n_estimators=40; total time=   0.2s\n",
      "[CV] END max_depth=70, max_features=sqrt, min_samples_leaf=5, min_samples_split=2, n_estimators=40; total time=   0.2s\n",
      "[CV] END max_depth=70, max_features=sqrt, min_samples_leaf=5, min_samples_split=2, n_estimators=40; total time=   0.3s\n",
      "[CV] END max_depth=70, max_features=sqrt, min_samples_leaf=5, min_samples_split=2, n_estimators=40; total time=   0.3s\n",
      "[CV] END max_depth=30, max_features=sqrt, min_samples_leaf=3, min_samples_split=4, n_estimators=70; total time=   0.5s\n",
      "[CV] END max_depth=30, max_features=sqrt, min_samples_leaf=3, min_samples_split=4, n_estimators=70; total time=   0.5s\n",
      "[CV] END max_depth=30, max_features=sqrt, min_samples_leaf=3, min_samples_split=4, n_estimators=70; total time=   0.5s\n",
      "[CV] END max_depth=30, max_features=sqrt, min_samples_leaf=3, min_samples_split=4, n_estimators=70; total time=   0.5s\n",
      "[CV] END max_depth=30, max_features=sqrt, min_samples_leaf=3, min_samples_split=6, n_estimators=60; total time=   0.4s\n",
      "[CV] END max_depth=30, max_features=sqrt, min_samples_leaf=3, min_samples_split=6, n_estimators=60; total time=   0.4s\n",
      "[CV] END max_depth=30, max_features=sqrt, min_samples_leaf=3, min_samples_split=6, n_estimators=60; total time=   0.4s\n",
      "[CV] END max_depth=30, max_features=sqrt, min_samples_leaf=3, min_samples_split=6, n_estimators=60; total time=   0.4s\n",
      "[CV] END max_depth=50, max_features=auto, min_samples_leaf=3, min_samples_split=6, n_estimators=40; total time=   0.3s\n",
      "[CV] END max_depth=50, max_features=auto, min_samples_leaf=3, min_samples_split=6, n_estimators=40; total time=   0.3s\n",
      "[CV] END max_depth=50, max_features=auto, min_samples_leaf=3, min_samples_split=6, n_estimators=40; total time=   0.3s\n",
      "[CV] END max_depth=50, max_features=auto, min_samples_leaf=3, min_samples_split=6, n_estimators=40; total time=   0.2s\n",
      "[CV] END max_depth=30, max_features=auto, min_samples_leaf=5, min_samples_split=8, n_estimators=40; total time=   0.3s\n",
      "[CV] END max_depth=30, max_features=auto, min_samples_leaf=5, min_samples_split=8, n_estimators=40; total time=   0.3s\n",
      "[CV] END max_depth=30, max_features=auto, min_samples_leaf=5, min_samples_split=8, n_estimators=40; total time=   0.2s\n",
      "[CV] END max_depth=30, max_features=auto, min_samples_leaf=5, min_samples_split=8, n_estimators=40; total time=   0.3s\n",
      "[CV] END max_depth=90, max_features=sqrt, min_samples_leaf=3, min_samples_split=6, n_estimators=40; total time=   0.3s\n",
      "[CV] END max_depth=90, max_features=sqrt, min_samples_leaf=3, min_samples_split=6, n_estimators=40; total time=   0.3s\n",
      "[CV] END max_depth=90, max_features=sqrt, min_samples_leaf=3, min_samples_split=6, n_estimators=40; total time=   0.3s\n",
      "[CV] END max_depth=90, max_features=sqrt, min_samples_leaf=3, min_samples_split=6, n_estimators=40; total time=   0.3s\n",
      "[CV] END max_depth=50, max_features=sqrt, min_samples_leaf=3, min_samples_split=4, n_estimators=30; total time=   0.2s\n",
      "[CV] END max_depth=50, max_features=sqrt, min_samples_leaf=3, min_samples_split=4, n_estimators=30; total time=   0.2s\n",
      "[CV] END max_depth=50, max_features=sqrt, min_samples_leaf=3, min_samples_split=4, n_estimators=30; total time=   0.2s\n",
      "[CV] END max_depth=50, max_features=sqrt, min_samples_leaf=3, min_samples_split=4, n_estimators=30; total time=   0.2s\n",
      "[CV] END max_depth=60, max_features=auto, min_samples_leaf=5, min_samples_split=6, n_estimators=60; total time=   0.4s\n",
      "[CV] END max_depth=60, max_features=auto, min_samples_leaf=5, min_samples_split=6, n_estimators=60; total time=   0.4s\n",
      "[CV] END max_depth=60, max_features=auto, min_samples_leaf=5, min_samples_split=6, n_estimators=60; total time=   0.4s\n",
      "[CV] END max_depth=60, max_features=auto, min_samples_leaf=5, min_samples_split=6, n_estimators=60; total time=   0.4s\n",
      "[CV] END max_depth=70, max_features=auto, min_samples_leaf=3, min_samples_split=8, n_estimators=60; total time=   0.4s\n",
      "[CV] END max_depth=70, max_features=auto, min_samples_leaf=3, min_samples_split=8, n_estimators=60; total time=   0.4s\n",
      "[CV] END max_depth=70, max_features=auto, min_samples_leaf=3, min_samples_split=8, n_estimators=60; total time=   0.4s\n",
      "[CV] END max_depth=70, max_features=auto, min_samples_leaf=3, min_samples_split=8, n_estimators=60; total time=   0.4s\n",
      "[CV] END max_depth=80, max_features=auto, min_samples_leaf=1, min_samples_split=6, n_estimators=60; total time=   0.4s\n",
      "[CV] END max_depth=80, max_features=auto, min_samples_leaf=1, min_samples_split=6, n_estimators=60; total time=   0.4s\n",
      "[CV] END max_depth=80, max_features=auto, min_samples_leaf=1, min_samples_split=6, n_estimators=60; total time=   0.4s\n",
      "[CV] END max_depth=80, max_features=auto, min_samples_leaf=1, min_samples_split=6, n_estimators=60; total time=   0.4s\n",
      "[CV] END max_depth=30, max_features=sqrt, min_samples_leaf=7, min_samples_split=8, n_estimators=60; total time=   0.3s\n",
      "[CV] END max_depth=30, max_features=sqrt, min_samples_leaf=7, min_samples_split=8, n_estimators=60; total time=   0.3s\n",
      "[CV] END max_depth=30, max_features=sqrt, min_samples_leaf=7, min_samples_split=8, n_estimators=60; total time=   0.4s\n",
      "[CV] END max_depth=30, max_features=sqrt, min_samples_leaf=7, min_samples_split=8, n_estimators=60; total time=   0.3s\n",
      "[CV] END max_depth=60, max_features=auto, min_samples_leaf=5, min_samples_split=2, n_estimators=60; total time=   0.4s\n",
      "[CV] END max_depth=60, max_features=auto, min_samples_leaf=5, min_samples_split=2, n_estimators=60; total time=   0.4s\n",
      "[CV] END max_depth=60, max_features=auto, min_samples_leaf=5, min_samples_split=2, n_estimators=60; total time=   0.4s\n",
      "[CV] END max_depth=60, max_features=auto, min_samples_leaf=5, min_samples_split=2, n_estimators=60; total time=   0.4s\n",
      "[CV] END max_depth=50, max_features=auto, min_samples_leaf=5, min_samples_split=2, n_estimators=40; total time=   0.3s\n",
      "[CV] END max_depth=50, max_features=auto, min_samples_leaf=5, min_samples_split=2, n_estimators=40; total time=   0.3s\n",
      "[CV] END max_depth=50, max_features=auto, min_samples_leaf=5, min_samples_split=2, n_estimators=40; total time=   0.2s\n",
      "[CV] END max_depth=50, max_features=auto, min_samples_leaf=5, min_samples_split=2, n_estimators=40; total time=   0.2s\n",
      "[CV] END max_depth=70, max_features=sqrt, min_samples_leaf=1, min_samples_split=4, n_estimators=40; total time=   0.3s\n",
      "[CV] END max_depth=70, max_features=sqrt, min_samples_leaf=1, min_samples_split=4, n_estimators=40; total time=   0.3s\n",
      "[CV] END max_depth=70, max_features=sqrt, min_samples_leaf=1, min_samples_split=4, n_estimators=40; total time=   0.3s\n",
      "[CV] END max_depth=70, max_features=sqrt, min_samples_leaf=1, min_samples_split=4, n_estimators=40; total time=   0.3s\n",
      "[CV] END max_depth=60, max_features=sqrt, min_samples_leaf=5, min_samples_split=8, n_estimators=50; total time=   0.3s\n",
      "[CV] END max_depth=60, max_features=sqrt, min_samples_leaf=5, min_samples_split=8, n_estimators=50; total time=   0.3s\n",
      "[CV] END max_depth=60, max_features=sqrt, min_samples_leaf=5, min_samples_split=8, n_estimators=50; total time=   0.3s\n",
      "[CV] END max_depth=60, max_features=sqrt, min_samples_leaf=5, min_samples_split=8, n_estimators=50; total time=   0.3s\n",
      "[CV] END max_depth=50, max_features=auto, min_samples_leaf=1, min_samples_split=4, n_estimators=60; total time=   0.4s\n",
      "[CV] END max_depth=50, max_features=auto, min_samples_leaf=1, min_samples_split=4, n_estimators=60; total time=   0.4s\n",
      "[CV] END max_depth=50, max_features=auto, min_samples_leaf=1, min_samples_split=4, n_estimators=60; total time=   0.4s\n",
      "[CV] END max_depth=50, max_features=auto, min_samples_leaf=1, min_samples_split=4, n_estimators=60; total time=   0.4s\n",
      "[CV] END max_depth=30, max_features=sqrt, min_samples_leaf=1, min_samples_split=4, n_estimators=40; total time=   0.3s\n",
      "[CV] END max_depth=30, max_features=sqrt, min_samples_leaf=1, min_samples_split=4, n_estimators=40; total time=   0.3s\n",
      "[CV] END max_depth=30, max_features=sqrt, min_samples_leaf=1, min_samples_split=4, n_estimators=40; total time=   0.3s\n",
      "[CV] END max_depth=30, max_features=sqrt, min_samples_leaf=1, min_samples_split=4, n_estimators=40; total time=   0.3s\n",
      "[CV] END max_depth=90, max_features=auto, min_samples_leaf=7, min_samples_split=4, n_estimators=70; total time=   0.5s\n",
      "[CV] END max_depth=90, max_features=auto, min_samples_leaf=7, min_samples_split=4, n_estimators=70; total time=   0.4s\n",
      "[CV] END max_depth=90, max_features=auto, min_samples_leaf=7, min_samples_split=4, n_estimators=70; total time=   0.4s\n",
      "[CV] END max_depth=90, max_features=auto, min_samples_leaf=7, min_samples_split=4, n_estimators=70; total time=   0.4s\n",
      "[CV] END max_depth=80, max_features=auto, min_samples_leaf=5, min_samples_split=4, n_estimators=60; total time=   0.4s\n",
      "[CV] END max_depth=80, max_features=auto, min_samples_leaf=5, min_samples_split=4, n_estimators=60; total time=   0.4s\n",
      "[CV] END max_depth=80, max_features=auto, min_samples_leaf=5, min_samples_split=4, n_estimators=60; total time=   0.4s\n",
      "[CV] END max_depth=80, max_features=auto, min_samples_leaf=5, min_samples_split=4, n_estimators=60; total time=   0.4s\n",
      "[CV] END max_depth=90, max_features=auto, min_samples_leaf=3, min_samples_split=8, n_estimators=50; total time=   0.3s\n",
      "[CV] END max_depth=90, max_features=auto, min_samples_leaf=3, min_samples_split=8, n_estimators=50; total time=   0.3s\n",
      "[CV] END max_depth=90, max_features=auto, min_samples_leaf=3, min_samples_split=8, n_estimators=50; total time=   0.3s\n",
      "[CV] END max_depth=90, max_features=auto, min_samples_leaf=3, min_samples_split=8, n_estimators=50; total time=   0.3s\n",
      "[CV] END max_depth=50, max_features=sqrt, min_samples_leaf=3, min_samples_split=2, n_estimators=60; total time=   0.4s\n",
      "[CV] END max_depth=50, max_features=sqrt, min_samples_leaf=3, min_samples_split=2, n_estimators=60; total time=   0.4s\n",
      "[CV] END max_depth=50, max_features=sqrt, min_samples_leaf=3, min_samples_split=2, n_estimators=60; total time=   0.4s\n",
      "[CV] END max_depth=50, max_features=sqrt, min_samples_leaf=3, min_samples_split=2, n_estimators=60; total time=   0.4s\n",
      "[CV] END max_depth=50, max_features=sqrt, min_samples_leaf=5, min_samples_split=4, n_estimators=50; total time=   0.3s\n",
      "[CV] END max_depth=50, max_features=sqrt, min_samples_leaf=5, min_samples_split=4, n_estimators=50; total time=   0.3s\n",
      "[CV] END max_depth=50, max_features=sqrt, min_samples_leaf=5, min_samples_split=4, n_estimators=50; total time=   0.3s\n",
      "[CV] END max_depth=50, max_features=sqrt, min_samples_leaf=5, min_samples_split=4, n_estimators=50; total time=   0.3s\n",
      "[CV] END max_depth=50, max_features=auto, min_samples_leaf=7, min_samples_split=6, n_estimators=30; total time=   0.2s\n",
      "[CV] END max_depth=50, max_features=auto, min_samples_leaf=7, min_samples_split=6, n_estimators=30; total time=   0.2s\n",
      "[CV] END max_depth=50, max_features=auto, min_samples_leaf=7, min_samples_split=6, n_estimators=30; total time=   0.2s\n",
      "[CV] END max_depth=50, max_features=auto, min_samples_leaf=7, min_samples_split=6, n_estimators=30; total time=   0.2s\n",
      "[CV] END max_depth=90, max_features=sqrt, min_samples_leaf=7, min_samples_split=6, n_estimators=60; total time=   0.3s\n",
      "[CV] END max_depth=90, max_features=sqrt, min_samples_leaf=7, min_samples_split=6, n_estimators=60; total time=   0.3s\n",
      "[CV] END max_depth=90, max_features=sqrt, min_samples_leaf=7, min_samples_split=6, n_estimators=60; total time=   0.3s\n",
      "[CV] END max_depth=90, max_features=sqrt, min_samples_leaf=7, min_samples_split=6, n_estimators=60; total time=   0.3s\n",
      "[CV] END max_depth=50, max_features=sqrt, min_samples_leaf=7, min_samples_split=8, n_estimators=70; total time=   0.4s\n",
      "[CV] END max_depth=50, max_features=sqrt, min_samples_leaf=7, min_samples_split=8, n_estimators=70; total time=   0.4s\n",
      "[CV] END max_depth=50, max_features=sqrt, min_samples_leaf=7, min_samples_split=8, n_estimators=70; total time=   0.4s\n",
      "[CV] END max_depth=50, max_features=sqrt, min_samples_leaf=7, min_samples_split=8, n_estimators=70; total time=   0.4s\n",
      "[CV] END max_depth=70, max_features=auto, min_samples_leaf=7, min_samples_split=4, n_estimators=40; total time=   0.2s\n",
      "[CV] END max_depth=70, max_features=auto, min_samples_leaf=7, min_samples_split=4, n_estimators=40; total time=   0.2s\n",
      "[CV] END max_depth=70, max_features=auto, min_samples_leaf=7, min_samples_split=4, n_estimators=40; total time=   0.2s\n",
      "[CV] END max_depth=70, max_features=auto, min_samples_leaf=7, min_samples_split=4, n_estimators=40; total time=   0.2s\n",
      "[CV] END max_depth=70, max_features=sqrt, min_samples_leaf=1, min_samples_split=6, n_estimators=30; total time=   0.2s\n",
      "[CV] END max_depth=70, max_features=sqrt, min_samples_leaf=1, min_samples_split=6, n_estimators=30; total time=   0.2s\n",
      "[CV] END max_depth=70, max_features=sqrt, min_samples_leaf=1, min_samples_split=6, n_estimators=30; total time=   0.2s\n",
      "[CV] END max_depth=70, max_features=sqrt, min_samples_leaf=1, min_samples_split=6, n_estimators=30; total time=   0.2s\n",
      "[CV] END max_depth=90, max_features=auto, min_samples_leaf=3, min_samples_split=6, n_estimators=40; total time=   0.3s\n",
      "[CV] END max_depth=90, max_features=auto, min_samples_leaf=3, min_samples_split=6, n_estimators=40; total time=   0.2s\n",
      "[CV] END max_depth=90, max_features=auto, min_samples_leaf=3, min_samples_split=6, n_estimators=40; total time=   0.3s\n",
      "[CV] END max_depth=90, max_features=auto, min_samples_leaf=3, min_samples_split=6, n_estimators=40; total time=   0.3s\n",
      "[CV] END max_depth=70, max_features=sqrt, min_samples_leaf=7, min_samples_split=4, n_estimators=30; total time=   0.2s\n",
      "[CV] END max_depth=70, max_features=sqrt, min_samples_leaf=7, min_samples_split=4, n_estimators=30; total time=   0.2s\n",
      "[CV] END max_depth=70, max_features=sqrt, min_samples_leaf=7, min_samples_split=4, n_estimators=30; total time=   0.2s\n",
      "[CV] END max_depth=70, max_features=sqrt, min_samples_leaf=7, min_samples_split=4, n_estimators=30; total time=   0.2s\n",
      "[CV] END max_depth=30, max_features=sqrt, min_samples_leaf=1, min_samples_split=8, n_estimators=40; total time=   0.3s\n",
      "[CV] END max_depth=30, max_features=sqrt, min_samples_leaf=1, min_samples_split=8, n_estimators=40; total time=   0.3s\n",
      "[CV] END max_depth=30, max_features=sqrt, min_samples_leaf=1, min_samples_split=8, n_estimators=40; total time=   0.3s\n",
      "[CV] END max_depth=30, max_features=sqrt, min_samples_leaf=1, min_samples_split=8, n_estimators=40; total time=   0.3s\n",
      "[CV] END max_depth=70, max_features=auto, min_samples_leaf=3, min_samples_split=4, n_estimators=50; total time=   0.3s\n",
      "[CV] END max_depth=70, max_features=auto, min_samples_leaf=3, min_samples_split=4, n_estimators=50; total time=   0.3s\n",
      "[CV] END max_depth=70, max_features=auto, min_samples_leaf=3, min_samples_split=4, n_estimators=50; total time=   0.3s\n",
      "[CV] END max_depth=70, max_features=auto, min_samples_leaf=3, min_samples_split=4, n_estimators=50; total time=   0.3s\n",
      "[CV] END max_depth=80, max_features=auto, min_samples_leaf=1, min_samples_split=6, n_estimators=50; total time=   0.3s\n",
      "[CV] END max_depth=80, max_features=auto, min_samples_leaf=1, min_samples_split=6, n_estimators=50; total time=   0.3s\n",
      "[CV] END max_depth=80, max_features=auto, min_samples_leaf=1, min_samples_split=6, n_estimators=50; total time=   0.3s\n",
      "[CV] END max_depth=80, max_features=auto, min_samples_leaf=1, min_samples_split=6, n_estimators=50; total time=   0.3s\n",
      "[CV] END max_depth=60, max_features=auto, min_samples_leaf=5, min_samples_split=6, n_estimators=40; total time=   0.2s\n",
      "[CV] END max_depth=60, max_features=auto, min_samples_leaf=5, min_samples_split=6, n_estimators=40; total time=   0.3s\n",
      "[CV] END max_depth=60, max_features=auto, min_samples_leaf=5, min_samples_split=6, n_estimators=40; total time=   0.2s\n",
      "[CV] END max_depth=60, max_features=auto, min_samples_leaf=5, min_samples_split=6, n_estimators=40; total time=   0.2s\n",
      "[CV] END max_depth=90, max_features=sqrt, min_samples_leaf=1, min_samples_split=6, n_estimators=70; total time=   0.5s\n",
      "[CV] END max_depth=90, max_features=sqrt, min_samples_leaf=1, min_samples_split=6, n_estimators=70; total time=   0.5s\n",
      "[CV] END max_depth=90, max_features=sqrt, min_samples_leaf=1, min_samples_split=6, n_estimators=70; total time=   0.4s\n",
      "[CV] END max_depth=90, max_features=sqrt, min_samples_leaf=1, min_samples_split=6, n_estimators=70; total time=   0.4s\n",
      "[CV] END max_depth=50, max_features=auto, min_samples_leaf=1, min_samples_split=2, n_estimators=40; total time=   0.3s\n",
      "[CV] END max_depth=50, max_features=auto, min_samples_leaf=1, min_samples_split=2, n_estimators=40; total time=   0.3s\n",
      "[CV] END max_depth=50, max_features=auto, min_samples_leaf=1, min_samples_split=2, n_estimators=40; total time=   0.3s\n",
      "[CV] END max_depth=50, max_features=auto, min_samples_leaf=1, min_samples_split=2, n_estimators=40; total time=   0.3s\n",
      "[CV] END max_depth=30, max_features=auto, min_samples_leaf=5, min_samples_split=6, n_estimators=40; total time=   0.2s\n",
      "[CV] END max_depth=30, max_features=auto, min_samples_leaf=5, min_samples_split=6, n_estimators=40; total time=   0.2s\n",
      "[CV] END max_depth=30, max_features=auto, min_samples_leaf=5, min_samples_split=6, n_estimators=40; total time=   0.3s\n",
      "[CV] END max_depth=30, max_features=auto, min_samples_leaf=5, min_samples_split=6, n_estimators=40; total time=   0.2s\n",
      "[CV] END max_depth=40, max_features=sqrt, min_samples_leaf=7, min_samples_split=8, n_estimators=60; total time=   0.3s\n",
      "[CV] END max_depth=40, max_features=sqrt, min_samples_leaf=7, min_samples_split=8, n_estimators=60; total time=   0.4s\n",
      "[CV] END max_depth=40, max_features=sqrt, min_samples_leaf=7, min_samples_split=8, n_estimators=60; total time=   0.4s\n",
      "[CV] END max_depth=40, max_features=sqrt, min_samples_leaf=7, min_samples_split=8, n_estimators=60; total time=   0.3s\n",
      "[CV] END max_depth=40, max_features=sqrt, min_samples_leaf=7, min_samples_split=4, n_estimators=60; total time=   0.3s\n",
      "[CV] END max_depth=40, max_features=sqrt, min_samples_leaf=7, min_samples_split=4, n_estimators=60; total time=   0.4s\n",
      "[CV] END max_depth=40, max_features=sqrt, min_samples_leaf=7, min_samples_split=4, n_estimators=60; total time=   0.3s\n",
      "[CV] END max_depth=40, max_features=sqrt, min_samples_leaf=7, min_samples_split=4, n_estimators=60; total time=   0.4s\n",
      "[CV] END max_depth=30, max_features=auto, min_samples_leaf=7, min_samples_split=6, n_estimators=30; total time=   0.2s\n",
      "[CV] END max_depth=30, max_features=auto, min_samples_leaf=7, min_samples_split=6, n_estimators=30; total time=   0.2s\n",
      "[CV] END max_depth=30, max_features=auto, min_samples_leaf=7, min_samples_split=6, n_estimators=30; total time=   0.2s\n",
      "[CV] END max_depth=30, max_features=auto, min_samples_leaf=7, min_samples_split=6, n_estimators=30; total time=   0.2s\n",
      "[CV] END max_depth=80, max_features=auto, min_samples_leaf=7, min_samples_split=6, n_estimators=60; total time=   0.3s\n",
      "[CV] END max_depth=80, max_features=auto, min_samples_leaf=7, min_samples_split=6, n_estimators=60; total time=   0.4s\n",
      "[CV] END max_depth=80, max_features=auto, min_samples_leaf=7, min_samples_split=6, n_estimators=60; total time=   0.4s\n",
      "[CV] END max_depth=80, max_features=auto, min_samples_leaf=7, min_samples_split=6, n_estimators=60; total time=   0.3s\n",
      "[CV] END max_depth=90, max_features=sqrt, min_samples_leaf=7, min_samples_split=6, n_estimators=30; total time=   0.2s\n",
      "[CV] END max_depth=90, max_features=sqrt, min_samples_leaf=7, min_samples_split=6, n_estimators=30; total time=   0.2s\n",
      "[CV] END max_depth=90, max_features=sqrt, min_samples_leaf=7, min_samples_split=6, n_estimators=30; total time=   0.2s\n",
      "[CV] END max_depth=90, max_features=sqrt, min_samples_leaf=7, min_samples_split=6, n_estimators=30; total time=   0.2s\n",
      "[CV] END max_depth=60, max_features=auto, min_samples_leaf=7, min_samples_split=4, n_estimators=60; total time=   0.4s\n",
      "[CV] END max_depth=60, max_features=auto, min_samples_leaf=7, min_samples_split=4, n_estimators=60; total time=   0.3s\n",
      "[CV] END max_depth=60, max_features=auto, min_samples_leaf=7, min_samples_split=4, n_estimators=60; total time=   0.4s\n",
      "[CV] END max_depth=60, max_features=auto, min_samples_leaf=7, min_samples_split=4, n_estimators=60; total time=   0.4s\n",
      "[CV] END max_depth=40, max_features=auto, min_samples_leaf=3, min_samples_split=8, n_estimators=70; total time=   0.4s\n",
      "[CV] END max_depth=40, max_features=auto, min_samples_leaf=3, min_samples_split=8, n_estimators=70; total time=   0.4s\n",
      "[CV] END max_depth=40, max_features=auto, min_samples_leaf=3, min_samples_split=8, n_estimators=70; total time=   0.4s\n",
      "[CV] END max_depth=40, max_features=auto, min_samples_leaf=3, min_samples_split=8, n_estimators=70; total time=   0.4s\n",
      "[CV] END max_depth=90, max_features=sqrt, min_samples_leaf=7, min_samples_split=2, n_estimators=40; total time=   0.2s\n",
      "[CV] END max_depth=90, max_features=sqrt, min_samples_leaf=7, min_samples_split=2, n_estimators=40; total time=   0.2s\n",
      "[CV] END max_depth=90, max_features=sqrt, min_samples_leaf=7, min_samples_split=2, n_estimators=40; total time=   0.2s\n",
      "[CV] END max_depth=90, max_features=sqrt, min_samples_leaf=7, min_samples_split=2, n_estimators=40; total time=   0.3s\n",
      "[CV] END max_depth=40, max_features=auto, min_samples_leaf=1, min_samples_split=6, n_estimators=70; total time=   0.5s\n",
      "[CV] END max_depth=40, max_features=auto, min_samples_leaf=1, min_samples_split=6, n_estimators=70; total time=   0.5s\n",
      "[CV] END max_depth=40, max_features=auto, min_samples_leaf=1, min_samples_split=6, n_estimators=70; total time=   0.4s\n",
      "[CV] END max_depth=40, max_features=auto, min_samples_leaf=1, min_samples_split=6, n_estimators=70; total time=   0.5s\n",
      "[CV] END max_depth=60, max_features=auto, min_samples_leaf=7, min_samples_split=2, n_estimators=50; total time=   0.3s\n",
      "[CV] END max_depth=60, max_features=auto, min_samples_leaf=7, min_samples_split=2, n_estimators=50; total time=   0.3s\n",
      "[CV] END max_depth=60, max_features=auto, min_samples_leaf=7, min_samples_split=2, n_estimators=50; total time=   0.3s\n",
      "[CV] END max_depth=60, max_features=auto, min_samples_leaf=7, min_samples_split=2, n_estimators=50; total time=   0.3s\n",
      "[CV] END max_depth=40, max_features=sqrt, min_samples_leaf=7, min_samples_split=4, n_estimators=70; total time=   0.4s\n",
      "[CV] END max_depth=40, max_features=sqrt, min_samples_leaf=7, min_samples_split=4, n_estimators=70; total time=   0.4s\n",
      "[CV] END max_depth=40, max_features=sqrt, min_samples_leaf=7, min_samples_split=4, n_estimators=70; total time=   0.4s\n",
      "[CV] END max_depth=40, max_features=sqrt, min_samples_leaf=7, min_samples_split=4, n_estimators=70; total time=   0.4s\n",
      "[CV] END max_depth=70, max_features=auto, min_samples_leaf=1, min_samples_split=2, n_estimators=70; total time=   0.5s\n",
      "[CV] END max_depth=70, max_features=auto, min_samples_leaf=1, min_samples_split=2, n_estimators=70; total time=   0.5s\n",
      "[CV] END max_depth=70, max_features=auto, min_samples_leaf=1, min_samples_split=2, n_estimators=70; total time=   0.5s\n",
      "[CV] END max_depth=70, max_features=auto, min_samples_leaf=1, min_samples_split=2, n_estimators=70; total time=   0.5s\n",
      "[CV] END max_depth=80, max_features=sqrt, min_samples_leaf=1, min_samples_split=2, n_estimators=40; total time=   0.3s\n",
      "[CV] END max_depth=80, max_features=sqrt, min_samples_leaf=1, min_samples_split=2, n_estimators=40; total time=   0.3s\n",
      "[CV] END max_depth=80, max_features=sqrt, min_samples_leaf=1, min_samples_split=2, n_estimators=40; total time=   0.3s\n",
      "[CV] END max_depth=80, max_features=sqrt, min_samples_leaf=1, min_samples_split=2, n_estimators=40; total time=   0.3s\n",
      "[CV] END max_depth=50, max_features=auto, min_samples_leaf=1, min_samples_split=6, n_estimators=40; total time=   0.3s\n",
      "[CV] END max_depth=50, max_features=auto, min_samples_leaf=1, min_samples_split=6, n_estimators=40; total time=   0.3s\n",
      "[CV] END max_depth=50, max_features=auto, min_samples_leaf=1, min_samples_split=6, n_estimators=40; total time=   0.3s\n",
      "[CV] END max_depth=50, max_features=auto, min_samples_leaf=1, min_samples_split=6, n_estimators=40; total time=   0.3s\n",
      "[CV] END max_depth=80, max_features=auto, min_samples_leaf=7, min_samples_split=4, n_estimators=30; total time=   0.2s\n",
      "[CV] END max_depth=80, max_features=auto, min_samples_leaf=7, min_samples_split=4, n_estimators=30; total time=   0.2s\n",
      "[CV] END max_depth=80, max_features=auto, min_samples_leaf=7, min_samples_split=4, n_estimators=30; total time=   0.2s\n",
      "[CV] END max_depth=80, max_features=auto, min_samples_leaf=7, min_samples_split=4, n_estimators=30; total time=   0.2s\n",
      "[CV] END max_depth=80, max_features=auto, min_samples_leaf=5, min_samples_split=6, n_estimators=30; total time=   0.2s\n",
      "[CV] END max_depth=80, max_features=auto, min_samples_leaf=5, min_samples_split=6, n_estimators=30; total time=   0.2s\n",
      "[CV] END max_depth=80, max_features=auto, min_samples_leaf=5, min_samples_split=6, n_estimators=30; total time=   0.2s\n",
      "[CV] END max_depth=80, max_features=auto, min_samples_leaf=5, min_samples_split=6, n_estimators=30; total time=   0.2s\n",
      "[CV] END max_depth=50, max_features=auto, min_samples_leaf=5, min_samples_split=6, n_estimators=40; total time=   0.3s\n",
      "[CV] END max_depth=50, max_features=auto, min_samples_leaf=5, min_samples_split=6, n_estimators=40; total time=   0.3s\n",
      "[CV] END max_depth=50, max_features=auto, min_samples_leaf=5, min_samples_split=6, n_estimators=40; total time=   0.3s\n",
      "[CV] END max_depth=50, max_features=auto, min_samples_leaf=5, min_samples_split=6, n_estimators=40; total time=   0.3s\n",
      "[CV] END max_depth=50, max_features=auto, min_samples_leaf=1, min_samples_split=8, n_estimators=40; total time=   0.3s\n",
      "[CV] END max_depth=50, max_features=auto, min_samples_leaf=1, min_samples_split=8, n_estimators=40; total time=   0.3s\n",
      "[CV] END max_depth=50, max_features=auto, min_samples_leaf=1, min_samples_split=8, n_estimators=40; total time=   0.3s\n",
      "[CV] END max_depth=50, max_features=auto, min_samples_leaf=1, min_samples_split=8, n_estimators=40; total time=   0.3s\n",
      "[CV] END max_depth=60, max_features=auto, min_samples_leaf=7, min_samples_split=4, n_estimators=70; total time=   0.5s\n",
      "[CV] END max_depth=60, max_features=auto, min_samples_leaf=7, min_samples_split=4, n_estimators=70; total time=   0.4s\n",
      "[CV] END max_depth=60, max_features=auto, min_samples_leaf=7, min_samples_split=4, n_estimators=70; total time=   0.4s\n",
      "[CV] END max_depth=60, max_features=auto, min_samples_leaf=7, min_samples_split=4, n_estimators=70; total time=   0.4s\n",
      "[CV] END max_depth=30, max_features=auto, min_samples_leaf=3, min_samples_split=6, n_estimators=40; total time=   0.3s\n",
      "[CV] END max_depth=30, max_features=auto, min_samples_leaf=3, min_samples_split=6, n_estimators=40; total time=   0.3s\n",
      "[CV] END max_depth=30, max_features=auto, min_samples_leaf=3, min_samples_split=6, n_estimators=40; total time=   0.3s\n",
      "[CV] END max_depth=30, max_features=auto, min_samples_leaf=3, min_samples_split=6, n_estimators=40; total time=   0.3s\n",
      "[CV] END max_depth=60, max_features=sqrt, min_samples_leaf=3, min_samples_split=4, n_estimators=30; total time=   0.2s\n",
      "[CV] END max_depth=60, max_features=sqrt, min_samples_leaf=3, min_samples_split=4, n_estimators=30; total time=   0.2s\n",
      "[CV] END max_depth=60, max_features=sqrt, min_samples_leaf=3, min_samples_split=4, n_estimators=30; total time=   0.2s\n",
      "[CV] END max_depth=60, max_features=sqrt, min_samples_leaf=3, min_samples_split=4, n_estimators=30; total time=   0.2s\n",
      "[CV] END max_depth=90, max_features=auto, min_samples_leaf=1, min_samples_split=4, n_estimators=60; total time=   0.4s\n",
      "[CV] END max_depth=90, max_features=auto, min_samples_leaf=1, min_samples_split=4, n_estimators=60; total time=   0.4s\n",
      "[CV] END max_depth=90, max_features=auto, min_samples_leaf=1, min_samples_split=4, n_estimators=60; total time=   0.4s\n",
      "[CV] END max_depth=90, max_features=auto, min_samples_leaf=1, min_samples_split=4, n_estimators=60; total time=   0.4s\n",
      "[CV] END max_depth=70, max_features=sqrt, min_samples_leaf=3, min_samples_split=6, n_estimators=60; total time=   0.4s\n",
      "[CV] END max_depth=70, max_features=sqrt, min_samples_leaf=3, min_samples_split=6, n_estimators=60; total time=   0.4s\n",
      "[CV] END max_depth=70, max_features=sqrt, min_samples_leaf=3, min_samples_split=6, n_estimators=60; total time=   0.4s\n",
      "[CV] END max_depth=70, max_features=sqrt, min_samples_leaf=3, min_samples_split=6, n_estimators=60; total time=   0.4s\n",
      "[CV] END max_depth=60, max_features=sqrt, min_samples_leaf=3, min_samples_split=2, n_estimators=40; total time=   0.3s\n",
      "[CV] END max_depth=60, max_features=sqrt, min_samples_leaf=3, min_samples_split=2, n_estimators=40; total time=   0.3s\n",
      "[CV] END max_depth=60, max_features=sqrt, min_samples_leaf=3, min_samples_split=2, n_estimators=40; total time=   0.3s\n",
      "[CV] END max_depth=60, max_features=sqrt, min_samples_leaf=3, min_samples_split=2, n_estimators=40; total time=   0.2s\n",
      "[CV] END max_depth=50, max_features=auto, min_samples_leaf=3, min_samples_split=2, n_estimators=70; total time=   0.4s\n",
      "[CV] END max_depth=50, max_features=auto, min_samples_leaf=3, min_samples_split=2, n_estimators=70; total time=   0.5s\n",
      "[CV] END max_depth=50, max_features=auto, min_samples_leaf=3, min_samples_split=2, n_estimators=70; total time=   0.4s\n",
      "[CV] END max_depth=50, max_features=auto, min_samples_leaf=3, min_samples_split=2, n_estimators=70; total time=   0.4s\n",
      "[CV] END max_depth=60, max_features=auto, min_samples_leaf=1, min_samples_split=2, n_estimators=50; total time=   0.3s\n",
      "[CV] END max_depth=60, max_features=auto, min_samples_leaf=1, min_samples_split=2, n_estimators=50; total time=   0.3s\n",
      "[CV] END max_depth=60, max_features=auto, min_samples_leaf=1, min_samples_split=2, n_estimators=50; total time=   0.4s\n",
      "[CV] END max_depth=60, max_features=auto, min_samples_leaf=1, min_samples_split=2, n_estimators=50; total time=   0.4s\n",
      "[CV] END max_depth=50, max_features=auto, min_samples_leaf=1, min_samples_split=2, n_estimators=60; total time=   0.4s\n",
      "[CV] END max_depth=50, max_features=auto, min_samples_leaf=1, min_samples_split=2, n_estimators=60; total time=   0.4s\n",
      "[CV] END max_depth=50, max_features=auto, min_samples_leaf=1, min_samples_split=2, n_estimators=60; total time=   0.4s\n",
      "[CV] END max_depth=50, max_features=auto, min_samples_leaf=1, min_samples_split=2, n_estimators=60; total time=   0.4s\n",
      "[CV] END max_depth=80, max_features=auto, min_samples_leaf=7, min_samples_split=4, n_estimators=40; total time=   0.2s\n",
      "[CV] END max_depth=80, max_features=auto, min_samples_leaf=7, min_samples_split=4, n_estimators=40; total time=   0.2s\n",
      "[CV] END max_depth=80, max_features=auto, min_samples_leaf=7, min_samples_split=4, n_estimators=40; total time=   0.2s\n",
      "[CV] END max_depth=80, max_features=auto, min_samples_leaf=7, min_samples_split=4, n_estimators=40; total time=   0.2s\n",
      "[CV] END max_depth=30, max_features=sqrt, min_samples_leaf=7, min_samples_split=8, n_estimators=40; total time=   0.3s\n",
      "[CV] END max_depth=30, max_features=sqrt, min_samples_leaf=7, min_samples_split=8, n_estimators=40; total time=   0.3s\n",
      "[CV] END max_depth=30, max_features=sqrt, min_samples_leaf=7, min_samples_split=8, n_estimators=40; total time=   0.2s\n",
      "[CV] END max_depth=30, max_features=sqrt, min_samples_leaf=7, min_samples_split=8, n_estimators=40; total time=   0.2s\n",
      "[CV] END max_depth=70, max_features=auto, min_samples_leaf=3, min_samples_split=2, n_estimators=40; total time=   0.3s\n",
      "[CV] END max_depth=70, max_features=auto, min_samples_leaf=3, min_samples_split=2, n_estimators=40; total time=   0.3s\n",
      "[CV] END max_depth=70, max_features=auto, min_samples_leaf=3, min_samples_split=2, n_estimators=40; total time=   0.3s\n",
      "[CV] END max_depth=70, max_features=auto, min_samples_leaf=3, min_samples_split=2, n_estimators=40; total time=   0.3s\n",
      "[CV] END max_depth=80, max_features=sqrt, min_samples_leaf=7, min_samples_split=2, n_estimators=60; total time=   0.3s\n",
      "[CV] END max_depth=80, max_features=sqrt, min_samples_leaf=7, min_samples_split=2, n_estimators=60; total time=   0.3s\n",
      "[CV] END max_depth=80, max_features=sqrt, min_samples_leaf=7, min_samples_split=2, n_estimators=60; total time=   0.4s\n",
      "[CV] END max_depth=80, max_features=sqrt, min_samples_leaf=7, min_samples_split=2, n_estimators=60; total time=   0.4s\n",
      "[CV] END max_depth=50, max_features=sqrt, min_samples_leaf=5, min_samples_split=4, n_estimators=30; total time=   0.2s\n",
      "[CV] END max_depth=50, max_features=sqrt, min_samples_leaf=5, min_samples_split=4, n_estimators=30; total time=   0.2s\n",
      "[CV] END max_depth=50, max_features=sqrt, min_samples_leaf=5, min_samples_split=4, n_estimators=30; total time=   0.2s\n",
      "[CV] END max_depth=50, max_features=sqrt, min_samples_leaf=5, min_samples_split=4, n_estimators=30; total time=   0.2s\n",
      "[CV] END max_depth=60, max_features=auto, min_samples_leaf=3, min_samples_split=2, n_estimators=70; total time=   0.5s\n",
      "[CV] END max_depth=60, max_features=auto, min_samples_leaf=3, min_samples_split=2, n_estimators=70; total time=   0.4s\n",
      "[CV] END max_depth=60, max_features=auto, min_samples_leaf=3, min_samples_split=2, n_estimators=70; total time=   0.4s\n",
      "[CV] END max_depth=60, max_features=auto, min_samples_leaf=3, min_samples_split=2, n_estimators=70; total time=   0.4s\n",
      "[CV] END max_depth=50, max_features=auto, min_samples_leaf=5, min_samples_split=4, n_estimators=30; total time=   0.2s\n",
      "[CV] END max_depth=50, max_features=auto, min_samples_leaf=5, min_samples_split=4, n_estimators=30; total time=   0.2s\n",
      "[CV] END max_depth=50, max_features=auto, min_samples_leaf=5, min_samples_split=4, n_estimators=30; total time=   0.2s\n",
      "[CV] END max_depth=50, max_features=auto, min_samples_leaf=5, min_samples_split=4, n_estimators=30; total time=   0.2s\n",
      "[CV] END max_depth=50, max_features=auto, min_samples_leaf=1, min_samples_split=6, n_estimators=60; total time=   0.4s\n",
      "[CV] END max_depth=50, max_features=auto, min_samples_leaf=1, min_samples_split=6, n_estimators=60; total time=   0.4s\n",
      "[CV] END max_depth=50, max_features=auto, min_samples_leaf=1, min_samples_split=6, n_estimators=60; total time=   0.4s\n",
      "[CV] END max_depth=50, max_features=auto, min_samples_leaf=1, min_samples_split=6, n_estimators=60; total time=   0.4s\n",
      "[CV] END max_depth=90, max_features=auto, min_samples_leaf=5, min_samples_split=2, n_estimators=50; total time=   0.3s\n",
      "[CV] END max_depth=90, max_features=auto, min_samples_leaf=5, min_samples_split=2, n_estimators=50; total time=   0.3s\n",
      "[CV] END max_depth=90, max_features=auto, min_samples_leaf=5, min_samples_split=2, n_estimators=50; total time=   0.3s\n",
      "[CV] END max_depth=90, max_features=auto, min_samples_leaf=5, min_samples_split=2, n_estimators=50; total time=   0.3s\n",
      "[CV] END max_depth=50, max_features=auto, min_samples_leaf=1, min_samples_split=4, n_estimators=50; total time=   0.3s\n",
      "[CV] END max_depth=50, max_features=auto, min_samples_leaf=1, min_samples_split=4, n_estimators=50; total time=   0.3s\n",
      "[CV] END max_depth=50, max_features=auto, min_samples_leaf=1, min_samples_split=4, n_estimators=50; total time=   0.3s\n",
      "[CV] END max_depth=50, max_features=auto, min_samples_leaf=1, min_samples_split=4, n_estimators=50; total time=   0.3s\n",
      "[CV] END max_depth=70, max_features=sqrt, min_samples_leaf=1, min_samples_split=6, n_estimators=40; total time=   0.3s\n",
      "[CV] END max_depth=70, max_features=sqrt, min_samples_leaf=1, min_samples_split=6, n_estimators=40; total time=   0.3s\n",
      "[CV] END max_depth=70, max_features=sqrt, min_samples_leaf=1, min_samples_split=6, n_estimators=40; total time=   0.3s\n",
      "[CV] END max_depth=70, max_features=sqrt, min_samples_leaf=1, min_samples_split=6, n_estimators=40; total time=   0.3s\n",
      "[CV] END max_depth=30, max_features=auto, min_samples_leaf=1, min_samples_split=6, n_estimators=30; total time=   0.2s\n",
      "[CV] END max_depth=30, max_features=auto, min_samples_leaf=1, min_samples_split=6, n_estimators=30; total time=   0.2s\n",
      "[CV] END max_depth=30, max_features=auto, min_samples_leaf=1, min_samples_split=6, n_estimators=30; total time=   0.2s\n",
      "[CV] END max_depth=30, max_features=auto, min_samples_leaf=1, min_samples_split=6, n_estimators=30; total time=   0.2s\n",
      "[CV] END max_depth=50, max_features=auto, min_samples_leaf=3, min_samples_split=6, n_estimators=70; total time=   0.4s\n",
      "[CV] END max_depth=50, max_features=auto, min_samples_leaf=3, min_samples_split=6, n_estimators=70; total time=   0.4s\n",
      "[CV] END max_depth=50, max_features=auto, min_samples_leaf=3, min_samples_split=6, n_estimators=70; total time=   0.4s\n",
      "[CV] END max_depth=50, max_features=auto, min_samples_leaf=3, min_samples_split=6, n_estimators=70; total time=   0.4s\n",
      "[CV] END max_depth=40, max_features=sqrt, min_samples_leaf=5, min_samples_split=6, n_estimators=50; total time=   0.3s\n",
      "[CV] END max_depth=40, max_features=sqrt, min_samples_leaf=5, min_samples_split=6, n_estimators=50; total time=   0.3s\n",
      "[CV] END max_depth=40, max_features=sqrt, min_samples_leaf=5, min_samples_split=6, n_estimators=50; total time=   0.3s\n",
      "[CV] END max_depth=40, max_features=sqrt, min_samples_leaf=5, min_samples_split=6, n_estimators=50; total time=   0.3s\n",
      "[CV] END max_depth=90, max_features=auto, min_samples_leaf=1, min_samples_split=6, n_estimators=30; total time=   0.2s\n",
      "[CV] END max_depth=90, max_features=auto, min_samples_leaf=1, min_samples_split=6, n_estimators=30; total time=   0.2s\n",
      "[CV] END max_depth=90, max_features=auto, min_samples_leaf=1, min_samples_split=6, n_estimators=30; total time=   0.2s\n",
      "[CV] END max_depth=90, max_features=auto, min_samples_leaf=1, min_samples_split=6, n_estimators=30; total time=   0.2s\n",
      "[CV] END max_depth=40, max_features=auto, min_samples_leaf=3, min_samples_split=6, n_estimators=50; total time=   0.3s\n",
      "[CV] END max_depth=40, max_features=auto, min_samples_leaf=3, min_samples_split=6, n_estimators=50; total time=   0.3s\n",
      "[CV] END max_depth=40, max_features=auto, min_samples_leaf=3, min_samples_split=6, n_estimators=50; total time=   0.3s\n",
      "[CV] END max_depth=40, max_features=auto, min_samples_leaf=3, min_samples_split=6, n_estimators=50; total time=   0.3s\n",
      "[CV] END max_depth=70, max_features=sqrt, min_samples_leaf=7, min_samples_split=2, n_estimators=40; total time=   0.3s\n",
      "[CV] END max_depth=70, max_features=sqrt, min_samples_leaf=7, min_samples_split=2, n_estimators=40; total time=   0.2s\n",
      "[CV] END max_depth=70, max_features=sqrt, min_samples_leaf=7, min_samples_split=2, n_estimators=40; total time=   0.2s\n",
      "[CV] END max_depth=70, max_features=sqrt, min_samples_leaf=7, min_samples_split=2, n_estimators=40; total time=   0.2s\n",
      "[CV] END max_depth=60, max_features=auto, min_samples_leaf=1, min_samples_split=8, n_estimators=50; total time=   0.3s\n",
      "[CV] END max_depth=60, max_features=auto, min_samples_leaf=1, min_samples_split=8, n_estimators=50; total time=   0.3s\n",
      "[CV] END max_depth=60, max_features=auto, min_samples_leaf=1, min_samples_split=8, n_estimators=50; total time=   0.3s\n",
      "[CV] END max_depth=60, max_features=auto, min_samples_leaf=1, min_samples_split=8, n_estimators=50; total time=   0.3s\n"
     ]
    }
   ],
   "source": [
    "param_RF = { 'n_estimators': range(30, 71, 10),\n",
    "             'max_depth': range(30, 91, 10),\n",
    "             'min_samples_leaf': [1, 3, 5, 7],\n",
    "             'min_samples_split': range(2, 10, 2),\n",
    "             'max_features': ['auto', 'sqrt']}\n",
    "\n",
    "scoring = ['f1', 'roc_auc']\n",
    "\n",
    "model_RF = RandomForestClassifier(random_state=RS)\n",
    "\n",
    "random_search_RF = RandomizedSearchCV(estimator=model_RF,\n",
    "                                      param_distributions=param_RF,\n",
    "                                      n_iter=100,\n",
    "                                      cv=4,\n",
    "                                      verbose=2,\n",
    "                                      random_state=RS,\n",
    "                                      scoring=scoring,\n",
    "                                      refit='f1',\n",
    "                                      n_jobs=-1)\n",
    "\n",
    "random_search_RF.fit(features_train, target_train)\n",
    "\n",
    "best_model_RF = random_search_RF.best_estimator_\n",
    "\n",
    "metrics_columns = [f'mean_test_{x}' for x in scoring]\n",
    "final_metrics = pd.DataFrame(random_search_RF.cv_results_)[metrics_columns].iloc[random_search_RF.best_index_]"
   ]
  },
  {
   "cell_type": "code",
   "execution_count": 432,
   "metadata": {},
   "outputs": [
    {
     "name": "stdout",
     "output_type": "stream",
     "text": [
      "Оптимальные гиперпараметры:\n",
      "{'n_estimators': 70, 'min_samples_split': 4, 'min_samples_leaf': 7, 'max_features': 'sqrt', 'max_depth': 90}\n",
      "mean_test_f1         0.613262\n",
      "mean_test_roc_auc    0.855775\n",
      "Name: 14, dtype: float64\n"
     ]
    }
   ],
   "source": [
    "print(f'Оптимальные гиперпараметры:\\n{random_search_RF.best_params_}\\n{final_metrics}')"
   ]
  },
  {
   "cell_type": "markdown",
   "metadata": {},
   "source": [
    "__Вывод:__\n",
    "\n",
    "Модель построенная на алгориме случайный лес с гиперпараметрами: \n",
    "- 'n_estimators': 70, \n",
    "- 'min_samples_split': 6, \n",
    "- 'min_samples_leaf': 1, \n",
    "- 'max_features': 'sqrt', \n",
    "- 'max_depth': 90\n",
    "\n",
    "в плотную приблизилась к поставленной задаче значение F1-меры составляет 0.579, но все же значение ниже поставленной задачи."
   ]
  },
  {
   "cell_type": "markdown",
   "metadata": {},
   "source": [
    "#### Общий вывод\n",
    "\n",
    "Все агрогитмы не справились с поставленной задачей на несбалансированной выборки, лучший результат F1-меры составляет 0.579, на модели \"best_model_RF\", обученная по алгоритму \"Случайный лес\""
   ]
  },
  {
   "cell_type": "markdown",
   "metadata": {},
   "source": [
    "## Борьба с дисбалансом\n",
    "\n",
    "Как мы выяснили ранее, в данных пристствует дисбаланс, который влияет на качество моделей, есть несколько вариантов решения данной проблемы, выявим самый эффективный:\n",
    "\n",
    "! Решение проблемы дисбаланса проводится до обучения моделей, и до подбора оптимальных гиперпараметров, я не совсем понимаю необходимость в данном задании каких либо подборов параметров и выбора модели до балансировки классов, так как подобранные гиперпараметры, уже не будут столь эффективны на сбалансированной выборке, может быть я нарушу логику задания, но все же, мне кажется, что после балансировки, необходим повторный подбор параметров, иначе мы не увидим прироста показателей ! "
   ]
  },
  {
   "cell_type": "markdown",
   "metadata": {},
   "source": [
    "### Взвешивание классов\n",
    "\n",
    "Придадим объектам редкого класса больший вес.\n",
    "\n",
    "Алгоритмы машинного обучения считают все объекты обучающей выборки равнозначными по умолчанию. Если важно указать, что какие-то объекты важнее, их классу присваивается вес (class_weight).\n",
    "\n",
    "Подберем заново гиперпараметры, для наших моделей, сравним результаты в выводе."
   ]
  },
  {
   "cell_type": "markdown",
   "metadata": {},
   "source": [
    "#### Взвешивание классов в алгоритме Логическая регрессия"
   ]
  },
  {
   "cell_type": "code",
   "execution_count": 414,
   "metadata": {},
   "outputs": [
    {
     "name": "stdout",
     "output_type": "stream",
     "text": [
      "Оптимальные гиперпараметры:\n",
      "{'max_iter': 100, 'solver': 'newton-cg'}\n",
      "mean_test_f1         0.495724\n",
      "mean_test_roc_auc    0.769104\n",
      "Name: 0, dtype: float64\n"
     ]
    }
   ],
   "source": [
    "#param_LR = {'solver': ['newton-cg', 'lbfgs', 'liblinear', 'sag', 'saga'],\n",
    "#          'max_iter': range (100, 1000, 100)}\n",
    "param_LR = {'solver': ['newton-cg', 'lbfgs', 'liblinear', 'sag', 'saga'],\n",
    "            'max_iter': range (100, 200, 100)}\n",
    "\n",
    "scoring = ['f1', 'roc_auc']\n",
    "\n",
    "model_LR = LogisticRegression(random_state=RS,\n",
    "                              class_weight='balanced')\n",
    "\n",
    "grid_LR = GridSearchCV(estimator=model_LR,\n",
    "                       param_grid=param_LR,\n",
    "                       scoring=scoring,\n",
    "                       refit='f1',\n",
    "                       cv=4,\n",
    "                       n_jobs=-1)\n",
    "\n",
    "grid_LR.fit(features_train, target_train)\n",
    "# сохраяняем модель с наибольшим показателем F1-меры\n",
    "best_model_LR = grid_LR.best_estimator_\n",
    "\n",
    "metrics_columns = [f'mean_test_{x}' for x in scoring]\n",
    "final_metrics = pd.DataFrame(grid_LR.cv_results_)[metrics_columns].iloc[grid_LR.best_index_]\n",
    "# выводим гиперпараметры, F1-меру, ROC AUC\n",
    "print(f'Оптимальные гиперпараметры:\\n{grid_LR.best_params_}\\n{final_metrics}')"
   ]
  },
  {
   "cell_type": "markdown",
   "metadata": {},
   "source": [
    "####  Взвешивание классов в алгоритме Дерево решений"
   ]
  },
  {
   "cell_type": "code",
   "execution_count": 415,
   "metadata": {},
   "outputs": [
    {
     "name": "stdout",
     "output_type": "stream",
     "text": [
      "Оптимальные гиперпараметры:\n",
      "{'max_depth': 8, 'min_samples_leaf': 5, 'min_samples_split': 2}\n",
      "mean_test_f1         0.582071\n",
      "mean_test_roc_auc    0.828113\n",
      "Name: 56, dtype: float64\n"
     ]
    }
   ],
   "source": [
    "param_DT = {'max_depth': range (2, 50, 2),\n",
    "            'min_samples_leaf': [1, 3, 5, 7],\n",
    "            'min_samples_split': range(2, 10, 2)}\n",
    "\n",
    "scoring = ['f1', 'roc_auc']\n",
    "\n",
    "model_DT = DecisionTreeClassifier(random_state=RS)\n",
    "\n",
    "grid_DT = GridSearchCV(estimator=model_DT,\n",
    "                       param_grid=param_DT,\n",
    "                       scoring=scoring,\n",
    "                       refit='f1',\n",
    "                       cv=4,\n",
    "                       n_jobs=-1)\n",
    "\n",
    "grid_DT.fit(features_train, target_train)\n",
    "\n",
    "best_model_DT = grid_DT.best_estimator_\n",
    "\n",
    "metrics_columns = [f'mean_test_{x}' for x in scoring]\n",
    "final_metrics = pd.DataFrame(grid_DT.cv_results_)[metrics_columns].iloc[grid_DT.best_index_]\n",
    "# выводим гиперпараметры, F1-меру, ROC AUC\n",
    "print(f'Оптимальные гиперпараметры:\\n{grid_DT.best_params_}\\n{final_metrics}')"
   ]
  },
  {
   "cell_type": "markdown",
   "metadata": {},
   "source": [
    "#### Взвешивание классов в алгоритме Случайный лес"
   ]
  },
  {
   "cell_type": "code",
   "execution_count": 416,
   "metadata": {},
   "outputs": [
    {
     "name": "stdout",
     "output_type": "stream",
     "text": [
      "Fitting 4 folds for each of 100 candidates, totalling 400 fits\n",
      "[CV] END max_depth=40, max_features=sqrt, min_samples_leaf=1, min_samples_split=2, n_estimators=60; total time=   0.4s\n",
      "[CV] END max_depth=40, max_features=sqrt, min_samples_leaf=1, min_samples_split=2, n_estimators=60; total time=   0.4s\n",
      "[CV] END max_depth=40, max_features=sqrt, min_samples_leaf=1, min_samples_split=2, n_estimators=60; total time=   0.4s\n",
      "[CV] END max_depth=40, max_features=sqrt, min_samples_leaf=1, min_samples_split=2, n_estimators=60; total time=   0.5s\n",
      "[CV] END max_depth=30, max_features=sqrt, min_samples_leaf=3, min_samples_split=2, n_estimators=40; total time=   0.3s\n",
      "[CV] END max_depth=30, max_features=sqrt, min_samples_leaf=3, min_samples_split=2, n_estimators=40; total time=   0.2s\n",
      "[CV] END max_depth=30, max_features=sqrt, min_samples_leaf=3, min_samples_split=2, n_estimators=40; total time=   0.2s\n",
      "[CV] END max_depth=30, max_features=sqrt, min_samples_leaf=3, min_samples_split=2, n_estimators=40; total time=   0.3s\n",
      "[CV] END max_depth=90, max_features=auto, min_samples_leaf=1, min_samples_split=2, n_estimators=60; total time=   0.4s\n",
      "[CV] END max_depth=90, max_features=auto, min_samples_leaf=1, min_samples_split=2, n_estimators=60; total time=   0.4s\n",
      "[CV] END max_depth=90, max_features=auto, min_samples_leaf=1, min_samples_split=2, n_estimators=60; total time=   0.4s\n",
      "[CV] END max_depth=90, max_features=auto, min_samples_leaf=1, min_samples_split=2, n_estimators=60; total time=   0.4s\n",
      "[CV] END max_depth=90, max_features=sqrt, min_samples_leaf=3, min_samples_split=2, n_estimators=40; total time=   0.3s\n",
      "[CV] END max_depth=90, max_features=sqrt, min_samples_leaf=3, min_samples_split=2, n_estimators=40; total time=   0.3s\n",
      "[CV] END max_depth=90, max_features=sqrt, min_samples_leaf=3, min_samples_split=2, n_estimators=40; total time=   0.2s\n",
      "[CV] END max_depth=90, max_features=sqrt, min_samples_leaf=3, min_samples_split=2, n_estimators=40; total time=   0.3s\n",
      "[CV] END max_depth=60, max_features=auto, min_samples_leaf=5, min_samples_split=2, n_estimators=50; total time=   0.3s\n",
      "[CV] END max_depth=60, max_features=auto, min_samples_leaf=5, min_samples_split=2, n_estimators=50; total time=   0.3s\n",
      "[CV] END max_depth=60, max_features=auto, min_samples_leaf=5, min_samples_split=2, n_estimators=50; total time=   0.3s\n",
      "[CV] END max_depth=60, max_features=auto, min_samples_leaf=5, min_samples_split=2, n_estimators=50; total time=   0.3s\n",
      "[CV] END max_depth=80, max_features=sqrt, min_samples_leaf=5, min_samples_split=8, n_estimators=40; total time=   0.2s\n",
      "[CV] END max_depth=80, max_features=sqrt, min_samples_leaf=5, min_samples_split=8, n_estimators=40; total time=   0.3s\n",
      "[CV] END max_depth=80, max_features=sqrt, min_samples_leaf=5, min_samples_split=8, n_estimators=40; total time=   0.2s\n",
      "[CV] END max_depth=80, max_features=sqrt, min_samples_leaf=5, min_samples_split=8, n_estimators=40; total time=   0.2s\n",
      "[CV] END max_depth=70, max_features=auto, min_samples_leaf=3, min_samples_split=2, n_estimators=30; total time=   0.2s\n",
      "[CV] END max_depth=70, max_features=auto, min_samples_leaf=3, min_samples_split=2, n_estimators=30; total time=   0.2s\n",
      "[CV] END max_depth=70, max_features=auto, min_samples_leaf=3, min_samples_split=2, n_estimators=30; total time=   0.2s\n",
      "[CV] END max_depth=70, max_features=auto, min_samples_leaf=3, min_samples_split=2, n_estimators=30; total time=   0.2s\n",
      "[CV] END max_depth=40, max_features=sqrt, min_samples_leaf=3, min_samples_split=4, n_estimators=30; total time=   0.2s\n",
      "[CV] END max_depth=40, max_features=sqrt, min_samples_leaf=3, min_samples_split=4, n_estimators=30; total time=   0.2s\n",
      "[CV] END max_depth=40, max_features=sqrt, min_samples_leaf=3, min_samples_split=4, n_estimators=30; total time=   0.2s\n",
      "[CV] END max_depth=40, max_features=sqrt, min_samples_leaf=3, min_samples_split=4, n_estimators=30; total time=   0.2s\n",
      "[CV] END max_depth=30, max_features=sqrt, min_samples_leaf=5, min_samples_split=4, n_estimators=60; total time=   0.4s\n",
      "[CV] END max_depth=30, max_features=sqrt, min_samples_leaf=5, min_samples_split=4, n_estimators=60; total time=   0.4s\n",
      "[CV] END max_depth=30, max_features=sqrt, min_samples_leaf=5, min_samples_split=4, n_estimators=60; total time=   0.4s\n",
      "[CV] END max_depth=30, max_features=sqrt, min_samples_leaf=5, min_samples_split=4, n_estimators=60; total time=   0.4s\n",
      "[CV] END max_depth=40, max_features=sqrt, min_samples_leaf=5, min_samples_split=8, n_estimators=40; total time=   0.2s\n",
      "[CV] END max_depth=40, max_features=sqrt, min_samples_leaf=5, min_samples_split=8, n_estimators=40; total time=   0.3s\n",
      "[CV] END max_depth=40, max_features=sqrt, min_samples_leaf=5, min_samples_split=8, n_estimators=40; total time=   0.2s\n",
      "[CV] END max_depth=40, max_features=sqrt, min_samples_leaf=5, min_samples_split=8, n_estimators=40; total time=   0.3s\n",
      "[CV] END max_depth=70, max_features=sqrt, min_samples_leaf=3, min_samples_split=2, n_estimators=30; total time=   0.2s\n",
      "[CV] END max_depth=70, max_features=sqrt, min_samples_leaf=3, min_samples_split=2, n_estimators=30; total time=   0.2s\n",
      "[CV] END max_depth=70, max_features=sqrt, min_samples_leaf=3, min_samples_split=2, n_estimators=30; total time=   0.2s\n",
      "[CV] END max_depth=70, max_features=sqrt, min_samples_leaf=3, min_samples_split=2, n_estimators=30; total time=   0.2s\n",
      "[CV] END max_depth=30, max_features=sqrt, min_samples_leaf=1, min_samples_split=4, n_estimators=60; total time=   0.4s\n",
      "[CV] END max_depth=30, max_features=sqrt, min_samples_leaf=1, min_samples_split=4, n_estimators=60; total time=   0.4s\n",
      "[CV] END max_depth=30, max_features=sqrt, min_samples_leaf=1, min_samples_split=4, n_estimators=60; total time=   0.4s\n",
      "[CV] END max_depth=30, max_features=sqrt, min_samples_leaf=1, min_samples_split=4, n_estimators=60; total time=   0.4s\n",
      "[CV] END max_depth=50, max_features=auto, min_samples_leaf=7, min_samples_split=2, n_estimators=30; total time=   0.2s\n",
      "[CV] END max_depth=50, max_features=auto, min_samples_leaf=7, min_samples_split=2, n_estimators=30; total time=   0.2s\n",
      "[CV] END max_depth=50, max_features=auto, min_samples_leaf=7, min_samples_split=2, n_estimators=30; total time=   0.2s\n",
      "[CV] END max_depth=50, max_features=auto, min_samples_leaf=7, min_samples_split=2, n_estimators=30; total time=   0.2s\n",
      "[CV] END max_depth=60, max_features=auto, min_samples_leaf=1, min_samples_split=2, n_estimators=40; total time=   0.3s\n",
      "[CV] END max_depth=60, max_features=auto, min_samples_leaf=1, min_samples_split=2, n_estimators=40; total time=   0.3s\n",
      "[CV] END max_depth=60, max_features=auto, min_samples_leaf=1, min_samples_split=2, n_estimators=40; total time=   0.3s\n",
      "[CV] END max_depth=60, max_features=auto, min_samples_leaf=1, min_samples_split=2, n_estimators=40; total time=   0.3s\n",
      "[CV] END max_depth=90, max_features=sqrt, min_samples_leaf=7, min_samples_split=4, n_estimators=70; total time=   0.4s\n",
      "[CV] END max_depth=90, max_features=sqrt, min_samples_leaf=7, min_samples_split=4, n_estimators=70; total time=   0.4s\n",
      "[CV] END max_depth=90, max_features=sqrt, min_samples_leaf=7, min_samples_split=4, n_estimators=70; total time=   0.4s\n",
      "[CV] END max_depth=90, max_features=sqrt, min_samples_leaf=7, min_samples_split=4, n_estimators=70; total time=   0.4s\n",
      "[CV] END max_depth=60, max_features=sqrt, min_samples_leaf=7, min_samples_split=2, n_estimators=30; total time=   0.2s\n",
      "[CV] END max_depth=60, max_features=sqrt, min_samples_leaf=7, min_samples_split=2, n_estimators=30; total time=   0.2s\n",
      "[CV] END max_depth=60, max_features=sqrt, min_samples_leaf=7, min_samples_split=2, n_estimators=30; total time=   0.2s\n",
      "[CV] END max_depth=60, max_features=sqrt, min_samples_leaf=7, min_samples_split=2, n_estimators=30; total time=   0.2s\n",
      "[CV] END max_depth=50, max_features=sqrt, min_samples_leaf=3, min_samples_split=6, n_estimators=50; total time=   0.3s\n",
      "[CV] END max_depth=50, max_features=sqrt, min_samples_leaf=3, min_samples_split=6, n_estimators=50; total time=   0.3s\n",
      "[CV] END max_depth=50, max_features=sqrt, min_samples_leaf=3, min_samples_split=6, n_estimators=50; total time=   0.3s\n",
      "[CV] END max_depth=50, max_features=sqrt, min_samples_leaf=3, min_samples_split=6, n_estimators=50; total time=   0.3s\n",
      "[CV] END max_depth=30, max_features=auto, min_samples_leaf=5, min_samples_split=2, n_estimators=70; total time=   0.4s\n",
      "[CV] END max_depth=30, max_features=auto, min_samples_leaf=5, min_samples_split=2, n_estimators=70; total time=   0.4s\n",
      "[CV] END max_depth=30, max_features=auto, min_samples_leaf=5, min_samples_split=2, n_estimators=70; total time=   0.4s\n",
      "[CV] END max_depth=30, max_features=auto, min_samples_leaf=5, min_samples_split=2, n_estimators=70; total time=   0.4s\n",
      "[CV] END max_depth=70, max_features=auto, min_samples_leaf=3, min_samples_split=8, n_estimators=70; total time=   0.4s\n",
      "[CV] END max_depth=70, max_features=auto, min_samples_leaf=3, min_samples_split=8, n_estimators=70; total time=   0.4s\n",
      "[CV] END max_depth=70, max_features=auto, min_samples_leaf=3, min_samples_split=8, n_estimators=70; total time=   0.4s\n",
      "[CV] END max_depth=70, max_features=auto, min_samples_leaf=3, min_samples_split=8, n_estimators=70; total time=   0.5s\n",
      "[CV] END max_depth=70, max_features=sqrt, min_samples_leaf=5, min_samples_split=2, n_estimators=40; total time=   0.3s\n",
      "[CV] END max_depth=70, max_features=sqrt, min_samples_leaf=5, min_samples_split=2, n_estimators=40; total time=   0.2s\n",
      "[CV] END max_depth=70, max_features=sqrt, min_samples_leaf=5, min_samples_split=2, n_estimators=40; total time=   0.3s\n",
      "[CV] END max_depth=70, max_features=sqrt, min_samples_leaf=5, min_samples_split=2, n_estimators=40; total time=   0.2s\n",
      "[CV] END max_depth=30, max_features=sqrt, min_samples_leaf=3, min_samples_split=4, n_estimators=70; total time=   0.4s\n",
      "[CV] END max_depth=30, max_features=sqrt, min_samples_leaf=3, min_samples_split=4, n_estimators=70; total time=   0.4s\n",
      "[CV] END max_depth=30, max_features=sqrt, min_samples_leaf=3, min_samples_split=4, n_estimators=70; total time=   0.4s\n",
      "[CV] END max_depth=30, max_features=sqrt, min_samples_leaf=3, min_samples_split=4, n_estimators=70; total time=   0.5s\n",
      "[CV] END max_depth=30, max_features=sqrt, min_samples_leaf=3, min_samples_split=6, n_estimators=60; total time=   0.4s\n",
      "[CV] END max_depth=30, max_features=sqrt, min_samples_leaf=3, min_samples_split=6, n_estimators=60; total time=   0.4s\n",
      "[CV] END max_depth=30, max_features=sqrt, min_samples_leaf=3, min_samples_split=6, n_estimators=60; total time=   0.4s\n",
      "[CV] END max_depth=30, max_features=sqrt, min_samples_leaf=3, min_samples_split=6, n_estimators=60; total time=   0.4s\n",
      "[CV] END max_depth=50, max_features=auto, min_samples_leaf=3, min_samples_split=6, n_estimators=40; total time=   0.3s\n",
      "[CV] END max_depth=50, max_features=auto, min_samples_leaf=3, min_samples_split=6, n_estimators=40; total time=   0.3s\n",
      "[CV] END max_depth=50, max_features=auto, min_samples_leaf=3, min_samples_split=6, n_estimators=40; total time=   0.3s\n",
      "[CV] END max_depth=50, max_features=auto, min_samples_leaf=3, min_samples_split=6, n_estimators=40; total time=   0.3s\n",
      "[CV] END max_depth=30, max_features=auto, min_samples_leaf=5, min_samples_split=8, n_estimators=40; total time=   0.2s\n",
      "[CV] END max_depth=30, max_features=auto, min_samples_leaf=5, min_samples_split=8, n_estimators=40; total time=   0.2s\n",
      "[CV] END max_depth=30, max_features=auto, min_samples_leaf=5, min_samples_split=8, n_estimators=40; total time=   0.2s\n",
      "[CV] END max_depth=30, max_features=auto, min_samples_leaf=5, min_samples_split=8, n_estimators=40; total time=   0.2s\n",
      "[CV] END max_depth=90, max_features=sqrt, min_samples_leaf=3, min_samples_split=6, n_estimators=40; total time=   0.3s\n",
      "[CV] END max_depth=90, max_features=sqrt, min_samples_leaf=3, min_samples_split=6, n_estimators=40; total time=   0.3s\n",
      "[CV] END max_depth=90, max_features=sqrt, min_samples_leaf=3, min_samples_split=6, n_estimators=40; total time=   0.3s\n",
      "[CV] END max_depth=90, max_features=sqrt, min_samples_leaf=3, min_samples_split=6, n_estimators=40; total time=   0.3s\n",
      "[CV] END max_depth=50, max_features=sqrt, min_samples_leaf=3, min_samples_split=4, n_estimators=30; total time=   0.2s\n",
      "[CV] END max_depth=50, max_features=sqrt, min_samples_leaf=3, min_samples_split=4, n_estimators=30; total time=   0.2s\n",
      "[CV] END max_depth=50, max_features=sqrt, min_samples_leaf=3, min_samples_split=4, n_estimators=30; total time=   0.2s\n",
      "[CV] END max_depth=50, max_features=sqrt, min_samples_leaf=3, min_samples_split=4, n_estimators=30; total time=   0.2s\n",
      "[CV] END max_depth=60, max_features=auto, min_samples_leaf=5, min_samples_split=6, n_estimators=60; total time=   0.4s\n",
      "[CV] END max_depth=60, max_features=auto, min_samples_leaf=5, min_samples_split=6, n_estimators=60; total time=   0.4s\n",
      "[CV] END max_depth=60, max_features=auto, min_samples_leaf=5, min_samples_split=6, n_estimators=60; total time=   0.4s\n",
      "[CV] END max_depth=60, max_features=auto, min_samples_leaf=5, min_samples_split=6, n_estimators=60; total time=   0.4s\n",
      "[CV] END max_depth=70, max_features=auto, min_samples_leaf=3, min_samples_split=8, n_estimators=60; total time=   0.4s\n",
      "[CV] END max_depth=70, max_features=auto, min_samples_leaf=3, min_samples_split=8, n_estimators=60; total time=   0.4s\n",
      "[CV] END max_depth=70, max_features=auto, min_samples_leaf=3, min_samples_split=8, n_estimators=60; total time=   0.4s\n",
      "[CV] END max_depth=70, max_features=auto, min_samples_leaf=3, min_samples_split=8, n_estimators=60; total time=   0.4s\n",
      "[CV] END max_depth=80, max_features=auto, min_samples_leaf=1, min_samples_split=6, n_estimators=60; total time=   0.4s\n",
      "[CV] END max_depth=80, max_features=auto, min_samples_leaf=1, min_samples_split=6, n_estimators=60; total time=   0.4s\n",
      "[CV] END max_depth=80, max_features=auto, min_samples_leaf=1, min_samples_split=6, n_estimators=60; total time=   0.4s\n",
      "[CV] END max_depth=80, max_features=auto, min_samples_leaf=1, min_samples_split=6, n_estimators=60; total time=   0.4s\n",
      "[CV] END max_depth=30, max_features=sqrt, min_samples_leaf=7, min_samples_split=8, n_estimators=60; total time=   0.4s\n",
      "[CV] END max_depth=30, max_features=sqrt, min_samples_leaf=7, min_samples_split=8, n_estimators=60; total time=   0.4s\n",
      "[CV] END max_depth=30, max_features=sqrt, min_samples_leaf=7, min_samples_split=8, n_estimators=60; total time=   0.4s\n",
      "[CV] END max_depth=30, max_features=sqrt, min_samples_leaf=7, min_samples_split=8, n_estimators=60; total time=   0.4s\n",
      "[CV] END max_depth=60, max_features=auto, min_samples_leaf=5, min_samples_split=2, n_estimators=60; total time=   0.4s\n",
      "[CV] END max_depth=60, max_features=auto, min_samples_leaf=5, min_samples_split=2, n_estimators=60; total time=   0.4s\n",
      "[CV] END max_depth=60, max_features=auto, min_samples_leaf=5, min_samples_split=2, n_estimators=60; total time=   0.4s\n",
      "[CV] END max_depth=60, max_features=auto, min_samples_leaf=5, min_samples_split=2, n_estimators=60; total time=   0.4s\n",
      "[CV] END max_depth=50, max_features=auto, min_samples_leaf=5, min_samples_split=2, n_estimators=40; total time=   0.2s\n",
      "[CV] END max_depth=50, max_features=auto, min_samples_leaf=5, min_samples_split=2, n_estimators=40; total time=   0.2s\n",
      "[CV] END max_depth=50, max_features=auto, min_samples_leaf=5, min_samples_split=2, n_estimators=40; total time=   0.3s\n",
      "[CV] END max_depth=50, max_features=auto, min_samples_leaf=5, min_samples_split=2, n_estimators=40; total time=   0.2s\n",
      "[CV] END max_depth=70, max_features=sqrt, min_samples_leaf=1, min_samples_split=4, n_estimators=40; total time=   0.3s\n",
      "[CV] END max_depth=70, max_features=sqrt, min_samples_leaf=1, min_samples_split=4, n_estimators=40; total time=   0.3s\n",
      "[CV] END max_depth=70, max_features=sqrt, min_samples_leaf=1, min_samples_split=4, n_estimators=40; total time=   0.3s\n",
      "[CV] END max_depth=70, max_features=sqrt, min_samples_leaf=1, min_samples_split=4, n_estimators=40; total time=   0.3s\n",
      "[CV] END max_depth=60, max_features=sqrt, min_samples_leaf=5, min_samples_split=8, n_estimators=50; total time=   0.3s\n",
      "[CV] END max_depth=60, max_features=sqrt, min_samples_leaf=5, min_samples_split=8, n_estimators=50; total time=   0.3s\n",
      "[CV] END max_depth=60, max_features=sqrt, min_samples_leaf=5, min_samples_split=8, n_estimators=50; total time=   0.3s\n",
      "[CV] END max_depth=60, max_features=sqrt, min_samples_leaf=5, min_samples_split=8, n_estimators=50; total time=   0.3s\n",
      "[CV] END max_depth=50, max_features=auto, min_samples_leaf=1, min_samples_split=4, n_estimators=60; total time=   0.4s\n",
      "[CV] END max_depth=50, max_features=auto, min_samples_leaf=1, min_samples_split=4, n_estimators=60; total time=   0.4s\n",
      "[CV] END max_depth=50, max_features=auto, min_samples_leaf=1, min_samples_split=4, n_estimators=60; total time=   0.4s\n",
      "[CV] END max_depth=50, max_features=auto, min_samples_leaf=1, min_samples_split=4, n_estimators=60; total time=   0.4s\n",
      "[CV] END max_depth=30, max_features=sqrt, min_samples_leaf=1, min_samples_split=4, n_estimators=40; total time=   0.3s\n",
      "[CV] END max_depth=30, max_features=sqrt, min_samples_leaf=1, min_samples_split=4, n_estimators=40; total time=   0.3s\n",
      "[CV] END max_depth=30, max_features=sqrt, min_samples_leaf=1, min_samples_split=4, n_estimators=40; total time=   0.3s\n",
      "[CV] END max_depth=30, max_features=sqrt, min_samples_leaf=1, min_samples_split=4, n_estimators=40; total time=   0.3s\n",
      "[CV] END max_depth=90, max_features=auto, min_samples_leaf=7, min_samples_split=4, n_estimators=70; total time=   0.4s\n",
      "[CV] END max_depth=90, max_features=auto, min_samples_leaf=7, min_samples_split=4, n_estimators=70; total time=   0.4s\n",
      "[CV] END max_depth=90, max_features=auto, min_samples_leaf=7, min_samples_split=4, n_estimators=70; total time=   0.4s\n",
      "[CV] END max_depth=90, max_features=auto, min_samples_leaf=7, min_samples_split=4, n_estimators=70; total time=   0.4s\n",
      "[CV] END max_depth=80, max_features=auto, min_samples_leaf=5, min_samples_split=4, n_estimators=60; total time=   0.3s\n",
      "[CV] END max_depth=80, max_features=auto, min_samples_leaf=5, min_samples_split=4, n_estimators=60; total time=   0.4s\n",
      "[CV] END max_depth=80, max_features=auto, min_samples_leaf=5, min_samples_split=4, n_estimators=60; total time=   0.4s\n",
      "[CV] END max_depth=80, max_features=auto, min_samples_leaf=5, min_samples_split=4, n_estimators=60; total time=   0.3s\n",
      "[CV] END max_depth=90, max_features=auto, min_samples_leaf=3, min_samples_split=8, n_estimators=50; total time=   0.3s\n",
      "[CV] END max_depth=90, max_features=auto, min_samples_leaf=3, min_samples_split=8, n_estimators=50; total time=   0.3s\n",
      "[CV] END max_depth=90, max_features=auto, min_samples_leaf=3, min_samples_split=8, n_estimators=50; total time=   0.3s\n",
      "[CV] END max_depth=90, max_features=auto, min_samples_leaf=3, min_samples_split=8, n_estimators=50; total time=   0.3s\n",
      "[CV] END max_depth=50, max_features=sqrt, min_samples_leaf=3, min_samples_split=2, n_estimators=60; total time=   0.4s\n",
      "[CV] END max_depth=50, max_features=sqrt, min_samples_leaf=3, min_samples_split=2, n_estimators=60; total time=   0.4s\n",
      "[CV] END max_depth=50, max_features=sqrt, min_samples_leaf=3, min_samples_split=2, n_estimators=60; total time=   0.4s\n",
      "[CV] END max_depth=50, max_features=sqrt, min_samples_leaf=3, min_samples_split=2, n_estimators=60; total time=   0.4s\n",
      "[CV] END max_depth=50, max_features=sqrt, min_samples_leaf=5, min_samples_split=4, n_estimators=50; total time=   0.3s\n",
      "[CV] END max_depth=50, max_features=sqrt, min_samples_leaf=5, min_samples_split=4, n_estimators=50; total time=   0.3s\n",
      "[CV] END max_depth=50, max_features=sqrt, min_samples_leaf=5, min_samples_split=4, n_estimators=50; total time=   0.3s\n",
      "[CV] END max_depth=50, max_features=sqrt, min_samples_leaf=5, min_samples_split=4, n_estimators=50; total time=   0.3s\n",
      "[CV] END max_depth=50, max_features=auto, min_samples_leaf=7, min_samples_split=6, n_estimators=30; total time=   0.2s\n",
      "[CV] END max_depth=50, max_features=auto, min_samples_leaf=7, min_samples_split=6, n_estimators=30; total time=   0.2s\n",
      "[CV] END max_depth=50, max_features=auto, min_samples_leaf=7, min_samples_split=6, n_estimators=30; total time=   0.2s\n",
      "[CV] END max_depth=50, max_features=auto, min_samples_leaf=7, min_samples_split=6, n_estimators=30; total time=   0.2s\n",
      "[CV] END max_depth=90, max_features=sqrt, min_samples_leaf=7, min_samples_split=6, n_estimators=60; total time=   0.3s\n",
      "[CV] END max_depth=90, max_features=sqrt, min_samples_leaf=7, min_samples_split=6, n_estimators=60; total time=   0.4s\n",
      "[CV] END max_depth=90, max_features=sqrt, min_samples_leaf=7, min_samples_split=6, n_estimators=60; total time=   0.4s\n",
      "[CV] END max_depth=90, max_features=sqrt, min_samples_leaf=7, min_samples_split=6, n_estimators=60; total time=   0.3s\n",
      "[CV] END max_depth=50, max_features=sqrt, min_samples_leaf=7, min_samples_split=8, n_estimators=70; total time=   0.4s\n",
      "[CV] END max_depth=50, max_features=sqrt, min_samples_leaf=7, min_samples_split=8, n_estimators=70; total time=   0.4s\n",
      "[CV] END max_depth=50, max_features=sqrt, min_samples_leaf=7, min_samples_split=8, n_estimators=70; total time=   0.4s\n",
      "[CV] END max_depth=50, max_features=sqrt, min_samples_leaf=7, min_samples_split=8, n_estimators=70; total time=   0.4s\n",
      "[CV] END max_depth=70, max_features=auto, min_samples_leaf=7, min_samples_split=4, n_estimators=40; total time=   0.2s\n",
      "[CV] END max_depth=70, max_features=auto, min_samples_leaf=7, min_samples_split=4, n_estimators=40; total time=   0.2s\n",
      "[CV] END max_depth=70, max_features=auto, min_samples_leaf=7, min_samples_split=4, n_estimators=40; total time=   0.2s\n",
      "[CV] END max_depth=70, max_features=auto, min_samples_leaf=7, min_samples_split=4, n_estimators=40; total time=   0.2s\n",
      "[CV] END max_depth=70, max_features=sqrt, min_samples_leaf=1, min_samples_split=6, n_estimators=30; total time=   0.2s\n",
      "[CV] END max_depth=70, max_features=sqrt, min_samples_leaf=1, min_samples_split=6, n_estimators=30; total time=   0.2s\n",
      "[CV] END max_depth=70, max_features=sqrt, min_samples_leaf=1, min_samples_split=6, n_estimators=30; total time=   0.2s\n",
      "[CV] END max_depth=70, max_features=sqrt, min_samples_leaf=1, min_samples_split=6, n_estimators=30; total time=   0.2s\n",
      "[CV] END max_depth=90, max_features=auto, min_samples_leaf=3, min_samples_split=6, n_estimators=40; total time=   0.3s\n",
      "[CV] END max_depth=90, max_features=auto, min_samples_leaf=3, min_samples_split=6, n_estimators=40; total time=   0.3s\n",
      "[CV] END max_depth=90, max_features=auto, min_samples_leaf=3, min_samples_split=6, n_estimators=40; total time=   0.3s\n",
      "[CV] END max_depth=90, max_features=auto, min_samples_leaf=3, min_samples_split=6, n_estimators=40; total time=   0.3s\n",
      "[CV] END max_depth=70, max_features=sqrt, min_samples_leaf=7, min_samples_split=4, n_estimators=30; total time=   0.2s\n",
      "[CV] END max_depth=70, max_features=sqrt, min_samples_leaf=7, min_samples_split=4, n_estimators=30; total time=   0.2s\n",
      "[CV] END max_depth=70, max_features=sqrt, min_samples_leaf=7, min_samples_split=4, n_estimators=30; total time=   0.2s\n",
      "[CV] END max_depth=70, max_features=sqrt, min_samples_leaf=7, min_samples_split=4, n_estimators=30; total time=   0.2s\n",
      "[CV] END max_depth=30, max_features=sqrt, min_samples_leaf=1, min_samples_split=8, n_estimators=40; total time=   0.3s\n",
      "[CV] END max_depth=30, max_features=sqrt, min_samples_leaf=1, min_samples_split=8, n_estimators=40; total time=   0.2s\n",
      "[CV] END max_depth=30, max_features=sqrt, min_samples_leaf=1, min_samples_split=8, n_estimators=40; total time=   0.2s\n",
      "[CV] END max_depth=30, max_features=sqrt, min_samples_leaf=1, min_samples_split=8, n_estimators=40; total time=   0.2s\n",
      "[CV] END max_depth=70, max_features=auto, min_samples_leaf=3, min_samples_split=4, n_estimators=50; total time=   0.3s\n",
      "[CV] END max_depth=70, max_features=auto, min_samples_leaf=3, min_samples_split=4, n_estimators=50; total time=   0.3s\n",
      "[CV] END max_depth=70, max_features=auto, min_samples_leaf=3, min_samples_split=4, n_estimators=50; total time=   0.3s\n",
      "[CV] END max_depth=70, max_features=auto, min_samples_leaf=3, min_samples_split=4, n_estimators=50; total time=   0.3s\n",
      "[CV] END max_depth=80, max_features=auto, min_samples_leaf=1, min_samples_split=6, n_estimators=50; total time=   0.3s\n",
      "[CV] END max_depth=80, max_features=auto, min_samples_leaf=1, min_samples_split=6, n_estimators=50; total time=   0.3s\n",
      "[CV] END max_depth=80, max_features=auto, min_samples_leaf=1, min_samples_split=6, n_estimators=50; total time=   0.3s\n",
      "[CV] END max_depth=80, max_features=auto, min_samples_leaf=1, min_samples_split=6, n_estimators=50; total time=   0.3s\n",
      "[CV] END max_depth=60, max_features=auto, min_samples_leaf=5, min_samples_split=6, n_estimators=40; total time=   0.2s\n",
      "[CV] END max_depth=60, max_features=auto, min_samples_leaf=5, min_samples_split=6, n_estimators=40; total time=   0.2s\n",
      "[CV] END max_depth=60, max_features=auto, min_samples_leaf=5, min_samples_split=6, n_estimators=40; total time=   0.2s\n",
      "[CV] END max_depth=60, max_features=auto, min_samples_leaf=5, min_samples_split=6, n_estimators=40; total time=   0.2s\n",
      "[CV] END max_depth=90, max_features=sqrt, min_samples_leaf=1, min_samples_split=6, n_estimators=70; total time=   0.4s\n",
      "[CV] END max_depth=90, max_features=sqrt, min_samples_leaf=1, min_samples_split=6, n_estimators=70; total time=   0.4s\n",
      "[CV] END max_depth=90, max_features=sqrt, min_samples_leaf=1, min_samples_split=6, n_estimators=70; total time=   0.5s\n",
      "[CV] END max_depth=90, max_features=sqrt, min_samples_leaf=1, min_samples_split=6, n_estimators=70; total time=   0.4s\n",
      "[CV] END max_depth=50, max_features=auto, min_samples_leaf=1, min_samples_split=2, n_estimators=40; total time=   0.3s\n",
      "[CV] END max_depth=50, max_features=auto, min_samples_leaf=1, min_samples_split=2, n_estimators=40; total time=   0.3s\n",
      "[CV] END max_depth=50, max_features=auto, min_samples_leaf=1, min_samples_split=2, n_estimators=40; total time=   0.3s\n",
      "[CV] END max_depth=50, max_features=auto, min_samples_leaf=1, min_samples_split=2, n_estimators=40; total time=   0.3s\n",
      "[CV] END max_depth=30, max_features=auto, min_samples_leaf=5, min_samples_split=6, n_estimators=40; total time=   0.3s\n",
      "[CV] END max_depth=30, max_features=auto, min_samples_leaf=5, min_samples_split=6, n_estimators=40; total time=   0.3s\n",
      "[CV] END max_depth=30, max_features=auto, min_samples_leaf=5, min_samples_split=6, n_estimators=40; total time=   0.3s\n",
      "[CV] END max_depth=30, max_features=auto, min_samples_leaf=5, min_samples_split=6, n_estimators=40; total time=   0.3s\n",
      "[CV] END max_depth=40, max_features=sqrt, min_samples_leaf=7, min_samples_split=8, n_estimators=60; total time=   0.3s\n",
      "[CV] END max_depth=40, max_features=sqrt, min_samples_leaf=7, min_samples_split=8, n_estimators=60; total time=   0.4s\n",
      "[CV] END max_depth=40, max_features=sqrt, min_samples_leaf=7, min_samples_split=8, n_estimators=60; total time=   0.4s\n",
      "[CV] END max_depth=40, max_features=sqrt, min_samples_leaf=7, min_samples_split=8, n_estimators=60; total time=   0.3s\n",
      "[CV] END max_depth=40, max_features=sqrt, min_samples_leaf=7, min_samples_split=4, n_estimators=60; total time=   0.3s\n",
      "[CV] END max_depth=40, max_features=sqrt, min_samples_leaf=7, min_samples_split=4, n_estimators=60; total time=   0.3s\n",
      "[CV] END max_depth=40, max_features=sqrt, min_samples_leaf=7, min_samples_split=4, n_estimators=60; total time=   0.3s\n",
      "[CV] END max_depth=40, max_features=sqrt, min_samples_leaf=7, min_samples_split=4, n_estimators=60; total time=   0.4s\n",
      "[CV] END max_depth=30, max_features=auto, min_samples_leaf=7, min_samples_split=6, n_estimators=30; total time=   0.2s\n",
      "[CV] END max_depth=30, max_features=auto, min_samples_leaf=7, min_samples_split=6, n_estimators=30; total time=   0.2s\n",
      "[CV] END max_depth=30, max_features=auto, min_samples_leaf=7, min_samples_split=6, n_estimators=30; total time=   0.2s\n",
      "[CV] END max_depth=30, max_features=auto, min_samples_leaf=7, min_samples_split=6, n_estimators=30; total time=   0.2s\n",
      "[CV] END max_depth=80, max_features=auto, min_samples_leaf=7, min_samples_split=6, n_estimators=60; total time=   0.3s\n",
      "[CV] END max_depth=80, max_features=auto, min_samples_leaf=7, min_samples_split=6, n_estimators=60; total time=   0.3s\n",
      "[CV] END max_depth=80, max_features=auto, min_samples_leaf=7, min_samples_split=6, n_estimators=60; total time=   0.3s\n",
      "[CV] END max_depth=80, max_features=auto, min_samples_leaf=7, min_samples_split=6, n_estimators=60; total time=   0.3s\n",
      "[CV] END max_depth=90, max_features=sqrt, min_samples_leaf=7, min_samples_split=6, n_estimators=30; total time=   0.2s\n",
      "[CV] END max_depth=90, max_features=sqrt, min_samples_leaf=7, min_samples_split=6, n_estimators=30; total time=   0.2s\n",
      "[CV] END max_depth=90, max_features=sqrt, min_samples_leaf=7, min_samples_split=6, n_estimators=30; total time=   0.2s\n",
      "[CV] END max_depth=90, max_features=sqrt, min_samples_leaf=7, min_samples_split=6, n_estimators=30; total time=   0.2s\n",
      "[CV] END max_depth=60, max_features=auto, min_samples_leaf=7, min_samples_split=4, n_estimators=60; total time=   0.3s\n",
      "[CV] END max_depth=60, max_features=auto, min_samples_leaf=7, min_samples_split=4, n_estimators=60; total time=   0.3s\n",
      "[CV] END max_depth=60, max_features=auto, min_samples_leaf=7, min_samples_split=4, n_estimators=60; total time=   0.3s\n",
      "[CV] END max_depth=60, max_features=auto, min_samples_leaf=7, min_samples_split=4, n_estimators=60; total time=   0.3s\n",
      "[CV] END max_depth=40, max_features=auto, min_samples_leaf=3, min_samples_split=8, n_estimators=70; total time=   0.4s\n",
      "[CV] END max_depth=40, max_features=auto, min_samples_leaf=3, min_samples_split=8, n_estimators=70; total time=   0.4s\n",
      "[CV] END max_depth=40, max_features=auto, min_samples_leaf=3, min_samples_split=8, n_estimators=70; total time=   0.4s\n",
      "[CV] END max_depth=40, max_features=auto, min_samples_leaf=3, min_samples_split=8, n_estimators=70; total time=   0.4s\n",
      "[CV] END max_depth=90, max_features=sqrt, min_samples_leaf=7, min_samples_split=2, n_estimators=40; total time=   0.2s\n",
      "[CV] END max_depth=90, max_features=sqrt, min_samples_leaf=7, min_samples_split=2, n_estimators=40; total time=   0.2s\n",
      "[CV] END max_depth=90, max_features=sqrt, min_samples_leaf=7, min_samples_split=2, n_estimators=40; total time=   0.2s\n",
      "[CV] END max_depth=90, max_features=sqrt, min_samples_leaf=7, min_samples_split=2, n_estimators=40; total time=   0.3s\n",
      "[CV] END max_depth=40, max_features=auto, min_samples_leaf=1, min_samples_split=6, n_estimators=70; total time=   0.4s\n",
      "[CV] END max_depth=40, max_features=auto, min_samples_leaf=1, min_samples_split=6, n_estimators=70; total time=   0.5s\n",
      "[CV] END max_depth=40, max_features=auto, min_samples_leaf=1, min_samples_split=6, n_estimators=70; total time=   0.5s\n",
      "[CV] END max_depth=40, max_features=auto, min_samples_leaf=1, min_samples_split=6, n_estimators=70; total time=   0.4s\n",
      "[CV] END max_depth=60, max_features=auto, min_samples_leaf=7, min_samples_split=2, n_estimators=50; total time=   0.3s\n",
      "[CV] END max_depth=60, max_features=auto, min_samples_leaf=7, min_samples_split=2, n_estimators=50; total time=   0.3s\n",
      "[CV] END max_depth=60, max_features=auto, min_samples_leaf=7, min_samples_split=2, n_estimators=50; total time=   0.3s\n",
      "[CV] END max_depth=60, max_features=auto, min_samples_leaf=7, min_samples_split=2, n_estimators=50; total time=   0.3s\n",
      "[CV] END max_depth=40, max_features=sqrt, min_samples_leaf=7, min_samples_split=4, n_estimators=70; total time=   0.4s\n",
      "[CV] END max_depth=40, max_features=sqrt, min_samples_leaf=7, min_samples_split=4, n_estimators=70; total time=   0.4s\n",
      "[CV] END max_depth=40, max_features=sqrt, min_samples_leaf=7, min_samples_split=4, n_estimators=70; total time=   0.4s\n",
      "[CV] END max_depth=40, max_features=sqrt, min_samples_leaf=7, min_samples_split=4, n_estimators=70; total time=   0.4s\n",
      "[CV] END max_depth=70, max_features=auto, min_samples_leaf=1, min_samples_split=2, n_estimators=70; total time=   0.5s\n",
      "[CV] END max_depth=70, max_features=auto, min_samples_leaf=1, min_samples_split=2, n_estimators=70; total time=   0.5s\n",
      "[CV] END max_depth=70, max_features=auto, min_samples_leaf=1, min_samples_split=2, n_estimators=70; total time=   0.5s\n",
      "[CV] END max_depth=70, max_features=auto, min_samples_leaf=1, min_samples_split=2, n_estimators=70; total time=   0.5s\n",
      "[CV] END max_depth=80, max_features=sqrt, min_samples_leaf=1, min_samples_split=2, n_estimators=40; total time=   0.3s\n",
      "[CV] END max_depth=80, max_features=sqrt, min_samples_leaf=1, min_samples_split=2, n_estimators=40; total time=   0.3s\n",
      "[CV] END max_depth=80, max_features=sqrt, min_samples_leaf=1, min_samples_split=2, n_estimators=40; total time=   0.3s\n",
      "[CV] END max_depth=80, max_features=sqrt, min_samples_leaf=1, min_samples_split=2, n_estimators=40; total time=   0.3s\n",
      "[CV] END max_depth=50, max_features=auto, min_samples_leaf=1, min_samples_split=6, n_estimators=40; total time=   0.3s\n",
      "[CV] END max_depth=50, max_features=auto, min_samples_leaf=1, min_samples_split=6, n_estimators=40; total time=   0.3s\n",
      "[CV] END max_depth=50, max_features=auto, min_samples_leaf=1, min_samples_split=6, n_estimators=40; total time=   0.3s\n",
      "[CV] END max_depth=50, max_features=auto, min_samples_leaf=1, min_samples_split=6, n_estimators=40; total time=   0.3s\n",
      "[CV] END max_depth=80, max_features=auto, min_samples_leaf=7, min_samples_split=4, n_estimators=30; total time=   0.2s\n",
      "[CV] END max_depth=80, max_features=auto, min_samples_leaf=7, min_samples_split=4, n_estimators=30; total time=   0.2s\n",
      "[CV] END max_depth=80, max_features=auto, min_samples_leaf=7, min_samples_split=4, n_estimators=30; total time=   0.2s\n",
      "[CV] END max_depth=80, max_features=auto, min_samples_leaf=7, min_samples_split=4, n_estimators=30; total time=   0.2s\n",
      "[CV] END max_depth=80, max_features=auto, min_samples_leaf=5, min_samples_split=6, n_estimators=30; total time=   0.2s\n",
      "[CV] END max_depth=80, max_features=auto, min_samples_leaf=5, min_samples_split=6, n_estimators=30; total time=   0.2s\n",
      "[CV] END max_depth=80, max_features=auto, min_samples_leaf=5, min_samples_split=6, n_estimators=30; total time=   0.2s\n",
      "[CV] END max_depth=80, max_features=auto, min_samples_leaf=5, min_samples_split=6, n_estimators=30; total time=   0.2s\n",
      "[CV] END max_depth=50, max_features=auto, min_samples_leaf=5, min_samples_split=6, n_estimators=40; total time=   0.2s\n",
      "[CV] END max_depth=50, max_features=auto, min_samples_leaf=5, min_samples_split=6, n_estimators=40; total time=   0.2s\n",
      "[CV] END max_depth=50, max_features=auto, min_samples_leaf=5, min_samples_split=6, n_estimators=40; total time=   0.2s\n",
      "[CV] END max_depth=50, max_features=auto, min_samples_leaf=5, min_samples_split=6, n_estimators=40; total time=   0.3s\n",
      "[CV] END max_depth=50, max_features=auto, min_samples_leaf=1, min_samples_split=8, n_estimators=40; total time=   0.3s\n",
      "[CV] END max_depth=50, max_features=auto, min_samples_leaf=1, min_samples_split=8, n_estimators=40; total time=   0.3s\n",
      "[CV] END max_depth=50, max_features=auto, min_samples_leaf=1, min_samples_split=8, n_estimators=40; total time=   0.3s\n",
      "[CV] END max_depth=50, max_features=auto, min_samples_leaf=1, min_samples_split=8, n_estimators=40; total time=   0.3s\n",
      "[CV] END max_depth=60, max_features=auto, min_samples_leaf=7, min_samples_split=4, n_estimators=70; total time=   0.4s\n",
      "[CV] END max_depth=60, max_features=auto, min_samples_leaf=7, min_samples_split=4, n_estimators=70; total time=   0.4s\n",
      "[CV] END max_depth=60, max_features=auto, min_samples_leaf=7, min_samples_split=4, n_estimators=70; total time=   0.4s\n",
      "[CV] END max_depth=60, max_features=auto, min_samples_leaf=7, min_samples_split=4, n_estimators=70; total time=   0.4s\n",
      "[CV] END max_depth=30, max_features=auto, min_samples_leaf=3, min_samples_split=6, n_estimators=40; total time=   0.3s\n",
      "[CV] END max_depth=30, max_features=auto, min_samples_leaf=3, min_samples_split=6, n_estimators=40; total time=   0.3s\n",
      "[CV] END max_depth=30, max_features=auto, min_samples_leaf=3, min_samples_split=6, n_estimators=40; total time=   0.3s\n",
      "[CV] END max_depth=30, max_features=auto, min_samples_leaf=3, min_samples_split=6, n_estimators=40; total time=   0.3s\n",
      "[CV] END max_depth=60, max_features=sqrt, min_samples_leaf=3, min_samples_split=4, n_estimators=30; total time=   0.2s\n",
      "[CV] END max_depth=60, max_features=sqrt, min_samples_leaf=3, min_samples_split=4, n_estimators=30; total time=   0.2s\n",
      "[CV] END max_depth=60, max_features=sqrt, min_samples_leaf=3, min_samples_split=4, n_estimators=30; total time=   0.2s\n",
      "[CV] END max_depth=60, max_features=sqrt, min_samples_leaf=3, min_samples_split=4, n_estimators=30; total time=   0.2s\n",
      "[CV] END max_depth=90, max_features=auto, min_samples_leaf=1, min_samples_split=4, n_estimators=60; total time=   0.4s\n",
      "[CV] END max_depth=90, max_features=auto, min_samples_leaf=1, min_samples_split=4, n_estimators=60; total time=   0.4s\n",
      "[CV] END max_depth=90, max_features=auto, min_samples_leaf=1, min_samples_split=4, n_estimators=60; total time=   0.4s\n",
      "[CV] END max_depth=90, max_features=auto, min_samples_leaf=1, min_samples_split=4, n_estimators=60; total time=   0.4s\n",
      "[CV] END max_depth=70, max_features=sqrt, min_samples_leaf=3, min_samples_split=6, n_estimators=60; total time=   0.4s\n",
      "[CV] END max_depth=70, max_features=sqrt, min_samples_leaf=3, min_samples_split=6, n_estimators=60; total time=   0.4s\n",
      "[CV] END max_depth=70, max_features=sqrt, min_samples_leaf=3, min_samples_split=6, n_estimators=60; total time=   0.4s\n",
      "[CV] END max_depth=70, max_features=sqrt, min_samples_leaf=3, min_samples_split=6, n_estimators=60; total time=   0.4s\n",
      "[CV] END max_depth=60, max_features=sqrt, min_samples_leaf=3, min_samples_split=2, n_estimators=40; total time=   0.2s\n",
      "[CV] END max_depth=60, max_features=sqrt, min_samples_leaf=3, min_samples_split=2, n_estimators=40; total time=   0.3s\n",
      "[CV] END max_depth=60, max_features=sqrt, min_samples_leaf=3, min_samples_split=2, n_estimators=40; total time=   0.3s\n",
      "[CV] END max_depth=60, max_features=sqrt, min_samples_leaf=3, min_samples_split=2, n_estimators=40; total time=   0.3s\n",
      "[CV] END max_depth=50, max_features=auto, min_samples_leaf=3, min_samples_split=2, n_estimators=70; total time=   0.5s\n",
      "[CV] END max_depth=50, max_features=auto, min_samples_leaf=3, min_samples_split=2, n_estimators=70; total time=   0.4s\n",
      "[CV] END max_depth=50, max_features=auto, min_samples_leaf=3, min_samples_split=2, n_estimators=70; total time=   0.4s\n",
      "[CV] END max_depth=50, max_features=auto, min_samples_leaf=3, min_samples_split=2, n_estimators=70; total time=   0.4s\n",
      "[CV] END max_depth=60, max_features=auto, min_samples_leaf=1, min_samples_split=2, n_estimators=50; total time=   0.3s\n",
      "[CV] END max_depth=60, max_features=auto, min_samples_leaf=1, min_samples_split=2, n_estimators=50; total time=   0.3s\n",
      "[CV] END max_depth=60, max_features=auto, min_samples_leaf=1, min_samples_split=2, n_estimators=50; total time=   0.4s\n",
      "[CV] END max_depth=60, max_features=auto, min_samples_leaf=1, min_samples_split=2, n_estimators=50; total time=   0.3s\n",
      "[CV] END max_depth=50, max_features=auto, min_samples_leaf=1, min_samples_split=2, n_estimators=60; total time=   0.4s\n",
      "[CV] END max_depth=50, max_features=auto, min_samples_leaf=1, min_samples_split=2, n_estimators=60; total time=   0.4s\n",
      "[CV] END max_depth=50, max_features=auto, min_samples_leaf=1, min_samples_split=2, n_estimators=60; total time=   0.4s\n",
      "[CV] END max_depth=50, max_features=auto, min_samples_leaf=1, min_samples_split=2, n_estimators=60; total time=   0.4s\n",
      "[CV] END max_depth=80, max_features=auto, min_samples_leaf=7, min_samples_split=4, n_estimators=40; total time=   0.2s\n",
      "[CV] END max_depth=80, max_features=auto, min_samples_leaf=7, min_samples_split=4, n_estimators=40; total time=   0.2s\n",
      "[CV] END max_depth=80, max_features=auto, min_samples_leaf=7, min_samples_split=4, n_estimators=40; total time=   0.2s\n",
      "[CV] END max_depth=80, max_features=auto, min_samples_leaf=7, min_samples_split=4, n_estimators=40; total time=   0.2s\n",
      "[CV] END max_depth=30, max_features=sqrt, min_samples_leaf=7, min_samples_split=8, n_estimators=40; total time=   0.2s\n",
      "[CV] END max_depth=30, max_features=sqrt, min_samples_leaf=7, min_samples_split=8, n_estimators=40; total time=   0.2s\n",
      "[CV] END max_depth=30, max_features=sqrt, min_samples_leaf=7, min_samples_split=8, n_estimators=40; total time=   0.2s\n",
      "[CV] END max_depth=30, max_features=sqrt, min_samples_leaf=7, min_samples_split=8, n_estimators=40; total time=   0.2s\n",
      "[CV] END max_depth=70, max_features=auto, min_samples_leaf=3, min_samples_split=2, n_estimators=40; total time=   0.3s\n",
      "[CV] END max_depth=70, max_features=auto, min_samples_leaf=3, min_samples_split=2, n_estimators=40; total time=   0.2s\n",
      "[CV] END max_depth=70, max_features=auto, min_samples_leaf=3, min_samples_split=2, n_estimators=40; total time=   0.3s\n",
      "[CV] END max_depth=70, max_features=auto, min_samples_leaf=3, min_samples_split=2, n_estimators=40; total time=   0.2s\n",
      "[CV] END max_depth=80, max_features=sqrt, min_samples_leaf=7, min_samples_split=2, n_estimators=60; total time=   0.4s\n",
      "[CV] END max_depth=80, max_features=sqrt, min_samples_leaf=7, min_samples_split=2, n_estimators=60; total time=   0.4s\n",
      "[CV] END max_depth=80, max_features=sqrt, min_samples_leaf=7, min_samples_split=2, n_estimators=60; total time=   0.4s\n",
      "[CV] END max_depth=80, max_features=sqrt, min_samples_leaf=7, min_samples_split=2, n_estimators=60; total time=   0.4s\n",
      "[CV] END max_depth=50, max_features=sqrt, min_samples_leaf=5, min_samples_split=4, n_estimators=30; total time=   0.2s\n",
      "[CV] END max_depth=50, max_features=sqrt, min_samples_leaf=5, min_samples_split=4, n_estimators=30; total time=   0.2s\n",
      "[CV] END max_depth=50, max_features=sqrt, min_samples_leaf=5, min_samples_split=4, n_estimators=30; total time=   0.2s\n",
      "[CV] END max_depth=50, max_features=sqrt, min_samples_leaf=5, min_samples_split=4, n_estimators=30; total time=   0.2s\n",
      "[CV] END max_depth=60, max_features=auto, min_samples_leaf=3, min_samples_split=2, n_estimators=70; total time=   0.5s\n",
      "[CV] END max_depth=60, max_features=auto, min_samples_leaf=3, min_samples_split=2, n_estimators=70; total time=   0.4s\n",
      "[CV] END max_depth=60, max_features=auto, min_samples_leaf=3, min_samples_split=2, n_estimators=70; total time=   0.4s\n",
      "[CV] END max_depth=60, max_features=auto, min_samples_leaf=3, min_samples_split=2, n_estimators=70; total time=   0.4s\n",
      "[CV] END max_depth=50, max_features=auto, min_samples_leaf=5, min_samples_split=4, n_estimators=30; total time=   0.2s\n",
      "[CV] END max_depth=50, max_features=auto, min_samples_leaf=5, min_samples_split=4, n_estimators=30; total time=   0.2s\n",
      "[CV] END max_depth=50, max_features=auto, min_samples_leaf=5, min_samples_split=4, n_estimators=30; total time=   0.2s\n",
      "[CV] END max_depth=50, max_features=auto, min_samples_leaf=5, min_samples_split=4, n_estimators=30; total time=   0.2s\n",
      "[CV] END max_depth=50, max_features=auto, min_samples_leaf=1, min_samples_split=6, n_estimators=60; total time=   0.4s\n",
      "[CV] END max_depth=50, max_features=auto, min_samples_leaf=1, min_samples_split=6, n_estimators=60; total time=   0.4s\n",
      "[CV] END max_depth=50, max_features=auto, min_samples_leaf=1, min_samples_split=6, n_estimators=60; total time=   0.4s\n",
      "[CV] END max_depth=50, max_features=auto, min_samples_leaf=1, min_samples_split=6, n_estimators=60; total time=   0.4s\n",
      "[CV] END max_depth=90, max_features=auto, min_samples_leaf=5, min_samples_split=2, n_estimators=50; total time=   0.3s\n",
      "[CV] END max_depth=90, max_features=auto, min_samples_leaf=5, min_samples_split=2, n_estimators=50; total time=   0.3s\n",
      "[CV] END max_depth=90, max_features=auto, min_samples_leaf=5, min_samples_split=2, n_estimators=50; total time=   0.3s\n",
      "[CV] END max_depth=90, max_features=auto, min_samples_leaf=5, min_samples_split=2, n_estimators=50; total time=   0.3s\n",
      "[CV] END max_depth=50, max_features=auto, min_samples_leaf=1, min_samples_split=4, n_estimators=50; total time=   0.3s\n",
      "[CV] END max_depth=50, max_features=auto, min_samples_leaf=1, min_samples_split=4, n_estimators=50; total time=   0.3s\n",
      "[CV] END max_depth=50, max_features=auto, min_samples_leaf=1, min_samples_split=4, n_estimators=50; total time=   0.3s\n",
      "[CV] END max_depth=50, max_features=auto, min_samples_leaf=1, min_samples_split=4, n_estimators=50; total time=   0.3s\n",
      "[CV] END max_depth=70, max_features=sqrt, min_samples_leaf=1, min_samples_split=6, n_estimators=40; total time=   0.3s\n",
      "[CV] END max_depth=70, max_features=sqrt, min_samples_leaf=1, min_samples_split=6, n_estimators=40; total time=   0.3s\n",
      "[CV] END max_depth=70, max_features=sqrt, min_samples_leaf=1, min_samples_split=6, n_estimators=40; total time=   0.3s\n",
      "[CV] END max_depth=70, max_features=sqrt, min_samples_leaf=1, min_samples_split=6, n_estimators=40; total time=   0.3s\n",
      "[CV] END max_depth=30, max_features=auto, min_samples_leaf=1, min_samples_split=6, n_estimators=30; total time=   0.2s\n",
      "[CV] END max_depth=30, max_features=auto, min_samples_leaf=1, min_samples_split=6, n_estimators=30; total time=   0.2s\n",
      "[CV] END max_depth=30, max_features=auto, min_samples_leaf=1, min_samples_split=6, n_estimators=30; total time=   0.2s\n",
      "[CV] END max_depth=30, max_features=auto, min_samples_leaf=1, min_samples_split=6, n_estimators=30; total time=   0.2s\n",
      "[CV] END max_depth=50, max_features=auto, min_samples_leaf=3, min_samples_split=6, n_estimators=70; total time=   0.4s\n",
      "[CV] END max_depth=50, max_features=auto, min_samples_leaf=3, min_samples_split=6, n_estimators=70; total time=   0.4s\n",
      "[CV] END max_depth=50, max_features=auto, min_samples_leaf=3, min_samples_split=6, n_estimators=70; total time=   0.4s\n",
      "[CV] END max_depth=50, max_features=auto, min_samples_leaf=3, min_samples_split=6, n_estimators=70; total time=   0.4s\n",
      "[CV] END max_depth=40, max_features=sqrt, min_samples_leaf=5, min_samples_split=6, n_estimators=50; total time=   0.3s\n",
      "[CV] END max_depth=40, max_features=sqrt, min_samples_leaf=5, min_samples_split=6, n_estimators=50; total time=   0.3s\n",
      "[CV] END max_depth=40, max_features=sqrt, min_samples_leaf=5, min_samples_split=6, n_estimators=50; total time=   0.3s\n",
      "[CV] END max_depth=40, max_features=sqrt, min_samples_leaf=5, min_samples_split=6, n_estimators=50; total time=   0.3s\n",
      "[CV] END max_depth=90, max_features=auto, min_samples_leaf=1, min_samples_split=6, n_estimators=30; total time=   0.2s\n",
      "[CV] END max_depth=90, max_features=auto, min_samples_leaf=1, min_samples_split=6, n_estimators=30; total time=   0.2s\n",
      "[CV] END max_depth=90, max_features=auto, min_samples_leaf=1, min_samples_split=6, n_estimators=30; total time=   0.2s\n",
      "[CV] END max_depth=90, max_features=auto, min_samples_leaf=1, min_samples_split=6, n_estimators=30; total time=   0.2s\n",
      "[CV] END max_depth=40, max_features=auto, min_samples_leaf=3, min_samples_split=6, n_estimators=50; total time=   0.3s\n",
      "[CV] END max_depth=40, max_features=auto, min_samples_leaf=3, min_samples_split=6, n_estimators=50; total time=   0.3s\n",
      "[CV] END max_depth=40, max_features=auto, min_samples_leaf=3, min_samples_split=6, n_estimators=50; total time=   0.3s\n",
      "[CV] END max_depth=40, max_features=auto, min_samples_leaf=3, min_samples_split=6, n_estimators=50; total time=   0.3s\n",
      "[CV] END max_depth=70, max_features=sqrt, min_samples_leaf=7, min_samples_split=2, n_estimators=40; total time=   0.2s\n",
      "[CV] END max_depth=70, max_features=sqrt, min_samples_leaf=7, min_samples_split=2, n_estimators=40; total time=   0.2s\n",
      "[CV] END max_depth=70, max_features=sqrt, min_samples_leaf=7, min_samples_split=2, n_estimators=40; total time=   0.2s\n",
      "[CV] END max_depth=70, max_features=sqrt, min_samples_leaf=7, min_samples_split=2, n_estimators=40; total time=   0.2s\n",
      "[CV] END max_depth=60, max_features=auto, min_samples_leaf=1, min_samples_split=8, n_estimators=50; total time=   0.3s\n",
      "[CV] END max_depth=60, max_features=auto, min_samples_leaf=1, min_samples_split=8, n_estimators=50; total time=   0.4s\n",
      "[CV] END max_depth=60, max_features=auto, min_samples_leaf=1, min_samples_split=8, n_estimators=50; total time=   0.4s\n",
      "[CV] END max_depth=60, max_features=auto, min_samples_leaf=1, min_samples_split=8, n_estimators=50; total time=   0.3s\n"
     ]
    }
   ],
   "source": [
    "param_RF = { 'n_estimators': range(30, 71, 10),\n",
    "             'max_depth': range(30, 91, 10),\n",
    "             'min_samples_leaf': [1, 3, 5, 7],\n",
    "             'min_samples_split': range(2, 10, 2),\n",
    "             'max_features': ['auto', 'sqrt'] }\n",
    "\n",
    "scoring = ['f1', 'roc_auc']\n",
    "\n",
    "model_RF = RandomForestClassifier(random_state=RS,\n",
    "                                  class_weight='balanced')\n",
    "\n",
    "random_search_RF = RandomizedSearchCV(estimator=model_RF,\n",
    "                                      param_distributions=param_RF,\n",
    "                                      n_iter=100,\n",
    "                                      cv=4,\n",
    "                                      verbose=2,\n",
    "                                      random_state=RS,\n",
    "                                      scoring=scoring,\n",
    "                                      refit='f1',\n",
    "                                      n_jobs=-1)\n",
    "\n",
    "random_search_RF.fit(features_train, target_train)\n",
    "\n",
    "class_weight_model = random_search_RF.best_estimator_\n",
    "\n",
    "metrics_columns = [f'mean_test_{x}' for x in scoring]\n",
    "final_metrics = pd.DataFrame(random_search_RF.cv_results_)[metrics_columns].iloc[random_search_RF.best_index_]"
   ]
  },
  {
   "cell_type": "code",
   "execution_count": 417,
   "metadata": {},
   "outputs": [
    {
     "name": "stdout",
     "output_type": "stream",
     "text": [
      "Оптимальные гиперпараметры:\n",
      "{'n_estimators': 70, 'min_samples_split': 4, 'min_samples_leaf': 7, 'max_features': 'sqrt', 'max_depth': 90}\n",
      "mean_test_f1         0.613262\n",
      "mean_test_roc_auc    0.855775\n",
      "Name: 14, dtype: float64\n"
     ]
    }
   ],
   "source": [
    "print(f'Оптимальные гиперпараметры:\\n{random_search_RF.best_params_}\\n{final_metrics}')"
   ]
  },
  {
   "cell_type": "markdown",
   "metadata": {},
   "source": [
    "Как видем при взвешивании классов, оптимальные гиперпараметры изменились, но дополнительное обучение позволило нам достичь  __F1-меры равной 0.61__."
   ]
  },
  {
   "cell_type": "markdown",
   "metadata": {},
   "source": [
    "__Общий вывод:__\n",
    "\n",
    "При использовании метода борьбы с дисбалансом \"Взвешивание классов\", лучшие результаты показала модель, обученная на алгоритме \"Случайный лес\" \n",
    "\n",
    "Гиперпараметры:\n",
    "- 'n_estimators': 70,\n",
    "- 'min_samples_split': 4,\n",
    "- 'min_samples_leaf': 7,\n",
    "- 'max_features': 'sqrt',\n",
    "- 'max_depth': 90\n",
    "\n",
    "Метрики:\n",
    "- f1: 0.613262,\n",
    "- roc_auc: 0.855775"
   ]
  },
  {
   "cell_type": "markdown",
   "metadata": {},
   "source": [
    "### Уменьшение выборки\n",
    "\n",
    "Что бы избежать смещения выборки, но так же, использовать кросс валидацию на тренировочных данных, напишем функцию для ручного апсемплинга:\n",
    "\n",
    "- мы должны разбить данные на тренировочный и валидационный датасет\n",
    "- затем в тренировочном датасете уменьшить больший класс\n",
    "- обучить обучить модель\n",
    "- валидировать модель на валидационном датасете"
   ]
  },
  {
   "cell_type": "code",
   "execution_count": 426,
   "metadata": {},
   "outputs": [],
   "source": [
    "def score_model_downsample(model, params):\n",
    "    scores_f1 = []\n",
    "    scores_roc_auc = []\n",
    "    for train_fold_index, val_fold_index in cv.split(features_train):\n",
    "        features_train_fold, target_train_fold = features_train.iloc[train_fold_index], target_train.iloc[train_fold_index]\n",
    "        features_val_fold, target_val_fold = features_train.iloc[val_fold_index], target_train.iloc[val_fold_index]\n",
    "    \n",
    "        features_zeros = features_train_fold[target_train_fold==0]\n",
    "        features_ones = features_train_fold[target_train_fold==1]\n",
    "        target_zeros = target_train_fold[target_train_fold==0]\n",
    "        target_ones = target_train_fold[target_train_fold==1]\n",
    "        \n",
    "        fraction = round(len(features_ones)/len(features_zeros), 1)\n",
    "    \n",
    "        features_downsampled = pd.concat([features_zeros.sample(frac=fraction, random_state=RS)] + [features_ones])\n",
    "        target_downsampled = pd.concat([target_zeros.sample(frac=fraction, random_state=RS)] + [target_ones])\n",
    "    \n",
    "        features_downsampled, target_downsampled = shuffle(features_downsampled, target_downsampled, random_state=RS)\n",
    "    \n",
    "        model_obj = model(**params).fit(features_downsampled, target_downsampled)\n",
    "        predicted_valid = model_obj.predict(features_val_fold)\n",
    "    \n",
    "        score_f1 = f1_score(target_val_fold, predicted_valid)\n",
    "        scores_f1.append(score_f1)\n",
    "        \n",
    "        prob = model_obj.predict_proba(features_val_fold)[:, 1]\n",
    "        score_roc_auc = roc_auc_score(target_val_fold, prob)\n",
    "        scores_roc_auc.append(score_roc_auc)\n",
    "        \n",
    "    return np.array(scores_f1).mean(), np.array(scores_roc_auc).mean()"
   ]
  },
  {
   "cell_type": "markdown",
   "metadata": {},
   "source": [
    "#### Уменьшение выборки в алгоритме Логическая регрессия"
   ]
  },
  {
   "cell_type": "code",
   "execution_count": 427,
   "metadata": {},
   "outputs": [
    {
     "data": {
      "text/plain": [
       "{'solver': 'liblinear',\n",
       " 'max_iter': 100,\n",
       " 'random_state': 42,\n",
       " 'f1': 0.49690697803999634,\n",
       " 'roc_auc': 0.767251843411142}"
      ]
     },
     "execution_count": 427,
     "metadata": {},
     "output_type": "execute_result"
    }
   ],
   "source": [
    "score_tracker = []\n",
    "for solver in param_LR['solver']:\n",
    "    for max_iter in param_LR['max_iter']:\n",
    "        example_params = {\n",
    "            'solver': solver,\n",
    "            'max_iter': max_iter,\n",
    "            'random_state': RS\n",
    "        }\n",
    "        example_params['f1'], example_params['roc_auc'] = score_model_downsample(LogisticRegression, example_params)\n",
    "        score_tracker.append(example_params)\n",
    "\n",
    "sorted(score_tracker, key=lambda x: x['f1'], reverse=True)[0]"
   ]
  },
  {
   "cell_type": "markdown",
   "metadata": {},
   "source": [
    "#### Уменьшение выборки в алгоритме Дерево решений"
   ]
  },
  {
   "cell_type": "code",
   "execution_count": 428,
   "metadata": {},
   "outputs": [
    {
     "data": {
      "text/plain": [
       "{'max_depth': 6,\n",
       " 'min_samples_leaf': 3,\n",
       " 'min_samples_split': 8,\n",
       " 'random_state': 42,\n",
       " 'f1': 0.5664577487978661,\n",
       " 'roc_auc': 0.8242058711118205}"
      ]
     },
     "execution_count": 428,
     "metadata": {},
     "output_type": "execute_result"
    }
   ],
   "source": [
    "score_tracker = []\n",
    "for max_depth in param_DT['max_depth']:\n",
    "    for min_samples_leaf in param_DT['min_samples_leaf']:\n",
    "        for min_samples_split in param_DT['min_samples_split']:\n",
    "            example_params = {\n",
    "                'max_depth': max_depth,\n",
    "                'min_samples_leaf': min_samples_leaf,\n",
    "                'min_samples_split': min_samples_split,\n",
    "                'random_state': RS\n",
    "            }\n",
    "            example_params['f1'], example_params['roc_auc'] = score_model_downsample(DecisionTreeClassifier, example_params)\n",
    "            score_tracker.append(example_params)\n",
    "            \n",
    "sorted(score_tracker, key=lambda x: x['f1'], reverse=True)[0]"
   ]
  },
  {
   "cell_type": "markdown",
   "metadata": {},
   "source": [
    "#### Уменьшение выборки в алгоритме Случайный лес"
   ]
  },
  {
   "cell_type": "code",
   "execution_count": 429,
   "metadata": {},
   "outputs": [
    {
     "data": {
      "text/plain": [
       "{'max_depth': 30,\n",
       " 'min_samples_leaf': 7,\n",
       " 'min_samples_split': 2,\n",
       " 'n_estimators': 40,\n",
       " 'max_features': 'auto',\n",
       " 'random_state': 42,\n",
       " 'f1': 0.5949386889761548,\n",
       " 'roc_auc': 0.8531169590081673}"
      ]
     },
     "execution_count": 429,
     "metadata": {},
     "output_type": "execute_result"
    }
   ],
   "source": [
    "score_tracker = []\n",
    "for max_depth in param_RF['max_depth']:\n",
    "    for min_samples_leaf in param_RF['min_samples_leaf']:\n",
    "        for min_samples_split in param_RF['min_samples_split']:\n",
    "            for n_estimators in param_RF['n_estimators']:\n",
    "                for max_features in param_RF['max_features']:\n",
    "                    example_params = {\n",
    "                'max_depth': max_depth,\n",
    "                'min_samples_leaf': min_samples_leaf,\n",
    "                'min_samples_split': min_samples_split,\n",
    "                        'n_estimators': n_estimators,\n",
    "                        'max_features': max_features,\n",
    "                'random_state': RS\n",
    "            }\n",
    "                    example_params['f1'], example_params['roc_auc'] = score_model_downsample(RandomForestClassifier, example_params)\n",
    "                    score_tracker.append(example_params)\n",
    "            \n",
    "sorted(score_tracker, key=lambda x: x['f1'], reverse=True)[0]"
   ]
  },
  {
   "cell_type": "markdown",
   "metadata": {},
   "source": [
    "__Общий вывод:__\n",
    "\n",
    "При использовании метода борьбы с дисбалансом \"Увеличение выборки\", лучшие результаты показала модель, обученная на алгоритме \"Случайный лес\" \n",
    "\n",
    "Гиперпараметры:\n",
    "- 'n_estimators': 40,\n",
    "- 'min_samples_split': 2,\n",
    "- 'min_samples_leaf': 7,\n",
    "- 'max_features': 'auto',\n",
    "- 'max_depth': 30\n",
    "\n",
    "Метрики:\n",
    "- f1: 0.60,\n",
    "- roc_auc: 0.85"
   ]
  },
  {
   "cell_type": "markdown",
   "metadata": {},
   "source": [
    "### Общий вывод\n",
    "\n",
    "Посмотрим как разные методы решений проблемы дисбаланса справляются с задачей классификации."
   ]
  },
  {
   "cell_type": "code",
   "execution_count": 445,
   "metadata": {},
   "outputs": [
    {
     "data": {
      "text/html": [
       "<div>\n",
       "<style scoped>\n",
       "    .dataframe tbody tr th:only-of-type {\n",
       "        vertical-align: middle;\n",
       "    }\n",
       "\n",
       "    .dataframe tbody tr th {\n",
       "        vertical-align: top;\n",
       "    }\n",
       "\n",
       "    .dataframe thead th {\n",
       "        text-align: right;\n",
       "    }\n",
       "</style>\n",
       "<table border=\"1\" class=\"dataframe\">\n",
       "  <thead>\n",
       "    <tr style=\"text-align: right;\">\n",
       "      <th></th>\n",
       "      <th>model</th>\n",
       "      <th>imbalance_solution</th>\n",
       "      <th>f1_score</th>\n",
       "      <th>roc_auc_score</th>\n",
       "    </tr>\n",
       "  </thead>\n",
       "  <tbody>\n",
       "    <tr>\n",
       "      <th>0</th>\n",
       "      <td>LR</td>\n",
       "      <td>Not</td>\n",
       "      <td>0.320</td>\n",
       "      <td>0.77</td>\n",
       "    </tr>\n",
       "    <tr>\n",
       "      <th>1</th>\n",
       "      <td>DT</td>\n",
       "      <td>Not</td>\n",
       "      <td>0.580</td>\n",
       "      <td>0.83</td>\n",
       "    </tr>\n",
       "    <tr>\n",
       "      <th>2</th>\n",
       "      <td>RF</td>\n",
       "      <td>Not</td>\n",
       "      <td>0.613</td>\n",
       "      <td>0.85</td>\n",
       "    </tr>\n",
       "    <tr>\n",
       "      <th>3</th>\n",
       "      <td>LR</td>\n",
       "      <td>weighing</td>\n",
       "      <td>0.500</td>\n",
       "      <td>0.77</td>\n",
       "    </tr>\n",
       "    <tr>\n",
       "      <th>4</th>\n",
       "      <td>DT</td>\n",
       "      <td>weighing</td>\n",
       "      <td>0.580</td>\n",
       "      <td>0.83</td>\n",
       "    </tr>\n",
       "    <tr>\n",
       "      <th>5</th>\n",
       "      <td>RF</td>\n",
       "      <td>weighing</td>\n",
       "      <td>0.613</td>\n",
       "      <td>0.86</td>\n",
       "    </tr>\n",
       "    <tr>\n",
       "      <th>6</th>\n",
       "      <td>LR</td>\n",
       "      <td>Up</td>\n",
       "      <td>0.490</td>\n",
       "      <td>0.77</td>\n",
       "    </tr>\n",
       "    <tr>\n",
       "      <th>7</th>\n",
       "      <td>DT</td>\n",
       "      <td>Up</td>\n",
       "      <td>0.570</td>\n",
       "      <td>0.83</td>\n",
       "    </tr>\n",
       "    <tr>\n",
       "      <th>8</th>\n",
       "      <td>RF</td>\n",
       "      <td>Up</td>\n",
       "      <td>0.612</td>\n",
       "      <td>0.86</td>\n",
       "    </tr>\n",
       "    <tr>\n",
       "      <th>9</th>\n",
       "      <td>LR</td>\n",
       "      <td>Dn</td>\n",
       "      <td>0.500</td>\n",
       "      <td>0.77</td>\n",
       "    </tr>\n",
       "    <tr>\n",
       "      <th>10</th>\n",
       "      <td>DT</td>\n",
       "      <td>Dn</td>\n",
       "      <td>0.570</td>\n",
       "      <td>0.82</td>\n",
       "    </tr>\n",
       "    <tr>\n",
       "      <th>11</th>\n",
       "      <td>RF</td>\n",
       "      <td>Dn</td>\n",
       "      <td>0.590</td>\n",
       "      <td>0.85</td>\n",
       "    </tr>\n",
       "  </tbody>\n",
       "</table>\n",
       "</div>"
      ],
      "text/plain": [
       "   model imbalance_solution  f1_score  roc_auc_score\n",
       "0     LR                Not     0.320           0.77\n",
       "1     DT                Not     0.580           0.83\n",
       "2     RF                Not     0.613           0.85\n",
       "3     LR           weighing     0.500           0.77\n",
       "4     DT           weighing     0.580           0.83\n",
       "5     RF           weighing     0.613           0.86\n",
       "6     LR                 Up     0.490           0.77\n",
       "7     DT                 Up     0.570           0.83\n",
       "8     RF                 Up     0.612           0.86\n",
       "9     LR                 Dn     0.500           0.77\n",
       "10    DT                 Dn     0.570           0.82\n",
       "11    RF                 Dn     0.590           0.85"
      ]
     },
     "execution_count": 445,
     "metadata": {},
     "output_type": "execute_result"
    }
   ],
   "source": [
    "rez = pd.DataFrame({\n",
    "    'model': ['LR', 'DT', 'RF', 'LR', 'DT', 'RF', 'LR', 'DT', 'RF', 'LR', 'DT', 'RF'], \n",
    "    'imbalance_solution': ['Not', 'Not', 'Not', 'weighing', 'weighing', 'weighing', 'Up', 'Up', 'Up', 'Dn', 'Dn', 'Dn'],\n",
    "    'f1_score': [0.32, 0.58, 0.613, 0.50, 0.58, 0.613, 0.49, 0.57, 0.612, 0.50, 0.57, 0.59],\n",
    "    'roc_auc_score': [0.77, 0.83, 0.85, 0.77, 0.83, 0.86, 0.77, 0.83, 0.86, 0.77, 0.82, 0.85]})\n",
    "rez"
   ]
  },
  {
   "cell_type": "markdown",
   "metadata": {},
   "source": [
    "Оптимальным решением стало встроенная функция Взвешивания классов в алгоритме обучения модели Случайный лес, ее мы и будем использовать для проверки на тестовой выборке."
   ]
  },
  {
   "cell_type": "markdown",
   "metadata": {},
   "source": [
    "## Тестирование модели\n",
    "\n",
    "Проведем финальную оценку модели \"Взвешивание классов\" с  показателем F1-меры 0.61, на сбалансированной по классам выборки.\n",
    "\n",
    "Вычислим AUC-ROC показатель на тестовой выборки для данной модели\n",
    "\n",
    "Визуализируем ROC-кривую."
   ]
  },
  {
   "cell_type": "code",
   "execution_count": 443,
   "metadata": {},
   "outputs": [
    {
     "data": {
      "text/plain": [
       "0.6266531027466938"
      ]
     },
     "execution_count": 443,
     "metadata": {},
     "output_type": "execute_result"
    }
   ],
   "source": [
    "pred =class_weight_model.predict(features_test)\n",
    "f1_score(target_test, pred)"
   ]
  },
  {
   "cell_type": "code",
   "execution_count": 444,
   "metadata": {},
   "outputs": [
    {
     "name": "stdout",
     "output_type": "stream",
     "text": [
      "Random Forest: ROC AUC=0.86\n"
     ]
    },
    {
     "data": {
      "image/png": "[encoded data removed]",
      "text/plain": [
       "<Figure size 432x288 with 1 Axes>"
      ]
     },
     "metadata": {
      "needs_background": "light"
     },
     "output_type": "display_data"
    }
   ],
   "source": [
    "prob = class_weight_model.predict_proba(features_test)\n",
    "prob = prob[:, 1]\n",
    "roc_auc = roc_auc_score(target_test, prob)\n",
    "print('Random Forest: ROC AUC=%.2f' % (roc_auc))\n",
    "\n",
    "fpr, tpr, treshold = roc_curve(target_test, prob)\n",
    "roc_auc = auc(fpr, tpr)\n",
    "\n",
    "plt.plot(fpr, tpr, color='darkorange',\n",
    "         label='ROC кривая (area = %0.2f)' % roc_auc)\n",
    "plt.plot([0, 1], [0, 1], color='navy', linestyle='--')\n",
    "plt.xlim([0.0, 1.0])\n",
    "plt.ylim([0.0, 1.05])\n",
    "plt.xlabel('False Positive Rate')\n",
    "plt.ylabel('True Positive Rate')\n",
    "plt.title('ROC-кривая upsample_model')\n",
    "plt.legend(loc=\"lower right\")\n",
    "plt.show()"
   ]
  },
  {
   "cell_type": "markdown",
   "metadata": {},
   "source": [
    "### Общий вывод\n",
    "\n",
    "Были протестированы модели основанные на алгоритмах машинного обучения :\n",
    "- Логическая регрессия.\n",
    "- Дерево решени.\n",
    "- Случайный лес.\n",
    "Оптимальная модель для прогнозирования, уйдёт клиент из банка в ближайшее время или нет стала модель обученная на алгоритме \"случай лес\"\n",
    "\n",
    "Показаиели модели на тестовых данных соответствуют минимальному заявленному уровню требований:\n",
    "- F1-мера = 0.63\n",
    "- ROC AUC = 0.86\n",
    "\n",
    "«Бета-Банк» больше подготовлен к возможности ухода его клиентов.\n"
   ]
  },
  {
   "cell_type": "code",
   "execution_count": null,
   "metadata": {},
   "outputs": [],
   "source": [
    "Тест"
   ]
  }
 ],
 "metadata": {
  "ExecuteTimeLog": [
   {
    "duration": 1464,
    "start_time": "2022-12-15T11:40:57.879Z"
   },
   {
    "duration": 2238,
    "start_time": "2022-12-15T11:42:13.136Z"
   },
   {
    "duration": 84,
    "start_time": "2022-12-15T11:44:52.372Z"
   },
   {
    "duration": 7143,
    "start_time": "2022-12-15T11:45:03.655Z"
   },
   {
    "duration": 8117,
    "start_time": "2022-12-15T11:45:34.623Z"
   },
   {
    "duration": 1873,
    "start_time": "2022-12-15T11:45:57.570Z"
   },
   {
    "duration": 717,
    "start_time": "2022-12-15T11:49:09.570Z"
   },
   {
    "duration": 126,
    "start_time": "2022-12-15T11:50:30.968Z"
   },
   {
    "duration": 428,
    "start_time": "2022-12-15T11:50:39.201Z"
   },
   {
    "duration": 70,
    "start_time": "2022-12-15T11:51:18.500Z"
   },
   {
    "duration": 3055,
    "start_time": "2022-12-15T11:51:24.835Z"
   },
   {
    "duration": 420,
    "start_time": "2022-12-15T11:51:31.547Z"
   },
   {
    "duration": 1282,
    "start_time": "2022-12-15T11:51:54.949Z"
   },
   {
    "duration": 4,
    "start_time": "2022-12-15T11:52:26.469Z"
   },
   {
    "duration": 73,
    "start_time": "2022-12-15T11:54:05.754Z"
   },
   {
    "duration": 938,
    "start_time": "2022-12-15T11:54:09.949Z"
   },
   {
    "duration": 4,
    "start_time": "2022-12-15T11:54:31.195Z"
   },
   {
    "duration": 200,
    "start_time": "2022-12-15T11:56:04.749Z"
   },
   {
    "duration": 15,
    "start_time": "2022-12-15T11:57:16.364Z"
   },
   {
    "duration": 6,
    "start_time": "2022-12-15T11:58:20.819Z"
   },
   {
    "duration": 4,
    "start_time": "2022-12-15T11:59:56.413Z"
   },
   {
    "duration": 10,
    "start_time": "2022-12-15T12:02:07.145Z"
   },
   {
    "duration": 6,
    "start_time": "2022-12-15T12:03:13.439Z"
   },
   {
    "duration": 87,
    "start_time": "2022-12-15T12:03:31.458Z"
   },
   {
    "duration": 5,
    "start_time": "2022-12-15T12:03:38.159Z"
   },
   {
    "duration": 6,
    "start_time": "2022-12-15T12:05:41.923Z"
   },
   {
    "duration": 18,
    "start_time": "2022-12-15T12:29:50.285Z"
   },
   {
    "duration": 4,
    "start_time": "2022-12-15T12:30:01.478Z"
   },
   {
    "duration": 43,
    "start_time": "2022-12-15T12:30:13.679Z"
   },
   {
    "duration": 39,
    "start_time": "2022-12-15T12:30:29.647Z"
   },
   {
    "duration": 43,
    "start_time": "2022-12-15T12:31:09.514Z"
   },
   {
    "duration": 4,
    "start_time": "2022-12-15T12:31:21.726Z"
   },
   {
    "duration": 48,
    "start_time": "2022-12-15T12:31:21.756Z"
   },
   {
    "duration": 12,
    "start_time": "2022-12-15T12:31:21.806Z"
   },
   {
    "duration": 10,
    "start_time": "2022-12-15T12:31:21.820Z"
   },
   {
    "duration": 4,
    "start_time": "2022-12-15T12:31:21.831Z"
   },
   {
    "duration": 6,
    "start_time": "2022-12-15T12:31:21.837Z"
   },
   {
    "duration": 46,
    "start_time": "2022-12-15T12:31:25.563Z"
   },
   {
    "duration": 14,
    "start_time": "2022-12-15T12:31:40.881Z"
   },
   {
    "duration": 41,
    "start_time": "2022-12-15T12:31:48.649Z"
   },
   {
    "duration": 4,
    "start_time": "2022-12-15T12:32:12.817Z"
   },
   {
    "duration": 55,
    "start_time": "2022-12-15T12:32:12.823Z"
   },
   {
    "duration": 11,
    "start_time": "2022-12-15T12:32:12.880Z"
   },
   {
    "duration": 19,
    "start_time": "2022-12-15T12:32:12.893Z"
   },
   {
    "duration": 4,
    "start_time": "2022-12-15T12:32:12.914Z"
   },
   {
    "duration": 9,
    "start_time": "2022-12-15T12:32:12.920Z"
   },
   {
    "duration": 14,
    "start_time": "2022-12-15T12:32:25.049Z"
   },
   {
    "duration": 47,
    "start_time": "2022-12-15T12:32:32.572Z"
   },
   {
    "duration": 4,
    "start_time": "2022-12-15T12:32:37.414Z"
   },
   {
    "duration": 53,
    "start_time": "2022-12-15T12:32:37.420Z"
   },
   {
    "duration": 12,
    "start_time": "2022-12-15T12:32:37.474Z"
   },
   {
    "duration": 23,
    "start_time": "2022-12-15T12:32:37.487Z"
   },
   {
    "duration": 4,
    "start_time": "2022-12-15T12:32:37.512Z"
   },
   {
    "duration": 11,
    "start_time": "2022-12-15T12:32:37.517Z"
   },
   {
    "duration": 13,
    "start_time": "2022-12-15T12:32:39.346Z"
   },
   {
    "duration": 3,
    "start_time": "2022-12-15T12:34:00.889Z"
   },
   {
    "duration": 74,
    "start_time": "2022-12-15T12:34:00.894Z"
   },
   {
    "duration": 15,
    "start_time": "2022-12-15T12:34:00.970Z"
   },
   {
    "duration": 11,
    "start_time": "2022-12-15T12:34:00.987Z"
   },
   {
    "duration": 6,
    "start_time": "2022-12-15T12:34:01.000Z"
   },
   {
    "duration": 34,
    "start_time": "2022-12-15T12:34:01.008Z"
   },
   {
    "duration": 44,
    "start_time": "2022-12-15T12:34:03.812Z"
   },
   {
    "duration": 43,
    "start_time": "2022-12-15T12:34:15.312Z"
   },
   {
    "duration": 4,
    "start_time": "2022-12-15T12:34:20.479Z"
   },
   {
    "duration": 50,
    "start_time": "2022-12-15T12:34:20.487Z"
   },
   {
    "duration": 11,
    "start_time": "2022-12-15T12:34:20.539Z"
   },
   {
    "duration": 10,
    "start_time": "2022-12-15T12:34:20.551Z"
   },
   {
    "duration": 4,
    "start_time": "2022-12-15T12:34:20.563Z"
   },
   {
    "duration": 6,
    "start_time": "2022-12-15T12:34:20.569Z"
   },
   {
    "duration": 16,
    "start_time": "2022-12-15T12:34:26.242Z"
   },
   {
    "duration": 5,
    "start_time": "2022-12-15T12:35:09.730Z"
   },
   {
    "duration": 4,
    "start_time": "2022-12-15T12:38:29.746Z"
   },
   {
    "duration": 53,
    "start_time": "2022-12-15T12:38:29.752Z"
   },
   {
    "duration": 12,
    "start_time": "2022-12-15T12:38:29.807Z"
   },
   {
    "duration": 19,
    "start_time": "2022-12-15T12:38:29.821Z"
   },
   {
    "duration": 4,
    "start_time": "2022-12-15T12:38:29.842Z"
   },
   {
    "duration": 5,
    "start_time": "2022-12-15T12:38:29.848Z"
   },
   {
    "duration": 15,
    "start_time": "2022-12-15T12:38:31.992Z"
   },
   {
    "duration": 5,
    "start_time": "2022-12-15T12:43:20.364Z"
   },
   {
    "duration": 13,
    "start_time": "2022-12-15T12:43:39.408Z"
   },
   {
    "duration": 88,
    "start_time": "2022-12-15T12:44:53.313Z"
   },
   {
    "duration": 4,
    "start_time": "2022-12-15T12:46:09.191Z"
   },
   {
    "duration": 48,
    "start_time": "2022-12-15T12:46:09.212Z"
   },
   {
    "duration": 13,
    "start_time": "2022-12-15T12:46:09.263Z"
   },
   {
    "duration": 14,
    "start_time": "2022-12-15T12:46:09.278Z"
   },
   {
    "duration": 9,
    "start_time": "2022-12-15T12:46:09.294Z"
   },
   {
    "duration": 18,
    "start_time": "2022-12-15T12:46:09.305Z"
   },
   {
    "duration": 16,
    "start_time": "2022-12-15T12:46:12.657Z"
   },
   {
    "duration": 44,
    "start_time": "2022-12-15T12:47:19.157Z"
   },
   {
    "duration": 1329,
    "start_time": "2022-12-15T12:57:31.135Z"
   },
   {
    "duration": 9,
    "start_time": "2022-12-15T12:57:38.818Z"
   },
   {
    "duration": 5,
    "start_time": "2022-12-15T12:58:13.999Z"
   },
   {
    "duration": 5,
    "start_time": "2022-12-15T12:58:45.757Z"
   },
   {
    "duration": 39,
    "start_time": "2022-12-15T13:19:59.689Z"
   },
   {
    "duration": 8,
    "start_time": "2022-12-15T13:20:33.005Z"
   },
   {
    "duration": 5,
    "start_time": "2022-12-15T13:39:08.818Z"
   },
   {
    "duration": 11,
    "start_time": "2022-12-15T13:41:09.297Z"
   },
   {
    "duration": 12,
    "start_time": "2022-12-15T13:41:25.261Z"
   },
   {
    "duration": 11,
    "start_time": "2022-12-15T13:41:29.315Z"
   },
   {
    "duration": 6,
    "start_time": "2022-12-15T13:41:46.044Z"
   },
   {
    "duration": 12,
    "start_time": "2022-12-15T13:41:51.687Z"
   },
   {
    "duration": 12,
    "start_time": "2022-12-15T13:49:45.214Z"
   },
   {
    "duration": 10,
    "start_time": "2022-12-15T13:49:59.761Z"
   },
   {
    "duration": 4,
    "start_time": "2022-12-15T13:54:47.504Z"
   },
   {
    "duration": 11,
    "start_time": "2022-12-15T14:03:58.473Z"
   },
   {
    "duration": 5,
    "start_time": "2022-12-15T14:05:42.615Z"
   },
   {
    "duration": 36,
    "start_time": "2022-12-15T14:06:09.207Z"
   },
   {
    "duration": 4,
    "start_time": "2022-12-15T14:06:17.951Z"
   },
   {
    "duration": 53,
    "start_time": "2022-12-15T14:06:17.957Z"
   },
   {
    "duration": 12,
    "start_time": "2022-12-15T14:06:18.011Z"
   },
   {
    "duration": 10,
    "start_time": "2022-12-15T14:06:18.025Z"
   },
   {
    "duration": 4,
    "start_time": "2022-12-15T14:06:18.036Z"
   },
   {
    "duration": 11,
    "start_time": "2022-12-15T14:06:18.042Z"
   },
   {
    "duration": 15,
    "start_time": "2022-12-15T14:06:18.054Z"
   },
   {
    "duration": 32,
    "start_time": "2022-12-15T14:06:18.071Z"
   },
   {
    "duration": 4,
    "start_time": "2022-12-15T14:06:18.104Z"
   },
   {
    "duration": 6,
    "start_time": "2022-12-15T14:06:18.111Z"
   },
   {
    "duration": 38,
    "start_time": "2022-12-15T14:06:20.171Z"
   },
   {
    "duration": 10,
    "start_time": "2022-12-15T14:06:37.068Z"
   },
   {
    "duration": 11,
    "start_time": "2022-12-15T14:06:39.362Z"
   },
   {
    "duration": 4,
    "start_time": "2022-12-15T14:06:40.849Z"
   },
   {
    "duration": 69,
    "start_time": "2022-12-15T14:07:05.103Z"
   },
   {
    "duration": 10,
    "start_time": "2022-12-15T14:07:40.299Z"
   },
   {
    "duration": 11,
    "start_time": "2022-12-15T14:07:43.521Z"
   },
   {
    "duration": 5,
    "start_time": "2022-12-15T14:07:46.531Z"
   },
   {
    "duration": 11,
    "start_time": "2022-12-15T14:08:20.152Z"
   },
   {
    "duration": 11,
    "start_time": "2022-12-15T14:08:21.034Z"
   },
   {
    "duration": 5,
    "start_time": "2022-12-15T14:08:21.684Z"
   },
   {
    "duration": 3,
    "start_time": "2022-12-15T14:08:31.617Z"
   },
   {
    "duration": 83,
    "start_time": "2022-12-15T14:08:31.622Z"
   },
   {
    "duration": 12,
    "start_time": "2022-12-15T14:08:31.707Z"
   },
   {
    "duration": 9,
    "start_time": "2022-12-15T14:08:31.722Z"
   },
   {
    "duration": 17,
    "start_time": "2022-12-15T14:08:31.733Z"
   },
   {
    "duration": 22,
    "start_time": "2022-12-15T14:08:31.751Z"
   },
   {
    "duration": 30,
    "start_time": "2022-12-15T14:08:31.775Z"
   },
   {
    "duration": 35,
    "start_time": "2022-12-15T14:08:31.807Z"
   },
   {
    "duration": 4,
    "start_time": "2022-12-15T14:08:31.843Z"
   },
   {
    "duration": 10,
    "start_time": "2022-12-15T14:08:31.849Z"
   },
   {
    "duration": 10,
    "start_time": "2022-12-15T14:08:35.653Z"
   },
   {
    "duration": 11,
    "start_time": "2022-12-15T14:08:36.551Z"
   },
   {
    "duration": 5,
    "start_time": "2022-12-15T14:08:37.286Z"
   },
   {
    "duration": 4,
    "start_time": "2022-12-15T14:09:15.838Z"
   },
   {
    "duration": 53,
    "start_time": "2022-12-15T14:09:15.844Z"
   },
   {
    "duration": 12,
    "start_time": "2022-12-15T14:09:15.899Z"
   },
   {
    "duration": 12,
    "start_time": "2022-12-15T14:09:15.913Z"
   },
   {
    "duration": 4,
    "start_time": "2022-12-15T14:09:15.927Z"
   },
   {
    "duration": 15,
    "start_time": "2022-12-15T14:09:15.932Z"
   },
   {
    "duration": 29,
    "start_time": "2022-12-15T14:09:15.950Z"
   },
   {
    "duration": 34,
    "start_time": "2022-12-15T14:09:15.981Z"
   },
   {
    "duration": 5,
    "start_time": "2022-12-15T14:09:16.017Z"
   },
   {
    "duration": 10,
    "start_time": "2022-12-15T14:09:16.023Z"
   },
   {
    "duration": 13,
    "start_time": "2022-12-15T14:09:19.300Z"
   },
   {
    "duration": 11,
    "start_time": "2022-12-15T14:09:20.217Z"
   },
   {
    "duration": 5,
    "start_time": "2022-12-15T14:09:23.250Z"
   },
   {
    "duration": 5,
    "start_time": "2022-12-15T14:09:56.185Z"
   },
   {
    "duration": 4,
    "start_time": "2022-12-15T14:10:07.519Z"
   },
   {
    "duration": 19,
    "start_time": "2022-12-15T14:11:10.850Z"
   },
   {
    "duration": 3,
    "start_time": "2022-12-15T14:11:17.052Z"
   },
   {
    "duration": 72,
    "start_time": "2022-12-15T14:11:17.058Z"
   },
   {
    "duration": 11,
    "start_time": "2022-12-15T14:11:17.132Z"
   },
   {
    "duration": 21,
    "start_time": "2022-12-15T14:11:17.145Z"
   },
   {
    "duration": 14,
    "start_time": "2022-12-15T14:11:17.168Z"
   },
   {
    "duration": 14,
    "start_time": "2022-12-15T14:11:17.183Z"
   },
   {
    "duration": 37,
    "start_time": "2022-12-15T14:11:17.199Z"
   },
   {
    "duration": 32,
    "start_time": "2022-12-15T14:11:17.238Z"
   },
   {
    "duration": 4,
    "start_time": "2022-12-15T14:11:17.272Z"
   },
   {
    "duration": 23,
    "start_time": "2022-12-15T14:11:17.278Z"
   },
   {
    "duration": 20,
    "start_time": "2022-12-15T14:11:27.115Z"
   },
   {
    "duration": 5,
    "start_time": "2022-12-15T14:11:46.233Z"
   },
   {
    "duration": 7,
    "start_time": "2022-12-15T14:17:46.590Z"
   },
   {
    "duration": 7,
    "start_time": "2022-12-15T14:18:47.798Z"
   },
   {
    "duration": 13,
    "start_time": "2022-12-15T14:19:08.766Z"
   },
   {
    "duration": 3,
    "start_time": "2022-12-15T14:44:09.704Z"
   },
   {
    "duration": 54,
    "start_time": "2022-12-15T14:44:09.709Z"
   },
   {
    "duration": 10,
    "start_time": "2022-12-15T14:44:09.765Z"
   },
   {
    "duration": 17,
    "start_time": "2022-12-15T14:44:09.777Z"
   },
   {
    "duration": 4,
    "start_time": "2022-12-15T14:44:09.797Z"
   },
   {
    "duration": 8,
    "start_time": "2022-12-15T14:44:09.803Z"
   },
   {
    "duration": 16,
    "start_time": "2022-12-15T14:44:09.812Z"
   },
   {
    "duration": 49,
    "start_time": "2022-12-15T14:44:09.829Z"
   },
   {
    "duration": 4,
    "start_time": "2022-12-15T14:44:09.880Z"
   },
   {
    "duration": 5,
    "start_time": "2022-12-15T14:44:09.886Z"
   },
   {
    "duration": 22,
    "start_time": "2022-12-15T14:44:15.456Z"
   },
   {
    "duration": 17,
    "start_time": "2022-12-15T16:08:11.296Z"
   },
   {
    "duration": 36,
    "start_time": "2022-12-15T16:10:45.717Z"
   },
   {
    "duration": 4,
    "start_time": "2022-12-15T16:10:58.630Z"
   },
   {
    "duration": 13704,
    "start_time": "2022-12-15T16:11:06.288Z"
   },
   {
    "duration": 1517,
    "start_time": "2022-12-15T16:14:10.868Z"
   },
   {
    "duration": 39,
    "start_time": "2022-12-15T16:14:20.013Z"
   },
   {
    "duration": 6116,
    "start_time": "2022-12-15T16:14:40.103Z"
   },
   {
    "duration": 3412,
    "start_time": "2022-12-15T16:19:03.740Z"
   },
   {
    "duration": 35,
    "start_time": "2022-12-15T16:20:39.807Z"
   },
   {
    "duration": 36,
    "start_time": "2022-12-15T16:20:56.025Z"
   },
   {
    "duration": 40,
    "start_time": "2022-12-15T16:21:16.829Z"
   },
   {
    "duration": 35,
    "start_time": "2022-12-15T16:21:24.125Z"
   },
   {
    "duration": 35,
    "start_time": "2022-12-15T16:21:32.609Z"
   },
   {
    "duration": 36,
    "start_time": "2022-12-15T16:21:54.309Z"
   },
   {
    "duration": 4,
    "start_time": "2022-12-15T16:51:54.133Z"
   },
   {
    "duration": 34,
    "start_time": "2022-12-15T17:05:10.044Z"
   },
   {
    "duration": 4,
    "start_time": "2022-12-15T17:05:19.841Z"
   },
   {
    "duration": 13,
    "start_time": "2022-12-15T17:05:30.383Z"
   },
   {
    "duration": 5,
    "start_time": "2022-12-16T11:26:46.303Z"
   },
   {
    "duration": 61,
    "start_time": "2022-12-16T11:26:46.309Z"
   },
   {
    "duration": 14,
    "start_time": "2022-12-16T11:26:46.372Z"
   },
   {
    "duration": 10,
    "start_time": "2022-12-16T11:26:46.388Z"
   },
   {
    "duration": 8,
    "start_time": "2022-12-16T11:26:46.401Z"
   },
   {
    "duration": 10,
    "start_time": "2022-12-16T11:26:46.411Z"
   },
   {
    "duration": 39,
    "start_time": "2022-12-16T11:26:46.423Z"
   },
   {
    "duration": 50,
    "start_time": "2022-12-16T11:26:46.464Z"
   },
   {
    "duration": 6,
    "start_time": "2022-12-16T11:26:46.516Z"
   },
   {
    "duration": 28,
    "start_time": "2022-12-16T11:26:46.524Z"
   },
   {
    "duration": 24,
    "start_time": "2022-12-16T11:26:46.555Z"
   },
   {
    "duration": 9,
    "start_time": "2022-12-16T11:26:46.580Z"
   },
   {
    "duration": 14,
    "start_time": "2022-12-16T11:26:46.591Z"
   },
   {
    "duration": 12,
    "start_time": "2022-12-16T11:26:46.607Z"
   },
   {
    "duration": 69,
    "start_time": "2022-12-16T11:26:46.621Z"
   },
   {
    "duration": 44,
    "start_time": "2022-12-16T11:27:53.907Z"
   },
   {
    "duration": 4,
    "start_time": "2022-12-16T11:28:25.497Z"
   },
   {
    "duration": 52,
    "start_time": "2022-12-16T11:28:25.510Z"
   },
   {
    "duration": 11,
    "start_time": "2022-12-16T11:28:25.564Z"
   },
   {
    "duration": 11,
    "start_time": "2022-12-16T11:28:25.576Z"
   },
   {
    "duration": 9,
    "start_time": "2022-12-16T11:28:25.588Z"
   },
   {
    "duration": 7,
    "start_time": "2022-12-16T11:28:25.599Z"
   },
   {
    "duration": 17,
    "start_time": "2022-12-16T11:28:25.607Z"
   },
   {
    "duration": 56,
    "start_time": "2022-12-16T11:28:25.625Z"
   },
   {
    "duration": 5,
    "start_time": "2022-12-16T11:28:25.683Z"
   },
   {
    "duration": 18,
    "start_time": "2022-12-16T11:28:25.689Z"
   },
   {
    "duration": 26,
    "start_time": "2022-12-16T11:28:25.709Z"
   },
   {
    "duration": 18,
    "start_time": "2022-12-16T11:28:25.737Z"
   },
   {
    "duration": 12,
    "start_time": "2022-12-16T11:28:25.756Z"
   },
   {
    "duration": 14,
    "start_time": "2022-12-16T11:28:25.770Z"
   },
   {
    "duration": 4,
    "start_time": "2022-12-16T11:28:33.857Z"
   },
   {
    "duration": 40,
    "start_time": "2022-12-16T11:28:37.408Z"
   },
   {
    "duration": 7,
    "start_time": "2022-12-16T11:28:57.694Z"
   },
   {
    "duration": 6,
    "start_time": "2022-12-16T11:29:34.375Z"
   },
   {
    "duration": 8,
    "start_time": "2022-12-16T11:34:28.590Z"
   },
   {
    "duration": 8,
    "start_time": "2022-12-16T11:34:46.456Z"
   },
   {
    "duration": 10,
    "start_time": "2022-12-16T11:35:06.372Z"
   },
   {
    "duration": 9,
    "start_time": "2022-12-16T11:35:21.587Z"
   },
   {
    "duration": 78,
    "start_time": "2022-12-16T11:35:31.754Z"
   },
   {
    "duration": 74,
    "start_time": "2022-12-16T11:37:29.270Z"
   },
   {
    "duration": 4,
    "start_time": "2022-12-16T11:37:39.589Z"
   },
   {
    "duration": 57,
    "start_time": "2022-12-16T11:37:39.594Z"
   },
   {
    "duration": 12,
    "start_time": "2022-12-16T11:37:39.652Z"
   },
   {
    "duration": 17,
    "start_time": "2022-12-16T11:37:39.666Z"
   },
   {
    "duration": 4,
    "start_time": "2022-12-16T11:37:39.686Z"
   },
   {
    "duration": 10,
    "start_time": "2022-12-16T11:37:39.692Z"
   },
   {
    "duration": 17,
    "start_time": "2022-12-16T11:37:39.704Z"
   },
   {
    "duration": 53,
    "start_time": "2022-12-16T11:37:39.722Z"
   },
   {
    "duration": 4,
    "start_time": "2022-12-16T11:37:39.776Z"
   },
   {
    "duration": 10,
    "start_time": "2022-12-16T11:37:39.781Z"
   },
   {
    "duration": 22,
    "start_time": "2022-12-16T11:37:39.793Z"
   },
   {
    "duration": 7,
    "start_time": "2022-12-16T11:37:39.816Z"
   },
   {
    "duration": 31,
    "start_time": "2022-12-16T11:37:39.825Z"
   },
   {
    "duration": 13,
    "start_time": "2022-12-16T11:37:39.858Z"
   },
   {
    "duration": 4,
    "start_time": "2022-12-16T11:37:39.873Z"
   },
   {
    "duration": 78,
    "start_time": "2022-12-16T11:37:41.873Z"
   },
   {
    "duration": 73,
    "start_time": "2022-12-16T11:37:50.467Z"
   },
   {
    "duration": 71,
    "start_time": "2022-12-16T11:38:07.751Z"
   },
   {
    "duration": 9,
    "start_time": "2022-12-16T11:38:19.203Z"
   },
   {
    "duration": 69,
    "start_time": "2022-12-16T11:38:44.498Z"
   },
   {
    "duration": 8,
    "start_time": "2022-12-16T11:38:53.803Z"
   },
   {
    "duration": 8,
    "start_time": "2022-12-16T11:39:11.871Z"
   },
   {
    "duration": 8,
    "start_time": "2022-12-16T11:40:03.986Z"
   },
   {
    "duration": 8,
    "start_time": "2022-12-16T11:40:26.501Z"
   },
   {
    "duration": 8,
    "start_time": "2022-12-16T11:40:45.433Z"
   },
   {
    "duration": 4,
    "start_time": "2022-12-16T11:40:58.528Z"
   },
   {
    "duration": 55,
    "start_time": "2022-12-16T11:40:58.534Z"
   },
   {
    "duration": 11,
    "start_time": "2022-12-16T11:40:58.590Z"
   },
   {
    "duration": 15,
    "start_time": "2022-12-16T11:40:58.602Z"
   },
   {
    "duration": 9,
    "start_time": "2022-12-16T11:40:58.619Z"
   },
   {
    "duration": 20,
    "start_time": "2022-12-16T11:40:58.630Z"
   },
   {
    "duration": 24,
    "start_time": "2022-12-16T11:40:58.651Z"
   },
   {
    "duration": 46,
    "start_time": "2022-12-16T11:40:58.676Z"
   },
   {
    "duration": 4,
    "start_time": "2022-12-16T11:40:58.723Z"
   },
   {
    "duration": 30,
    "start_time": "2022-12-16T11:40:58.729Z"
   },
   {
    "duration": 27,
    "start_time": "2022-12-16T11:40:58.761Z"
   },
   {
    "duration": 19,
    "start_time": "2022-12-16T11:40:58.789Z"
   },
   {
    "duration": 26,
    "start_time": "2022-12-16T11:40:58.809Z"
   },
   {
    "duration": 27,
    "start_time": "2022-12-16T11:40:58.844Z"
   },
   {
    "duration": 9,
    "start_time": "2022-12-16T11:40:58.872Z"
   },
   {
    "duration": 8,
    "start_time": "2022-12-16T11:41:01.019Z"
   },
   {
    "duration": 10,
    "start_time": "2022-12-16T11:41:12.348Z"
   },
   {
    "duration": 13,
    "start_time": "2022-12-16T11:48:30.419Z"
   },
   {
    "duration": 48,
    "start_time": "2022-12-16T11:52:11.009Z"
   },
   {
    "duration": 31,
    "start_time": "2022-12-16T11:53:23.943Z"
   },
   {
    "duration": 43,
    "start_time": "2022-12-16T12:06:42.886Z"
   },
   {
    "duration": 43,
    "start_time": "2022-12-16T12:07:04.702Z"
   },
   {
    "duration": 127237,
    "start_time": "2022-12-16T12:07:32.022Z"
   },
   {
    "duration": 4,
    "start_time": "2022-12-16T12:11:29.634Z"
   },
   {
    "duration": 95162,
    "start_time": "2022-12-16T12:16:07.816Z"
   },
   {
    "duration": 43705,
    "start_time": "2022-12-16T12:18:45.564Z"
   },
   {
    "duration": 4360,
    "start_time": "2022-12-16T12:20:39.195Z"
   },
   {
    "duration": 43439,
    "start_time": "2022-12-16T12:45:13.515Z"
   },
   {
    "duration": 44,
    "start_time": "2022-12-16T12:47:18.880Z"
   },
   {
    "duration": 40,
    "start_time": "2022-12-16T12:48:08.245Z"
   },
   {
    "duration": 40,
    "start_time": "2022-12-16T12:48:37.313Z"
   },
   {
    "duration": 43,
    "start_time": "2022-12-16T12:49:24.226Z"
   },
   {
    "duration": 807061,
    "start_time": "2022-12-16T12:49:39.962Z"
   },
   {
    "duration": 4,
    "start_time": "2022-12-16T13:03:31.982Z"
   },
   {
    "duration": 40,
    "start_time": "2022-12-16T13:14:06.887Z"
   },
   {
    "duration": 51,
    "start_time": "2022-12-16T13:14:52.453Z"
   },
   {
    "duration": 37,
    "start_time": "2022-12-16T13:15:36.134Z"
   },
   {
    "duration": 40,
    "start_time": "2022-12-16T13:16:46.034Z"
   },
   {
    "duration": 38,
    "start_time": "2022-12-16T13:18:44.382Z"
   },
   {
    "duration": 4,
    "start_time": "2022-12-16T13:18:56.166Z"
   },
   {
    "duration": 50,
    "start_time": "2022-12-16T13:19:07.107Z"
   },
   {
    "duration": 74559,
    "start_time": "2022-12-16T13:19:29.296Z"
   },
   {
    "duration": 109303,
    "start_time": "2022-12-16T13:32:33.026Z"
   },
   {
    "duration": 72363,
    "start_time": "2022-12-16T13:35:57.238Z"
   },
   {
    "duration": 1307,
    "start_time": "2022-12-16T13:44:46.022Z"
   },
   {
    "duration": 1265,
    "start_time": "2022-12-16T13:45:58.155Z"
   },
   {
    "duration": 38,
    "start_time": "2022-12-16T14:07:03.336Z"
   },
   {
    "duration": 79,
    "start_time": "2022-12-16T14:08:03.052Z"
   },
   {
    "duration": 73,
    "start_time": "2022-12-16T14:08:42.871Z"
   },
   {
    "duration": 51324,
    "start_time": "2022-12-16T14:08:55.449Z"
   },
   {
    "duration": 3,
    "start_time": "2022-12-16T14:24:51.567Z"
   },
   {
    "duration": 51423,
    "start_time": "2022-12-16T14:33:36.322Z"
   },
   {
    "duration": 37,
    "start_time": "2022-12-16T14:38:33.513Z"
   },
   {
    "duration": 57113,
    "start_time": "2022-12-16T14:39:40.961Z"
   },
   {
    "duration": 4,
    "start_time": "2022-12-16T14:41:57.215Z"
   },
   {
    "duration": 36,
    "start_time": "2022-12-16T14:46:36.365Z"
   },
   {
    "duration": 4,
    "start_time": "2022-12-16T14:52:50.844Z"
   },
   {
    "duration": 4,
    "start_time": "2022-12-16T14:55:13.224Z"
   },
   {
    "duration": 8,
    "start_time": "2022-12-16T14:55:21.491Z"
   },
   {
    "duration": 16,
    "start_time": "2022-12-16T14:56:14.146Z"
   },
   {
    "duration": 4,
    "start_time": "2022-12-16T18:06:42.286Z"
   },
   {
    "duration": 72,
    "start_time": "2022-12-16T18:06:42.292Z"
   },
   {
    "duration": 13,
    "start_time": "2022-12-16T18:06:42.365Z"
   },
   {
    "duration": 21,
    "start_time": "2022-12-16T18:06:42.380Z"
   },
   {
    "duration": 18,
    "start_time": "2022-12-16T18:06:42.403Z"
   },
   {
    "duration": 12,
    "start_time": "2022-12-16T18:06:42.424Z"
   },
   {
    "duration": 28,
    "start_time": "2022-12-16T18:06:42.438Z"
   },
   {
    "duration": 57,
    "start_time": "2022-12-16T18:06:42.468Z"
   },
   {
    "duration": 6,
    "start_time": "2022-12-16T18:06:42.528Z"
   },
   {
    "duration": 24,
    "start_time": "2022-12-16T18:06:42.536Z"
   },
   {
    "duration": 47,
    "start_time": "2022-12-16T18:06:42.562Z"
   },
   {
    "duration": 9,
    "start_time": "2022-12-16T18:06:42.611Z"
   },
   {
    "duration": 17,
    "start_time": "2022-12-16T18:06:42.622Z"
   },
   {
    "duration": 12,
    "start_time": "2022-12-16T18:06:42.640Z"
   },
   {
    "duration": 4,
    "start_time": "2022-12-16T18:06:42.654Z"
   },
   {
    "duration": 14,
    "start_time": "2022-12-16T18:06:42.659Z"
   },
   {
    "duration": 41,
    "start_time": "2022-12-16T18:06:42.675Z"
   },
   {
    "duration": 5240,
    "start_time": "2022-12-16T18:06:42.718Z"
   },
   {
    "duration": 73285,
    "start_time": "2022-12-16T18:06:47.960Z"
   },
   {
    "duration": 56928,
    "start_time": "2022-12-16T18:08:01.247Z"
   },
   {
    "duration": 4,
    "start_time": "2022-12-16T18:08:58.177Z"
   },
   {
    "duration": 3,
    "start_time": "2022-12-16T18:09:23.689Z"
   },
   {
    "duration": 18,
    "start_time": "2022-12-16T18:09:27.825Z"
   },
   {
    "duration": 70,
    "start_time": "2022-12-16T18:38:16.391Z"
   },
   {
    "duration": 74,
    "start_time": "2022-12-16T18:38:44.948Z"
   },
   {
    "duration": 33,
    "start_time": "2022-12-16T18:39:42.550Z"
   },
   {
    "duration": 7,
    "start_time": "2022-12-16T18:41:49.963Z"
   },
   {
    "duration": 1608,
    "start_time": "2022-12-17T12:22:23.182Z"
   },
   {
    "duration": 190,
    "start_time": "2022-12-17T12:22:24.793Z"
   },
   {
    "duration": 13,
    "start_time": "2022-12-17T12:22:24.985Z"
   },
   {
    "duration": 12,
    "start_time": "2022-12-17T12:22:25.000Z"
   },
   {
    "duration": 28,
    "start_time": "2022-12-17T12:22:25.014Z"
   },
   {
    "duration": 20,
    "start_time": "2022-12-17T12:22:25.043Z"
   },
   {
    "duration": 22,
    "start_time": "2022-12-17T12:22:25.064Z"
   },
   {
    "duration": 37,
    "start_time": "2022-12-17T12:22:25.088Z"
   },
   {
    "duration": 5,
    "start_time": "2022-12-17T12:22:25.127Z"
   },
   {
    "duration": 21,
    "start_time": "2022-12-17T12:22:25.134Z"
   },
   {
    "duration": 34,
    "start_time": "2022-12-17T12:22:25.157Z"
   },
   {
    "duration": 20,
    "start_time": "2022-12-17T12:22:25.192Z"
   },
   {
    "duration": 28,
    "start_time": "2022-12-17T12:22:25.214Z"
   },
   {
    "duration": 12,
    "start_time": "2022-12-17T12:22:25.244Z"
   },
   {
    "duration": 4,
    "start_time": "2022-12-17T12:22:25.257Z"
   },
   {
    "duration": 11,
    "start_time": "2022-12-17T12:22:25.262Z"
   },
   {
    "duration": 40,
    "start_time": "2022-12-17T12:22:25.274Z"
   },
   {
    "duration": 6799,
    "start_time": "2022-12-17T12:22:25.315Z"
   },
   {
    "duration": 76457,
    "start_time": "2022-12-17T12:22:32.206Z"
   },
   {
    "duration": 7,
    "start_time": "2022-12-17T12:23:48.664Z"
   },
   {
    "duration": 58992,
    "start_time": "2022-12-17T12:23:48.672Z"
   },
   {
    "duration": 5,
    "start_time": "2022-12-17T12:24:47.666Z"
   },
   {
    "duration": 42,
    "start_time": "2022-12-17T12:24:47.673Z"
   },
   {
    "duration": 5,
    "start_time": "2022-12-17T12:24:47.718Z"
   },
   {
    "duration": 97,
    "start_time": "2022-12-17T12:24:47.725Z"
   },
   {
    "duration": 23,
    "start_time": "2022-12-17T12:29:04.388Z"
   },
   {
    "duration": 11,
    "start_time": "2022-12-17T13:10:26.378Z"
   },
   {
    "duration": 4,
    "start_time": "2022-12-17T13:11:04.570Z"
   },
   {
    "duration": 78,
    "start_time": "2022-12-17T13:11:04.576Z"
   },
   {
    "duration": 12,
    "start_time": "2022-12-17T13:11:04.656Z"
   },
   {
    "duration": 20,
    "start_time": "2022-12-17T13:11:04.670Z"
   },
   {
    "duration": 32,
    "start_time": "2022-12-17T13:11:04.691Z"
   },
   {
    "duration": 23,
    "start_time": "2022-12-17T13:11:04.724Z"
   },
   {
    "duration": 33,
    "start_time": "2022-12-17T13:11:04.749Z"
   },
   {
    "duration": 46,
    "start_time": "2022-12-17T13:11:04.783Z"
   },
   {
    "duration": 5,
    "start_time": "2022-12-17T13:11:04.830Z"
   },
   {
    "duration": 27,
    "start_time": "2022-12-17T13:11:04.837Z"
   },
   {
    "duration": 27,
    "start_time": "2022-12-17T13:11:04.866Z"
   },
   {
    "duration": 8,
    "start_time": "2022-12-17T13:11:04.895Z"
   },
   {
    "duration": 18,
    "start_time": "2022-12-17T13:11:04.905Z"
   },
   {
    "duration": 24,
    "start_time": "2022-12-17T13:11:04.924Z"
   },
   {
    "duration": 4,
    "start_time": "2022-12-17T13:11:04.950Z"
   },
   {
    "duration": 13,
    "start_time": "2022-12-17T13:11:04.955Z"
   },
   {
    "duration": 48,
    "start_time": "2022-12-17T13:11:04.969Z"
   },
   {
    "duration": 5589,
    "start_time": "2022-12-17T13:11:12.120Z"
   },
   {
    "duration": 78954,
    "start_time": "2022-12-17T13:11:50.864Z"
   },
   {
    "duration": 72040,
    "start_time": "2022-12-17T13:14:07.030Z"
   },
   {
    "duration": 80001,
    "start_time": "2022-12-17T13:21:56.329Z"
   },
   {
    "duration": 25,
    "start_time": "2022-12-17T13:29:22.204Z"
   },
   {
    "duration": 67,
    "start_time": "2022-12-17T13:35:39.927Z"
   },
   {
    "duration": 86,
    "start_time": "2022-12-17T13:35:49.665Z"
   },
   {
    "duration": 66,
    "start_time": "2022-12-17T13:36:20.300Z"
   },
   {
    "duration": 27,
    "start_time": "2022-12-17T13:37:14.986Z"
   },
   {
    "duration": 65,
    "start_time": "2022-12-17T13:38:22.499Z"
   },
   {
    "duration": 66,
    "start_time": "2022-12-17T13:38:37.104Z"
   },
   {
    "duration": 127,
    "start_time": "2022-12-17T13:39:17.383Z"
   },
   {
    "duration": 143,
    "start_time": "2022-12-17T13:39:29.035Z"
   },
   {
    "duration": 124,
    "start_time": "2022-12-17T13:40:55.979Z"
   },
   {
    "duration": 1226,
    "start_time": "2022-12-17T13:41:05.864Z"
   },
   {
    "duration": 7,
    "start_time": "2022-12-17T13:42:58.453Z"
   },
   {
    "duration": 55,
    "start_time": "2022-12-17T13:42:58.462Z"
   },
   {
    "duration": 11,
    "start_time": "2022-12-17T13:42:58.519Z"
   },
   {
    "duration": 12,
    "start_time": "2022-12-17T13:42:58.531Z"
   },
   {
    "duration": 4,
    "start_time": "2022-12-17T13:42:58.545Z"
   },
   {
    "duration": 5,
    "start_time": "2022-12-17T13:42:58.551Z"
   },
   {
    "duration": 51,
    "start_time": "2022-12-17T13:42:58.558Z"
   },
   {
    "duration": 35,
    "start_time": "2022-12-17T13:42:58.611Z"
   },
   {
    "duration": 6,
    "start_time": "2022-12-17T13:42:58.648Z"
   },
   {
    "duration": 10,
    "start_time": "2022-12-17T13:42:58.656Z"
   },
   {
    "duration": 54,
    "start_time": "2022-12-17T13:42:58.668Z"
   },
   {
    "duration": 8,
    "start_time": "2022-12-17T13:42:58.724Z"
   },
   {
    "duration": 14,
    "start_time": "2022-12-17T13:42:58.733Z"
   },
   {
    "duration": 13,
    "start_time": "2022-12-17T13:42:58.749Z"
   },
   {
    "duration": 42,
    "start_time": "2022-12-17T13:42:58.763Z"
   },
   {
    "duration": 8,
    "start_time": "2022-12-17T13:42:58.807Z"
   },
   {
    "duration": 34,
    "start_time": "2022-12-17T13:42:58.817Z"
   },
   {
    "duration": 138,
    "start_time": "2022-12-17T13:43:07.764Z"
   },
   {
    "duration": 21,
    "start_time": "2022-12-17T13:43:21.146Z"
   },
   {
    "duration": 1145,
    "start_time": "2022-12-17T13:44:00.730Z"
   },
   {
    "duration": 1105,
    "start_time": "2022-12-17T13:44:11.571Z"
   },
   {
    "duration": 4,
    "start_time": "2022-12-17T13:44:15.237Z"
   },
   {
    "duration": 57,
    "start_time": "2022-12-17T13:44:15.244Z"
   },
   {
    "duration": 18,
    "start_time": "2022-12-17T13:44:15.303Z"
   },
   {
    "duration": 11,
    "start_time": "2022-12-17T13:44:15.323Z"
   },
   {
    "duration": 11,
    "start_time": "2022-12-17T13:44:15.336Z"
   },
   {
    "duration": 8,
    "start_time": "2022-12-17T13:44:15.352Z"
   },
   {
    "duration": 26,
    "start_time": "2022-12-17T13:44:15.362Z"
   },
   {
    "duration": 45,
    "start_time": "2022-12-17T13:44:15.390Z"
   },
   {
    "duration": 5,
    "start_time": "2022-12-17T13:44:15.437Z"
   },
   {
    "duration": 9,
    "start_time": "2022-12-17T13:44:15.443Z"
   },
   {
    "duration": 52,
    "start_time": "2022-12-17T13:44:15.453Z"
   },
   {
    "duration": 8,
    "start_time": "2022-12-17T13:44:15.506Z"
   },
   {
    "duration": 15,
    "start_time": "2022-12-17T13:44:15.516Z"
   },
   {
    "duration": 14,
    "start_time": "2022-12-17T13:44:15.533Z"
   },
   {
    "duration": 4,
    "start_time": "2022-12-17T13:44:15.548Z"
   },
   {
    "duration": 9,
    "start_time": "2022-12-17T13:44:15.553Z"
   },
   {
    "duration": 69,
    "start_time": "2022-12-17T13:44:15.564Z"
   },
   {
    "duration": 88,
    "start_time": "2022-12-17T13:44:24.661Z"
   },
   {
    "duration": 23,
    "start_time": "2022-12-17T13:44:28.112Z"
   },
   {
    "duration": 12,
    "start_time": "2022-12-17T13:44:45.645Z"
   },
   {
    "duration": 4,
    "start_time": "2022-12-17T13:46:53.195Z"
   },
   {
    "duration": 72,
    "start_time": "2022-12-17T13:46:53.202Z"
   },
   {
    "duration": 12,
    "start_time": "2022-12-17T13:46:53.276Z"
   },
   {
    "duration": 43,
    "start_time": "2022-12-17T13:46:53.290Z"
   },
   {
    "duration": 5,
    "start_time": "2022-12-17T13:46:53.335Z"
   },
   {
    "duration": 8,
    "start_time": "2022-12-17T13:46:53.341Z"
   },
   {
    "duration": 18,
    "start_time": "2022-12-17T13:46:53.350Z"
   },
   {
    "duration": 52,
    "start_time": "2022-12-17T13:46:53.369Z"
   },
   {
    "duration": 6,
    "start_time": "2022-12-17T13:46:53.424Z"
   },
   {
    "duration": 8,
    "start_time": "2022-12-17T13:46:53.432Z"
   },
   {
    "duration": 19,
    "start_time": "2022-12-17T13:46:53.442Z"
   },
   {
    "duration": 6,
    "start_time": "2022-12-17T13:46:53.463Z"
   },
   {
    "duration": 44,
    "start_time": "2022-12-17T13:46:53.471Z"
   },
   {
    "duration": 19,
    "start_time": "2022-12-17T13:46:53.518Z"
   },
   {
    "duration": 5,
    "start_time": "2022-12-17T13:46:53.538Z"
   },
   {
    "duration": 9,
    "start_time": "2022-12-17T13:46:53.545Z"
   },
   {
    "duration": 53,
    "start_time": "2022-12-17T13:46:53.556Z"
   },
   {
    "duration": 112,
    "start_time": "2022-12-17T13:46:54.928Z"
   },
   {
    "duration": 12,
    "start_time": "2022-12-17T13:47:08.631Z"
   },
   {
    "duration": 1286,
    "start_time": "2022-12-17T13:47:37.332Z"
   },
   {
    "duration": 4,
    "start_time": "2022-12-17T13:48:12.457Z"
   },
   {
    "duration": 66,
    "start_time": "2022-12-17T13:48:12.462Z"
   },
   {
    "duration": 12,
    "start_time": "2022-12-17T13:48:12.529Z"
   },
   {
    "duration": 29,
    "start_time": "2022-12-17T13:48:12.542Z"
   },
   {
    "duration": 5,
    "start_time": "2022-12-17T13:48:12.573Z"
   },
   {
    "duration": 25,
    "start_time": "2022-12-17T13:48:12.579Z"
   },
   {
    "duration": 26,
    "start_time": "2022-12-17T13:48:12.606Z"
   },
   {
    "duration": 31,
    "start_time": "2022-12-17T13:48:12.634Z"
   },
   {
    "duration": 4,
    "start_time": "2022-12-17T13:48:12.666Z"
   },
   {
    "duration": 15,
    "start_time": "2022-12-17T13:48:12.672Z"
   },
   {
    "duration": 37,
    "start_time": "2022-12-17T13:48:12.688Z"
   },
   {
    "duration": 12,
    "start_time": "2022-12-17T13:48:12.726Z"
   },
   {
    "duration": 18,
    "start_time": "2022-12-17T13:48:12.739Z"
   },
   {
    "duration": 22,
    "start_time": "2022-12-17T13:48:12.759Z"
   },
   {
    "duration": 8,
    "start_time": "2022-12-17T13:48:12.782Z"
   },
   {
    "duration": 14,
    "start_time": "2022-12-17T13:48:12.791Z"
   },
   {
    "duration": 50,
    "start_time": "2022-12-17T13:48:12.806Z"
   },
   {
    "duration": 89,
    "start_time": "2022-12-17T13:48:22.259Z"
   },
   {
    "duration": 12,
    "start_time": "2022-12-17T13:48:33.979Z"
   },
   {
    "duration": 1112,
    "start_time": "2022-12-17T13:49:10.395Z"
   },
   {
    "duration": 1113,
    "start_time": "2022-12-17T13:49:21.324Z"
   },
   {
    "duration": 1686,
    "start_time": "2022-12-17T13:54:34.835Z"
   },
   {
    "duration": 119,
    "start_time": "2022-12-17T13:54:36.524Z"
   },
   {
    "duration": 13,
    "start_time": "2022-12-17T13:54:36.645Z"
   },
   {
    "duration": 12,
    "start_time": "2022-12-17T13:54:36.660Z"
   },
   {
    "duration": 4,
    "start_time": "2022-12-17T13:54:36.675Z"
   },
   {
    "duration": 6,
    "start_time": "2022-12-17T13:54:36.681Z"
   },
   {
    "duration": 18,
    "start_time": "2022-12-17T13:54:36.689Z"
   },
   {
    "duration": 35,
    "start_time": "2022-12-17T13:54:36.709Z"
   },
   {
    "duration": 31,
    "start_time": "2022-12-17T13:54:36.746Z"
   },
   {
    "duration": 5,
    "start_time": "2022-12-17T13:54:36.779Z"
   },
   {
    "duration": 27,
    "start_time": "2022-12-17T13:54:36.785Z"
   },
   {
    "duration": 8,
    "start_time": "2022-12-17T13:54:36.814Z"
   },
   {
    "duration": 14,
    "start_time": "2022-12-17T13:54:36.824Z"
   },
   {
    "duration": 44,
    "start_time": "2022-12-17T13:54:36.841Z"
   },
   {
    "duration": 4,
    "start_time": "2022-12-17T13:54:36.887Z"
   },
   {
    "duration": 12,
    "start_time": "2022-12-17T13:54:36.892Z"
   },
   {
    "duration": 36,
    "start_time": "2022-12-17T13:54:36.905Z"
   },
   {
    "duration": 97,
    "start_time": "2022-12-17T13:54:41.356Z"
   },
   {
    "duration": 8,
    "start_time": "2022-12-17T13:57:32.405Z"
   },
   {
    "duration": 43,
    "start_time": "2022-12-17T14:03:05.206Z"
   },
   {
    "duration": 124,
    "start_time": "2022-12-17T14:03:16.038Z"
   },
   {
    "duration": 54,
    "start_time": "2022-12-17T14:04:19.602Z"
   },
   {
    "duration": 12,
    "start_time": "2022-12-17T14:04:26.537Z"
   },
   {
    "duration": 97901,
    "start_time": "2022-12-17T14:05:04.439Z"
   },
   {
    "duration": 5,
    "start_time": "2022-12-17T14:08:40.115Z"
   },
   {
    "duration": 17,
    "start_time": "2022-12-17T14:08:54.189Z"
   },
   {
    "duration": 10,
    "start_time": "2022-12-17T14:09:45.700Z"
   },
   {
    "duration": 17,
    "start_time": "2022-12-17T14:11:25.116Z"
   },
   {
    "duration": 100696,
    "start_time": "2022-12-17T14:21:26.358Z"
   },
   {
    "duration": 48,
    "start_time": "2022-12-17T14:24:36.025Z"
   },
   {
    "duration": 11,
    "start_time": "2022-12-17T14:24:42.838Z"
   },
   {
    "duration": 11,
    "start_time": "2022-12-17T14:27:47.453Z"
   },
   {
    "duration": 97563,
    "start_time": "2022-12-17T14:28:03.385Z"
   },
   {
    "duration": 9,
    "start_time": "2022-12-17T14:33:22.034Z"
   },
   {
    "duration": 11,
    "start_time": "2022-12-17T14:34:18.513Z"
   },
   {
    "duration": 6,
    "start_time": "2022-12-17T14:35:31.036Z"
   },
   {
    "duration": 10,
    "start_time": "2022-12-17T14:37:41.265Z"
   },
   {
    "duration": 4,
    "start_time": "2022-12-17T14:41:51.784Z"
   },
   {
    "duration": 5193,
    "start_time": "2022-12-17T14:44:18.836Z"
   },
   {
    "duration": 14,
    "start_time": "2022-12-17T14:44:57.278Z"
   },
   {
    "duration": 5603,
    "start_time": "2022-12-17T14:46:41.459Z"
   },
   {
    "duration": 8,
    "start_time": "2022-12-17T14:47:21.274Z"
   },
   {
    "duration": 5506,
    "start_time": "2022-12-17T14:49:03.277Z"
   },
   {
    "duration": 9,
    "start_time": "2022-12-17T14:49:13.359Z"
   },
   {
    "duration": 14,
    "start_time": "2022-12-17T14:49:41.565Z"
   },
   {
    "duration": 10,
    "start_time": "2022-12-17T14:50:18.490Z"
   },
   {
    "duration": 99709,
    "start_time": "2022-12-17T14:50:41.265Z"
   },
   {
    "duration": 5,
    "start_time": "2022-12-17T14:53:44.590Z"
   },
   {
    "duration": 5909,
    "start_time": "2022-12-17T14:53:56.320Z"
   },
   {
    "duration": 5611,
    "start_time": "2022-12-17T14:55:32.740Z"
   },
   {
    "duration": 8,
    "start_time": "2022-12-17T14:55:55.223Z"
   },
   {
    "duration": 13,
    "start_time": "2022-12-17T14:56:22.937Z"
   },
   {
    "duration": 5676,
    "start_time": "2022-12-17T14:57:07.353Z"
   },
   {
    "duration": 19,
    "start_time": "2022-12-17T14:57:38.039Z"
   },
   {
    "duration": 11,
    "start_time": "2022-12-17T14:58:08.036Z"
   },
   {
    "duration": 99697,
    "start_time": "2022-12-17T14:58:28.378Z"
   },
   {
    "duration": 4,
    "start_time": "2022-12-17T15:01:00.021Z"
   },
   {
    "duration": 53,
    "start_time": "2022-12-17T15:02:41.761Z"
   },
   {
    "duration": 12,
    "start_time": "2022-12-17T15:02:54.451Z"
   },
   {
    "duration": 12,
    "start_time": "2022-12-17T15:03:34.453Z"
   },
   {
    "duration": 491221,
    "start_time": "2022-12-17T15:03:48.713Z"
   },
   {
    "duration": 4,
    "start_time": "2022-12-17T15:11:59.936Z"
   },
   {
    "duration": 4,
    "start_time": "2022-12-17T15:13:59.678Z"
   },
   {
    "duration": 5726,
    "start_time": "2022-12-17T15:14:44.192Z"
   },
   {
    "duration": 9,
    "start_time": "2022-12-17T15:15:00.245Z"
   },
   {
    "duration": 26630,
    "start_time": "2022-12-17T15:16:32.593Z"
   },
   {
    "duration": 19,
    "start_time": "2022-12-17T15:17:06.295Z"
   },
   {
    "duration": 28226,
    "start_time": "2022-12-17T15:19:30.995Z"
   },
   {
    "duration": 26177,
    "start_time": "2022-12-17T15:20:25.343Z"
   },
   {
    "duration": 22,
    "start_time": "2022-12-17T15:25:04.114Z"
   },
   {
    "duration": 493268,
    "start_time": "2022-12-17T15:25:31.339Z"
   },
   {
    "duration": 5,
    "start_time": "2022-12-17T15:34:19.615Z"
   },
   {
    "duration": 572625,
    "start_time": "2022-12-17T15:35:30.426Z"
   },
   {
    "duration": 4,
    "start_time": "2022-12-17T16:01:59.605Z"
   },
   {
    "duration": 26501,
    "start_time": "2022-12-17T16:03:40.822Z"
   },
   {
    "duration": 8,
    "start_time": "2022-12-17T16:04:23.845Z"
   },
   {
    "duration": 5,
    "start_time": "2022-12-17T16:44:22.562Z"
   },
   {
    "duration": 90,
    "start_time": "2022-12-17T16:44:22.569Z"
   },
   {
    "duration": 12,
    "start_time": "2022-12-17T16:44:22.661Z"
   },
   {
    "duration": 11,
    "start_time": "2022-12-17T16:44:22.674Z"
   },
   {
    "duration": 4,
    "start_time": "2022-12-17T16:44:22.687Z"
   },
   {
    "duration": 9,
    "start_time": "2022-12-17T16:44:22.692Z"
   },
   {
    "duration": 21,
    "start_time": "2022-12-17T16:44:22.702Z"
   },
   {
    "duration": 34,
    "start_time": "2022-12-17T16:44:22.724Z"
   },
   {
    "duration": 4,
    "start_time": "2022-12-17T16:44:22.778Z"
   },
   {
    "duration": 7,
    "start_time": "2022-12-17T16:44:22.784Z"
   },
   {
    "duration": 23,
    "start_time": "2022-12-17T16:44:22.792Z"
   },
   {
    "duration": 8,
    "start_time": "2022-12-17T16:44:22.816Z"
   },
   {
    "duration": 13,
    "start_time": "2022-12-17T16:44:22.826Z"
   },
   {
    "duration": 44,
    "start_time": "2022-12-17T16:44:22.840Z"
   },
   {
    "duration": 4,
    "start_time": "2022-12-17T16:44:22.886Z"
   },
   {
    "duration": 11,
    "start_time": "2022-12-17T16:44:26.467Z"
   },
   {
    "duration": 4,
    "start_time": "2022-12-17T16:46:26.366Z"
   },
   {
    "duration": 62,
    "start_time": "2022-12-17T16:46:26.372Z"
   },
   {
    "duration": 14,
    "start_time": "2022-12-17T16:46:26.436Z"
   },
   {
    "duration": 12,
    "start_time": "2022-12-17T16:46:26.452Z"
   },
   {
    "duration": 5,
    "start_time": "2022-12-17T16:46:26.466Z"
   },
   {
    "duration": 6,
    "start_time": "2022-12-17T16:46:26.472Z"
   },
   {
    "duration": 17,
    "start_time": "2022-12-17T16:46:26.480Z"
   },
   {
    "duration": 34,
    "start_time": "2022-12-17T16:46:26.499Z"
   },
   {
    "duration": 5,
    "start_time": "2022-12-17T16:46:26.534Z"
   },
   {
    "duration": 7,
    "start_time": "2022-12-17T16:46:26.540Z"
   },
   {
    "duration": 22,
    "start_time": "2022-12-17T16:46:28.997Z"
   },
   {
    "duration": 8,
    "start_time": "2022-12-17T16:46:42.644Z"
   },
   {
    "duration": 21,
    "start_time": "2022-12-17T16:46:48.362Z"
   },
   {
    "duration": 14,
    "start_time": "2022-12-17T16:46:55.613Z"
   },
   {
    "duration": 5,
    "start_time": "2022-12-17T16:47:03.597Z"
   },
   {
    "duration": 46,
    "start_time": "2022-12-17T16:47:26.044Z"
   },
   {
    "duration": 11,
    "start_time": "2022-12-17T16:48:10.978Z"
   },
   {
    "duration": 12,
    "start_time": "2022-12-17T16:49:08.794Z"
   },
   {
    "duration": 11,
    "start_time": "2022-12-17T16:49:55.495Z"
   },
   {
    "duration": 12,
    "start_time": "2022-12-17T16:50:09.013Z"
   },
   {
    "duration": 12,
    "start_time": "2022-12-17T16:50:20.994Z"
   },
   {
    "duration": 18,
    "start_time": "2022-12-17T17:09:33.885Z"
   },
   {
    "duration": 5,
    "start_time": "2022-12-17T17:09:51.972Z"
   },
   {
    "duration": 78,
    "start_time": "2022-12-17T17:09:51.979Z"
   },
   {
    "duration": 13,
    "start_time": "2022-12-17T17:09:52.059Z"
   },
   {
    "duration": 40,
    "start_time": "2022-12-17T17:09:52.074Z"
   },
   {
    "duration": 13,
    "start_time": "2022-12-17T17:09:52.116Z"
   },
   {
    "duration": 36,
    "start_time": "2022-12-17T17:09:52.131Z"
   },
   {
    "duration": 26,
    "start_time": "2022-12-17T17:09:52.169Z"
   },
   {
    "duration": 52,
    "start_time": "2022-12-17T17:09:52.197Z"
   },
   {
    "duration": 4,
    "start_time": "2022-12-17T17:09:52.251Z"
   },
   {
    "duration": 25,
    "start_time": "2022-12-17T17:09:52.257Z"
   },
   {
    "duration": 16,
    "start_time": "2022-12-17T17:09:54.773Z"
   },
   {
    "duration": 8,
    "start_time": "2022-12-17T17:11:20.337Z"
   },
   {
    "duration": 15,
    "start_time": "2022-12-17T17:11:21.389Z"
   },
   {
    "duration": 15,
    "start_time": "2022-12-17T17:12:01.569Z"
   },
   {
    "duration": 4,
    "start_time": "2022-12-17T17:12:08.453Z"
   },
   {
    "duration": 11,
    "start_time": "2022-12-17T17:16:49.536Z"
   },
   {
    "duration": 11,
    "start_time": "2022-12-17T17:18:55.587Z"
   },
   {
    "duration": 44,
    "start_time": "2022-12-17T17:19:09.716Z"
   },
   {
    "duration": 10,
    "start_time": "2022-12-17T17:19:15.002Z"
   },
   {
    "duration": 10,
    "start_time": "2022-12-17T17:19:22.216Z"
   },
   {
    "duration": 10,
    "start_time": "2022-12-17T17:19:32.369Z"
   },
   {
    "duration": 11,
    "start_time": "2022-12-17T17:19:37.491Z"
   },
   {
    "duration": 25,
    "start_time": "2022-12-17T17:26:32.664Z"
   },
   {
    "duration": 6,
    "start_time": "2022-12-17T17:27:03.570Z"
   },
   {
    "duration": 56,
    "start_time": "2022-12-17T17:27:03.579Z"
   },
   {
    "duration": 12,
    "start_time": "2022-12-17T17:27:03.637Z"
   },
   {
    "duration": 24,
    "start_time": "2022-12-17T17:27:03.651Z"
   },
   {
    "duration": 6,
    "start_time": "2022-12-17T17:27:03.678Z"
   },
   {
    "duration": 15,
    "start_time": "2022-12-17T17:27:03.686Z"
   },
   {
    "duration": 23,
    "start_time": "2022-12-17T17:27:03.703Z"
   },
   {
    "duration": 42,
    "start_time": "2022-12-17T17:27:03.728Z"
   },
   {
    "duration": 8,
    "start_time": "2022-12-17T17:27:03.772Z"
   },
   {
    "duration": 25,
    "start_time": "2022-12-17T17:27:03.781Z"
   },
   {
    "duration": 36,
    "start_time": "2022-12-17T17:27:03.808Z"
   },
   {
    "duration": 32,
    "start_time": "2022-12-17T17:27:03.846Z"
   },
   {
    "duration": 20,
    "start_time": "2022-12-17T17:27:03.880Z"
   },
   {
    "duration": 18,
    "start_time": "2022-12-17T17:27:03.904Z"
   },
   {
    "duration": 5,
    "start_time": "2022-12-17T17:27:03.924Z"
   },
   {
    "duration": 28,
    "start_time": "2022-12-17T17:27:03.931Z"
   },
   {
    "duration": 21,
    "start_time": "2022-12-17T17:27:03.961Z"
   },
   {
    "duration": 24,
    "start_time": "2022-12-17T17:27:06.545Z"
   },
   {
    "duration": 132,
    "start_time": "2022-12-17T17:29:25.430Z"
   },
   {
    "duration": 24,
    "start_time": "2022-12-17T17:29:28.945Z"
   },
   {
    "duration": 4,
    "start_time": "2022-12-17T17:29:34.938Z"
   },
   {
    "duration": 52,
    "start_time": "2022-12-17T17:29:34.945Z"
   },
   {
    "duration": 12,
    "start_time": "2022-12-17T17:29:34.999Z"
   },
   {
    "duration": 12,
    "start_time": "2022-12-17T17:29:35.013Z"
   },
   {
    "duration": 5,
    "start_time": "2022-12-17T17:29:35.027Z"
   },
   {
    "duration": 7,
    "start_time": "2022-12-17T17:29:35.034Z"
   },
   {
    "duration": 41,
    "start_time": "2022-12-17T17:29:35.042Z"
   },
   {
    "duration": 37,
    "start_time": "2022-12-17T17:29:35.085Z"
   },
   {
    "duration": 5,
    "start_time": "2022-12-17T17:29:35.124Z"
   },
   {
    "duration": 8,
    "start_time": "2022-12-17T17:29:35.131Z"
   },
   {
    "duration": 45,
    "start_time": "2022-12-17T17:29:35.140Z"
   },
   {
    "duration": 7,
    "start_time": "2022-12-17T17:29:35.186Z"
   },
   {
    "duration": 15,
    "start_time": "2022-12-17T17:29:35.194Z"
   },
   {
    "duration": 14,
    "start_time": "2022-12-17T17:29:35.211Z"
   },
   {
    "duration": 4,
    "start_time": "2022-12-17T17:29:35.226Z"
   },
   {
    "duration": 16,
    "start_time": "2022-12-17T17:29:35.231Z"
   },
   {
    "duration": 36,
    "start_time": "2022-12-17T17:29:35.248Z"
   },
   {
    "duration": 154,
    "start_time": "2022-12-17T17:29:35.286Z"
   },
   {
    "duration": 23,
    "start_time": "2022-12-17T17:29:39.912Z"
   },
   {
    "duration": 24,
    "start_time": "2022-12-17T17:30:00.684Z"
   },
   {
    "duration": 7,
    "start_time": "2022-12-17T17:32:16.170Z"
   },
   {
    "duration": 63,
    "start_time": "2022-12-17T17:32:16.179Z"
   },
   {
    "duration": 12,
    "start_time": "2022-12-17T17:32:16.245Z"
   },
   {
    "duration": 23,
    "start_time": "2022-12-17T17:32:16.259Z"
   },
   {
    "duration": 20,
    "start_time": "2022-12-17T17:32:16.283Z"
   },
   {
    "duration": 17,
    "start_time": "2022-12-17T17:32:16.304Z"
   },
   {
    "duration": 32,
    "start_time": "2022-12-17T17:32:16.323Z"
   },
   {
    "duration": 36,
    "start_time": "2022-12-17T17:32:16.357Z"
   },
   {
    "duration": 4,
    "start_time": "2022-12-17T17:32:16.396Z"
   },
   {
    "duration": 9,
    "start_time": "2022-12-17T17:32:16.402Z"
   },
   {
    "duration": 20,
    "start_time": "2022-12-17T17:32:16.412Z"
   },
   {
    "duration": 7,
    "start_time": "2022-12-17T17:32:16.434Z"
   },
   {
    "duration": 13,
    "start_time": "2022-12-17T17:32:16.443Z"
   },
   {
    "duration": 14,
    "start_time": "2022-12-17T17:32:16.479Z"
   },
   {
    "duration": 5,
    "start_time": "2022-12-17T17:32:16.495Z"
   },
   {
    "duration": 12,
    "start_time": "2022-12-17T17:32:16.502Z"
   },
   {
    "duration": 9,
    "start_time": "2022-12-17T17:32:16.516Z"
   },
   {
    "duration": 137,
    "start_time": "2022-12-17T17:32:21.194Z"
   },
   {
    "duration": 13,
    "start_time": "2022-12-17T17:32:55.914Z"
   },
   {
    "duration": 161,
    "start_time": "2022-12-17T17:33:09.358Z"
   },
   {
    "duration": 34,
    "start_time": "2022-12-17T17:39:29.355Z"
   },
   {
    "duration": 14,
    "start_time": "2022-12-17T17:41:05.007Z"
   },
   {
    "duration": 19,
    "start_time": "2022-12-17T17:41:05.642Z"
   },
   {
    "duration": 754,
    "start_time": "2022-12-17T17:42:00.062Z"
   },
   {
    "duration": 5,
    "start_time": "2022-12-17T17:42:30.740Z"
   },
   {
    "duration": 57,
    "start_time": "2022-12-17T17:42:30.747Z"
   },
   {
    "duration": 13,
    "start_time": "2022-12-17T17:42:30.805Z"
   },
   {
    "duration": 12,
    "start_time": "2022-12-17T17:42:30.820Z"
   },
   {
    "duration": 5,
    "start_time": "2022-12-17T17:42:30.833Z"
   },
   {
    "duration": 7,
    "start_time": "2022-12-17T17:42:30.840Z"
   },
   {
    "duration": 58,
    "start_time": "2022-12-17T17:42:30.849Z"
   },
   {
    "duration": 43,
    "start_time": "2022-12-17T17:42:30.909Z"
   },
   {
    "duration": 5,
    "start_time": "2022-12-17T17:42:30.954Z"
   },
   {
    "duration": 24,
    "start_time": "2022-12-17T17:42:30.962Z"
   },
   {
    "duration": 31,
    "start_time": "2022-12-17T17:42:30.988Z"
   },
   {
    "duration": 12,
    "start_time": "2022-12-17T17:42:31.021Z"
   },
   {
    "duration": 18,
    "start_time": "2022-12-17T17:42:31.034Z"
   },
   {
    "duration": 14,
    "start_time": "2022-12-17T17:42:31.054Z"
   },
   {
    "duration": 10,
    "start_time": "2022-12-17T17:42:31.070Z"
   },
   {
    "duration": 17,
    "start_time": "2022-12-17T17:42:31.082Z"
   },
   {
    "duration": 15,
    "start_time": "2022-12-17T17:42:31.100Z"
   },
   {
    "duration": 143,
    "start_time": "2022-12-17T17:42:31.116Z"
   },
   {
    "duration": 5,
    "start_time": "2022-12-17T17:42:34.781Z"
   },
   {
    "duration": 8,
    "start_time": "2022-12-17T17:42:38.071Z"
   },
   {
    "duration": 5,
    "start_time": "2022-12-17T17:43:46.057Z"
   },
   {
    "duration": 66,
    "start_time": "2022-12-17T17:43:46.064Z"
   },
   {
    "duration": 11,
    "start_time": "2022-12-17T17:43:46.132Z"
   },
   {
    "duration": 10,
    "start_time": "2022-12-17T17:43:46.145Z"
   },
   {
    "duration": 4,
    "start_time": "2022-12-17T17:43:46.157Z"
   },
   {
    "duration": 8,
    "start_time": "2022-12-17T17:43:46.163Z"
   },
   {
    "duration": 19,
    "start_time": "2022-12-17T17:43:46.172Z"
   },
   {
    "duration": 35,
    "start_time": "2022-12-17T17:43:46.193Z"
   },
   {
    "duration": 4,
    "start_time": "2022-12-17T17:43:46.230Z"
   },
   {
    "duration": 9,
    "start_time": "2022-12-17T17:43:46.236Z"
   },
   {
    "duration": 36,
    "start_time": "2022-12-17T17:43:46.247Z"
   },
   {
    "duration": 10,
    "start_time": "2022-12-17T17:43:46.285Z"
   },
   {
    "duration": 15,
    "start_time": "2022-12-17T17:43:46.297Z"
   },
   {
    "duration": 17,
    "start_time": "2022-12-17T17:43:46.314Z"
   },
   {
    "duration": 4,
    "start_time": "2022-12-17T17:43:46.333Z"
   },
   {
    "duration": 39,
    "start_time": "2022-12-17T17:43:46.339Z"
   },
   {
    "duration": 9,
    "start_time": "2022-12-17T17:43:46.379Z"
   },
   {
    "duration": 155,
    "start_time": "2022-12-17T17:43:46.390Z"
   },
   {
    "duration": 5,
    "start_time": "2022-12-17T17:43:48.168Z"
   },
   {
    "duration": 8,
    "start_time": "2022-12-17T17:43:48.866Z"
   },
   {
    "duration": 675,
    "start_time": "2022-12-17T17:44:57.155Z"
   },
   {
    "duration": 0,
    "start_time": "2022-12-17T17:44:57.832Z"
   },
   {
    "duration": 5,
    "start_time": "2022-12-17T17:45:02.576Z"
   },
   {
    "duration": 85,
    "start_time": "2022-12-17T17:45:02.583Z"
   },
   {
    "duration": 12,
    "start_time": "2022-12-17T17:45:02.670Z"
   },
   {
    "duration": 11,
    "start_time": "2022-12-17T17:45:02.684Z"
   },
   {
    "duration": 5,
    "start_time": "2022-12-17T17:45:02.698Z"
   },
   {
    "duration": 15,
    "start_time": "2022-12-17T17:45:02.705Z"
   },
   {
    "duration": 22,
    "start_time": "2022-12-17T17:45:02.722Z"
   },
   {
    "duration": 52,
    "start_time": "2022-12-17T17:45:02.746Z"
   },
   {
    "duration": 5,
    "start_time": "2022-12-17T17:45:02.800Z"
   },
   {
    "duration": 14,
    "start_time": "2022-12-17T17:45:02.807Z"
   },
   {
    "duration": 30,
    "start_time": "2022-12-17T17:45:02.823Z"
   },
   {
    "duration": 22,
    "start_time": "2022-12-17T17:45:02.855Z"
   },
   {
    "duration": 15,
    "start_time": "2022-12-17T17:45:02.879Z"
   },
   {
    "duration": 19,
    "start_time": "2022-12-17T17:45:02.896Z"
   },
   {
    "duration": 5,
    "start_time": "2022-12-17T17:45:02.916Z"
   },
   {
    "duration": 33,
    "start_time": "2022-12-17T17:45:02.922Z"
   },
   {
    "duration": 13,
    "start_time": "2022-12-17T17:45:02.956Z"
   },
   {
    "duration": 146,
    "start_time": "2022-12-17T17:45:02.977Z"
   },
   {
    "duration": 5,
    "start_time": "2022-12-17T17:45:04.821Z"
   },
   {
    "duration": 24,
    "start_time": "2022-12-17T17:45:06.001Z"
   },
   {
    "duration": 25,
    "start_time": "2022-12-17T17:47:08.099Z"
   },
   {
    "duration": 5,
    "start_time": "2022-12-17T17:48:45.833Z"
   },
   {
    "duration": 75,
    "start_time": "2022-12-17T17:48:45.840Z"
   },
   {
    "duration": 14,
    "start_time": "2022-12-17T17:48:45.917Z"
   },
   {
    "duration": 11,
    "start_time": "2022-12-17T17:48:45.933Z"
   },
   {
    "duration": 4,
    "start_time": "2022-12-17T17:48:45.945Z"
   },
   {
    "duration": 9,
    "start_time": "2022-12-17T17:48:45.951Z"
   },
   {
    "duration": 40,
    "start_time": "2022-12-17T17:48:45.962Z"
   },
   {
    "duration": 43,
    "start_time": "2022-12-17T17:48:46.004Z"
   },
   {
    "duration": 5,
    "start_time": "2022-12-17T17:48:46.049Z"
   },
   {
    "duration": 15,
    "start_time": "2022-12-17T17:48:46.056Z"
   },
   {
    "duration": 24,
    "start_time": "2022-12-17T17:48:46.078Z"
   },
   {
    "duration": 20,
    "start_time": "2022-12-17T17:48:46.104Z"
   },
   {
    "duration": 23,
    "start_time": "2022-12-17T17:48:46.125Z"
   },
   {
    "duration": 30,
    "start_time": "2022-12-17T17:48:46.150Z"
   },
   {
    "duration": 6,
    "start_time": "2022-12-17T17:48:46.182Z"
   },
   {
    "duration": 35,
    "start_time": "2022-12-17T17:48:46.189Z"
   },
   {
    "duration": 28,
    "start_time": "2022-12-17T17:48:46.226Z"
   },
   {
    "duration": 152,
    "start_time": "2022-12-17T17:48:46.255Z"
   },
   {
    "duration": 26,
    "start_time": "2022-12-17T17:48:49.282Z"
   },
   {
    "duration": 23,
    "start_time": "2022-12-17T17:49:02.933Z"
   },
   {
    "duration": 5,
    "start_time": "2022-12-17T17:49:16.237Z"
   },
   {
    "duration": 58,
    "start_time": "2022-12-17T17:49:16.245Z"
   },
   {
    "duration": 17,
    "start_time": "2022-12-17T17:49:16.305Z"
   },
   {
    "duration": 12,
    "start_time": "2022-12-17T17:49:16.324Z"
   },
   {
    "duration": 4,
    "start_time": "2022-12-17T17:49:16.339Z"
   },
   {
    "duration": 7,
    "start_time": "2022-12-17T17:49:16.345Z"
   },
   {
    "duration": 37,
    "start_time": "2022-12-17T17:49:16.354Z"
   },
   {
    "duration": 35,
    "start_time": "2022-12-17T17:49:16.393Z"
   },
   {
    "duration": 5,
    "start_time": "2022-12-17T17:49:16.429Z"
   },
   {
    "duration": 8,
    "start_time": "2022-12-17T17:49:16.435Z"
   },
   {
    "duration": 43,
    "start_time": "2022-12-17T17:49:16.444Z"
   },
   {
    "duration": 7,
    "start_time": "2022-12-17T17:49:16.488Z"
   },
   {
    "duration": 14,
    "start_time": "2022-12-17T17:49:16.497Z"
   },
   {
    "duration": 13,
    "start_time": "2022-12-17T17:49:16.514Z"
   },
   {
    "duration": 4,
    "start_time": "2022-12-17T17:49:16.528Z"
   },
   {
    "duration": 11,
    "start_time": "2022-12-17T17:49:16.533Z"
   },
   {
    "duration": 9,
    "start_time": "2022-12-17T17:49:16.578Z"
   },
   {
    "duration": 147,
    "start_time": "2022-12-17T17:49:16.588Z"
   },
   {
    "duration": 8,
    "start_time": "2022-12-17T17:49:19.865Z"
   },
   {
    "duration": 24,
    "start_time": "2022-12-17T17:49:21.032Z"
   },
   {
    "duration": 17,
    "start_time": "2022-12-17T17:53:14.103Z"
   },
   {
    "duration": 6,
    "start_time": "2022-12-17T17:54:18.951Z"
   },
   {
    "duration": 60,
    "start_time": "2022-12-17T17:54:18.959Z"
   },
   {
    "duration": 14,
    "start_time": "2022-12-17T17:54:19.021Z"
   },
   {
    "duration": 12,
    "start_time": "2022-12-17T17:54:19.038Z"
   },
   {
    "duration": 6,
    "start_time": "2022-12-17T17:54:19.052Z"
   },
   {
    "duration": 7,
    "start_time": "2022-12-17T17:54:19.078Z"
   },
   {
    "duration": 24,
    "start_time": "2022-12-17T17:54:19.087Z"
   },
   {
    "duration": 78,
    "start_time": "2022-12-17T17:54:19.114Z"
   },
   {
    "duration": 4,
    "start_time": "2022-12-17T17:54:19.195Z"
   },
   {
    "duration": 8,
    "start_time": "2022-12-17T17:54:19.202Z"
   },
   {
    "duration": 20,
    "start_time": "2022-12-17T17:54:19.211Z"
   },
   {
    "duration": 19,
    "start_time": "2022-12-17T17:54:19.232Z"
   },
   {
    "duration": 37,
    "start_time": "2022-12-17T17:54:19.252Z"
   },
   {
    "duration": 14,
    "start_time": "2022-12-17T17:54:19.291Z"
   },
   {
    "duration": 5,
    "start_time": "2022-12-17T17:54:19.307Z"
   },
   {
    "duration": 15,
    "start_time": "2022-12-17T17:54:19.314Z"
   },
   {
    "duration": 48,
    "start_time": "2022-12-17T17:54:19.331Z"
   },
   {
    "duration": 164,
    "start_time": "2022-12-17T17:54:19.382Z"
   },
   {
    "duration": 12,
    "start_time": "2022-12-17T17:54:21.644Z"
   },
   {
    "duration": 15,
    "start_time": "2022-12-17T17:54:22.817Z"
   },
   {
    "duration": 37,
    "start_time": "2022-12-17T17:54:59.796Z"
   },
   {
    "duration": 16,
    "start_time": "2022-12-17T17:55:07.232Z"
   },
   {
    "duration": 52,
    "start_time": "2022-12-17T18:00:40.880Z"
   },
   {
    "duration": 4,
    "start_time": "2022-12-17T18:01:17.013Z"
   },
   {
    "duration": 55,
    "start_time": "2022-12-17T18:01:17.019Z"
   },
   {
    "duration": 17,
    "start_time": "2022-12-17T18:01:17.076Z"
   },
   {
    "duration": 18,
    "start_time": "2022-12-17T18:01:17.096Z"
   },
   {
    "duration": 6,
    "start_time": "2022-12-17T18:01:17.116Z"
   },
   {
    "duration": 7,
    "start_time": "2022-12-17T18:01:17.123Z"
   },
   {
    "duration": 46,
    "start_time": "2022-12-17T18:01:17.132Z"
   },
   {
    "duration": 38,
    "start_time": "2022-12-17T18:01:17.180Z"
   },
   {
    "duration": 5,
    "start_time": "2022-12-17T18:01:17.221Z"
   },
   {
    "duration": 10,
    "start_time": "2022-12-17T18:01:17.228Z"
   },
   {
    "duration": 45,
    "start_time": "2022-12-17T18:01:17.239Z"
   },
   {
    "duration": 8,
    "start_time": "2022-12-17T18:01:17.286Z"
   },
   {
    "duration": 19,
    "start_time": "2022-12-17T18:01:17.295Z"
   },
   {
    "duration": 15,
    "start_time": "2022-12-17T18:01:17.316Z"
   },
   {
    "duration": 5,
    "start_time": "2022-12-17T18:01:17.333Z"
   },
   {
    "duration": 43,
    "start_time": "2022-12-17T18:01:17.340Z"
   },
   {
    "duration": 9,
    "start_time": "2022-12-17T18:01:17.385Z"
   },
   {
    "duration": 154,
    "start_time": "2022-12-17T18:01:17.396Z"
   },
   {
    "duration": 12,
    "start_time": "2022-12-17T18:01:17.552Z"
   },
   {
    "duration": 19,
    "start_time": "2022-12-17T18:01:17.566Z"
   },
   {
    "duration": 31,
    "start_time": "2022-12-17T18:01:17.587Z"
   },
   {
    "duration": 13,
    "start_time": "2022-12-17T18:03:38.090Z"
   },
   {
    "duration": 47070,
    "start_time": "2022-12-17T18:03:55.522Z"
   },
   {
    "duration": 84416,
    "start_time": "2022-12-17T18:07:10.207Z"
   },
   {
    "duration": 24,
    "start_time": "2022-12-17T18:13:51.987Z"
   },
   {
    "duration": 5,
    "start_time": "2022-12-17T18:15:44.804Z"
   },
   {
    "duration": 58,
    "start_time": "2022-12-17T18:15:44.813Z"
   },
   {
    "duration": 21,
    "start_time": "2022-12-17T18:15:44.874Z"
   },
   {
    "duration": 16,
    "start_time": "2022-12-17T18:15:44.898Z"
   },
   {
    "duration": 6,
    "start_time": "2022-12-17T18:15:44.915Z"
   },
   {
    "duration": 9,
    "start_time": "2022-12-17T18:15:44.922Z"
   },
   {
    "duration": 46,
    "start_time": "2022-12-17T18:15:44.932Z"
   },
   {
    "duration": 36,
    "start_time": "2022-12-17T18:15:44.980Z"
   },
   {
    "duration": 5,
    "start_time": "2022-12-17T18:15:45.018Z"
   },
   {
    "duration": 17,
    "start_time": "2022-12-17T18:15:45.025Z"
   },
   {
    "duration": 41,
    "start_time": "2022-12-17T18:15:45.045Z"
   },
   {
    "duration": 18,
    "start_time": "2022-12-17T18:15:45.088Z"
   },
   {
    "duration": 14,
    "start_time": "2022-12-17T18:15:45.108Z"
   },
   {
    "duration": 19,
    "start_time": "2022-12-17T18:15:45.125Z"
   },
   {
    "duration": 33,
    "start_time": "2022-12-17T18:15:45.146Z"
   },
   {
    "duration": 17,
    "start_time": "2022-12-17T18:15:45.182Z"
   },
   {
    "duration": 13,
    "start_time": "2022-12-17T18:15:45.202Z"
   },
   {
    "duration": 210,
    "start_time": "2022-12-17T18:15:45.217Z"
   },
   {
    "duration": 13,
    "start_time": "2022-12-17T18:15:45.429Z"
   },
   {
    "duration": 15,
    "start_time": "2022-12-17T18:15:45.444Z"
   },
   {
    "duration": 53,
    "start_time": "2022-12-17T18:15:45.461Z"
   },
   {
    "duration": 778869,
    "start_time": "2022-12-17T18:16:14.003Z"
   },
   {
    "duration": 62,
    "start_time": "2022-12-17T18:30:45.005Z"
   },
   {
    "duration": 5,
    "start_time": "2022-12-17T18:30:51.633Z"
   },
   {
    "duration": 67,
    "start_time": "2022-12-17T18:30:51.640Z"
   },
   {
    "duration": 13,
    "start_time": "2022-12-17T18:30:51.708Z"
   },
   {
    "duration": 31,
    "start_time": "2022-12-17T18:30:51.723Z"
   },
   {
    "duration": 17,
    "start_time": "2022-12-17T18:30:51.756Z"
   },
   {
    "duration": 20,
    "start_time": "2022-12-17T18:30:51.775Z"
   },
   {
    "duration": 42,
    "start_time": "2022-12-17T18:30:51.797Z"
   },
   {
    "duration": 52,
    "start_time": "2022-12-17T18:30:51.841Z"
   },
   {
    "duration": 18,
    "start_time": "2022-12-17T18:30:51.895Z"
   },
   {
    "duration": 28,
    "start_time": "2022-12-17T18:30:51.915Z"
   },
   {
    "duration": 24,
    "start_time": "2022-12-17T18:30:51.945Z"
   },
   {
    "duration": 35,
    "start_time": "2022-12-17T18:30:51.970Z"
   },
   {
    "duration": 30,
    "start_time": "2022-12-17T18:30:52.007Z"
   },
   {
    "duration": 20,
    "start_time": "2022-12-17T18:30:52.039Z"
   },
   {
    "duration": 16,
    "start_time": "2022-12-17T18:30:52.061Z"
   },
   {
    "duration": 16,
    "start_time": "2022-12-17T18:30:52.078Z"
   },
   {
    "duration": 36,
    "start_time": "2022-12-17T18:30:52.096Z"
   },
   {
    "duration": 161,
    "start_time": "2022-12-17T18:30:52.134Z"
   },
   {
    "duration": 12,
    "start_time": "2022-12-17T18:30:52.297Z"
   },
   {
    "duration": 32,
    "start_time": "2022-12-17T18:30:52.311Z"
   },
   {
    "duration": 83,
    "start_time": "2022-12-17T18:30:52.345Z"
   },
   {
    "duration": 754855,
    "start_time": "2022-12-17T18:31:48.002Z"
   },
   {
    "duration": 5,
    "start_time": "2022-12-17T18:46:22.439Z"
   },
   {
    "duration": 1190,
    "start_time": "2022-12-17T18:46:58.891Z"
   },
   {
    "duration": 1226,
    "start_time": "2022-12-17T18:47:33.189Z"
   },
   {
    "duration": 6,
    "start_time": "2022-12-17T18:48:57.862Z"
   },
   {
    "duration": 58,
    "start_time": "2022-12-17T18:48:57.870Z"
   },
   {
    "duration": 12,
    "start_time": "2022-12-17T18:48:57.930Z"
   },
   {
    "duration": 12,
    "start_time": "2022-12-17T18:48:57.944Z"
   },
   {
    "duration": 5,
    "start_time": "2022-12-17T18:48:57.957Z"
   },
   {
    "duration": 15,
    "start_time": "2022-12-17T18:48:57.964Z"
   },
   {
    "duration": 25,
    "start_time": "2022-12-17T18:48:57.980Z"
   },
   {
    "duration": 44,
    "start_time": "2022-12-17T18:48:58.008Z"
   },
   {
    "duration": 28,
    "start_time": "2022-12-17T18:48:58.054Z"
   },
   {
    "duration": 10,
    "start_time": "2022-12-17T18:48:58.086Z"
   },
   {
    "duration": 28,
    "start_time": "2022-12-17T18:48:58.098Z"
   },
   {
    "duration": 7,
    "start_time": "2022-12-17T18:48:58.128Z"
   },
   {
    "duration": 42,
    "start_time": "2022-12-17T18:48:58.137Z"
   },
   {
    "duration": 15,
    "start_time": "2022-12-17T18:48:58.181Z"
   },
   {
    "duration": 31,
    "start_time": "2022-12-17T18:48:58.198Z"
   },
   {
    "duration": 16,
    "start_time": "2022-12-17T18:48:58.233Z"
   },
   {
    "duration": 30,
    "start_time": "2022-12-17T18:48:58.251Z"
   },
   {
    "duration": 202,
    "start_time": "2022-12-17T18:48:58.283Z"
   },
   {
    "duration": 14,
    "start_time": "2022-12-17T18:48:58.488Z"
   },
   {
    "duration": 58,
    "start_time": "2022-12-17T18:48:58.507Z"
   },
   {
    "duration": 94,
    "start_time": "2022-12-17T18:48:58.568Z"
   },
   {
    "duration": 1239,
    "start_time": "2022-12-17T18:49:02.957Z"
   },
   {
    "duration": 1550,
    "start_time": "2022-12-17T18:50:11.729Z"
   },
   {
    "duration": 99325,
    "start_time": "2022-12-17T18:50:40.656Z"
   },
   {
    "duration": 91,
    "start_time": "2022-12-17T18:53:08.759Z"
   },
   {
    "duration": 1229,
    "start_time": "2022-12-17T18:58:09.921Z"
   },
   {
    "duration": 6,
    "start_time": "2022-12-17T19:02:05.185Z"
   },
   {
    "duration": 102,
    "start_time": "2022-12-17T19:02:05.193Z"
   },
   {
    "duration": 14,
    "start_time": "2022-12-17T19:02:05.297Z"
   },
   {
    "duration": 35,
    "start_time": "2022-12-17T19:02:05.314Z"
   },
   {
    "duration": 30,
    "start_time": "2022-12-17T19:02:05.351Z"
   },
   {
    "duration": 28,
    "start_time": "2022-12-17T19:02:05.383Z"
   },
   {
    "duration": 47,
    "start_time": "2022-12-17T19:02:05.413Z"
   },
   {
    "duration": 45,
    "start_time": "2022-12-17T19:02:05.462Z"
   },
   {
    "duration": 4,
    "start_time": "2022-12-17T19:02:05.509Z"
   },
   {
    "duration": 26,
    "start_time": "2022-12-17T19:02:05.516Z"
   },
   {
    "duration": 34,
    "start_time": "2022-12-17T19:02:05.544Z"
   },
   {
    "duration": 41,
    "start_time": "2022-12-17T19:02:05.580Z"
   },
   {
    "duration": 28,
    "start_time": "2022-12-17T19:02:05.623Z"
   },
   {
    "duration": 23,
    "start_time": "2022-12-17T19:02:05.653Z"
   },
   {
    "duration": 21,
    "start_time": "2022-12-17T19:02:05.678Z"
   },
   {
    "duration": 51,
    "start_time": "2022-12-17T19:02:05.701Z"
   },
   {
    "duration": 55,
    "start_time": "2022-12-17T19:02:05.754Z"
   },
   {
    "duration": 212,
    "start_time": "2022-12-17T19:02:05.811Z"
   },
   {
    "duration": 12,
    "start_time": "2022-12-17T19:02:06.025Z"
   },
   {
    "duration": 40,
    "start_time": "2022-12-17T19:02:06.039Z"
   },
   {
    "duration": 78,
    "start_time": "2022-12-17T19:02:06.081Z"
   },
   {
    "duration": 1699,
    "start_time": "2022-12-17T19:02:19.969Z"
   },
   {
    "duration": 1234,
    "start_time": "2022-12-17T19:02:31.450Z"
   },
   {
    "duration": 22,
    "start_time": "2022-12-17T19:03:04.884Z"
   },
   {
    "duration": 171,
    "start_time": "2022-12-17T19:05:53.685Z"
   },
   {
    "duration": 23,
    "start_time": "2022-12-17T19:06:05.697Z"
   },
   {
    "duration": 5,
    "start_time": "2022-12-17T19:06:41.185Z"
   },
   {
    "duration": 54,
    "start_time": "2022-12-17T19:06:41.193Z"
   },
   {
    "duration": 12,
    "start_time": "2022-12-17T19:06:41.248Z"
   },
   {
    "duration": 11,
    "start_time": "2022-12-17T19:06:41.261Z"
   },
   {
    "duration": 5,
    "start_time": "2022-12-17T19:06:41.274Z"
   },
   {
    "duration": 11,
    "start_time": "2022-12-17T19:06:41.280Z"
   },
   {
    "duration": 21,
    "start_time": "2022-12-17T19:06:41.293Z"
   },
   {
    "duration": 35,
    "start_time": "2022-12-17T19:06:41.315Z"
   },
   {
    "duration": 25,
    "start_time": "2022-12-17T19:06:41.353Z"
   },
   {
    "duration": 5,
    "start_time": "2022-12-17T19:06:41.379Z"
   },
   {
    "duration": 19,
    "start_time": "2022-12-17T19:06:41.386Z"
   },
   {
    "duration": 8,
    "start_time": "2022-12-17T19:06:41.407Z"
   },
   {
    "duration": 14,
    "start_time": "2022-12-17T19:06:41.416Z"
   },
   {
    "duration": 13,
    "start_time": "2022-12-17T19:06:41.431Z"
   },
   {
    "duration": 4,
    "start_time": "2022-12-17T19:06:41.478Z"
   },
   {
    "duration": 13,
    "start_time": "2022-12-17T19:06:41.484Z"
   },
   {
    "duration": 10,
    "start_time": "2022-12-17T19:06:41.498Z"
   },
   {
    "duration": 105,
    "start_time": "2022-12-17T19:06:41.509Z"
   },
   {
    "duration": 10,
    "start_time": "2022-12-17T19:06:41.616Z"
   },
   {
    "duration": 14,
    "start_time": "2022-12-17T19:06:41.628Z"
   },
   {
    "duration": 65,
    "start_time": "2022-12-17T19:06:41.644Z"
   },
   {
    "duration": 22,
    "start_time": "2022-12-17T19:06:51.771Z"
   },
   {
    "duration": 99209,
    "start_time": "2022-12-17T19:07:03.543Z"
   },
   {
    "duration": 25,
    "start_time": "2022-12-17T19:09:00.137Z"
   },
   {
    "duration": 98858,
    "start_time": "2022-12-17T19:09:14.431Z"
   },
   {
    "duration": 87,
    "start_time": "2022-12-17T19:12:11.370Z"
   },
   {
    "duration": 101754,
    "start_time": "2022-12-17T19:12:45.511Z"
   },
   {
    "duration": 26586,
    "start_time": "2022-12-17T19:18:48.798Z"
   },
   {
    "duration": 6,
    "start_time": "2022-12-17T19:19:19.039Z"
   },
   {
    "duration": 76,
    "start_time": "2022-12-17T19:19:19.048Z"
   },
   {
    "duration": 14,
    "start_time": "2022-12-17T19:19:19.126Z"
   },
   {
    "duration": 19,
    "start_time": "2022-12-17T19:19:19.142Z"
   },
   {
    "duration": 14,
    "start_time": "2022-12-17T19:19:19.164Z"
   },
   {
    "duration": 17,
    "start_time": "2022-12-17T19:19:19.180Z"
   },
   {
    "duration": 33,
    "start_time": "2022-12-17T19:19:19.199Z"
   },
   {
    "duration": 38,
    "start_time": "2022-12-17T19:19:19.234Z"
   },
   {
    "duration": 6,
    "start_time": "2022-12-17T19:19:19.274Z"
   },
   {
    "duration": 17,
    "start_time": "2022-12-17T19:19:19.281Z"
   },
   {
    "duration": 28,
    "start_time": "2022-12-17T19:19:19.300Z"
   },
   {
    "duration": 20,
    "start_time": "2022-12-17T19:19:19.329Z"
   },
   {
    "duration": 33,
    "start_time": "2022-12-17T19:19:19.351Z"
   },
   {
    "duration": 13,
    "start_time": "2022-12-17T19:19:19.386Z"
   },
   {
    "duration": 19,
    "start_time": "2022-12-17T19:19:19.400Z"
   },
   {
    "duration": 32,
    "start_time": "2022-12-17T19:19:19.421Z"
   },
   {
    "duration": 12,
    "start_time": "2022-12-17T19:19:19.455Z"
   },
   {
    "duration": 90,
    "start_time": "2022-12-17T19:19:19.469Z"
   },
   {
    "duration": 16,
    "start_time": "2022-12-17T19:19:19.561Z"
   },
   {
    "duration": 36,
    "start_time": "2022-12-17T19:19:19.579Z"
   },
   {
    "duration": 59,
    "start_time": "2022-12-17T19:19:19.617Z"
   },
   {
    "duration": 39759,
    "start_time": "2022-12-17T19:19:42.479Z"
   },
   {
    "duration": 584022,
    "start_time": "2022-12-17T19:20:34.511Z"
   },
   {
    "duration": 5,
    "start_time": "2022-12-17T19:32:57.487Z"
   },
   {
    "duration": 10,
    "start_time": "2022-12-17T19:33:55.237Z"
   },
   {
    "duration": 22,
    "start_time": "2022-12-17T19:34:12.653Z"
   },
   {
    "duration": 22,
    "start_time": "2022-12-17T19:34:27.135Z"
   },
   {
    "duration": 72,
    "start_time": "2022-12-17T19:35:05.394Z"
   },
   {
    "duration": 22,
    "start_time": "2022-12-17T19:35:27.200Z"
   },
   {
    "duration": 584647,
    "start_time": "2022-12-17T19:38:26.411Z"
   },
   {
    "duration": 26,
    "start_time": "2022-12-18T05:23:35.085Z"
   },
   {
    "duration": 23,
    "start_time": "2022-12-18T05:24:01.544Z"
   },
   {
    "duration": 2,
    "start_time": "2022-12-18T05:25:02.077Z"
   },
   {
    "duration": 15479,
    "start_time": "2022-12-18T05:25:36.712Z"
   },
   {
    "duration": 15711,
    "start_time": "2022-12-18T05:26:57.609Z"
   },
   {
    "duration": 49,
    "start_time": "2022-12-19T13:47:25.867Z"
   },
   {
    "duration": 1702,
    "start_time": "2022-12-19T13:47:29.856Z"
   },
   {
    "duration": 112,
    "start_time": "2022-12-19T13:47:31.560Z"
   },
   {
    "duration": 13,
    "start_time": "2022-12-19T13:47:31.674Z"
   },
   {
    "duration": 19,
    "start_time": "2022-12-19T13:47:31.690Z"
   },
   {
    "duration": 12,
    "start_time": "2022-12-19T13:47:31.711Z"
   },
   {
    "duration": 44,
    "start_time": "2022-12-19T13:47:31.725Z"
   },
   {
    "duration": 32,
    "start_time": "2022-12-19T13:47:31.771Z"
   },
   {
    "duration": 53,
    "start_time": "2022-12-19T13:47:31.805Z"
   },
   {
    "duration": 6,
    "start_time": "2022-12-19T13:47:31.859Z"
   },
   {
    "duration": 14,
    "start_time": "2022-12-19T13:47:31.867Z"
   },
   {
    "duration": 29,
    "start_time": "2022-12-19T13:47:36.836Z"
   },
   {
    "duration": 18,
    "start_time": "2022-12-19T13:47:56.954Z"
   },
   {
    "duration": 27,
    "start_time": "2022-12-19T13:48:18.702Z"
   },
   {
    "duration": 8,
    "start_time": "2022-12-19T13:49:40.683Z"
   },
   {
    "duration": 13,
    "start_time": "2022-12-19T13:49:42.102Z"
   },
   {
    "duration": 15,
    "start_time": "2022-12-19T13:49:53.271Z"
   },
   {
    "duration": 4,
    "start_time": "2022-12-19T13:50:51.267Z"
   },
   {
    "duration": 11,
    "start_time": "2022-12-19T13:57:49.099Z"
   },
   {
    "duration": 5,
    "start_time": "2022-12-19T13:59:12.846Z"
   },
   {
    "duration": 60,
    "start_time": "2022-12-19T13:59:12.853Z"
   },
   {
    "duration": 11,
    "start_time": "2022-12-19T13:59:12.915Z"
   },
   {
    "duration": 16,
    "start_time": "2022-12-19T13:59:12.928Z"
   },
   {
    "duration": 5,
    "start_time": "2022-12-19T13:59:12.946Z"
   },
   {
    "duration": 21,
    "start_time": "2022-12-19T13:59:12.952Z"
   },
   {
    "duration": 15,
    "start_time": "2022-12-19T13:59:13.103Z"
   },
   {
    "duration": 35,
    "start_time": "2022-12-19T13:59:13.120Z"
   },
   {
    "duration": 5,
    "start_time": "2022-12-19T13:59:13.156Z"
   },
   {
    "duration": 8,
    "start_time": "2022-12-19T13:59:13.164Z"
   },
   {
    "duration": 23,
    "start_time": "2022-12-19T13:59:13.174Z"
   },
   {
    "duration": 7,
    "start_time": "2022-12-19T13:59:13.199Z"
   },
   {
    "duration": 13,
    "start_time": "2022-12-19T13:59:13.208Z"
   },
   {
    "duration": 43,
    "start_time": "2022-12-19T13:59:13.223Z"
   },
   {
    "duration": 3,
    "start_time": "2022-12-19T13:59:13.268Z"
   },
   {
    "duration": 13,
    "start_time": "2022-12-19T13:59:13.273Z"
   },
   {
    "duration": 1544,
    "start_time": "2022-12-19T14:11:18.613Z"
   },
   {
    "duration": 87,
    "start_time": "2022-12-19T14:11:20.159Z"
   },
   {
    "duration": 13,
    "start_time": "2022-12-19T14:11:20.248Z"
   },
   {
    "duration": 16,
    "start_time": "2022-12-19T14:11:20.263Z"
   },
   {
    "duration": 6,
    "start_time": "2022-12-19T14:11:20.281Z"
   },
   {
    "duration": 6,
    "start_time": "2022-12-19T14:11:20.289Z"
   },
   {
    "duration": 24,
    "start_time": "2022-12-19T14:11:20.297Z"
   },
   {
    "duration": 32,
    "start_time": "2022-12-19T14:11:20.323Z"
   },
   {
    "duration": 4,
    "start_time": "2022-12-19T14:11:20.357Z"
   },
   {
    "duration": 9,
    "start_time": "2022-12-19T14:11:20.364Z"
   },
   {
    "duration": 23,
    "start_time": "2022-12-19T14:11:20.375Z"
   },
   {
    "duration": 26,
    "start_time": "2022-12-19T14:11:20.400Z"
   },
   {
    "duration": 11,
    "start_time": "2022-12-19T14:11:20.428Z"
   },
   {
    "duration": 11,
    "start_time": "2022-12-19T14:11:20.441Z"
   },
   {
    "duration": 4,
    "start_time": "2022-12-19T14:11:20.453Z"
   },
   {
    "duration": 11,
    "start_time": "2022-12-19T14:11:20.458Z"
   },
   {
    "duration": 29,
    "start_time": "2022-12-19T14:11:23.771Z"
   },
   {
    "duration": 6189,
    "start_time": "2022-12-19T14:12:53.039Z"
   },
   {
    "duration": 4777,
    "start_time": "2022-12-19T14:18:19.049Z"
   },
   {
    "duration": 7458,
    "start_time": "2022-12-19T14:23:15.268Z"
   },
   {
    "duration": 4,
    "start_time": "2022-12-19T14:26:06.682Z"
   },
   {
    "duration": 5632,
    "start_time": "2022-12-19T14:29:08.174Z"
   },
   {
    "duration": 24,
    "start_time": "2022-12-19T14:30:32.961Z"
   },
   {
    "duration": 4,
    "start_time": "2022-12-19T14:30:37.664Z"
   },
   {
    "duration": 50,
    "start_time": "2022-12-19T14:30:37.674Z"
   },
   {
    "duration": 11,
    "start_time": "2022-12-19T14:30:37.726Z"
   },
   {
    "duration": 21,
    "start_time": "2022-12-19T14:30:37.738Z"
   },
   {
    "duration": 8,
    "start_time": "2022-12-19T14:30:37.760Z"
   },
   {
    "duration": 11,
    "start_time": "2022-12-19T14:30:37.770Z"
   },
   {
    "duration": 21,
    "start_time": "2022-12-19T14:30:37.782Z"
   },
   {
    "duration": 39,
    "start_time": "2022-12-19T14:30:37.804Z"
   },
   {
    "duration": 4,
    "start_time": "2022-12-19T14:30:37.845Z"
   },
   {
    "duration": 11,
    "start_time": "2022-12-19T14:30:37.850Z"
   },
   {
    "duration": 21,
    "start_time": "2022-12-19T14:30:37.862Z"
   },
   {
    "duration": 7,
    "start_time": "2022-12-19T14:30:37.885Z"
   },
   {
    "duration": 31,
    "start_time": "2022-12-19T14:30:37.893Z"
   },
   {
    "duration": 11,
    "start_time": "2022-12-19T14:30:37.926Z"
   },
   {
    "duration": 9,
    "start_time": "2022-12-19T14:30:37.939Z"
   },
   {
    "duration": 10,
    "start_time": "2022-12-19T14:30:37.949Z"
   },
   {
    "duration": 35,
    "start_time": "2022-12-19T14:30:37.961Z"
   },
   {
    "duration": 7734,
    "start_time": "2022-12-19T14:30:37.997Z"
   },
   {
    "duration": 22,
    "start_time": "2022-12-19T14:30:51.010Z"
   },
   {
    "duration": 57,
    "start_time": "2022-12-19T14:33:51.094Z"
   },
   {
    "duration": 24,
    "start_time": "2022-12-19T14:34:00.794Z"
   },
   {
    "duration": 22,
    "start_time": "2022-12-19T14:34:50.687Z"
   },
   {
    "duration": 17739,
    "start_time": "2022-12-19T14:35:22.095Z"
   },
   {
    "duration": 4,
    "start_time": "2022-12-19T14:35:48.399Z"
   },
   {
    "duration": 53,
    "start_time": "2022-12-19T14:35:48.405Z"
   },
   {
    "duration": 10,
    "start_time": "2022-12-19T14:35:48.460Z"
   },
   {
    "duration": 14,
    "start_time": "2022-12-19T14:35:48.472Z"
   },
   {
    "duration": 5,
    "start_time": "2022-12-19T14:35:48.488Z"
   },
   {
    "duration": 14,
    "start_time": "2022-12-19T14:35:48.495Z"
   },
   {
    "duration": 21,
    "start_time": "2022-12-19T14:35:48.510Z"
   },
   {
    "duration": 36,
    "start_time": "2022-12-19T14:35:48.533Z"
   },
   {
    "duration": 6,
    "start_time": "2022-12-19T14:35:48.571Z"
   },
   {
    "duration": 8,
    "start_time": "2022-12-19T14:35:48.578Z"
   },
   {
    "duration": 45,
    "start_time": "2022-12-19T14:35:48.588Z"
   },
   {
    "duration": 7,
    "start_time": "2022-12-19T14:35:48.635Z"
   },
   {
    "duration": 17,
    "start_time": "2022-12-19T14:35:48.643Z"
   },
   {
    "duration": 12,
    "start_time": "2022-12-19T14:35:48.662Z"
   },
   {
    "duration": 3,
    "start_time": "2022-12-19T14:35:48.676Z"
   },
   {
    "duration": 15,
    "start_time": "2022-12-19T14:35:48.680Z"
   },
   {
    "duration": 47,
    "start_time": "2022-12-19T14:35:48.697Z"
   },
   {
    "duration": 5079,
    "start_time": "2022-12-19T14:35:48.745Z"
   },
   {
    "duration": 36244,
    "start_time": "2022-12-19T14:36:01.443Z"
   },
   {
    "duration": 35776,
    "start_time": "2022-12-19T14:41:17.106Z"
   },
   {
    "duration": 10,
    "start_time": "2022-12-19T14:47:24.291Z"
   },
   {
    "duration": 103319,
    "start_time": "2022-12-19T14:48:26.903Z"
   },
   {
    "duration": 9,
    "start_time": "2022-12-19T15:06:07.943Z"
   },
   {
    "duration": 12,
    "start_time": "2022-12-19T15:07:22.408Z"
   },
   {
    "duration": 8,
    "start_time": "2022-12-19T15:08:59.840Z"
   },
   {
    "duration": 82,
    "start_time": "2022-12-19T15:10:15.540Z"
   },
   {
    "duration": 12,
    "start_time": "2022-12-19T15:10:22.005Z"
   },
   {
    "duration": 5,
    "start_time": "2022-12-19T15:10:32.141Z"
   },
   {
    "duration": 4,
    "start_time": "2022-12-19T15:10:46.399Z"
   },
   {
    "duration": 65,
    "start_time": "2022-12-19T15:10:46.405Z"
   },
   {
    "duration": 10,
    "start_time": "2022-12-19T15:10:46.472Z"
   },
   {
    "duration": 23,
    "start_time": "2022-12-19T15:10:46.484Z"
   },
   {
    "duration": 13,
    "start_time": "2022-12-19T15:10:46.509Z"
   },
   {
    "duration": 18,
    "start_time": "2022-12-19T15:10:46.524Z"
   },
   {
    "duration": 32,
    "start_time": "2022-12-19T15:10:46.543Z"
   },
   {
    "duration": 46,
    "start_time": "2022-12-19T15:10:46.577Z"
   },
   {
    "duration": 3,
    "start_time": "2022-12-19T15:10:46.625Z"
   },
   {
    "duration": 17,
    "start_time": "2022-12-19T15:10:46.630Z"
   },
   {
    "duration": 33,
    "start_time": "2022-12-19T15:10:46.649Z"
   },
   {
    "duration": 28,
    "start_time": "2022-12-19T15:10:46.683Z"
   },
   {
    "duration": 34,
    "start_time": "2022-12-19T15:10:46.713Z"
   },
   {
    "duration": 27,
    "start_time": "2022-12-19T15:10:46.749Z"
   },
   {
    "duration": 35,
    "start_time": "2022-12-19T15:10:46.778Z"
   },
   {
    "duration": 0,
    "start_time": "2022-12-19T15:10:46.815Z"
   },
   {
    "duration": 0,
    "start_time": "2022-12-19T15:10:46.816Z"
   },
   {
    "duration": 104098,
    "start_time": "2022-12-19T15:10:52.343Z"
   },
   {
    "duration": 11,
    "start_time": "2022-12-19T15:13:54.707Z"
   },
   {
    "duration": 10,
    "start_time": "2022-12-19T15:15:00.103Z"
   },
   {
    "duration": 11,
    "start_time": "2022-12-19T15:15:13.603Z"
   },
   {
    "duration": 10,
    "start_time": "2022-12-19T15:16:16.635Z"
   },
   {
    "duration": 5452,
    "start_time": "2022-12-19T15:16:44.669Z"
   },
   {
    "duration": 5491,
    "start_time": "2022-12-19T15:18:23.037Z"
   },
   {
    "duration": 5518,
    "start_time": "2022-12-19T15:18:41.704Z"
   },
   {
    "duration": 102137,
    "start_time": "2022-12-19T15:19:15.985Z"
   },
   {
    "duration": 8,
    "start_time": "2022-12-19T15:27:48.713Z"
   },
   {
    "duration": 8,
    "start_time": "2022-12-19T15:29:13.399Z"
   },
   {
    "duration": 46,
    "start_time": "2022-12-19T15:29:46.022Z"
   },
   {
    "duration": 42,
    "start_time": "2022-12-19T15:30:42.541Z"
   },
   {
    "duration": 3,
    "start_time": "2022-12-19T15:36:41.524Z"
   },
   {
    "duration": 288,
    "start_time": "2022-12-19T15:38:20.425Z"
   },
   {
    "duration": 101903,
    "start_time": "2022-12-19T15:58:04.939Z"
   },
   {
    "duration": 5,
    "start_time": "2022-12-19T17:21:39.249Z"
   },
   {
    "duration": 53,
    "start_time": "2022-12-19T17:21:39.256Z"
   },
   {
    "duration": 11,
    "start_time": "2022-12-19T17:21:39.310Z"
   },
   {
    "duration": 15,
    "start_time": "2022-12-19T17:21:39.323Z"
   },
   {
    "duration": 11,
    "start_time": "2022-12-19T17:21:39.339Z"
   },
   {
    "duration": 19,
    "start_time": "2022-12-19T17:21:39.351Z"
   },
   {
    "duration": 23,
    "start_time": "2022-12-19T17:21:39.372Z"
   },
   {
    "duration": 31,
    "start_time": "2022-12-19T17:21:39.397Z"
   },
   {
    "duration": 4,
    "start_time": "2022-12-19T17:21:39.429Z"
   },
   {
    "duration": 13,
    "start_time": "2022-12-19T17:21:39.435Z"
   },
   {
    "duration": 25,
    "start_time": "2022-12-19T17:21:39.450Z"
   },
   {
    "duration": 8,
    "start_time": "2022-12-19T17:21:39.476Z"
   },
   {
    "duration": 24,
    "start_time": "2022-12-19T17:21:39.485Z"
   },
   {
    "duration": 14,
    "start_time": "2022-12-19T17:21:39.511Z"
   },
   {
    "duration": 4,
    "start_time": "2022-12-19T17:21:39.527Z"
   },
   {
    "duration": 24,
    "start_time": "2022-12-19T17:21:39.533Z"
   },
   {
    "duration": 38,
    "start_time": "2022-12-19T17:21:39.558Z"
   },
   {
    "duration": 9,
    "start_time": "2022-12-19T17:21:53.388Z"
   },
   {
    "duration": 8,
    "start_time": "2022-12-19T17:23:13.934Z"
   },
   {
    "duration": 5,
    "start_time": "2022-12-19T17:24:10.081Z"
   },
   {
    "duration": 38,
    "start_time": "2022-12-19T17:24:39.517Z"
   },
   {
    "duration": 38,
    "start_time": "2022-12-19T17:24:48.956Z"
   },
   {
    "duration": 42,
    "start_time": "2022-12-19T17:25:10.499Z"
   },
   {
    "duration": 55,
    "start_time": "2022-12-19T17:26:35.231Z"
   },
   {
    "duration": 4,
    "start_time": "2022-12-19T17:26:41.701Z"
   },
   {
    "duration": 23,
    "start_time": "2022-12-19T17:31:24.908Z"
   },
   {
    "duration": 26,
    "start_time": "2022-12-19T17:31:41.476Z"
   },
   {
    "duration": 24,
    "start_time": "2022-12-19T17:32:12.531Z"
   },
   {
    "duration": 4,
    "start_time": "2022-12-19T17:32:42.025Z"
   },
   {
    "duration": 19,
    "start_time": "2022-12-19T17:32:51.239Z"
   },
   {
    "duration": 149998,
    "start_time": "2022-12-19T17:35:21.057Z"
   },
   {
    "duration": 12,
    "start_time": "2022-12-19T18:09:42.013Z"
   },
   {
    "duration": 39,
    "start_time": "2022-12-19T18:09:54.654Z"
   },
   {
    "duration": 3,
    "start_time": "2022-12-19T18:10:04.174Z"
   },
   {
    "duration": 4,
    "start_time": "2022-12-19T18:10:07.020Z"
   },
   {
    "duration": 3,
    "start_time": "2022-12-19T18:10:18.698Z"
   },
   {
    "duration": 3,
    "start_time": "2022-12-19T18:10:19.889Z"
   },
   {
    "duration": 2,
    "start_time": "2022-12-19T18:10:31.621Z"
   },
   {
    "duration": 4,
    "start_time": "2022-12-19T18:10:32.696Z"
   },
   {
    "duration": 1455,
    "start_time": "2022-12-19T18:12:46.169Z"
   },
   {
    "duration": 92,
    "start_time": "2022-12-19T18:12:47.626Z"
   },
   {
    "duration": 16,
    "start_time": "2022-12-19T18:12:47.719Z"
   },
   {
    "duration": 14,
    "start_time": "2022-12-19T18:12:47.737Z"
   },
   {
    "duration": 4,
    "start_time": "2022-12-19T18:12:47.753Z"
   },
   {
    "duration": 9,
    "start_time": "2022-12-19T18:12:47.759Z"
   },
   {
    "duration": 22,
    "start_time": "2022-12-19T18:12:47.770Z"
   },
   {
    "duration": 33,
    "start_time": "2022-12-19T18:12:47.820Z"
   },
   {
    "duration": 4,
    "start_time": "2022-12-19T18:12:47.855Z"
   },
   {
    "duration": 4,
    "start_time": "2022-12-19T18:12:47.862Z"
   },
   {
    "duration": 21,
    "start_time": "2022-12-19T18:12:47.868Z"
   },
   {
    "duration": 34,
    "start_time": "2022-12-19T18:12:47.891Z"
   },
   {
    "duration": 15,
    "start_time": "2022-12-19T18:12:47.927Z"
   },
   {
    "duration": 12,
    "start_time": "2022-12-19T18:12:47.944Z"
   },
   {
    "duration": 4,
    "start_time": "2022-12-19T18:12:47.957Z"
   },
   {
    "duration": 8,
    "start_time": "2022-12-19T18:12:47.963Z"
   },
   {
    "duration": 62,
    "start_time": "2022-12-19T18:12:47.972Z"
   },
   {
    "duration": 18,
    "start_time": "2022-12-19T18:12:48.036Z"
   },
   {
    "duration": 14,
    "start_time": "2022-12-19T18:13:31.917Z"
   },
   {
    "duration": 58241,
    "start_time": "2022-12-19T18:16:49.024Z"
   },
   {
    "duration": 1676,
    "start_time": "2022-12-20T08:08:29.639Z"
   },
   {
    "duration": 166,
    "start_time": "2022-12-20T08:08:31.317Z"
   },
   {
    "duration": 12,
    "start_time": "2022-12-20T08:08:31.484Z"
   },
   {
    "duration": 61,
    "start_time": "2022-12-20T08:08:31.497Z"
   },
   {
    "duration": 51,
    "start_time": "2022-12-20T08:08:31.562Z"
   },
   {
    "duration": 37,
    "start_time": "2022-12-20T08:08:31.616Z"
   },
   {
    "duration": 34,
    "start_time": "2022-12-20T08:08:31.655Z"
   },
   {
    "duration": 57,
    "start_time": "2022-12-20T08:08:31.690Z"
   },
   {
    "duration": 14,
    "start_time": "2022-12-20T08:08:31.749Z"
   },
   {
    "duration": 38,
    "start_time": "2022-12-20T08:08:31.765Z"
   },
   {
    "duration": 49,
    "start_time": "2022-12-20T08:08:31.804Z"
   },
   {
    "duration": 32,
    "start_time": "2022-12-20T08:08:31.855Z"
   },
   {
    "duration": 28,
    "start_time": "2022-12-20T08:08:31.889Z"
   },
   {
    "duration": 37,
    "start_time": "2022-12-20T08:08:31.920Z"
   },
   {
    "duration": 17,
    "start_time": "2022-12-20T08:08:31.958Z"
   },
   {
    "duration": 56,
    "start_time": "2022-12-20T08:08:31.976Z"
   },
   {
    "duration": 73,
    "start_time": "2022-12-20T08:08:32.034Z"
   },
   {
    "duration": 17,
    "start_time": "2022-12-20T08:08:32.109Z"
   },
   {
    "duration": 41,
    "start_time": "2022-12-20T08:08:32.128Z"
   },
   {
    "duration": 114,
    "start_time": "2022-12-20T08:10:10.773Z"
   },
   {
    "duration": 67,
    "start_time": "2022-12-20T08:10:44.394Z"
   },
   {
    "duration": 57130,
    "start_time": "2022-12-20T08:11:18.875Z"
   },
   {
    "duration": 73,
    "start_time": "2022-12-20T08:12:17.595Z"
   },
   {
    "duration": 84,
    "start_time": "2022-12-20T08:12:42.558Z"
   },
   {
    "duration": 75,
    "start_time": "2022-12-20T08:12:53.741Z"
   },
   {
    "duration": 2045,
    "start_time": "2022-12-20T08:13:02.309Z"
   },
   {
    "duration": 151403,
    "start_time": "2022-12-20T08:15:24.760Z"
   },
   {
    "duration": 11,
    "start_time": "2022-12-20T08:19:45.121Z"
   },
   {
    "duration": 9,
    "start_time": "2022-12-20T08:20:12.818Z"
   },
   {
    "duration": 75,
    "start_time": "2022-12-20T08:21:31.320Z"
   },
   {
    "duration": 1153,
    "start_time": "2022-12-20T08:21:44.004Z"
   },
   {
    "duration": 13,
    "start_time": "2022-12-20T08:24:46.949Z"
   },
   {
    "duration": 67,
    "start_time": "2022-12-20T08:25:17.264Z"
   },
   {
    "duration": 71,
    "start_time": "2022-12-20T08:25:22.483Z"
   },
   {
    "duration": 14,
    "start_time": "2022-12-20T08:32:50.369Z"
   },
   {
    "duration": 1289,
    "start_time": "2022-12-20T08:33:02.497Z"
   },
   {
    "duration": 9,
    "start_time": "2022-12-20T08:33:09.083Z"
   },
   {
    "duration": 7,
    "start_time": "2022-12-20T08:47:12.857Z"
   },
   {
    "duration": 3,
    "start_time": "2022-12-20T08:47:32.123Z"
   },
   {
    "duration": 1192,
    "start_time": "2022-12-20T08:48:33.008Z"
   },
   {
    "duration": 5,
    "start_time": "2022-12-20T08:48:47.201Z"
   },
   {
    "duration": 11,
    "start_time": "2022-12-20T09:09:25.963Z"
   },
   {
    "duration": 10,
    "start_time": "2022-12-20T09:10:24.361Z"
   },
   {
    "duration": 10,
    "start_time": "2022-12-20T09:10:45.857Z"
   },
   {
    "duration": 11,
    "start_time": "2022-12-20T09:11:08.251Z"
   },
   {
    "duration": 21830,
    "start_time": "2022-12-20T09:11:18.330Z"
   },
   {
    "duration": 2905,
    "start_time": "2022-12-20T09:11:46.947Z"
   },
   {
    "duration": 10,
    "start_time": "2022-12-20T09:13:03.963Z"
   },
   {
    "duration": 2871,
    "start_time": "2022-12-20T09:14:07.197Z"
   },
   {
    "duration": 9,
    "start_time": "2022-12-20T09:14:20.382Z"
   },
   {
    "duration": 2985,
    "start_time": "2022-12-20T09:15:00.178Z"
   },
   {
    "duration": 9,
    "start_time": "2022-12-20T09:15:06.513Z"
   },
   {
    "duration": 4,
    "start_time": "2022-12-20T09:15:59.329Z"
   },
   {
    "duration": 2869,
    "start_time": "2022-12-20T09:16:16.194Z"
   },
   {
    "duration": 4,
    "start_time": "2022-12-20T09:16:23.093Z"
   },
   {
    "duration": 799864,
    "start_time": "2022-12-20T09:23:58.472Z"
   },
   {
    "duration": 150910,
    "start_time": "2022-12-20T09:37:29.082Z"
   },
   {
    "duration": 3,
    "start_time": "2022-12-20T09:43:59.942Z"
   },
   {
    "duration": 40,
    "start_time": "2022-12-20T09:45:53.208Z"
   },
   {
    "duration": 48,
    "start_time": "2022-12-20T09:46:24.056Z"
   },
   {
    "duration": 177,
    "start_time": "2022-12-20T09:51:39.627Z"
   },
   {
    "duration": 4,
    "start_time": "2022-12-20T15:17:04.402Z"
   },
   {
    "duration": 55,
    "start_time": "2022-12-20T15:17:04.407Z"
   },
   {
    "duration": 11,
    "start_time": "2022-12-20T15:17:04.464Z"
   },
   {
    "duration": 17,
    "start_time": "2022-12-20T15:17:04.476Z"
   },
   {
    "duration": 4,
    "start_time": "2022-12-20T15:17:04.494Z"
   },
   {
    "duration": 7,
    "start_time": "2022-12-20T15:17:04.499Z"
   },
   {
    "duration": 17,
    "start_time": "2022-12-20T15:17:04.507Z"
   },
   {
    "duration": 30,
    "start_time": "2022-12-20T15:17:04.525Z"
   },
   {
    "duration": 4,
    "start_time": "2022-12-20T15:17:04.557Z"
   },
   {
    "duration": 5,
    "start_time": "2022-12-20T15:17:04.577Z"
   },
   {
    "duration": 22,
    "start_time": "2022-12-20T15:17:04.583Z"
   },
   {
    "duration": 8,
    "start_time": "2022-12-20T15:17:04.607Z"
   },
   {
    "duration": 12,
    "start_time": "2022-12-20T15:17:04.616Z"
   },
   {
    "duration": 12,
    "start_time": "2022-12-20T15:17:04.630Z"
   },
   {
    "duration": 36,
    "start_time": "2022-12-20T15:17:04.643Z"
   },
   {
    "duration": 11,
    "start_time": "2022-12-20T15:17:04.681Z"
   },
   {
    "duration": 33,
    "start_time": "2022-12-20T15:17:04.693Z"
   },
   {
    "duration": 5952,
    "start_time": "2022-12-20T15:17:04.728Z"
   },
   {
    "duration": 13,
    "start_time": "2022-12-20T15:19:22.585Z"
   },
   {
    "duration": 5923,
    "start_time": "2022-12-20T15:29:31.564Z"
   },
   {
    "duration": 6169,
    "start_time": "2022-12-20T15:30:52.220Z"
   },
   {
    "duration": 11,
    "start_time": "2022-12-20T15:33:05.023Z"
   },
   {
    "duration": 5,
    "start_time": "2022-12-20T15:53:31.931Z"
   },
   {
    "duration": 4,
    "start_time": "2022-12-20T15:54:04.962Z"
   },
   {
    "duration": 4,
    "start_time": "2022-12-20T15:54:16.969Z"
   },
   {
    "duration": 3,
    "start_time": "2022-12-20T16:01:49.820Z"
   },
   {
    "duration": 2,
    "start_time": "2022-12-20T16:01:52.403Z"
   },
   {
    "duration": 6,
    "start_time": "2022-12-20T16:02:02.608Z"
   },
   {
    "duration": 5,
    "start_time": "2022-12-20T16:44:24.021Z"
   },
   {
    "duration": 78,
    "start_time": "2022-12-20T16:44:24.028Z"
   },
   {
    "duration": 17,
    "start_time": "2022-12-20T16:44:24.110Z"
   },
   {
    "duration": 14,
    "start_time": "2022-12-20T16:44:24.129Z"
   },
   {
    "duration": 9,
    "start_time": "2022-12-20T16:44:24.145Z"
   },
   {
    "duration": 36,
    "start_time": "2022-12-20T16:44:24.156Z"
   },
   {
    "duration": 32,
    "start_time": "2022-12-20T16:44:24.194Z"
   },
   {
    "duration": 58,
    "start_time": "2022-12-20T16:44:24.228Z"
   },
   {
    "duration": 30,
    "start_time": "2022-12-20T16:44:29.702Z"
   },
   {
    "duration": 14,
    "start_time": "2022-12-20T16:47:04.699Z"
   },
   {
    "duration": 4,
    "start_time": "2022-12-20T16:47:08.986Z"
   },
   {
    "duration": 56,
    "start_time": "2022-12-20T16:47:08.992Z"
   },
   {
    "duration": 13,
    "start_time": "2022-12-20T16:47:09.049Z"
   },
   {
    "duration": 17,
    "start_time": "2022-12-20T16:47:09.063Z"
   },
   {
    "duration": 5,
    "start_time": "2022-12-20T16:47:09.082Z"
   },
   {
    "duration": 7,
    "start_time": "2022-12-20T16:47:09.089Z"
   },
   {
    "duration": 21,
    "start_time": "2022-12-20T16:47:09.097Z"
   },
   {
    "duration": 36,
    "start_time": "2022-12-20T16:47:09.120Z"
   },
   {
    "duration": 5,
    "start_time": "2022-12-20T16:47:09.178Z"
   },
   {
    "duration": 7,
    "start_time": "2022-12-20T16:47:09.185Z"
   },
   {
    "duration": 24,
    "start_time": "2022-12-20T16:47:09.193Z"
   },
   {
    "duration": 17,
    "start_time": "2022-12-20T16:47:12.988Z"
   },
   {
    "duration": 6,
    "start_time": "2022-12-20T16:50:37.684Z"
   },
   {
    "duration": 57,
    "start_time": "2022-12-20T16:50:37.692Z"
   },
   {
    "duration": 13,
    "start_time": "2022-12-20T16:50:37.752Z"
   },
   {
    "duration": 21,
    "start_time": "2022-12-20T16:50:37.767Z"
   },
   {
    "duration": 5,
    "start_time": "2022-12-20T16:50:37.790Z"
   },
   {
    "duration": 8,
    "start_time": "2022-12-20T16:50:37.798Z"
   },
   {
    "duration": 18,
    "start_time": "2022-12-20T16:50:37.808Z"
   },
   {
    "duration": 64,
    "start_time": "2022-12-20T16:50:37.827Z"
   },
   {
    "duration": 5,
    "start_time": "2022-12-20T16:50:37.892Z"
   },
   {
    "duration": 17,
    "start_time": "2022-12-20T16:50:37.899Z"
   },
   {
    "duration": 45,
    "start_time": "2022-12-20T16:50:37.918Z"
   },
   {
    "duration": 28,
    "start_time": "2022-12-20T16:50:37.966Z"
   },
   {
    "duration": 17,
    "start_time": "2022-12-20T16:50:37.996Z"
   },
   {
    "duration": 6,
    "start_time": "2022-12-20T16:50:38.015Z"
   },
   {
    "duration": 11,
    "start_time": "2022-12-20T16:50:38.023Z"
   },
   {
    "duration": 69,
    "start_time": "2022-12-20T16:50:38.036Z"
   },
   {
    "duration": 14215,
    "start_time": "2022-12-20T16:51:05.464Z"
   },
   {
    "duration": 38895,
    "start_time": "2022-12-20T16:56:44.874Z"
   },
   {
    "duration": 38505,
    "start_time": "2022-12-20T16:58:20.727Z"
   },
   {
    "duration": 79,
    "start_time": "2022-12-20T17:05:21.944Z"
   },
   {
    "duration": 76,
    "start_time": "2022-12-20T17:05:34.335Z"
   },
   {
    "duration": 0,
    "start_time": "2022-12-20T17:08:52.688Z"
   },
   {
    "duration": 27241,
    "start_time": "2022-12-20T17:09:18.878Z"
   },
   {
    "duration": 7,
    "start_time": "2022-12-20T17:09:53.197Z"
   },
   {
    "duration": 71,
    "start_time": "2022-12-20T17:09:53.206Z"
   },
   {
    "duration": 14,
    "start_time": "2022-12-20T17:09:53.279Z"
   },
   {
    "duration": 12,
    "start_time": "2022-12-20T17:09:53.295Z"
   },
   {
    "duration": 5,
    "start_time": "2022-12-20T17:09:53.309Z"
   },
   {
    "duration": 8,
    "start_time": "2022-12-20T17:09:53.316Z"
   },
   {
    "duration": 52,
    "start_time": "2022-12-20T17:09:53.326Z"
   },
   {
    "duration": 49,
    "start_time": "2022-12-20T17:09:53.380Z"
   },
   {
    "duration": 5,
    "start_time": "2022-12-20T17:09:53.431Z"
   },
   {
    "duration": 8,
    "start_time": "2022-12-20T17:09:53.438Z"
   },
   {
    "duration": 45,
    "start_time": "2022-12-20T17:09:53.447Z"
   },
   {
    "duration": 17,
    "start_time": "2022-12-20T17:09:53.494Z"
   },
   {
    "duration": 12,
    "start_time": "2022-12-20T17:09:53.513Z"
   },
   {
    "duration": 4,
    "start_time": "2022-12-20T17:09:53.526Z"
   },
   {
    "duration": 10,
    "start_time": "2022-12-20T17:09:53.531Z"
   },
   {
    "duration": 62,
    "start_time": "2022-12-20T17:09:53.542Z"
   },
   {
    "duration": 13227,
    "start_time": "2022-12-20T17:09:59.993Z"
   },
   {
    "duration": 5,
    "start_time": "2022-12-20T17:10:16.775Z"
   },
   {
    "duration": 96,
    "start_time": "2022-12-20T17:10:16.782Z"
   },
   {
    "duration": 16,
    "start_time": "2022-12-20T17:10:16.880Z"
   },
   {
    "duration": 24,
    "start_time": "2022-12-20T17:10:16.899Z"
   },
   {
    "duration": 8,
    "start_time": "2022-12-20T17:10:16.926Z"
   },
   {
    "duration": 24,
    "start_time": "2022-12-20T17:10:16.936Z"
   },
   {
    "duration": 50,
    "start_time": "2022-12-20T17:10:16.962Z"
   },
   {
    "duration": 85,
    "start_time": "2022-12-20T17:10:17.014Z"
   },
   {
    "duration": 8,
    "start_time": "2022-12-20T17:10:17.101Z"
   },
   {
    "duration": 26,
    "start_time": "2022-12-20T17:10:17.113Z"
   },
   {
    "duration": 37,
    "start_time": "2022-12-20T17:10:17.141Z"
   },
   {
    "duration": 40,
    "start_time": "2022-12-20T17:10:17.181Z"
   },
   {
    "duration": 20,
    "start_time": "2022-12-20T17:10:17.223Z"
   },
   {
    "duration": 13,
    "start_time": "2022-12-20T17:10:17.245Z"
   },
   {
    "duration": 42,
    "start_time": "2022-12-20T17:10:17.260Z"
   },
   {
    "duration": 53,
    "start_time": "2022-12-20T17:10:17.304Z"
   },
   {
    "duration": 109280,
    "start_time": "2022-12-20T17:10:22.458Z"
   },
   {
    "duration": 5,
    "start_time": "2022-12-20T17:12:52.726Z"
   },
   {
    "duration": 65,
    "start_time": "2022-12-20T17:12:52.733Z"
   },
   {
    "duration": 16,
    "start_time": "2022-12-20T17:12:52.800Z"
   },
   {
    "duration": 22,
    "start_time": "2022-12-20T17:12:52.818Z"
   },
   {
    "duration": 6,
    "start_time": "2022-12-20T17:12:52.842Z"
   },
   {
    "duration": 33,
    "start_time": "2022-12-20T17:12:52.850Z"
   },
   {
    "duration": 28,
    "start_time": "2022-12-20T17:12:52.885Z"
   },
   {
    "duration": 41,
    "start_time": "2022-12-20T17:12:52.916Z"
   },
   {
    "duration": 5,
    "start_time": "2022-12-20T17:12:52.959Z"
   },
   {
    "duration": 16,
    "start_time": "2022-12-20T17:12:52.966Z"
   },
   {
    "duration": 38,
    "start_time": "2022-12-20T17:12:52.985Z"
   },
   {
    "duration": 23,
    "start_time": "2022-12-20T17:12:53.025Z"
   },
   {
    "duration": 45,
    "start_time": "2022-12-20T17:12:53.050Z"
   },
   {
    "duration": 4,
    "start_time": "2022-12-20T17:12:53.097Z"
   },
   {
    "duration": 24,
    "start_time": "2022-12-20T17:12:53.102Z"
   },
   {
    "duration": 51,
    "start_time": "2022-12-20T17:12:53.127Z"
   },
   {
    "duration": 108176,
    "start_time": "2022-12-20T17:13:33.317Z"
   },
   {
    "duration": 49,
    "start_time": "2022-12-20T17:15:21.495Z"
   },
   {
    "duration": 54,
    "start_time": "2022-12-20T17:15:28.818Z"
   },
   {
    "duration": 105231,
    "start_time": "2022-12-20T17:17:51.037Z"
   },
   {
    "duration": 85,
    "start_time": "2022-12-20T17:19:36.270Z"
   },
   {
    "duration": 18,
    "start_time": "2022-12-20T17:19:47.822Z"
   },
   {
    "duration": 152101,
    "start_time": "2022-12-20T17:20:34.651Z"
   },
   {
    "duration": 81,
    "start_time": "2022-12-20T17:23:06.754Z"
   },
   {
    "duration": 14,
    "start_time": "2022-12-20T17:23:42.519Z"
   },
   {
    "duration": 14,
    "start_time": "2022-12-20T17:24:01.766Z"
   },
   {
    "duration": 59312,
    "start_time": "2022-12-20T17:25:39.385Z"
   },
   {
    "duration": 64,
    "start_time": "2022-12-20T17:26:38.699Z"
   },
   {
    "duration": 45,
    "start_time": "2022-12-20T17:27:51.634Z"
   },
   {
    "duration": 41,
    "start_time": "2022-12-20T17:28:15.265Z"
   },
   {
    "duration": 171,
    "start_time": "2022-12-20T17:28:17.482Z"
   },
   {
    "duration": 42,
    "start_time": "2022-12-20T17:29:16.112Z"
   },
   {
    "duration": 1362,
    "start_time": "2022-12-21T11:12:31.143Z"
   },
   {
    "duration": 71,
    "start_time": "2022-12-21T11:12:32.507Z"
   },
   {
    "duration": 14,
    "start_time": "2022-12-21T11:12:32.579Z"
   },
   {
    "duration": 12,
    "start_time": "2022-12-21T11:12:32.594Z"
   },
   {
    "duration": 5,
    "start_time": "2022-12-21T11:12:32.608Z"
   },
   {
    "duration": 36,
    "start_time": "2022-12-21T11:12:32.614Z"
   },
   {
    "duration": 17,
    "start_time": "2022-12-21T11:12:32.651Z"
   },
   {
    "duration": 33,
    "start_time": "2022-12-21T11:12:32.669Z"
   },
   {
    "duration": 4,
    "start_time": "2022-12-21T11:12:32.703Z"
   },
   {
    "duration": 16,
    "start_time": "2022-12-21T11:12:32.708Z"
   },
   {
    "duration": 42,
    "start_time": "2022-12-21T11:12:32.725Z"
   },
   {
    "duration": 17,
    "start_time": "2022-12-21T11:12:32.769Z"
   },
   {
    "duration": 12,
    "start_time": "2022-12-21T11:12:32.788Z"
   },
   {
    "duration": 4,
    "start_time": "2022-12-21T11:12:32.802Z"
   },
   {
    "duration": 14,
    "start_time": "2022-12-21T11:12:32.808Z"
   },
   {
    "duration": 58,
    "start_time": "2022-12-21T11:12:32.824Z"
   },
   {
    "duration": 7365,
    "start_time": "2022-12-21T11:12:32.883Z"
   },
   {
    "duration": 44926,
    "start_time": "2022-12-21T11:12:40.256Z"
   },
   {
    "duration": 138993,
    "start_time": "2022-12-21T11:13:25.184Z"
   },
   {
    "duration": 73,
    "start_time": "2022-12-21T11:15:44.179Z"
   },
   {
    "duration": 136142,
    "start_time": "2022-12-21T11:15:44.253Z"
   },
   {
    "duration": 79,
    "start_time": "2022-12-21T11:18:00.396Z"
   },
   {
    "duration": 16,
    "start_time": "2022-12-21T11:18:00.477Z"
   },
   {
    "duration": 180301,
    "start_time": "2022-12-21T11:18:00.495Z"
   },
   {
    "duration": 91,
    "start_time": "2022-12-21T11:21:00.798Z"
   },
   {
    "duration": 15,
    "start_time": "2022-12-21T11:21:00.890Z"
   },
   {
    "duration": 72112,
    "start_time": "2022-12-21T11:21:00.915Z"
   },
   {
    "duration": 75,
    "start_time": "2022-12-21T11:22:13.029Z"
   },
   {
    "duration": 51,
    "start_time": "2022-12-21T11:22:13.106Z"
   },
   {
    "duration": 203,
    "start_time": "2022-12-21T11:22:13.158Z"
   },
   {
    "duration": 1663,
    "start_time": "2022-12-21T12:46:50.767Z"
   },
   {
    "duration": 161,
    "start_time": "2022-12-21T12:46:52.433Z"
   },
   {
    "duration": 14,
    "start_time": "2022-12-21T12:46:52.596Z"
   },
   {
    "duration": 13,
    "start_time": "2022-12-21T12:46:52.612Z"
   },
   {
    "duration": 4,
    "start_time": "2022-12-21T12:46:52.627Z"
   },
   {
    "duration": 9,
    "start_time": "2022-12-21T12:46:52.632Z"
   },
   {
    "duration": 12,
    "start_time": "2022-12-21T12:46:55.660Z"
   },
   {
    "duration": 4,
    "start_time": "2022-12-21T12:49:02.901Z"
   },
   {
    "duration": 4,
    "start_time": "2022-12-21T13:05:55.281Z"
   },
   {
    "duration": 68,
    "start_time": "2022-12-21T13:05:55.288Z"
   },
   {
    "duration": 11,
    "start_time": "2022-12-21T13:05:55.358Z"
   },
   {
    "duration": 17,
    "start_time": "2022-12-21T13:05:55.371Z"
   },
   {
    "duration": 5,
    "start_time": "2022-12-21T13:05:55.391Z"
   },
   {
    "duration": 12,
    "start_time": "2022-12-21T13:05:55.398Z"
   },
   {
    "duration": 12,
    "start_time": "2022-12-21T13:05:55.412Z"
   },
   {
    "duration": 17,
    "start_time": "2022-12-21T13:05:59.126Z"
   },
   {
    "duration": 119,
    "start_time": "2022-12-21T13:06:19.974Z"
   },
   {
    "duration": 4,
    "start_time": "2022-12-21T13:06:23.917Z"
   },
   {
    "duration": 74,
    "start_time": "2022-12-21T13:06:23.923Z"
   },
   {
    "duration": 12,
    "start_time": "2022-12-21T13:06:23.998Z"
   },
   {
    "duration": 11,
    "start_time": "2022-12-21T13:06:24.012Z"
   },
   {
    "duration": 4,
    "start_time": "2022-12-21T13:06:24.025Z"
   },
   {
    "duration": 9,
    "start_time": "2022-12-21T13:06:24.031Z"
   },
   {
    "duration": 6,
    "start_time": "2022-12-21T13:06:24.042Z"
   },
   {
    "duration": 17,
    "start_time": "2022-12-21T13:06:31.123Z"
   },
   {
    "duration": 19,
    "start_time": "2022-12-21T13:50:08.474Z"
   },
   {
    "duration": 4,
    "start_time": "2022-12-21T13:50:14.497Z"
   },
   {
    "duration": 74,
    "start_time": "2022-12-21T13:50:14.503Z"
   },
   {
    "duration": 11,
    "start_time": "2022-12-21T13:50:14.578Z"
   },
   {
    "duration": 24,
    "start_time": "2022-12-21T13:50:14.590Z"
   },
   {
    "duration": 5,
    "start_time": "2022-12-21T13:50:14.615Z"
   },
   {
    "duration": 19,
    "start_time": "2022-12-21T13:50:14.623Z"
   },
   {
    "duration": 29,
    "start_time": "2022-12-21T13:50:14.644Z"
   },
   {
    "duration": 40,
    "start_time": "2022-12-21T13:50:14.676Z"
   },
   {
    "duration": 4,
    "start_time": "2022-12-21T13:50:14.718Z"
   },
   {
    "duration": 17,
    "start_time": "2022-12-21T13:50:14.724Z"
   },
   {
    "duration": 14,
    "start_time": "2022-12-21T13:50:16.956Z"
   },
   {
    "duration": 18,
    "start_time": "2022-12-21T13:50:45.208Z"
   },
   {
    "duration": 13,
    "start_time": "2022-12-21T13:50:52.858Z"
   },
   {
    "duration": 9,
    "start_time": "2022-12-21T13:51:56.153Z"
   },
   {
    "duration": 12,
    "start_time": "2022-12-21T13:52:00.102Z"
   },
   {
    "duration": 8,
    "start_time": "2022-12-21T13:52:10.454Z"
   },
   {
    "duration": 21,
    "start_time": "2022-12-21T13:52:12.405Z"
   },
   {
    "duration": 3,
    "start_time": "2022-12-21T13:52:54.505Z"
   },
   {
    "duration": 18,
    "start_time": "2022-12-21T13:55:52.823Z"
   },
   {
    "duration": 14,
    "start_time": "2022-12-21T13:58:42.049Z"
   },
   {
    "duration": 13,
    "start_time": "2022-12-21T13:59:11.370Z"
   },
   {
    "duration": 13,
    "start_time": "2022-12-21T13:59:31.747Z"
   },
   {
    "duration": 14,
    "start_time": "2022-12-21T13:59:45.168Z"
   },
   {
    "duration": 17,
    "start_time": "2022-12-21T14:00:37.055Z"
   },
   {
    "duration": 15,
    "start_time": "2022-12-21T14:00:43.316Z"
   },
   {
    "duration": 30,
    "start_time": "2022-12-21T14:09:10.153Z"
   },
   {
    "duration": 5,
    "start_time": "2022-12-21T14:09:23.600Z"
   },
   {
    "duration": 51,
    "start_time": "2022-12-21T14:09:23.607Z"
   },
   {
    "duration": 12,
    "start_time": "2022-12-21T14:09:23.659Z"
   },
   {
    "duration": 12,
    "start_time": "2022-12-21T14:09:23.673Z"
   },
   {
    "duration": 5,
    "start_time": "2022-12-21T14:09:23.687Z"
   },
   {
    "duration": 5,
    "start_time": "2022-12-21T14:09:23.704Z"
   },
   {
    "duration": 18,
    "start_time": "2022-12-21T14:09:23.711Z"
   },
   {
    "duration": 32,
    "start_time": "2022-12-21T14:09:23.731Z"
   },
   {
    "duration": 5,
    "start_time": "2022-12-21T14:09:23.765Z"
   },
   {
    "duration": 5,
    "start_time": "2022-12-21T14:09:23.804Z"
   },
   {
    "duration": 21,
    "start_time": "2022-12-21T14:09:26.780Z"
   },
   {
    "duration": 15,
    "start_time": "2022-12-21T14:20:38.322Z"
   },
   {
    "duration": 4,
    "start_time": "2022-12-21T14:20:42.931Z"
   },
   {
    "duration": 52,
    "start_time": "2022-12-21T14:20:42.937Z"
   },
   {
    "duration": 11,
    "start_time": "2022-12-21T14:20:42.991Z"
   },
   {
    "duration": 10,
    "start_time": "2022-12-21T14:20:43.003Z"
   },
   {
    "duration": 4,
    "start_time": "2022-12-21T14:20:43.015Z"
   },
   {
    "duration": 7,
    "start_time": "2022-12-21T14:20:43.020Z"
   },
   {
    "duration": 16,
    "start_time": "2022-12-21T14:20:43.029Z"
   },
   {
    "duration": 58,
    "start_time": "2022-12-21T14:20:43.047Z"
   },
   {
    "duration": 4,
    "start_time": "2022-12-21T14:20:43.107Z"
   },
   {
    "duration": 9,
    "start_time": "2022-12-21T14:20:43.113Z"
   },
   {
    "duration": 15,
    "start_time": "2022-12-21T14:20:44.962Z"
   },
   {
    "duration": 14,
    "start_time": "2022-12-21T14:21:32.164Z"
   },
   {
    "duration": 15,
    "start_time": "2022-12-21T14:21:53.765Z"
   },
   {
    "duration": 13,
    "start_time": "2022-12-21T14:22:03.561Z"
   },
   {
    "duration": 4,
    "start_time": "2022-12-21T14:22:46.083Z"
   },
   {
    "duration": 54,
    "start_time": "2022-12-21T14:22:46.089Z"
   },
   {
    "duration": 14,
    "start_time": "2022-12-21T14:22:46.144Z"
   },
   {
    "duration": 11,
    "start_time": "2022-12-21T14:22:46.160Z"
   },
   {
    "duration": 4,
    "start_time": "2022-12-21T14:22:46.174Z"
   },
   {
    "duration": 14,
    "start_time": "2022-12-21T14:22:46.185Z"
   },
   {
    "duration": 16,
    "start_time": "2022-12-21T14:22:46.204Z"
   },
   {
    "duration": 32,
    "start_time": "2022-12-21T14:22:46.222Z"
   },
   {
    "duration": 4,
    "start_time": "2022-12-21T14:22:46.256Z"
   },
   {
    "duration": 7,
    "start_time": "2022-12-21T14:22:46.262Z"
   },
   {
    "duration": 24,
    "start_time": "2022-12-21T14:22:48.142Z"
   },
   {
    "duration": 18,
    "start_time": "2022-12-21T14:23:11.526Z"
   },
   {
    "duration": 4,
    "start_time": "2022-12-21T15:33:26.530Z"
   },
   {
    "duration": 53,
    "start_time": "2022-12-21T15:33:26.536Z"
   },
   {
    "duration": 13,
    "start_time": "2022-12-21T15:33:26.591Z"
   },
   {
    "duration": 13,
    "start_time": "2022-12-21T15:33:26.606Z"
   },
   {
    "duration": 5,
    "start_time": "2022-12-21T15:33:26.621Z"
   },
   {
    "duration": 8,
    "start_time": "2022-12-21T15:33:26.628Z"
   },
   {
    "duration": 23,
    "start_time": "2022-12-21T15:33:26.638Z"
   },
   {
    "duration": 60,
    "start_time": "2022-12-21T15:33:26.663Z"
   },
   {
    "duration": 5,
    "start_time": "2022-12-21T15:33:26.725Z"
   },
   {
    "duration": 5,
    "start_time": "2022-12-21T15:33:26.733Z"
   },
   {
    "duration": 36,
    "start_time": "2022-12-21T15:33:26.739Z"
   },
   {
    "duration": 41,
    "start_time": "2022-12-21T15:33:26.777Z"
   },
   {
    "duration": 15,
    "start_time": "2022-12-21T15:33:26.819Z"
   },
   {
    "duration": 255,
    "start_time": "2022-12-21T15:34:49.375Z"
   },
   {
    "duration": 4,
    "start_time": "2022-12-21T15:35:06.239Z"
   },
   {
    "duration": 5,
    "start_time": "2022-12-21T15:37:02.013Z"
   },
   {
    "duration": 122,
    "start_time": "2022-12-21T15:37:48.760Z"
   },
   {
    "duration": 123,
    "start_time": "2022-12-21T15:38:42.360Z"
   },
   {
    "duration": 14,
    "start_time": "2022-12-21T15:38:58.140Z"
   },
   {
    "duration": 10,
    "start_time": "2022-12-21T15:40:07.706Z"
   },
   {
    "duration": 11,
    "start_time": "2022-12-21T15:40:18.957Z"
   },
   {
    "duration": 11,
    "start_time": "2022-12-21T15:40:29.073Z"
   },
   {
    "duration": 10,
    "start_time": "2022-12-21T15:42:35.153Z"
   },
   {
    "duration": 6,
    "start_time": "2022-12-21T15:44:09.389Z"
   },
   {
    "duration": 11,
    "start_time": "2022-12-21T15:44:23.783Z"
   },
   {
    "duration": 120,
    "start_time": "2022-12-21T15:45:15.542Z"
   },
   {
    "duration": 5,
    "start_time": "2022-12-21T15:46:01.538Z"
   },
   {
    "duration": 12,
    "start_time": "2022-12-21T15:46:27.291Z"
   },
   {
    "duration": 9,
    "start_time": "2022-12-21T15:47:17.328Z"
   },
   {
    "duration": 9,
    "start_time": "2022-12-21T15:47:41.403Z"
   },
   {
    "duration": 5,
    "start_time": "2022-12-21T15:48:47.622Z"
   },
   {
    "duration": 12,
    "start_time": "2022-12-21T15:49:04.654Z"
   },
   {
    "duration": 8,
    "start_time": "2022-12-21T15:49:17.919Z"
   },
   {
    "duration": 5,
    "start_time": "2022-12-21T15:49:26.454Z"
   },
   {
    "duration": 14,
    "start_time": "2022-12-21T15:49:52.220Z"
   },
   {
    "duration": 5,
    "start_time": "2022-12-21T15:50:03.902Z"
   },
   {
    "duration": 13,
    "start_time": "2022-12-21T15:50:20.021Z"
   },
   {
    "duration": 13,
    "start_time": "2022-12-21T15:50:24.500Z"
   },
   {
    "duration": 12,
    "start_time": "2022-12-21T15:51:36.267Z"
   },
   {
    "duration": 6,
    "start_time": "2022-12-21T15:51:56.017Z"
   },
   {
    "duration": 9,
    "start_time": "2022-12-21T15:52:38.935Z"
   },
   {
    "duration": 9,
    "start_time": "2022-12-21T15:52:43.689Z"
   },
   {
    "duration": 145,
    "start_time": "2022-12-21T15:55:33.116Z"
   },
   {
    "duration": 68,
    "start_time": "2022-12-21T15:56:21.982Z"
   },
   {
    "duration": 88,
    "start_time": "2022-12-21T15:57:51.473Z"
   },
   {
    "duration": 11,
    "start_time": "2022-12-21T16:06:40.665Z"
   },
   {
    "duration": 10,
    "start_time": "2022-12-21T16:07:33.248Z"
   },
   {
    "duration": 24,
    "start_time": "2022-12-21T16:07:38.008Z"
   },
   {
    "duration": 11,
    "start_time": "2022-12-21T16:10:52.198Z"
   },
   {
    "duration": 36,
    "start_time": "2022-12-21T16:11:32.257Z"
   },
   {
    "duration": 4,
    "start_time": "2022-12-21T16:11:46.701Z"
   },
   {
    "duration": 54,
    "start_time": "2022-12-21T16:11:46.709Z"
   },
   {
    "duration": 13,
    "start_time": "2022-12-21T16:11:46.765Z"
   },
   {
    "duration": 12,
    "start_time": "2022-12-21T16:11:46.780Z"
   },
   {
    "duration": 14,
    "start_time": "2022-12-21T16:11:46.794Z"
   },
   {
    "duration": 6,
    "start_time": "2022-12-21T16:11:46.810Z"
   },
   {
    "duration": 18,
    "start_time": "2022-12-21T16:11:46.818Z"
   },
   {
    "duration": 34,
    "start_time": "2022-12-21T16:11:46.838Z"
   },
   {
    "duration": 4,
    "start_time": "2022-12-21T16:11:46.905Z"
   },
   {
    "duration": 7,
    "start_time": "2022-12-21T16:11:46.910Z"
   },
   {
    "duration": 21,
    "start_time": "2022-12-21T16:11:46.920Z"
   },
   {
    "duration": 20,
    "start_time": "2022-12-21T16:11:46.943Z"
   },
   {
    "duration": 41,
    "start_time": "2022-12-21T16:11:46.965Z"
   },
   {
    "duration": 68,
    "start_time": "2022-12-21T16:11:47.008Z"
   },
   {
    "duration": 32,
    "start_time": "2022-12-21T16:11:47.077Z"
   },
   {
    "duration": 25,
    "start_time": "2022-12-21T16:11:47.110Z"
   },
   {
    "duration": 32,
    "start_time": "2022-12-21T16:11:49.158Z"
   },
   {
    "duration": 10,
    "start_time": "2022-12-21T16:17:44.895Z"
   },
   {
    "duration": 6033,
    "start_time": "2022-12-21T16:17:54.374Z"
   },
   {
    "duration": 3,
    "start_time": "2022-12-21T16:18:30.142Z"
   },
   {
    "duration": 7,
    "start_time": "2022-12-21T16:18:37.470Z"
   },
   {
    "duration": 10,
    "start_time": "2022-12-21T16:19:07.841Z"
   },
   {
    "duration": 5,
    "start_time": "2022-12-21T16:19:31.459Z"
   },
   {
    "duration": 8,
    "start_time": "2022-12-21T16:19:40.758Z"
   },
   {
    "duration": 8,
    "start_time": "2022-12-21T16:21:10.808Z"
   },
   {
    "duration": 67,
    "start_time": "2022-12-21T16:22:14.293Z"
   },
   {
    "duration": 73,
    "start_time": "2022-12-21T16:22:28.737Z"
   },
   {
    "duration": 13,
    "start_time": "2022-12-21T16:23:04.438Z"
   },
   {
    "duration": 7,
    "start_time": "2022-12-21T16:23:17.389Z"
   },
   {
    "duration": 7,
    "start_time": "2022-12-21T16:23:41.471Z"
   },
   {
    "duration": 71,
    "start_time": "2022-12-21T16:25:54.744Z"
   },
   {
    "duration": 71,
    "start_time": "2022-12-21T16:26:02.025Z"
   },
   {
    "duration": 94,
    "start_time": "2022-12-21T16:26:11.240Z"
   },
   {
    "duration": 95,
    "start_time": "2022-12-21T16:26:40.407Z"
   },
   {
    "duration": 4,
    "start_time": "2022-12-21T16:26:48.690Z"
   },
   {
    "duration": 74,
    "start_time": "2022-12-21T16:26:48.696Z"
   },
   {
    "duration": 11,
    "start_time": "2022-12-21T16:26:48.772Z"
   },
   {
    "duration": 12,
    "start_time": "2022-12-21T16:26:48.785Z"
   },
   {
    "duration": 5,
    "start_time": "2022-12-21T16:26:48.798Z"
   },
   {
    "duration": 20,
    "start_time": "2022-12-21T16:26:48.804Z"
   },
   {
    "duration": 41,
    "start_time": "2022-12-21T16:26:48.825Z"
   },
   {
    "duration": 46,
    "start_time": "2022-12-21T16:26:48.868Z"
   },
   {
    "duration": 4,
    "start_time": "2022-12-21T16:26:48.916Z"
   },
   {
    "duration": 37,
    "start_time": "2022-12-21T16:26:48.921Z"
   },
   {
    "duration": 28,
    "start_time": "2022-12-21T16:26:48.960Z"
   },
   {
    "duration": 25,
    "start_time": "2022-12-21T16:26:48.990Z"
   },
   {
    "duration": 23,
    "start_time": "2022-12-21T16:26:49.017Z"
   },
   {
    "duration": 100,
    "start_time": "2022-12-21T16:26:49.041Z"
   },
   {
    "duration": 11,
    "start_time": "2022-12-21T16:26:49.143Z"
   },
   {
    "duration": 43,
    "start_time": "2022-12-21T16:26:49.156Z"
   },
   {
    "duration": 57,
    "start_time": "2022-12-21T16:26:49.201Z"
   },
   {
    "duration": 85,
    "start_time": "2022-12-21T16:26:58.315Z"
   },
   {
    "duration": 93,
    "start_time": "2022-12-21T16:27:32.621Z"
   },
   {
    "duration": 6040,
    "start_time": "2022-12-21T16:27:49.372Z"
   },
   {
    "duration": 8589,
    "start_time": "2022-12-21T16:28:48.221Z"
   },
   {
    "duration": 44771,
    "start_time": "2022-12-21T16:34:52.553Z"
   },
   {
    "duration": 11,
    "start_time": "2022-12-21T16:40:29.679Z"
   },
   {
    "duration": 10,
    "start_time": "2022-12-21T16:42:02.742Z"
   },
   {
    "duration": 11,
    "start_time": "2022-12-21T16:42:12.302Z"
   },
   {
    "duration": 11,
    "start_time": "2022-12-21T16:42:19.584Z"
   },
   {
    "duration": 11765,
    "start_time": "2022-12-21T16:42:46.701Z"
   },
   {
    "duration": 121718,
    "start_time": "2022-12-21T16:46:07.667Z"
   },
   {
    "duration": 4,
    "start_time": "2022-12-21T16:48:21.884Z"
   },
   {
    "duration": 116936,
    "start_time": "2022-12-21T17:02:38.685Z"
   },
   {
    "duration": 3,
    "start_time": "2022-12-21T17:05:36.622Z"
   },
   {
    "duration": 7554,
    "start_time": "2022-12-21T17:42:36.752Z"
   },
   {
    "duration": 44849,
    "start_time": "2022-12-21T17:43:55.650Z"
   },
   {
    "duration": 1612,
    "start_time": "2022-12-24T12:32:28.863Z"
   },
   {
    "duration": 101,
    "start_time": "2022-12-24T12:32:30.476Z"
   },
   {
    "duration": 13,
    "start_time": "2022-12-24T12:32:30.579Z"
   },
   {
    "duration": 42,
    "start_time": "2022-12-24T12:32:30.594Z"
   },
   {
    "duration": 16,
    "start_time": "2022-12-24T12:32:30.638Z"
   },
   {
    "duration": 21,
    "start_time": "2022-12-24T12:32:30.655Z"
   },
   {
    "duration": 43,
    "start_time": "2022-12-24T12:32:30.678Z"
   },
   {
    "duration": 66,
    "start_time": "2022-12-24T12:32:30.722Z"
   },
   {
    "duration": 4,
    "start_time": "2022-12-24T12:32:30.790Z"
   },
   {
    "duration": 33,
    "start_time": "2022-12-24T12:32:30.795Z"
   },
   {
    "duration": 15,
    "start_time": "2022-12-24T12:32:32.813Z"
   },
   {
    "duration": 21,
    "start_time": "2022-12-24T12:32:52.816Z"
   },
   {
    "duration": 87,
    "start_time": "2022-12-24T12:33:27.226Z"
   },
   {
    "duration": 11,
    "start_time": "2022-12-24T12:33:43.966Z"
   },
   {
    "duration": 18,
    "start_time": "2022-12-24T12:33:48.066Z"
   },
   {
    "duration": 12,
    "start_time": "2022-12-24T12:34:01.211Z"
   },
   {
    "duration": 18,
    "start_time": "2022-12-24T12:34:39.419Z"
   },
   {
    "duration": 5,
    "start_time": "2022-12-24T12:34:49.152Z"
   },
   {
    "duration": 66,
    "start_time": "2022-12-24T12:34:49.161Z"
   },
   {
    "duration": 12,
    "start_time": "2022-12-24T12:34:49.229Z"
   },
   {
    "duration": 11,
    "start_time": "2022-12-24T12:34:49.242Z"
   },
   {
    "duration": 7,
    "start_time": "2022-12-24T12:34:49.254Z"
   },
   {
    "duration": 20,
    "start_time": "2022-12-24T12:34:49.263Z"
   },
   {
    "duration": 29,
    "start_time": "2022-12-24T12:34:49.284Z"
   },
   {
    "duration": 37,
    "start_time": "2022-12-24T12:34:49.315Z"
   },
   {
    "duration": 6,
    "start_time": "2022-12-24T12:34:49.354Z"
   },
   {
    "duration": 15,
    "start_time": "2022-12-24T12:34:49.361Z"
   },
   {
    "duration": 36,
    "start_time": "2022-12-24T12:34:49.378Z"
   },
   {
    "duration": 23,
    "start_time": "2022-12-24T12:34:49.416Z"
   },
   {
    "duration": 13,
    "start_time": "2022-12-24T12:34:49.442Z"
   },
   {
    "duration": 92,
    "start_time": "2022-12-24T12:34:49.456Z"
   },
   {
    "duration": 10,
    "start_time": "2022-12-24T12:34:49.550Z"
   },
   {
    "duration": 13,
    "start_time": "2022-12-24T12:34:52.075Z"
   },
   {
    "duration": 12,
    "start_time": "2022-12-24T12:43:17.090Z"
   },
   {
    "duration": 122,
    "start_time": "2022-12-24T12:44:00.626Z"
   },
   {
    "duration": 10,
    "start_time": "2022-12-24T12:47:00.469Z"
   },
   {
    "duration": 10,
    "start_time": "2022-12-24T12:49:28.870Z"
   },
   {
    "duration": 16,
    "start_time": "2022-12-24T12:55:46.516Z"
   },
   {
    "duration": 16,
    "start_time": "2022-12-24T12:55:56.215Z"
   },
   {
    "duration": 15,
    "start_time": "2022-12-24T12:56:27.409Z"
   },
   {
    "duration": 9,
    "start_time": "2022-12-24T12:58:58.394Z"
   },
   {
    "duration": 6,
    "start_time": "2022-12-24T12:59:12.542Z"
   },
   {
    "duration": 5,
    "start_time": "2022-12-24T12:59:25.858Z"
   },
   {
    "duration": 15,
    "start_time": "2022-12-24T13:01:36.913Z"
   },
   {
    "duration": 15,
    "start_time": "2022-12-24T13:02:13.207Z"
   },
   {
    "duration": 24,
    "start_time": "2022-12-24T13:02:38.958Z"
   },
   {
    "duration": 13,
    "start_time": "2022-12-24T13:02:52.491Z"
   },
   {
    "duration": 6,
    "start_time": "2022-12-24T13:06:10.467Z"
   },
   {
    "duration": 8,
    "start_time": "2022-12-24T13:06:18.730Z"
   },
   {
    "duration": 23,
    "start_time": "2022-12-24T13:07:25.585Z"
   },
   {
    "duration": 13,
    "start_time": "2022-12-24T13:07:42.333Z"
   },
   {
    "duration": 15,
    "start_time": "2022-12-24T13:08:21.911Z"
   },
   {
    "duration": 3,
    "start_time": "2022-12-24T13:09:01.577Z"
   },
   {
    "duration": 5,
    "start_time": "2022-12-24T13:09:58.313Z"
   },
   {
    "duration": 9,
    "start_time": "2022-12-24T13:10:14.613Z"
   },
   {
    "duration": 15,
    "start_time": "2022-12-24T13:10:42.259Z"
   },
   {
    "duration": 10,
    "start_time": "2022-12-24T13:11:11.297Z"
   },
   {
    "duration": 10,
    "start_time": "2022-12-24T13:11:18.837Z"
   },
   {
    "duration": 14,
    "start_time": "2022-12-24T13:12:51.672Z"
   },
   {
    "duration": 12,
    "start_time": "2022-12-24T13:12:57.643Z"
   },
   {
    "duration": 3,
    "start_time": "2022-12-24T13:13:49.433Z"
   },
   {
    "duration": 3,
    "start_time": "2022-12-24T13:14:08.710Z"
   },
   {
    "duration": 11,
    "start_time": "2022-12-24T13:14:45.412Z"
   },
   {
    "duration": 16,
    "start_time": "2022-12-24T13:15:14.139Z"
   },
   {
    "duration": 19,
    "start_time": "2022-12-24T13:15:21.189Z"
   },
   {
    "duration": 14,
    "start_time": "2022-12-24T13:15:25.493Z"
   },
   {
    "duration": 61,
    "start_time": "2022-12-24T13:15:25.509Z"
   },
   {
    "duration": 25,
    "start_time": "2022-12-24T13:15:25.572Z"
   },
   {
    "duration": 28,
    "start_time": "2022-12-24T13:15:25.602Z"
   },
   {
    "duration": 6,
    "start_time": "2022-12-24T13:15:25.632Z"
   },
   {
    "duration": 24,
    "start_time": "2022-12-24T13:15:25.641Z"
   },
   {
    "duration": 23,
    "start_time": "2022-12-24T13:15:25.667Z"
   },
   {
    "duration": 51,
    "start_time": "2022-12-24T13:15:25.692Z"
   },
   {
    "duration": 6,
    "start_time": "2022-12-24T13:15:25.746Z"
   },
   {
    "duration": 13,
    "start_time": "2022-12-24T13:15:25.755Z"
   },
   {
    "duration": 21,
    "start_time": "2022-12-24T13:15:25.770Z"
   },
   {
    "duration": 23,
    "start_time": "2022-12-24T13:15:25.799Z"
   },
   {
    "duration": 20,
    "start_time": "2022-12-24T13:15:25.824Z"
   },
   {
    "duration": 100,
    "start_time": "2022-12-24T13:15:25.845Z"
   },
   {
    "duration": 14,
    "start_time": "2022-12-24T13:15:25.947Z"
   },
   {
    "duration": 11,
    "start_time": "2022-12-24T13:15:28.958Z"
   },
   {
    "duration": 20,
    "start_time": "2022-12-24T13:15:34.396Z"
   },
   {
    "duration": 7,
    "start_time": "2022-12-24T13:19:19.556Z"
   },
   {
    "duration": 11,
    "start_time": "2022-12-24T13:20:28.332Z"
   },
   {
    "duration": 11,
    "start_time": "2022-12-24T13:20:57.817Z"
   },
   {
    "duration": 9,
    "start_time": "2022-12-24T13:21:02.548Z"
   },
   {
    "duration": 13,
    "start_time": "2022-12-24T13:22:58.934Z"
   },
   {
    "duration": 10,
    "start_time": "2022-12-24T13:24:32.321Z"
   },
   {
    "duration": 15,
    "start_time": "2022-12-24T13:26:07.751Z"
   },
   {
    "duration": 8,
    "start_time": "2022-12-24T13:28:34.365Z"
   },
   {
    "duration": 16,
    "start_time": "2022-12-24T13:28:40.080Z"
   },
   {
    "duration": 14,
    "start_time": "2022-12-24T13:32:21.149Z"
   },
   {
    "duration": 15,
    "start_time": "2022-12-24T13:33:01.418Z"
   },
   {
    "duration": 18,
    "start_time": "2022-12-24T13:35:18.629Z"
   },
   {
    "duration": 14,
    "start_time": "2022-12-24T13:36:02.360Z"
   },
   {
    "duration": 26,
    "start_time": "2022-12-24T13:44:26.195Z"
   },
   {
    "duration": 7,
    "start_time": "2022-12-24T13:44:32.294Z"
   },
   {
    "duration": 78,
    "start_time": "2022-12-24T13:44:32.303Z"
   },
   {
    "duration": 13,
    "start_time": "2022-12-24T13:44:32.382Z"
   },
   {
    "duration": 21,
    "start_time": "2022-12-24T13:44:32.397Z"
   },
   {
    "duration": 19,
    "start_time": "2022-12-24T13:44:32.421Z"
   },
   {
    "duration": 8,
    "start_time": "2022-12-24T13:44:32.441Z"
   },
   {
    "duration": 30,
    "start_time": "2022-12-24T13:44:32.451Z"
   },
   {
    "duration": 46,
    "start_time": "2022-12-24T13:44:32.483Z"
   },
   {
    "duration": 4,
    "start_time": "2022-12-24T13:44:32.531Z"
   },
   {
    "duration": 14,
    "start_time": "2022-12-24T13:44:32.537Z"
   },
   {
    "duration": 28,
    "start_time": "2022-12-24T13:44:32.553Z"
   },
   {
    "duration": 27,
    "start_time": "2022-12-24T13:44:34.114Z"
   },
   {
    "duration": 153,
    "start_time": "2022-12-24T13:45:09.921Z"
   },
   {
    "duration": 5,
    "start_time": "2022-12-24T13:45:13.741Z"
   },
   {
    "duration": 65,
    "start_time": "2022-12-24T13:45:13.748Z"
   },
   {
    "duration": 16,
    "start_time": "2022-12-24T13:45:13.818Z"
   },
   {
    "duration": 13,
    "start_time": "2022-12-24T13:45:13.835Z"
   },
   {
    "duration": 5,
    "start_time": "2022-12-24T13:45:13.849Z"
   },
   {
    "duration": 9,
    "start_time": "2022-12-24T13:45:13.856Z"
   },
   {
    "duration": 18,
    "start_time": "2022-12-24T13:45:13.867Z"
   },
   {
    "duration": 48,
    "start_time": "2022-12-24T13:45:13.899Z"
   },
   {
    "duration": 4,
    "start_time": "2022-12-24T13:45:13.950Z"
   },
   {
    "duration": 23,
    "start_time": "2022-12-24T13:45:13.956Z"
   },
   {
    "duration": 41,
    "start_time": "2022-12-24T13:45:13.981Z"
   },
   {
    "duration": 20,
    "start_time": "2022-12-24T13:45:14.024Z"
   },
   {
    "duration": 13,
    "start_time": "2022-12-24T13:45:14.045Z"
   },
   {
    "duration": 99,
    "start_time": "2022-12-24T13:45:14.060Z"
   },
   {
    "duration": 10,
    "start_time": "2022-12-24T13:45:14.161Z"
   },
   {
    "duration": 56,
    "start_time": "2022-12-24T13:45:14.172Z"
   },
   {
    "duration": 7929,
    "start_time": "2022-12-24T13:45:16.476Z"
   },
   {
    "duration": 16,
    "start_time": "2022-12-25T10:56:29.677Z"
   },
   {
    "duration": 12,
    "start_time": "2022-12-25T10:57:13.542Z"
   },
   {
    "duration": 6336,
    "start_time": "2022-12-25T10:59:29.387Z"
   },
   {
    "duration": 23,
    "start_time": "2022-12-25T10:59:40.538Z"
   },
   {
    "duration": 2284,
    "start_time": "2022-12-25T11:00:23.862Z"
   },
   {
    "duration": 2306,
    "start_time": "2022-12-25T11:01:13.742Z"
   },
   {
    "duration": 2391,
    "start_time": "2022-12-25T11:02:07.504Z"
   },
   {
    "duration": 24,
    "start_time": "2022-12-25T11:02:14.986Z"
   },
   {
    "duration": 45,
    "start_time": "2022-12-25T11:02:43.470Z"
   },
   {
    "duration": 13469,
    "start_time": "2022-12-25T11:02:50.252Z"
   },
   {
    "duration": 25,
    "start_time": "2022-12-25T11:03:03.723Z"
   },
   {
    "duration": 13,
    "start_time": "2022-12-25T11:04:15.903Z"
   },
   {
    "duration": 23,
    "start_time": "2022-12-25T11:05:50.656Z"
   },
   {
    "duration": 5,
    "start_time": "2022-12-25T11:06:37.937Z"
   },
   {
    "duration": 26,
    "start_time": "2022-12-25T11:10:40.149Z"
   },
   {
    "duration": 2316,
    "start_time": "2022-12-25T11:12:18.968Z"
   },
   {
    "duration": 19,
    "start_time": "2022-12-25T11:12:27.715Z"
   },
   {
    "duration": 50,
    "start_time": "2022-12-25T11:13:08.371Z"
   },
   {
    "duration": 1735,
    "start_time": "2022-12-25T11:13:22.181Z"
   },
   {
    "duration": 1684,
    "start_time": "2022-12-25T11:13:31.283Z"
   },
   {
    "duration": 2063,
    "start_time": "2022-12-25T11:18:35.741Z"
   },
   {
    "duration": 22,
    "start_time": "2022-12-25T11:18:58.645Z"
   },
   {
    "duration": 16,
    "start_time": "2022-12-25T11:21:48.262Z"
   },
   {
    "duration": 7,
    "start_time": "2022-12-25T11:22:01.861Z"
   },
   {
    "duration": 1999,
    "start_time": "2022-12-25T11:25:37.962Z"
   },
   {
    "duration": 27,
    "start_time": "2022-12-25T11:25:43.645Z"
   },
   {
    "duration": 7586,
    "start_time": "2022-12-25T11:27:28.872Z"
   },
   {
    "duration": 1017,
    "start_time": "2022-12-25T11:28:27.292Z"
   },
   {
    "duration": 3,
    "start_time": "2022-12-25T11:29:45.289Z"
   },
   {
    "duration": 856,
    "start_time": "2022-12-25T11:29:47.457Z"
   },
   {
    "duration": 22,
    "start_time": "2022-12-25T11:31:11.809Z"
   },
   {
    "duration": 17,
    "start_time": "2022-12-25T11:31:25.474Z"
   },
   {
    "duration": 5,
    "start_time": "2022-12-25T11:31:33.957Z"
   },
   {
    "duration": 19,
    "start_time": "2022-12-25T11:31:56.102Z"
   },
   {
    "duration": 2352,
    "start_time": "2022-12-25T11:32:45.274Z"
   },
   {
    "duration": 829,
    "start_time": "2022-12-25T11:32:51.792Z"
   },
   {
    "duration": 32,
    "start_time": "2022-12-25T11:33:09.007Z"
   },
   {
    "duration": 2332,
    "start_time": "2022-12-25T11:33:48.938Z"
   },
   {
    "duration": 850,
    "start_time": "2022-12-25T11:33:58.006Z"
   },
   {
    "duration": 20,
    "start_time": "2022-12-25T11:34:07.075Z"
   },
   {
    "duration": 52,
    "start_time": "2022-12-25T11:41:44.502Z"
   },
   {
    "duration": 20,
    "start_time": "2022-12-25T11:42:06.004Z"
   },
   {
    "duration": 18,
    "start_time": "2022-12-25T11:46:01.251Z"
   },
   {
    "duration": 18,
    "start_time": "2022-12-25T11:47:27.599Z"
   },
   {
    "duration": 2,
    "start_time": "2022-12-25T11:48:01.391Z"
   },
   {
    "duration": 23,
    "start_time": "2022-12-25T11:48:01.398Z"
   },
   {
    "duration": 916,
    "start_time": "2022-12-25T11:48:01.424Z"
   },
   {
    "duration": 21,
    "start_time": "2022-12-25T11:48:03.284Z"
   },
   {
    "duration": 5,
    "start_time": "2022-12-25T11:58:19.447Z"
   },
   {
    "duration": 25,
    "start_time": "2022-12-25T11:58:25.329Z"
   },
   {
    "duration": 16,
    "start_time": "2022-12-25T11:58:37.485Z"
   },
   {
    "duration": 15,
    "start_time": "2022-12-25T11:59:33.409Z"
   },
   {
    "duration": 17,
    "start_time": "2022-12-25T12:04:02.776Z"
   },
   {
    "duration": 17,
    "start_time": "2022-12-25T12:05:03.578Z"
   },
   {
    "duration": 1338,
    "start_time": "2022-12-25T12:10:01.494Z"
   },
   {
    "duration": 3265,
    "start_time": "2022-12-25T12:17:45.965Z"
   },
   {
    "duration": 6,
    "start_time": "2022-12-25T12:18:45.901Z"
   },
   {
    "duration": 5,
    "start_time": "2022-12-25T12:19:01.732Z"
   },
   {
    "duration": 4,
    "start_time": "2022-12-25T12:19:18.601Z"
   },
   {
    "duration": 4,
    "start_time": "2022-12-25T12:27:13.537Z"
   },
   {
    "duration": 57,
    "start_time": "2022-12-25T12:27:13.566Z"
   },
   {
    "duration": 15,
    "start_time": "2022-12-25T12:27:13.625Z"
   },
   {
    "duration": 12,
    "start_time": "2022-12-25T12:27:13.642Z"
   },
   {
    "duration": 6,
    "start_time": "2022-12-25T12:27:13.655Z"
   },
   {
    "duration": 11,
    "start_time": "2022-12-25T12:27:13.663Z"
   },
   {
    "duration": 5,
    "start_time": "2022-12-25T12:27:42.323Z"
   },
   {
    "duration": 51,
    "start_time": "2022-12-25T12:27:42.330Z"
   },
   {
    "duration": 12,
    "start_time": "2022-12-25T12:27:42.383Z"
   },
   {
    "duration": 11,
    "start_time": "2022-12-25T12:27:42.397Z"
   },
   {
    "duration": 4,
    "start_time": "2022-12-25T12:27:42.410Z"
   },
   {
    "duration": 7,
    "start_time": "2022-12-25T12:27:42.416Z"
   },
   {
    "duration": 21,
    "start_time": "2022-12-25T12:27:42.424Z"
   },
   {
    "duration": 59,
    "start_time": "2022-12-25T12:27:42.446Z"
   },
   {
    "duration": 5,
    "start_time": "2022-12-25T12:27:42.507Z"
   },
   {
    "duration": 5,
    "start_time": "2022-12-25T12:27:42.513Z"
   },
   {
    "duration": 23,
    "start_time": "2022-12-25T12:27:42.520Z"
   },
   {
    "duration": 20,
    "start_time": "2022-12-25T12:27:42.545Z"
   },
   {
    "duration": 43,
    "start_time": "2022-12-25T12:27:42.566Z"
   },
   {
    "duration": 92,
    "start_time": "2022-12-25T12:27:42.611Z"
   },
   {
    "duration": 12,
    "start_time": "2022-12-25T12:27:44.609Z"
   },
   {
    "duration": 119,
    "start_time": "2022-12-25T12:35:56.645Z"
   },
   {
    "duration": 10,
    "start_time": "2022-12-25T12:36:24.778Z"
   },
   {
    "duration": 14,
    "start_time": "2022-12-25T12:36:31.743Z"
   },
   {
    "duration": 12,
    "start_time": "2022-12-25T12:37:41.010Z"
   },
   {
    "duration": 4,
    "start_time": "2022-12-25T12:38:08.709Z"
   },
   {
    "duration": 3,
    "start_time": "2022-12-25T12:39:16.756Z"
   },
   {
    "duration": 12,
    "start_time": "2022-12-25T12:44:00.129Z"
   },
   {
    "duration": 2,
    "start_time": "2022-12-25T12:44:09.047Z"
   },
   {
    "duration": 3,
    "start_time": "2022-12-25T12:44:45.236Z"
   },
   {
    "duration": 3,
    "start_time": "2022-12-25T13:00:05.512Z"
   },
   {
    "duration": 5,
    "start_time": "2022-12-25T13:00:42.594Z"
   },
   {
    "duration": 25,
    "start_time": "2022-12-25T13:00:48.061Z"
   },
   {
    "duration": 4,
    "start_time": "2022-12-25T13:05:12.425Z"
   },
   {
    "duration": 21,
    "start_time": "2022-12-25T13:05:15.643Z"
   },
   {
    "duration": 5,
    "start_time": "2022-12-25T13:06:32.161Z"
   },
   {
    "duration": 23,
    "start_time": "2022-12-25T13:06:33.110Z"
   },
   {
    "duration": 3,
    "start_time": "2022-12-25T13:08:48.789Z"
   },
   {
    "duration": 4,
    "start_time": "2022-12-25T13:08:58.903Z"
   },
   {
    "duration": 21,
    "start_time": "2022-12-25T13:08:59.574Z"
   },
   {
    "duration": 11,
    "start_time": "2022-12-25T13:13:49.795Z"
   },
   {
    "duration": 3,
    "start_time": "2022-12-25T13:14:22.437Z"
   },
   {
    "duration": 5,
    "start_time": "2022-12-25T13:14:55.138Z"
   },
   {
    "duration": 30,
    "start_time": "2022-12-25T13:17:49.755Z"
   },
   {
    "duration": 3,
    "start_time": "2022-12-25T13:18:38.958Z"
   },
   {
    "duration": 27,
    "start_time": "2022-12-25T13:18:41.234Z"
   },
   {
    "duration": 5,
    "start_time": "2022-12-25T13:18:56.487Z"
   },
   {
    "duration": 29,
    "start_time": "2022-12-25T13:20:37.252Z"
   },
   {
    "duration": 3,
    "start_time": "2022-12-25T13:21:14.303Z"
   },
   {
    "duration": 4,
    "start_time": "2022-12-25T13:21:20.792Z"
   },
   {
    "duration": 58,
    "start_time": "2022-12-25T13:21:20.799Z"
   },
   {
    "duration": 12,
    "start_time": "2022-12-25T13:21:20.859Z"
   },
   {
    "duration": 12,
    "start_time": "2022-12-25T13:21:20.873Z"
   },
   {
    "duration": 5,
    "start_time": "2022-12-25T13:21:20.887Z"
   },
   {
    "duration": 5,
    "start_time": "2022-12-25T13:21:20.896Z"
   },
   {
    "duration": 25,
    "start_time": "2022-12-25T13:21:20.902Z"
   },
   {
    "duration": 36,
    "start_time": "2022-12-25T13:21:20.929Z"
   },
   {
    "duration": 5,
    "start_time": "2022-12-25T13:21:20.967Z"
   },
   {
    "duration": 5,
    "start_time": "2022-12-25T13:21:20.997Z"
   },
   {
    "duration": 25,
    "start_time": "2022-12-25T13:21:21.003Z"
   },
   {
    "duration": 21,
    "start_time": "2022-12-25T13:21:21.030Z"
   },
   {
    "duration": 43,
    "start_time": "2022-12-25T13:21:21.053Z"
   },
   {
    "duration": 78,
    "start_time": "2022-12-25T13:21:21.098Z"
   },
   {
    "duration": 26,
    "start_time": "2022-12-25T13:21:21.178Z"
   },
   {
    "duration": 12,
    "start_time": "2022-12-25T13:21:21.206Z"
   },
   {
    "duration": 10,
    "start_time": "2022-12-25T13:21:21.327Z"
   },
   {
    "duration": 0,
    "start_time": "2022-12-25T13:21:21.338Z"
   },
   {
    "duration": 3,
    "start_time": "2022-12-25T13:21:26.153Z"
   },
   {
    "duration": 5,
    "start_time": "2022-12-25T13:21:31.810Z"
   },
   {
    "duration": 56,
    "start_time": "2022-12-25T13:21:31.817Z"
   },
   {
    "duration": 12,
    "start_time": "2022-12-25T13:21:31.875Z"
   },
   {
    "duration": 27,
    "start_time": "2022-12-25T13:21:31.890Z"
   },
   {
    "duration": 30,
    "start_time": "2022-12-25T13:21:31.919Z"
   },
   {
    "duration": 21,
    "start_time": "2022-12-25T13:21:31.951Z"
   },
   {
    "duration": 37,
    "start_time": "2022-12-25T13:21:31.974Z"
   },
   {
    "duration": 45,
    "start_time": "2022-12-25T13:21:32.012Z"
   },
   {
    "duration": 4,
    "start_time": "2022-12-25T13:21:32.060Z"
   },
   {
    "duration": 43,
    "start_time": "2022-12-25T13:21:32.066Z"
   },
   {
    "duration": 24,
    "start_time": "2022-12-25T13:21:32.111Z"
   },
   {
    "duration": 22,
    "start_time": "2022-12-25T13:21:32.137Z"
   },
   {
    "duration": 15,
    "start_time": "2022-12-25T13:21:32.160Z"
   },
   {
    "duration": 89,
    "start_time": "2022-12-25T13:21:32.177Z"
   },
   {
    "duration": 12,
    "start_time": "2022-12-25T13:21:32.268Z"
   },
   {
    "duration": 13,
    "start_time": "2022-12-25T13:21:32.296Z"
   },
   {
    "duration": 0,
    "start_time": "2022-12-25T13:21:32.311Z"
   },
   {
    "duration": 0,
    "start_time": "2022-12-25T13:21:32.312Z"
   },
   {
    "duration": 2,
    "start_time": "2022-12-25T13:21:34.535Z"
   },
   {
    "duration": 9,
    "start_time": "2022-12-25T13:22:10.752Z"
   },
   {
    "duration": 27,
    "start_time": "2022-12-25T13:23:07.353Z"
   },
   {
    "duration": 9,
    "start_time": "2022-12-25T13:26:07.635Z"
   },
   {
    "duration": 28,
    "start_time": "2022-12-25T13:26:08.804Z"
   },
   {
    "duration": 9,
    "start_time": "2022-12-25T13:26:40.949Z"
   },
   {
    "duration": 28,
    "start_time": "2022-12-25T13:27:00.001Z"
   },
   {
    "duration": 3,
    "start_time": "2022-12-25T13:30:51.082Z"
   },
   {
    "duration": 9,
    "start_time": "2022-12-25T13:31:53.214Z"
   },
   {
    "duration": 10,
    "start_time": "2022-12-25T13:32:09.215Z"
   },
   {
    "duration": 3,
    "start_time": "2022-12-25T13:32:23.551Z"
   },
   {
    "duration": 3427,
    "start_time": "2022-12-25T13:32:24.645Z"
   },
   {
    "duration": 4,
    "start_time": "2022-12-25T13:32:35.846Z"
   },
   {
    "duration": 5,
    "start_time": "2022-12-25T13:33:14.045Z"
   },
   {
    "duration": 3,
    "start_time": "2022-12-25T13:36:23.510Z"
   },
   {
    "duration": 28,
    "start_time": "2022-12-25T13:36:37.430Z"
   },
   {
    "duration": 3,
    "start_time": "2022-12-25T13:37:32.993Z"
   },
   {
    "duration": 28,
    "start_time": "2022-12-25T13:37:36.592Z"
   },
   {
    "duration": 4,
    "start_time": "2022-12-25T13:39:15.543Z"
   },
   {
    "duration": 5,
    "start_time": "2022-12-25T13:39:16.138Z"
   },
   {
    "duration": 28,
    "start_time": "2022-12-25T13:39:19.537Z"
   },
   {
    "duration": 3,
    "start_time": "2022-12-25T13:39:30.876Z"
   },
   {
    "duration": 4,
    "start_time": "2022-12-25T13:39:31.291Z"
   },
   {
    "duration": 26,
    "start_time": "2022-12-25T13:39:31.905Z"
   },
   {
    "duration": 3,
    "start_time": "2022-12-25T13:39:54.275Z"
   },
   {
    "duration": 3,
    "start_time": "2022-12-25T13:39:55.242Z"
   },
   {
    "duration": 29,
    "start_time": "2022-12-25T13:39:56.330Z"
   },
   {
    "duration": 2,
    "start_time": "2022-12-25T13:45:38.605Z"
   },
   {
    "duration": 4,
    "start_time": "2022-12-25T13:46:11.947Z"
   },
   {
    "duration": 6,
    "start_time": "2022-12-25T13:47:20.670Z"
   },
   {
    "duration": 10,
    "start_time": "2022-12-25T13:49:21.603Z"
   },
   {
    "duration": 24,
    "start_time": "2022-12-25T13:49:54.220Z"
   },
   {
    "duration": 6,
    "start_time": "2022-12-25T13:50:17.886Z"
   },
   {
    "duration": 9,
    "start_time": "2022-12-25T13:51:57.844Z"
   },
   {
    "duration": 7,
    "start_time": "2022-12-25T13:54:00.568Z"
   },
   {
    "duration": 45,
    "start_time": "2022-12-25T13:54:52.967Z"
   },
   {
    "duration": 6,
    "start_time": "2022-12-25T13:55:00.679Z"
   },
   {
    "duration": 6,
    "start_time": "2022-12-25T13:55:07.034Z"
   },
   {
    "duration": 55,
    "start_time": "2022-12-25T13:59:52.350Z"
   },
   {
    "duration": 19,
    "start_time": "2022-12-25T14:01:29.946Z"
   },
   {
    "duration": 15,
    "start_time": "2022-12-25T14:03:25.492Z"
   },
   {
    "duration": 15,
    "start_time": "2022-12-25T14:17:09.702Z"
   },
   {
    "duration": 16,
    "start_time": "2022-12-25T14:17:30.802Z"
   },
   {
    "duration": 14,
    "start_time": "2022-12-25T14:19:06.535Z"
   },
   {
    "duration": 13,
    "start_time": "2022-12-25T14:19:37.442Z"
   },
   {
    "duration": 14,
    "start_time": "2022-12-25T14:19:45.634Z"
   },
   {
    "duration": 15,
    "start_time": "2022-12-25T14:27:50.727Z"
   },
   {
    "duration": 26,
    "start_time": "2022-12-25T14:30:13.241Z"
   },
   {
    "duration": 16,
    "start_time": "2022-12-25T14:30:24.990Z"
   },
   {
    "duration": 5,
    "start_time": "2022-12-25T14:34:24.379Z"
   },
   {
    "duration": 13,
    "start_time": "2022-12-25T14:34:54.611Z"
   },
   {
    "duration": 10,
    "start_time": "2022-12-25T14:35:46.992Z"
   },
   {
    "duration": 14,
    "start_time": "2022-12-25T14:36:18.171Z"
   },
   {
    "duration": 7,
    "start_time": "2022-12-25T14:36:40.941Z"
   },
   {
    "duration": 16,
    "start_time": "2022-12-25T14:36:54.481Z"
   },
   {
    "duration": 14,
    "start_time": "2022-12-25T14:38:47.993Z"
   },
   {
    "duration": 89,
    "start_time": "2022-12-25T14:45:51.318Z"
   },
   {
    "duration": 91,
    "start_time": "2022-12-25T14:48:49.522Z"
   },
   {
    "duration": 90,
    "start_time": "2022-12-25T14:49:00.689Z"
   },
   {
    "duration": 3,
    "start_time": "2022-12-25T14:50:12.717Z"
   },
   {
    "duration": 11,
    "start_time": "2022-12-25T14:52:35.295Z"
   },
   {
    "duration": 3,
    "start_time": "2022-12-25T14:52:42.149Z"
   },
   {
    "duration": 5,
    "start_time": "2022-12-25T14:53:30.267Z"
   },
   {
    "duration": 49,
    "start_time": "2022-12-25T14:54:39.950Z"
   },
   {
    "duration": 3,
    "start_time": "2022-12-25T14:55:08.530Z"
   },
   {
    "duration": 44,
    "start_time": "2022-12-25T14:55:10.384Z"
   },
   {
    "duration": 41,
    "start_time": "2022-12-25T14:56:28.107Z"
   },
   {
    "duration": 52,
    "start_time": "2022-12-25T14:57:43.469Z"
   },
   {
    "duration": 33,
    "start_time": "2022-12-25T14:59:03.350Z"
   },
   {
    "duration": 4,
    "start_time": "2022-12-25T14:59:36.308Z"
   },
   {
    "duration": 34,
    "start_time": "2022-12-25T14:59:36.831Z"
   },
   {
    "duration": 52,
    "start_time": "2022-12-25T15:00:40.371Z"
   },
   {
    "duration": 46,
    "start_time": "2022-12-25T15:01:08.208Z"
   },
   {
    "duration": 5,
    "start_time": "2022-12-25T15:04:18.685Z"
   },
   {
    "duration": 45,
    "start_time": "2022-12-25T15:04:33.723Z"
   },
   {
    "duration": 41,
    "start_time": "2022-12-25T15:05:33.725Z"
   },
   {
    "duration": 47,
    "start_time": "2022-12-25T15:07:00.535Z"
   },
   {
    "duration": 39,
    "start_time": "2022-12-25T15:07:58.578Z"
   },
   {
    "duration": 133,
    "start_time": "2022-12-25T15:08:42.894Z"
   },
   {
    "duration": 1719,
    "start_time": "2022-12-26T11:05:31.104Z"
   },
   {
    "duration": 0,
    "start_time": "2022-12-26T11:05:32.826Z"
   },
   {
    "duration": 0,
    "start_time": "2022-12-26T11:05:32.827Z"
   },
   {
    "duration": 0,
    "start_time": "2022-12-26T11:05:32.828Z"
   },
   {
    "duration": 0,
    "start_time": "2022-12-26T11:05:32.829Z"
   },
   {
    "duration": 0,
    "start_time": "2022-12-26T11:05:32.830Z"
   },
   {
    "duration": 0,
    "start_time": "2022-12-26T11:05:32.831Z"
   },
   {
    "duration": 0,
    "start_time": "2022-12-26T11:05:32.832Z"
   },
   {
    "duration": 0,
    "start_time": "2022-12-26T11:05:32.833Z"
   },
   {
    "duration": 0,
    "start_time": "2022-12-26T11:05:32.834Z"
   },
   {
    "duration": 0,
    "start_time": "2022-12-26T11:05:32.835Z"
   },
   {
    "duration": 0,
    "start_time": "2022-12-26T11:05:32.836Z"
   },
   {
    "duration": 0,
    "start_time": "2022-12-26T11:05:32.837Z"
   },
   {
    "duration": 0,
    "start_time": "2022-12-26T11:05:32.838Z"
   },
   {
    "duration": 0,
    "start_time": "2022-12-26T11:05:32.839Z"
   },
   {
    "duration": 0,
    "start_time": "2022-12-26T11:05:32.840Z"
   },
   {
    "duration": 0,
    "start_time": "2022-12-26T11:05:32.841Z"
   },
   {
    "duration": 8,
    "start_time": "2022-12-26T11:08:04.975Z"
   },
   {
    "duration": 11,
    "start_time": "2022-12-26T11:08:12.971Z"
   },
   {
    "duration": 0,
    "start_time": "2022-12-26T11:08:12.984Z"
   },
   {
    "duration": 0,
    "start_time": "2022-12-26T11:08:12.985Z"
   },
   {
    "duration": 0,
    "start_time": "2022-12-26T11:08:12.985Z"
   },
   {
    "duration": 0,
    "start_time": "2022-12-26T11:08:12.987Z"
   },
   {
    "duration": 0,
    "start_time": "2022-12-26T11:08:12.988Z"
   },
   {
    "duration": 0,
    "start_time": "2022-12-26T11:08:12.989Z"
   },
   {
    "duration": 8,
    "start_time": "2022-12-26T11:08:12.990Z"
   },
   {
    "duration": 0,
    "start_time": "2022-12-26T11:08:13.000Z"
   },
   {
    "duration": 0,
    "start_time": "2022-12-26T11:08:13.001Z"
   },
   {
    "duration": 0,
    "start_time": "2022-12-26T11:08:13.003Z"
   },
   {
    "duration": 0,
    "start_time": "2022-12-26T11:08:13.005Z"
   },
   {
    "duration": 0,
    "start_time": "2022-12-26T11:08:13.006Z"
   },
   {
    "duration": 0,
    "start_time": "2022-12-26T11:08:13.008Z"
   },
   {
    "duration": 14,
    "start_time": "2022-12-26T11:08:13.014Z"
   },
   {
    "duration": 0,
    "start_time": "2022-12-26T11:08:13.030Z"
   },
   {
    "duration": 0,
    "start_time": "2022-12-26T11:08:13.031Z"
   },
   {
    "duration": 9,
    "start_time": "2022-12-26T11:08:33.466Z"
   },
   {
    "duration": 5,
    "start_time": "2022-12-26T11:09:02.251Z"
   },
   {
    "duration": 5,
    "start_time": "2022-12-26T11:09:18.677Z"
   },
   {
    "duration": 111,
    "start_time": "2022-12-26T11:09:18.684Z"
   },
   {
    "duration": 12,
    "start_time": "2022-12-26T11:09:18.796Z"
   },
   {
    "duration": 16,
    "start_time": "2022-12-26T11:09:18.810Z"
   },
   {
    "duration": 4,
    "start_time": "2022-12-26T11:09:18.828Z"
   },
   {
    "duration": 9,
    "start_time": "2022-12-26T11:09:18.833Z"
   },
   {
    "duration": 17,
    "start_time": "2022-12-26T11:09:18.843Z"
   },
   {
    "duration": 38,
    "start_time": "2022-12-26T11:09:18.862Z"
   },
   {
    "duration": 15,
    "start_time": "2022-12-26T11:09:18.902Z"
   },
   {
    "duration": 4,
    "start_time": "2022-12-26T11:09:18.919Z"
   },
   {
    "duration": 26,
    "start_time": "2022-12-26T11:09:18.925Z"
   },
   {
    "duration": 18,
    "start_time": "2022-12-26T11:09:18.952Z"
   },
   {
    "duration": 12,
    "start_time": "2022-12-26T11:09:18.972Z"
   },
   {
    "duration": 109,
    "start_time": "2022-12-26T11:09:18.987Z"
   },
   {
    "duration": 24,
    "start_time": "2022-12-26T11:09:19.098Z"
   },
   {
    "duration": 11,
    "start_time": "2022-12-26T11:09:19.124Z"
   },
   {
    "duration": 0,
    "start_time": "2022-12-26T11:09:19.136Z"
   },
   {
    "duration": 2,
    "start_time": "2022-12-26T11:09:21.412Z"
   },
   {
    "duration": 3,
    "start_time": "2022-12-26T11:09:29.358Z"
   },
   {
    "duration": 3,
    "start_time": "2022-12-26T11:31:11.389Z"
   },
   {
    "duration": 874,
    "start_time": "2022-12-26T11:31:13.082Z"
   },
   {
    "duration": 895,
    "start_time": "2022-12-26T11:31:29.468Z"
   },
   {
    "duration": 4,
    "start_time": "2022-12-26T11:31:44.594Z"
   },
   {
    "duration": 4,
    "start_time": "2022-12-26T11:31:59.757Z"
   },
   {
    "duration": 56,
    "start_time": "2022-12-26T11:31:59.764Z"
   },
   {
    "duration": 14,
    "start_time": "2022-12-26T11:31:59.821Z"
   },
   {
    "duration": 15,
    "start_time": "2022-12-26T11:31:59.837Z"
   },
   {
    "duration": 5,
    "start_time": "2022-12-26T11:31:59.854Z"
   },
   {
    "duration": 10,
    "start_time": "2022-12-26T11:31:59.860Z"
   },
   {
    "duration": 47,
    "start_time": "2022-12-26T11:31:59.872Z"
   },
   {
    "duration": 47,
    "start_time": "2022-12-26T11:31:59.921Z"
   },
   {
    "duration": 5,
    "start_time": "2022-12-26T11:31:59.970Z"
   },
   {
    "duration": 10,
    "start_time": "2022-12-26T11:31:59.988Z"
   },
   {
    "duration": 38,
    "start_time": "2022-12-26T11:32:00.000Z"
   },
   {
    "duration": 17,
    "start_time": "2022-12-26T11:32:00.040Z"
   },
   {
    "duration": 26,
    "start_time": "2022-12-26T11:32:00.060Z"
   },
   {
    "duration": 80,
    "start_time": "2022-12-26T11:32:00.089Z"
   },
   {
    "duration": 12,
    "start_time": "2022-12-26T11:32:00.171Z"
   },
   {
    "duration": 28,
    "start_time": "2022-12-26T11:32:00.184Z"
   },
   {
    "duration": 0,
    "start_time": "2022-12-26T11:32:00.215Z"
   },
   {
    "duration": 0,
    "start_time": "2022-12-26T11:32:00.217Z"
   },
   {
    "duration": 903,
    "start_time": "2022-12-26T11:32:06.153Z"
   },
   {
    "duration": 4,
    "start_time": "2022-12-26T11:32:08.277Z"
   },
   {
    "duration": 5,
    "start_time": "2022-12-26T11:33:26.983Z"
   },
   {
    "duration": 58,
    "start_time": "2022-12-26T11:33:26.991Z"
   },
   {
    "duration": 11,
    "start_time": "2022-12-26T11:33:27.051Z"
   },
   {
    "duration": 11,
    "start_time": "2022-12-26T11:33:27.063Z"
   },
   {
    "duration": 3,
    "start_time": "2022-12-26T11:33:27.076Z"
   },
   {
    "duration": 5,
    "start_time": "2022-12-26T11:33:27.081Z"
   },
   {
    "duration": 28,
    "start_time": "2022-12-26T11:33:27.088Z"
   },
   {
    "duration": 33,
    "start_time": "2022-12-26T11:33:27.118Z"
   },
   {
    "duration": 4,
    "start_time": "2022-12-26T11:33:27.153Z"
   },
   {
    "duration": 6,
    "start_time": "2022-12-26T11:33:27.159Z"
   },
   {
    "duration": 22,
    "start_time": "2022-12-26T11:33:27.167Z"
   },
   {
    "duration": 18,
    "start_time": "2022-12-26T11:33:27.216Z"
   },
   {
    "duration": 13,
    "start_time": "2022-12-26T11:33:27.236Z"
   },
   {
    "duration": 87,
    "start_time": "2022-12-26T11:33:27.250Z"
   },
   {
    "duration": 10,
    "start_time": "2022-12-26T11:33:27.339Z"
   },
   {
    "duration": 14,
    "start_time": "2022-12-26T11:33:27.351Z"
   },
   {
    "duration": 0,
    "start_time": "2022-12-26T11:33:27.367Z"
   },
   {
    "duration": 3,
    "start_time": "2022-12-26T11:33:36.873Z"
   },
   {
    "duration": 904,
    "start_time": "2022-12-26T11:33:39.057Z"
   },
   {
    "duration": 4,
    "start_time": "2022-12-26T11:33:40.412Z"
   },
   {
    "duration": 10,
    "start_time": "2022-12-26T11:33:40.672Z"
   },
   {
    "duration": 3,
    "start_time": "2022-12-26T11:53:10.749Z"
   },
   {
    "duration": 5,
    "start_time": "2022-12-26T11:53:11.453Z"
   },
   {
    "duration": 3,
    "start_time": "2022-12-26T11:53:17.342Z"
   },
   {
    "duration": 3,
    "start_time": "2022-12-26T11:56:17.396Z"
   },
   {
    "duration": 31,
    "start_time": "2022-12-26T11:56:18.716Z"
   },
   {
    "duration": 5,
    "start_time": "2022-12-26T11:59:36.680Z"
   },
   {
    "duration": 2,
    "start_time": "2022-12-26T11:59:37.738Z"
   },
   {
    "duration": 872,
    "start_time": "2022-12-26T11:59:39.445Z"
   },
   {
    "duration": 6,
    "start_time": "2022-12-26T12:00:16.995Z"
   },
   {
    "duration": 908,
    "start_time": "2022-12-26T12:00:45.446Z"
   },
   {
    "duration": 5,
    "start_time": "2022-12-26T12:11:33.666Z"
   },
   {
    "duration": 66,
    "start_time": "2022-12-26T12:11:33.672Z"
   },
   {
    "duration": 16,
    "start_time": "2022-12-26T12:11:33.740Z"
   },
   {
    "duration": 17,
    "start_time": "2022-12-26T12:11:33.758Z"
   },
   {
    "duration": 5,
    "start_time": "2022-12-26T12:11:33.777Z"
   },
   {
    "duration": 7,
    "start_time": "2022-12-26T12:11:33.783Z"
   },
   {
    "duration": 36,
    "start_time": "2022-12-26T12:11:33.792Z"
   },
   {
    "duration": 34,
    "start_time": "2022-12-26T12:11:33.830Z"
   },
   {
    "duration": 5,
    "start_time": "2022-12-26T12:11:33.865Z"
   },
   {
    "duration": 8,
    "start_time": "2022-12-26T12:11:33.871Z"
   },
   {
    "duration": 51,
    "start_time": "2022-12-26T12:11:33.880Z"
   },
   {
    "duration": 18,
    "start_time": "2022-12-26T12:11:33.933Z"
   },
   {
    "duration": 12,
    "start_time": "2022-12-26T12:11:33.953Z"
   },
   {
    "duration": 102,
    "start_time": "2022-12-26T12:11:33.968Z"
   },
   {
    "duration": 10,
    "start_time": "2022-12-26T12:11:34.072Z"
   },
   {
    "duration": 10,
    "start_time": "2022-12-26T12:11:34.084Z"
   },
   {
    "duration": 0,
    "start_time": "2022-12-26T12:11:34.116Z"
   },
   {
    "duration": 0,
    "start_time": "2022-12-26T12:11:34.117Z"
   },
   {
    "duration": 0,
    "start_time": "2022-12-26T12:11:34.119Z"
   },
   {
    "duration": 0,
    "start_time": "2022-12-26T12:11:34.119Z"
   },
   {
    "duration": 3,
    "start_time": "2022-12-26T12:11:41.378Z"
   },
   {
    "duration": 87288,
    "start_time": "2022-12-26T12:12:03.033Z"
   },
   {
    "duration": 5,
    "start_time": "2022-12-26T12:15:48.462Z"
   },
   {
    "duration": 3,
    "start_time": "2022-12-26T12:16:45.059Z"
   },
   {
    "duration": 5,
    "start_time": "2022-12-26T12:16:57.573Z"
   },
   {
    "duration": 54,
    "start_time": "2022-12-26T12:16:57.580Z"
   },
   {
    "duration": 13,
    "start_time": "2022-12-26T12:16:57.636Z"
   },
   {
    "duration": 14,
    "start_time": "2022-12-26T12:16:57.650Z"
   },
   {
    "duration": 5,
    "start_time": "2022-12-26T12:16:57.666Z"
   },
   {
    "duration": 11,
    "start_time": "2022-12-26T12:16:57.673Z"
   },
   {
    "duration": 38,
    "start_time": "2022-12-26T12:16:57.685Z"
   },
   {
    "duration": 32,
    "start_time": "2022-12-26T12:16:57.725Z"
   },
   {
    "duration": 5,
    "start_time": "2022-12-26T12:16:57.759Z"
   },
   {
    "duration": 40,
    "start_time": "2022-12-26T12:16:57.765Z"
   },
   {
    "duration": 35,
    "start_time": "2022-12-26T12:16:57.808Z"
   },
   {
    "duration": 25,
    "start_time": "2022-12-26T12:16:57.844Z"
   },
   {
    "duration": 33,
    "start_time": "2022-12-26T12:16:57.872Z"
   },
   {
    "duration": 76,
    "start_time": "2022-12-26T12:16:57.909Z"
   },
   {
    "duration": 13,
    "start_time": "2022-12-26T12:16:57.987Z"
   },
   {
    "duration": 18,
    "start_time": "2022-12-26T12:16:58.002Z"
   },
   {
    "duration": 0,
    "start_time": "2022-12-26T12:16:58.022Z"
   },
   {
    "duration": 0,
    "start_time": "2022-12-26T12:16:58.023Z"
   },
   {
    "duration": 0,
    "start_time": "2022-12-26T12:16:58.024Z"
   },
   {
    "duration": 0,
    "start_time": "2022-12-26T12:16:58.026Z"
   },
   {
    "duration": 0,
    "start_time": "2022-12-26T12:16:58.027Z"
   },
   {
    "duration": 91546,
    "start_time": "2022-12-26T12:17:01.371Z"
   },
   {
    "duration": 6,
    "start_time": "2022-12-26T12:29:09.491Z"
   },
   {
    "duration": 3,
    "start_time": "2022-12-26T12:29:11.906Z"
   },
   {
    "duration": 58727,
    "start_time": "2022-12-26T12:29:13.591Z"
   },
   {
    "duration": 6,
    "start_time": "2022-12-26T12:31:15.953Z"
   },
   {
    "duration": 5,
    "start_time": "2022-12-26T12:31:20.266Z"
   },
   {
    "duration": 85,
    "start_time": "2022-12-26T12:31:20.273Z"
   },
   {
    "duration": 20,
    "start_time": "2022-12-26T12:31:20.360Z"
   },
   {
    "duration": 34,
    "start_time": "2022-12-26T12:31:20.383Z"
   },
   {
    "duration": 7,
    "start_time": "2022-12-26T12:31:20.420Z"
   },
   {
    "duration": 8,
    "start_time": "2022-12-26T12:31:20.429Z"
   },
   {
    "duration": 24,
    "start_time": "2022-12-26T12:31:20.440Z"
   },
   {
    "duration": 64,
    "start_time": "2022-12-26T12:31:20.465Z"
   },
   {
    "duration": 7,
    "start_time": "2022-12-26T12:31:20.531Z"
   },
   {
    "duration": 12,
    "start_time": "2022-12-26T12:31:20.540Z"
   },
   {
    "duration": 32,
    "start_time": "2022-12-26T12:31:20.555Z"
   },
   {
    "duration": 34,
    "start_time": "2022-12-26T12:31:20.589Z"
   },
   {
    "duration": 13,
    "start_time": "2022-12-26T12:31:20.624Z"
   },
   {
    "duration": 92,
    "start_time": "2022-12-26T12:31:20.639Z"
   },
   {
    "duration": 11,
    "start_time": "2022-12-26T12:31:20.733Z"
   },
   {
    "duration": 18,
    "start_time": "2022-12-26T12:31:20.746Z"
   },
   {
    "duration": 0,
    "start_time": "2022-12-26T12:31:20.766Z"
   },
   {
    "duration": 0,
    "start_time": "2022-12-26T12:31:20.768Z"
   },
   {
    "duration": 0,
    "start_time": "2022-12-26T12:31:20.770Z"
   },
   {
    "duration": 0,
    "start_time": "2022-12-26T12:31:20.771Z"
   },
   {
    "duration": 0,
    "start_time": "2022-12-26T12:31:20.773Z"
   },
   {
    "duration": 102847,
    "start_time": "2022-12-26T12:31:22.773Z"
   },
   {
    "duration": 5,
    "start_time": "2022-12-26T12:37:35.355Z"
   },
   {
    "duration": 52,
    "start_time": "2022-12-26T12:37:35.367Z"
   },
   {
    "duration": 11,
    "start_time": "2022-12-26T12:37:35.421Z"
   },
   {
    "duration": 13,
    "start_time": "2022-12-26T12:37:35.434Z"
   },
   {
    "duration": 6,
    "start_time": "2022-12-26T12:37:35.449Z"
   },
   {
    "duration": 12,
    "start_time": "2022-12-26T12:37:35.457Z"
   },
   {
    "duration": 46,
    "start_time": "2022-12-26T12:37:35.470Z"
   },
   {
    "duration": 34,
    "start_time": "2022-12-26T12:37:35.518Z"
   },
   {
    "duration": 6,
    "start_time": "2022-12-26T12:37:35.553Z"
   },
   {
    "duration": 10,
    "start_time": "2022-12-26T12:37:35.561Z"
   },
   {
    "duration": 43,
    "start_time": "2022-12-26T12:37:35.573Z"
   },
   {
    "duration": 21,
    "start_time": "2022-12-26T12:37:35.618Z"
   },
   {
    "duration": 18,
    "start_time": "2022-12-26T12:37:35.641Z"
   },
   {
    "duration": 98,
    "start_time": "2022-12-26T12:37:35.660Z"
   },
   {
    "duration": 12,
    "start_time": "2022-12-26T12:37:35.761Z"
   },
   {
    "duration": 14,
    "start_time": "2022-12-26T12:37:35.775Z"
   },
   {
    "duration": 0,
    "start_time": "2022-12-26T12:37:35.791Z"
   },
   {
    "duration": 0,
    "start_time": "2022-12-26T12:37:35.793Z"
   },
   {
    "duration": 0,
    "start_time": "2022-12-26T12:37:35.816Z"
   },
   {
    "duration": 0,
    "start_time": "2022-12-26T12:37:35.818Z"
   },
   {
    "duration": 0,
    "start_time": "2022-12-26T12:37:35.819Z"
   },
   {
    "duration": 63453,
    "start_time": "2022-12-26T12:37:37.766Z"
   },
   {
    "duration": 5,
    "start_time": "2022-12-26T12:40:57.673Z"
   },
   {
    "duration": 55,
    "start_time": "2022-12-26T12:40:57.680Z"
   },
   {
    "duration": 12,
    "start_time": "2022-12-26T12:40:57.737Z"
   },
   {
    "duration": 10,
    "start_time": "2022-12-26T12:40:57.750Z"
   },
   {
    "duration": 6,
    "start_time": "2022-12-26T12:40:57.762Z"
   },
   {
    "duration": 10,
    "start_time": "2022-12-26T12:40:57.770Z"
   },
   {
    "duration": 49,
    "start_time": "2022-12-26T12:40:57.783Z"
   },
   {
    "duration": 44,
    "start_time": "2022-12-26T12:40:57.834Z"
   },
   {
    "duration": 5,
    "start_time": "2022-12-26T12:40:57.880Z"
   },
   {
    "duration": 30,
    "start_time": "2022-12-26T12:40:57.886Z"
   },
   {
    "duration": 28,
    "start_time": "2022-12-26T12:40:57.918Z"
   },
   {
    "duration": 19,
    "start_time": "2022-12-26T12:40:57.948Z"
   },
   {
    "duration": 13,
    "start_time": "2022-12-26T12:40:57.968Z"
   },
   {
    "duration": 105,
    "start_time": "2022-12-26T12:40:57.984Z"
   },
   {
    "duration": 29,
    "start_time": "2022-12-26T12:40:58.092Z"
   },
   {
    "duration": 11,
    "start_time": "2022-12-26T12:40:58.123Z"
   },
   {
    "duration": 0,
    "start_time": "2022-12-26T12:40:58.136Z"
   },
   {
    "duration": 0,
    "start_time": "2022-12-26T12:40:58.137Z"
   },
   {
    "duration": 0,
    "start_time": "2022-12-26T12:40:58.138Z"
   },
   {
    "duration": 0,
    "start_time": "2022-12-26T12:40:58.140Z"
   },
   {
    "duration": 0,
    "start_time": "2022-12-26T12:40:58.141Z"
   },
   {
    "duration": 6,
    "start_time": "2022-12-26T12:43:16.250Z"
   },
   {
    "duration": 72,
    "start_time": "2022-12-26T12:43:16.258Z"
   },
   {
    "duration": 13,
    "start_time": "2022-12-26T12:43:16.332Z"
   },
   {
    "duration": 13,
    "start_time": "2022-12-26T12:43:16.347Z"
   },
   {
    "duration": 5,
    "start_time": "2022-12-26T12:43:16.362Z"
   },
   {
    "duration": 9,
    "start_time": "2022-12-26T12:43:16.370Z"
   },
   {
    "duration": 45,
    "start_time": "2022-12-26T12:43:16.381Z"
   },
   {
    "duration": 32,
    "start_time": "2022-12-26T12:43:16.427Z"
   },
   {
    "duration": 4,
    "start_time": "2022-12-26T12:43:16.460Z"
   },
   {
    "duration": 9,
    "start_time": "2022-12-26T12:43:16.465Z"
   },
   {
    "duration": 39,
    "start_time": "2022-12-26T12:43:16.476Z"
   },
   {
    "duration": 18,
    "start_time": "2022-12-26T12:43:16.517Z"
   },
   {
    "duration": 13,
    "start_time": "2022-12-26T12:43:16.536Z"
   },
   {
    "duration": 73,
    "start_time": "2022-12-26T12:43:16.551Z"
   },
   {
    "duration": 9,
    "start_time": "2022-12-26T12:43:16.626Z"
   },
   {
    "duration": 12,
    "start_time": "2022-12-26T12:43:16.637Z"
   },
   {
    "duration": 0,
    "start_time": "2022-12-26T12:43:16.651Z"
   },
   {
    "duration": 0,
    "start_time": "2022-12-26T12:43:16.652Z"
   },
   {
    "duration": 0,
    "start_time": "2022-12-26T12:43:16.653Z"
   },
   {
    "duration": 0,
    "start_time": "2022-12-26T12:43:16.655Z"
   },
   {
    "duration": 0,
    "start_time": "2022-12-26T12:43:16.656Z"
   },
   {
    "duration": 70173,
    "start_time": "2022-12-26T12:43:21.244Z"
   },
   {
    "duration": 4,
    "start_time": "2022-12-26T12:49:03.078Z"
   },
   {
    "duration": 62,
    "start_time": "2022-12-26T12:49:03.085Z"
   },
   {
    "duration": 13,
    "start_time": "2022-12-26T12:49:03.149Z"
   },
   {
    "duration": 28,
    "start_time": "2022-12-26T12:49:03.164Z"
   },
   {
    "duration": 4,
    "start_time": "2022-12-26T12:49:03.195Z"
   },
   {
    "duration": 6,
    "start_time": "2022-12-26T12:49:03.201Z"
   },
   {
    "duration": 17,
    "start_time": "2022-12-26T12:49:03.215Z"
   },
   {
    "duration": 35,
    "start_time": "2022-12-26T12:49:03.233Z"
   },
   {
    "duration": 5,
    "start_time": "2022-12-26T12:49:03.270Z"
   },
   {
    "duration": 19,
    "start_time": "2022-12-26T12:49:03.277Z"
   },
   {
    "duration": 38,
    "start_time": "2022-12-26T12:49:03.297Z"
   },
   {
    "duration": 18,
    "start_time": "2022-12-26T12:49:03.337Z"
   },
   {
    "duration": 14,
    "start_time": "2022-12-26T12:49:03.358Z"
   },
   {
    "duration": 94,
    "start_time": "2022-12-26T12:49:03.375Z"
   },
   {
    "duration": 10,
    "start_time": "2022-12-26T12:49:03.471Z"
   },
   {
    "duration": 9,
    "start_time": "2022-12-26T12:49:03.483Z"
   },
   {
    "duration": 0,
    "start_time": "2022-12-26T12:49:03.493Z"
   },
   {
    "duration": 0,
    "start_time": "2022-12-26T12:49:03.494Z"
   },
   {
    "duration": 0,
    "start_time": "2022-12-26T12:49:03.516Z"
   },
   {
    "duration": 0,
    "start_time": "2022-12-26T12:49:03.518Z"
   },
   {
    "duration": 0,
    "start_time": "2022-12-26T12:49:03.519Z"
   },
   {
    "duration": 69083,
    "start_time": "2022-12-26T12:49:10.639Z"
   },
   {
    "duration": 3,
    "start_time": "2022-12-26T13:00:25.883Z"
   },
   {
    "duration": 2,
    "start_time": "2022-12-26T13:01:07.685Z"
   },
   {
    "duration": 3,
    "start_time": "2022-12-26T13:01:58.575Z"
   },
   {
    "duration": 35471,
    "start_time": "2022-12-26T13:01:59.683Z"
   },
   {
    "duration": 3,
    "start_time": "2022-12-26T13:03:21.871Z"
   },
   {
    "duration": 184096,
    "start_time": "2022-12-26T13:03:23.056Z"
   },
   {
    "duration": 3,
    "start_time": "2022-12-26T13:15:39.511Z"
   },
   {
    "duration": 2035047,
    "start_time": "2022-12-26T13:15:43.351Z"
   },
   {
    "duration": 4,
    "start_time": "2022-12-26T13:50:15.607Z"
   },
   {
    "duration": 58,
    "start_time": "2022-12-26T13:50:15.613Z"
   },
   {
    "duration": 11,
    "start_time": "2022-12-26T13:50:15.673Z"
   },
   {
    "duration": 22,
    "start_time": "2022-12-26T13:50:15.686Z"
   },
   {
    "duration": 5,
    "start_time": "2022-12-26T13:50:15.711Z"
   },
   {
    "duration": 10,
    "start_time": "2022-12-26T13:50:15.717Z"
   },
   {
    "duration": 19,
    "start_time": "2022-12-26T13:50:15.728Z"
   },
   {
    "duration": 33,
    "start_time": "2022-12-26T13:50:15.749Z"
   },
   {
    "duration": 4,
    "start_time": "2022-12-26T13:50:15.784Z"
   },
   {
    "duration": 31,
    "start_time": "2022-12-26T13:50:15.789Z"
   },
   {
    "duration": 21,
    "start_time": "2022-12-26T13:50:15.822Z"
   },
   {
    "duration": 18,
    "start_time": "2022-12-26T13:50:15.844Z"
   },
   {
    "duration": 11,
    "start_time": "2022-12-26T13:50:15.864Z"
   },
   {
    "duration": 102,
    "start_time": "2022-12-26T13:50:15.877Z"
   },
   {
    "duration": 12,
    "start_time": "2022-12-26T13:50:15.980Z"
   },
   {
    "duration": 28,
    "start_time": "2022-12-26T13:50:15.993Z"
   },
   {
    "duration": 0,
    "start_time": "2022-12-26T13:50:16.023Z"
   },
   {
    "duration": 0,
    "start_time": "2022-12-26T13:50:16.024Z"
   },
   {
    "duration": 0,
    "start_time": "2022-12-26T13:50:16.025Z"
   },
   {
    "duration": 0,
    "start_time": "2022-12-26T13:50:16.026Z"
   },
   {
    "duration": 0,
    "start_time": "2022-12-26T13:50:16.027Z"
   },
   {
    "duration": 79758,
    "start_time": "2022-12-26T13:50:53.265Z"
   },
   {
    "duration": 6,
    "start_time": "2022-12-26T13:54:03.127Z"
   },
   {
    "duration": 66,
    "start_time": "2022-12-26T13:54:03.135Z"
   },
   {
    "duration": 14,
    "start_time": "2022-12-26T13:54:03.203Z"
   },
   {
    "duration": 10,
    "start_time": "2022-12-26T13:54:03.219Z"
   },
   {
    "duration": 8,
    "start_time": "2022-12-26T13:54:03.231Z"
   },
   {
    "duration": 18,
    "start_time": "2022-12-26T13:54:03.240Z"
   },
   {
    "duration": 23,
    "start_time": "2022-12-26T13:54:03.260Z"
   },
   {
    "duration": 64,
    "start_time": "2022-12-26T13:54:03.284Z"
   },
   {
    "duration": 5,
    "start_time": "2022-12-26T13:54:03.350Z"
   },
   {
    "duration": 8,
    "start_time": "2022-12-26T13:54:03.357Z"
   },
   {
    "duration": 23,
    "start_time": "2022-12-26T13:54:03.367Z"
   },
   {
    "duration": 20,
    "start_time": "2022-12-26T13:54:03.416Z"
   },
   {
    "duration": 14,
    "start_time": "2022-12-26T13:54:03.437Z"
   },
   {
    "duration": 100,
    "start_time": "2022-12-26T13:54:03.453Z"
   },
   {
    "duration": 12,
    "start_time": "2022-12-26T13:54:03.554Z"
   },
   {
    "duration": 17,
    "start_time": "2022-12-26T13:54:03.567Z"
   },
   {
    "duration": 1,
    "start_time": "2022-12-26T13:54:03.586Z"
   },
   {
    "duration": 0,
    "start_time": "2022-12-26T13:54:03.588Z"
   },
   {
    "duration": 0,
    "start_time": "2022-12-26T13:54:03.590Z"
   },
   {
    "duration": 0,
    "start_time": "2022-12-26T13:54:03.592Z"
   },
   {
    "duration": 0,
    "start_time": "2022-12-26T13:54:03.593Z"
   },
   {
    "duration": 0,
    "start_time": "2022-12-26T13:54:03.594Z"
   },
   {
    "duration": 0,
    "start_time": "2022-12-26T13:54:03.616Z"
   },
   {
    "duration": 0,
    "start_time": "2022-12-26T13:54:03.617Z"
   },
   {
    "duration": 0,
    "start_time": "2022-12-26T13:54:03.618Z"
   },
   {
    "duration": 0,
    "start_time": "2022-12-26T13:54:03.620Z"
   },
   {
    "duration": 0,
    "start_time": "2022-12-26T13:54:03.621Z"
   },
   {
    "duration": 0,
    "start_time": "2022-12-26T13:54:03.623Z"
   },
   {
    "duration": 0,
    "start_time": "2022-12-26T13:54:03.624Z"
   },
   {
    "duration": 0,
    "start_time": "2022-12-26T13:54:03.626Z"
   },
   {
    "duration": 5,
    "start_time": "2022-12-26T13:54:54.382Z"
   },
   {
    "duration": 58,
    "start_time": "2022-12-26T13:54:54.388Z"
   },
   {
    "duration": 12,
    "start_time": "2022-12-26T13:54:54.447Z"
   },
   {
    "duration": 14,
    "start_time": "2022-12-26T13:54:54.461Z"
   },
   {
    "duration": 5,
    "start_time": "2022-12-26T13:54:54.477Z"
   },
   {
    "duration": 33,
    "start_time": "2022-12-26T13:54:54.484Z"
   },
   {
    "duration": 22,
    "start_time": "2022-12-26T13:54:54.519Z"
   },
   {
    "duration": 34,
    "start_time": "2022-12-26T13:54:54.543Z"
   },
   {
    "duration": 5,
    "start_time": "2022-12-26T13:54:54.579Z"
   },
   {
    "duration": 31,
    "start_time": "2022-12-26T13:54:54.586Z"
   },
   {
    "duration": 21,
    "start_time": "2022-12-26T13:54:54.618Z"
   },
   {
    "duration": 19,
    "start_time": "2022-12-26T13:54:54.641Z"
   },
   {
    "duration": 14,
    "start_time": "2022-12-26T13:54:54.662Z"
   },
   {
    "duration": 101,
    "start_time": "2022-12-26T13:54:54.678Z"
   },
   {
    "duration": 11,
    "start_time": "2022-12-26T13:54:54.781Z"
   },
   {
    "duration": 27,
    "start_time": "2022-12-26T13:54:54.793Z"
   },
   {
    "duration": 0,
    "start_time": "2022-12-26T13:54:54.822Z"
   },
   {
    "duration": 0,
    "start_time": "2022-12-26T13:54:54.823Z"
   },
   {
    "duration": 0,
    "start_time": "2022-12-26T13:54:54.824Z"
   },
   {
    "duration": 0,
    "start_time": "2022-12-26T13:54:54.825Z"
   },
   {
    "duration": 0,
    "start_time": "2022-12-26T13:54:54.826Z"
   },
   {
    "duration": 0,
    "start_time": "2022-12-26T13:54:54.827Z"
   },
   {
    "duration": 0,
    "start_time": "2022-12-26T13:54:54.828Z"
   },
   {
    "duration": 0,
    "start_time": "2022-12-26T13:54:54.829Z"
   },
   {
    "duration": 0,
    "start_time": "2022-12-26T13:54:54.830Z"
   },
   {
    "duration": 0,
    "start_time": "2022-12-26T13:54:54.831Z"
   },
   {
    "duration": 0,
    "start_time": "2022-12-26T13:54:54.832Z"
   },
   {
    "duration": 0,
    "start_time": "2022-12-26T13:54:54.833Z"
   },
   {
    "duration": 0,
    "start_time": "2022-12-26T13:54:54.834Z"
   },
   {
    "duration": 0,
    "start_time": "2022-12-26T13:54:54.835Z"
   },
   {
    "duration": 6,
    "start_time": "2022-12-26T13:58:19.169Z"
   },
   {
    "duration": 76,
    "start_time": "2022-12-26T13:58:19.178Z"
   },
   {
    "duration": 18,
    "start_time": "2022-12-26T13:58:19.256Z"
   },
   {
    "duration": 21,
    "start_time": "2022-12-26T13:58:19.277Z"
   },
   {
    "duration": 6,
    "start_time": "2022-12-26T13:58:19.315Z"
   },
   {
    "duration": 7,
    "start_time": "2022-12-26T13:58:19.323Z"
   },
   {
    "duration": 22,
    "start_time": "2022-12-26T13:58:19.332Z"
   },
   {
    "duration": 159,
    "start_time": "2022-12-26T13:58:19.356Z"
   },
   {
    "duration": 5,
    "start_time": "2022-12-26T13:58:19.517Z"
   },
   {
    "duration": 18,
    "start_time": "2022-12-26T13:58:19.524Z"
   },
   {
    "duration": 38,
    "start_time": "2022-12-26T13:58:19.543Z"
   },
   {
    "duration": 21,
    "start_time": "2022-12-26T13:58:19.583Z"
   },
   {
    "duration": 23,
    "start_time": "2022-12-26T13:58:19.605Z"
   },
   {
    "duration": 102,
    "start_time": "2022-12-26T13:58:19.630Z"
   },
   {
    "duration": 14,
    "start_time": "2022-12-26T13:58:19.734Z"
   },
   {
    "duration": 17,
    "start_time": "2022-12-26T13:58:19.750Z"
   },
   {
    "duration": 0,
    "start_time": "2022-12-26T13:58:19.769Z"
   },
   {
    "duration": 0,
    "start_time": "2022-12-26T13:58:19.770Z"
   },
   {
    "duration": 0,
    "start_time": "2022-12-26T13:58:19.772Z"
   },
   {
    "duration": 0,
    "start_time": "2022-12-26T13:58:19.773Z"
   },
   {
    "duration": 0,
    "start_time": "2022-12-26T13:58:19.774Z"
   },
   {
    "duration": 0,
    "start_time": "2022-12-26T13:58:19.775Z"
   },
   {
    "duration": 0,
    "start_time": "2022-12-26T13:58:19.776Z"
   },
   {
    "duration": 0,
    "start_time": "2022-12-26T13:58:19.777Z"
   },
   {
    "duration": 1,
    "start_time": "2022-12-26T13:58:19.778Z"
   },
   {
    "duration": 0,
    "start_time": "2022-12-26T13:58:19.780Z"
   },
   {
    "duration": 0,
    "start_time": "2022-12-26T13:58:19.781Z"
   },
   {
    "duration": 0,
    "start_time": "2022-12-26T13:58:19.782Z"
   },
   {
    "duration": 0,
    "start_time": "2022-12-26T13:58:19.783Z"
   },
   {
    "duration": 0,
    "start_time": "2022-12-26T13:58:19.816Z"
   },
   {
    "duration": 0,
    "start_time": "2022-12-26T13:58:19.818Z"
   },
   {
    "duration": 0,
    "start_time": "2022-12-26T13:58:19.819Z"
   },
   {
    "duration": 0,
    "start_time": "2022-12-26T13:58:19.820Z"
   },
   {
    "duration": 0,
    "start_time": "2022-12-26T13:58:19.822Z"
   },
   {
    "duration": 0,
    "start_time": "2022-12-26T13:58:19.823Z"
   },
   {
    "duration": 0,
    "start_time": "2022-12-26T13:58:19.825Z"
   },
   {
    "duration": 5,
    "start_time": "2022-12-26T13:59:08.340Z"
   },
   {
    "duration": 54,
    "start_time": "2022-12-26T13:59:08.352Z"
   },
   {
    "duration": 11,
    "start_time": "2022-12-26T13:59:08.408Z"
   },
   {
    "duration": 10,
    "start_time": "2022-12-26T13:59:08.421Z"
   },
   {
    "duration": 4,
    "start_time": "2022-12-26T13:59:08.433Z"
   },
   {
    "duration": 6,
    "start_time": "2022-12-26T13:59:08.439Z"
   },
   {
    "duration": 32,
    "start_time": "2022-12-26T13:59:08.446Z"
   },
   {
    "duration": 40,
    "start_time": "2022-12-26T13:59:08.479Z"
   },
   {
    "duration": 5,
    "start_time": "2022-12-26T13:59:08.520Z"
   },
   {
    "duration": 23,
    "start_time": "2022-12-26T13:59:08.526Z"
   },
   {
    "duration": 23,
    "start_time": "2022-12-26T13:59:08.550Z"
   },
   {
    "duration": 18,
    "start_time": "2022-12-26T13:59:08.575Z"
   },
   {
    "duration": 26,
    "start_time": "2022-12-26T13:59:08.595Z"
   },
   {
    "duration": 67,
    "start_time": "2022-12-26T13:59:08.623Z"
   },
   {
    "duration": 30,
    "start_time": "2022-12-26T13:59:08.692Z"
   },
   {
    "duration": 2,
    "start_time": "2022-12-26T13:59:08.724Z"
   },
   {
    "duration": 7,
    "start_time": "2022-12-26T13:59:14.360Z"
   },
   {
    "duration": 54,
    "start_time": "2022-12-26T13:59:14.369Z"
   },
   {
    "duration": 13,
    "start_time": "2022-12-26T13:59:14.425Z"
   },
   {
    "duration": 11,
    "start_time": "2022-12-26T13:59:14.439Z"
   },
   {
    "duration": 5,
    "start_time": "2022-12-26T13:59:14.453Z"
   },
   {
    "duration": 8,
    "start_time": "2022-12-26T13:59:14.460Z"
   },
   {
    "duration": 46,
    "start_time": "2022-12-26T13:59:14.470Z"
   },
   {
    "duration": 35,
    "start_time": "2022-12-26T13:59:14.517Z"
   },
   {
    "duration": 5,
    "start_time": "2022-12-26T13:59:14.553Z"
   },
   {
    "duration": 11,
    "start_time": "2022-12-26T13:59:14.559Z"
   },
   {
    "duration": 52,
    "start_time": "2022-12-26T13:59:14.572Z"
   },
   {
    "duration": 19,
    "start_time": "2022-12-26T13:59:14.626Z"
   },
   {
    "duration": 12,
    "start_time": "2022-12-26T13:59:14.647Z"
   },
   {
    "duration": 96,
    "start_time": "2022-12-26T13:59:14.662Z"
   },
   {
    "duration": 10,
    "start_time": "2022-12-26T13:59:14.760Z"
   },
   {
    "duration": 15,
    "start_time": "2022-12-26T13:59:14.771Z"
   },
   {
    "duration": 12,
    "start_time": "2022-12-26T13:59:14.788Z"
   },
   {
    "duration": 17,
    "start_time": "2022-12-26T13:59:14.802Z"
   },
   {
    "duration": 61904,
    "start_time": "2022-12-26T13:59:14.821Z"
   },
   {
    "duration": 88,
    "start_time": "2022-12-26T14:00:16.728Z"
   },
   {
    "duration": 129,
    "start_time": "2022-12-26T14:00:16.819Z"
   },
   {
    "duration": 0,
    "start_time": "2022-12-26T14:00:16.950Z"
   },
   {
    "duration": 0,
    "start_time": "2022-12-26T14:00:16.951Z"
   },
   {
    "duration": 0,
    "start_time": "2022-12-26T14:00:16.952Z"
   },
   {
    "duration": 0,
    "start_time": "2022-12-26T14:00:16.953Z"
   },
   {
    "duration": 0,
    "start_time": "2022-12-26T14:00:16.954Z"
   },
   {
    "duration": 0,
    "start_time": "2022-12-26T14:00:16.955Z"
   },
   {
    "duration": 0,
    "start_time": "2022-12-26T14:00:16.957Z"
   },
   {
    "duration": 0,
    "start_time": "2022-12-26T14:00:16.958Z"
   },
   {
    "duration": 0,
    "start_time": "2022-12-26T14:00:16.960Z"
   },
   {
    "duration": 0,
    "start_time": "2022-12-26T14:00:16.961Z"
   },
   {
    "duration": 0,
    "start_time": "2022-12-26T14:00:16.963Z"
   },
   {
    "duration": 0,
    "start_time": "2022-12-26T14:00:16.964Z"
   },
   {
    "duration": 0,
    "start_time": "2022-12-26T14:00:16.965Z"
   },
   {
    "duration": 5,
    "start_time": "2022-12-26T14:02:43.099Z"
   },
   {
    "duration": 65,
    "start_time": "2022-12-26T14:02:43.106Z"
   },
   {
    "duration": 15,
    "start_time": "2022-12-26T14:02:43.173Z"
   },
   {
    "duration": 14,
    "start_time": "2022-12-26T14:02:43.190Z"
   },
   {
    "duration": 4,
    "start_time": "2022-12-26T14:02:43.207Z"
   },
   {
    "duration": 20,
    "start_time": "2022-12-26T14:02:43.216Z"
   },
   {
    "duration": 21,
    "start_time": "2022-12-26T14:02:43.238Z"
   },
   {
    "duration": 33,
    "start_time": "2022-12-26T14:02:43.260Z"
   },
   {
    "duration": 5,
    "start_time": "2022-12-26T14:02:43.295Z"
   },
   {
    "duration": 16,
    "start_time": "2022-12-26T14:02:43.302Z"
   },
   {
    "duration": 27,
    "start_time": "2022-12-26T14:02:43.320Z"
   },
   {
    "duration": 25,
    "start_time": "2022-12-26T14:02:43.349Z"
   },
   {
    "duration": 41,
    "start_time": "2022-12-26T14:02:43.376Z"
   },
   {
    "duration": 75,
    "start_time": "2022-12-26T14:02:43.420Z"
   },
   {
    "duration": 27,
    "start_time": "2022-12-26T14:02:43.497Z"
   },
   {
    "duration": 6,
    "start_time": "2022-12-26T14:02:43.526Z"
   },
   {
    "duration": 14,
    "start_time": "2022-12-26T14:02:43.533Z"
   },
   {
    "duration": 7,
    "start_time": "2022-12-26T14:02:43.549Z"
   },
   {
    "duration": 66665,
    "start_time": "2022-12-26T14:02:43.557Z"
   },
   {
    "duration": 95,
    "start_time": "2022-12-26T14:03:50.224Z"
   },
   {
    "duration": 143010,
    "start_time": "2022-12-26T14:03:50.327Z"
   },
   {
    "duration": 4,
    "start_time": "2022-12-26T14:06:13.338Z"
   },
   {
    "duration": 678989,
    "start_time": "2022-12-26T14:06:13.344Z"
   },
   {
    "duration": 10,
    "start_time": "2022-12-26T14:17:32.335Z"
   },
   {
    "duration": 35673,
    "start_time": "2022-12-26T14:17:32.347Z"
   },
   {
    "duration": 81298,
    "start_time": "2022-12-26T14:18:08.022Z"
   },
   {
    "duration": 316975,
    "start_time": "2022-12-26T14:19:29.322Z"
   },
   {
    "duration": 18,
    "start_time": "2022-12-26T14:24:46.299Z"
   },
   {
    "duration": 0,
    "start_time": "2022-12-26T14:24:46.321Z"
   },
   {
    "duration": 0,
    "start_time": "2022-12-26T14:24:46.323Z"
   },
   {
    "duration": 1,
    "start_time": "2022-12-26T14:24:46.324Z"
   },
   {
    "duration": 0,
    "start_time": "2022-12-26T14:24:46.326Z"
   },
   {
    "duration": 0,
    "start_time": "2022-12-26T14:24:46.328Z"
   },
   {
    "duration": 6,
    "start_time": "2022-12-26T14:28:42.661Z"
   },
   {
    "duration": 65,
    "start_time": "2022-12-26T14:28:42.669Z"
   },
   {
    "duration": 16,
    "start_time": "2022-12-26T14:28:42.736Z"
   },
   {
    "duration": 15,
    "start_time": "2022-12-26T14:28:42.753Z"
   },
   {
    "duration": 5,
    "start_time": "2022-12-26T14:28:42.771Z"
   },
   {
    "duration": 10,
    "start_time": "2022-12-26T14:28:42.778Z"
   },
   {
    "duration": 45,
    "start_time": "2022-12-26T14:28:42.790Z"
   },
   {
    "duration": 34,
    "start_time": "2022-12-26T14:28:42.837Z"
   },
   {
    "duration": 4,
    "start_time": "2022-12-26T14:28:42.873Z"
   },
   {
    "duration": 6,
    "start_time": "2022-12-26T14:28:42.879Z"
   },
   {
    "duration": 45,
    "start_time": "2022-12-26T14:28:42.887Z"
   },
   {
    "duration": 19,
    "start_time": "2022-12-26T14:28:42.934Z"
   },
   {
    "duration": 12,
    "start_time": "2022-12-26T14:28:42.955Z"
   },
   {
    "duration": 96,
    "start_time": "2022-12-26T14:28:42.969Z"
   },
   {
    "duration": 10,
    "start_time": "2022-12-26T14:28:43.067Z"
   },
   {
    "duration": 33,
    "start_time": "2022-12-26T14:28:45.031Z"
   },
   {
    "duration": 4,
    "start_time": "2022-12-26T14:28:54.340Z"
   },
   {
    "duration": 69,
    "start_time": "2022-12-26T14:28:54.348Z"
   },
   {
    "duration": 13,
    "start_time": "2022-12-26T14:28:54.420Z"
   },
   {
    "duration": 14,
    "start_time": "2022-12-26T14:28:54.434Z"
   },
   {
    "duration": 5,
    "start_time": "2022-12-26T14:28:54.450Z"
   },
   {
    "duration": 9,
    "start_time": "2022-12-26T14:28:54.456Z"
   },
   {
    "duration": 24,
    "start_time": "2022-12-26T14:28:54.467Z"
   },
   {
    "duration": 54,
    "start_time": "2022-12-26T14:28:54.493Z"
   },
   {
    "duration": 5,
    "start_time": "2022-12-26T14:28:54.549Z"
   },
   {
    "duration": 8,
    "start_time": "2022-12-26T14:28:54.556Z"
   },
   {
    "duration": 24,
    "start_time": "2022-12-26T14:28:54.567Z"
   },
   {
    "duration": 22,
    "start_time": "2022-12-26T14:28:54.617Z"
   },
   {
    "duration": 22,
    "start_time": "2022-12-26T14:28:54.642Z"
   },
   {
    "duration": 82,
    "start_time": "2022-12-26T14:28:54.667Z"
   },
   {
    "duration": 11,
    "start_time": "2022-12-26T14:28:54.752Z"
   },
   {
    "duration": 38,
    "start_time": "2022-12-26T14:28:54.765Z"
   },
   {
    "duration": 3,
    "start_time": "2022-12-26T14:28:54.816Z"
   },
   {
    "duration": 17,
    "start_time": "2022-12-26T14:28:54.820Z"
   },
   {
    "duration": 6,
    "start_time": "2022-12-26T14:28:54.839Z"
   },
   {
    "duration": 6872,
    "start_time": "2022-12-26T14:28:54.847Z"
   },
   {
    "duration": 4,
    "start_time": "2022-12-26T14:29:01.721Z"
   },
   {
    "duration": 44443,
    "start_time": "2022-12-26T14:29:01.727Z"
   },
   {
    "duration": 0,
    "start_time": "2022-12-26T14:29:46.173Z"
   },
   {
    "duration": 0,
    "start_time": "2022-12-26T14:29:46.174Z"
   },
   {
    "duration": 0,
    "start_time": "2022-12-26T14:29:46.176Z"
   },
   {
    "duration": 0,
    "start_time": "2022-12-26T14:29:46.177Z"
   },
   {
    "duration": 0,
    "start_time": "2022-12-26T14:29:46.179Z"
   },
   {
    "duration": 0,
    "start_time": "2022-12-26T14:29:46.181Z"
   },
   {
    "duration": 0,
    "start_time": "2022-12-26T14:29:46.182Z"
   },
   {
    "duration": 0,
    "start_time": "2022-12-26T14:29:46.183Z"
   },
   {
    "duration": 0,
    "start_time": "2022-12-26T14:29:46.185Z"
   },
   {
    "duration": 0,
    "start_time": "2022-12-26T14:29:46.186Z"
   },
   {
    "duration": 0,
    "start_time": "2022-12-26T14:29:46.187Z"
   },
   {
    "duration": 0,
    "start_time": "2022-12-26T14:29:46.216Z"
   },
   {
    "duration": 5,
    "start_time": "2022-12-26T14:31:32.775Z"
   },
   {
    "duration": 63,
    "start_time": "2022-12-26T14:31:32.781Z"
   },
   {
    "duration": 12,
    "start_time": "2022-12-26T14:31:32.846Z"
   },
   {
    "duration": 25,
    "start_time": "2022-12-26T14:31:32.860Z"
   },
   {
    "duration": 10,
    "start_time": "2022-12-26T14:31:32.887Z"
   },
   {
    "duration": 16,
    "start_time": "2022-12-26T14:31:32.899Z"
   },
   {
    "duration": 22,
    "start_time": "2022-12-26T14:31:32.917Z"
   },
   {
    "duration": 38,
    "start_time": "2022-12-26T14:31:32.941Z"
   },
   {
    "duration": 5,
    "start_time": "2022-12-26T14:31:32.980Z"
   },
   {
    "duration": 28,
    "start_time": "2022-12-26T14:31:32.989Z"
   },
   {
    "duration": 24,
    "start_time": "2022-12-26T14:31:33.020Z"
   },
   {
    "duration": 21,
    "start_time": "2022-12-26T14:31:33.046Z"
   },
   {
    "duration": 13,
    "start_time": "2022-12-26T14:31:33.068Z"
   },
   {
    "duration": 96,
    "start_time": "2022-12-26T14:31:33.082Z"
   },
   {
    "duration": 11,
    "start_time": "2022-12-26T14:31:33.180Z"
   },
   {
    "duration": 52,
    "start_time": "2022-12-26T14:31:33.193Z"
   },
   {
    "duration": 10870,
    "start_time": "2022-12-26T14:31:33.246Z"
   },
   {
    "duration": 46969,
    "start_time": "2022-12-26T14:31:44.118Z"
   },
   {
    "duration": 124783,
    "start_time": "2022-12-26T14:32:31.089Z"
   },
   {
    "duration": 6449,
    "start_time": "2022-12-26T14:34:35.873Z"
   },
   {
    "duration": 47047,
    "start_time": "2022-12-26T14:34:42.324Z"
   },
   {
    "duration": 123076,
    "start_time": "2022-12-26T14:35:29.372Z"
   },
   {
    "duration": 4,
    "start_time": "2022-12-26T14:37:32.450Z"
   },
   {
    "duration": 25,
    "start_time": "2022-12-26T14:37:32.456Z"
   },
   {
    "duration": 11,
    "start_time": "2022-12-26T14:37:32.484Z"
   },
   {
    "duration": 15,
    "start_time": "2022-12-26T14:37:32.497Z"
   },
   {
    "duration": 7805,
    "start_time": "2022-12-26T14:37:32.513Z"
   },
   {
    "duration": 4,
    "start_time": "2022-12-26T14:37:40.323Z"
   },
   {
    "duration": 142891,
    "start_time": "2022-12-26T14:37:40.329Z"
   },
   {
    "duration": 3,
    "start_time": "2022-12-26T14:40:03.222Z"
   },
   {
    "duration": 682063,
    "start_time": "2022-12-26T14:40:03.226Z"
   },
   {
    "duration": 7,
    "start_time": "2022-12-26T14:51:25.291Z"
   },
   {
    "duration": 5139,
    "start_time": "2022-12-26T14:51:25.300Z"
   },
   {
    "duration": 80453,
    "start_time": "2022-12-26T14:51:30.517Z"
   },
   {
    "duration": 316063,
    "start_time": "2022-12-26T14:52:50.972Z"
   },
   {
    "duration": 15,
    "start_time": "2022-12-26T15:04:37.250Z"
   },
   {
    "duration": 11,
    "start_time": "2022-12-26T15:05:50.789Z"
   },
   {
    "duration": 4,
    "start_time": "2022-12-26T15:26:12.167Z"
   },
   {
    "duration": 5,
    "start_time": "2022-12-26T15:31:42.860Z"
   },
   {
    "duration": 12,
    "start_time": "2022-12-26T15:31:50.856Z"
   },
   {
    "duration": 12,
    "start_time": "2022-12-26T15:35:18.428Z"
   },
   {
    "duration": 3,
    "start_time": "2022-12-26T15:36:59.278Z"
   },
   {
    "duration": 0,
    "start_time": "2022-12-26T16:13:28.856Z"
   },
   {
    "duration": 0,
    "start_time": "2022-12-26T16:13:28.857Z"
   },
   {
    "duration": 3,
    "start_time": "2022-12-26T16:13:31.771Z"
   },
   {
    "duration": 309538,
    "start_time": "2022-12-26T16:13:33.072Z"
   },
   {
    "duration": 0,
    "start_time": "2022-12-26T16:18:42.612Z"
   },
   {
    "duration": 5,
    "start_time": "2022-12-26T16:18:54.314Z"
   },
   {
    "duration": 32211,
    "start_time": "2022-12-26T16:18:57.101Z"
   },
   {
    "duration": 38,
    "start_time": "2022-12-26T16:21:28.651Z"
   },
   {
    "duration": 40,
    "start_time": "2022-12-26T16:22:32.952Z"
   },
   {
    "duration": 165,
    "start_time": "2022-12-26T16:32:09.655Z"
   },
   {
    "duration": 13,
    "start_time": "2022-12-26T16:34:25.084Z"
   }
  ],
  "kernelspec": {
   "display_name": "Python 3 (ipykernel)",
   "language": "python",
   "name": "python3"
  },
  "language_info": {
   "codemirror_mode": {
    "name": "ipython",
    "version": 3
   },
   "file_extension": ".py",
   "mimetype": "text/x-python",
   "name": "python",
   "nbconvert_exporter": "python",
   "pygments_lexer": "ipython3",
   "version": "3.9.12"
  },
  "toc": {
   "base_numbering": 1,
   "nav_menu": {},
   "number_sections": true,
   "sideBar": true,
   "skip_h1_title": true,
   "title_cell": "Содержание",
   "title_sidebar": "Contents",
   "toc_cell": true,
   "toc_position": {
    "height": "calc(100% - 180px)",
    "left": "10px",
    "top": "150px",
    "width": "211.438px"
   },
   "toc_section_display": true,
   "toc_window_display": false
  }
 },
 "nbformat": 4,
 "nbformat_minor": 2
}
